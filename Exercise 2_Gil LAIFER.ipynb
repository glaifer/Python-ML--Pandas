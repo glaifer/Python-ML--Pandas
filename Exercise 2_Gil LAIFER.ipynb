{
 "cells": [
  {
   "cell_type": "markdown",
   "id": "262ed441-1e2f-4f23-af4e-3c1c0f6dc002",
   "metadata": {},
   "source": [
    "# Pandas Test - Real life exercise\n",
    "## TCDS17 Gil LAIFER (028482636)"
   ]
  },
  {
   "cell_type": "code",
   "execution_count": 1,
   "id": "e24b34ca-0a21-4dc6-92e4-4b16bcbd5a98",
   "metadata": {},
   "outputs": [],
   "source": [
    "import pandas as pd\n",
    "import numpy as np\n",
    "import math"
   ]
  },
  {
   "cell_type": "markdown",
   "id": "ad46fe63-39ad-4b03-b6b6-623586b94d45",
   "metadata": {},
   "source": [
    "For visualizations:"
   ]
  },
  {
   "cell_type": "code",
   "execution_count": 2,
   "id": "58bd46da-da6c-44d0-903f-19be230836e5",
   "metadata": {},
   "outputs": [
    {
     "data": {
      "text/html": [
       "        <script type=\"text/javascript\">\n",
       "        window.PlotlyConfig = {MathJaxConfig: 'local'};\n",
       "        if (window.MathJax) {MathJax.Hub.Config({SVG: {font: \"STIX-Web\"}});}\n",
       "        if (typeof require !== 'undefined') {\n",
       "        require.undef(\"plotly\");\n",
       "        requirejs.config({\n",
       "            paths: {\n",
       "                'plotly': ['https://cdn.plot.ly/plotly-2.9.0.min']\n",
       "            }\n",
       "        });\n",
       "        require(['plotly'], function(Plotly) {\n",
       "            window._Plotly = Plotly;\n",
       "        });\n",
       "        }\n",
       "        </script>\n",
       "        "
      ]
     },
     "metadata": {},
     "output_type": "display_data"
    }
   ],
   "source": [
    "import cufflinks as cf; cf.go_offline()\n",
    "import plotly_express as px"
   ]
  },
  {
   "cell_type": "markdown",
   "id": "2685b7b6-1a31-451b-a1e8-f29c1513b697",
   "metadata": {},
   "source": [
    "## About the data"
   ]
  },
  {
   "cell_type": "markdown",
   "id": "5453d0d4-f625-41df-942e-ff2f5cf0f993",
   "metadata": {},
   "source": [
    "The data you are about to load is coming from an Ad recommentation system of the company InBrain. InBrain is a adTech company and specalize in next-level ad recommendation.  \n",
    "The company has two major products - one giving high quality recommendation while the other is giving an highly yielding recommendation. Inbrain custormers are sending requests, asking for either of the products. \n",
    "\n",
    "Once a week, the company is doing an internal quality assements, and sends a sample of its traffic requests to external annotation process, in which the annotators are trained to manually decided whether the recommended Ad is a succes or not. The data contains information about the ad (**ad_id**), the sampled week (**week_id**), the requester company (**requester**), the region of operation (**region**), the recommendation type (Quality/Yield, **recommendation_type**) and the recommendation provider algorithm (**rec_provider**). The annotators are marking whether the recommendation is meeting the Quality/Yield standards (**is_success**) and whether or not the recommendation is severly defected (**is_sever**)\n",
    "\n",
    "See a sample below:"
   ]
  },
  {
   "cell_type": "code",
   "execution_count": 3,
   "id": "71b69819-00b8-4612-bd2f-49bab7b7ab13",
   "metadata": {},
   "outputs": [
    {
     "data": {
      "text/html": [
       "<div>\n",
       "<style scoped>\n",
       "    .dataframe tbody tr th:only-of-type {\n",
       "        vertical-align: middle;\n",
       "    }\n",
       "\n",
       "    .dataframe tbody tr th {\n",
       "        vertical-align: top;\n",
       "    }\n",
       "\n",
       "    .dataframe thead th {\n",
       "        text-align: right;\n",
       "    }\n",
       "</style>\n",
       "<table border=\"1\" class=\"dataframe\">\n",
       "  <thead>\n",
       "    <tr style=\"text-align: right;\">\n",
       "      <th></th>\n",
       "      <th>week_id</th>\n",
       "      <th>ad_id</th>\n",
       "      <th>requester</th>\n",
       "      <th>region</th>\n",
       "      <th>is_success</th>\n",
       "      <th>is_sever</th>\n",
       "      <th>recommendation_type</th>\n",
       "      <th>rec_provider</th>\n",
       "    </tr>\n",
       "  </thead>\n",
       "  <tbody>\n",
       "    <tr>\n",
       "      <th>182170</th>\n",
       "      <td>2021-week_45</td>\n",
       "      <td>AD07VKZ9CJ</td>\n",
       "      <td>RelayFoods</td>\n",
       "      <td>JP</td>\n",
       "      <td>no</td>\n",
       "      <td>True</td>\n",
       "      <td>Qality</td>\n",
       "      <td>DNNQ</td>\n",
       "    </tr>\n",
       "    <tr>\n",
       "      <th>327409</th>\n",
       "      <td>2022-week_04</td>\n",
       "      <td>AD088HQ8DY</td>\n",
       "      <td>Fancy</td>\n",
       "      <td>US</td>\n",
       "      <td>yes</td>\n",
       "      <td>NaN</td>\n",
       "      <td>Qality</td>\n",
       "      <td>DNNQ</td>\n",
       "    </tr>\n",
       "    <tr>\n",
       "      <th>13495</th>\n",
       "      <td>2021-week_33</td>\n",
       "      <td>AD008889DZ</td>\n",
       "      <td>Tab Solutions</td>\n",
       "      <td>US</td>\n",
       "      <td>yes</td>\n",
       "      <td>NaN</td>\n",
       "      <td>Qality</td>\n",
       "      <td>UserPopQ</td>\n",
       "    </tr>\n",
       "    <tr>\n",
       "      <th>263855</th>\n",
       "      <td>2021-week_51</td>\n",
       "      <td>AD07FFW8R9</td>\n",
       "      <td>MoJoe Brewing Company</td>\n",
       "      <td>GB</td>\n",
       "      <td>no</td>\n",
       "      <td>True</td>\n",
       "      <td>Yield</td>\n",
       "      <td>DNNY</td>\n",
       "    </tr>\n",
       "    <tr>\n",
       "      <th>337483</th>\n",
       "      <td>2022-week_05</td>\n",
       "      <td>AD08D6CZQK</td>\n",
       "      <td>RelayFoods</td>\n",
       "      <td>IN</td>\n",
       "      <td>yes</td>\n",
       "      <td>NaN</td>\n",
       "      <td>Qality</td>\n",
       "      <td>UserPopQ</td>\n",
       "    </tr>\n",
       "  </tbody>\n",
       "</table>\n",
       "</div>"
      ],
      "text/plain": [
       "             week_id       ad_id              requester region is_success  \\\n",
       "182170  2021-week_45  AD07VKZ9CJ             RelayFoods     JP         no   \n",
       "327409  2022-week_04  AD088HQ8DY                  Fancy     US        yes   \n",
       "13495   2021-week_33  AD008889DZ          Tab Solutions     US        yes   \n",
       "263855  2021-week_51  AD07FFW8R9  MoJoe Brewing Company     GB         no   \n",
       "337483  2022-week_05  AD08D6CZQK             RelayFoods     IN        yes   \n",
       "\n",
       "       is_sever recommendation_type rec_provider  \n",
       "182170     True              Qality         DNNQ  \n",
       "327409      NaN              Qality         DNNQ  \n",
       "13495       NaN              Qality     UserPopQ  \n",
       "263855     True               Yield         DNNY  \n",
       "337483      NaN              Qality     UserPopQ  "
      ]
     },
     "execution_count": 3,
     "metadata": {},
     "output_type": "execute_result"
    }
   ],
   "source": [
    "ad_recs_annotated = pd.read_csv('data/ad_annotations.csv')\n",
    "ad_recs_annotated.sample(5)"
   ]
  },
  {
   "cell_type": "markdown",
   "id": "f4413766-e8bf-4f14-94e0-f58cfb88bb07",
   "metadata": {},
   "source": [
    "Your job, as the new and only data scientist of the company, is to get familiar with the the data, show week-over-week trends and produce insightfull graphs as a preparation to a full blown BI dashboard."
   ]
  },
  {
   "cell_type": "markdown",
   "id": "97faa00a-e0e3-47c0-bb8e-b3f72e1f0cb1",
   "metadata": {},
   "source": [
    "## Questions"
   ]
  },
  {
   "cell_type": "markdown",
   "id": "c0ed5ec1-d7b3-49a6-bf12-29420eab3a67",
   "metadata": {},
   "source": [
    "### Data Modifications"
   ]
  },
  {
   "cell_type": "markdown",
   "id": "8db18aad-c8b8-4fd4-994f-c008f279e1f6",
   "metadata": {},
   "source": [
    "* Add a column with the sample year\n",
    "* Add a column with the sample quarter (google how to)\n",
    "* Add a new success column with values 1 and 0 for yes and no \n",
    "* Are there duplicated ads? To compac the data, remove duplicated ads and instead add an ad_count column **(pay attention, this is not trivial at all)**\n",
    "* Are there any NaNs in the is_sever column? Count how many and create a new column with NaNs filled as False. Check that indeed the new column contaion no NaNs. \n",
    "* Capitlize (first letter only) the is_success column"
   ]
  },
  {
   "cell_type": "markdown",
   "id": "2a7c70d5-7d02-40de-817d-ae9bcd6d21a3",
   "metadata": {},
   "source": [
    "Add a column with the sample year"
   ]
  },
  {
   "cell_type": "code",
   "execution_count": 4,
   "id": "895d3347-482a-407b-985c-27008c4424f2",
   "metadata": {},
   "outputs": [],
   "source": [
    "ad_recs_annotated['Year'] = ad_recs_annotated['week_id'].str[:4].astype(int)\n",
    "ad_recs_annotated['Week'] = ad_recs_annotated['week_id'].str[-2:].astype(int)"
   ]
  },
  {
   "cell_type": "code",
   "execution_count": 5,
   "id": "b329b936-f5b5-47e7-9596-ba6e97d6cfef",
   "metadata": {},
   "outputs": [
    {
     "data": {
      "text/html": [
       "<div>\n",
       "<style scoped>\n",
       "    .dataframe tbody tr th:only-of-type {\n",
       "        vertical-align: middle;\n",
       "    }\n",
       "\n",
       "    .dataframe tbody tr th {\n",
       "        vertical-align: top;\n",
       "    }\n",
       "\n",
       "    .dataframe thead th {\n",
       "        text-align: right;\n",
       "    }\n",
       "</style>\n",
       "<table border=\"1\" class=\"dataframe\">\n",
       "  <thead>\n",
       "    <tr style=\"text-align: right;\">\n",
       "      <th></th>\n",
       "      <th>week_id</th>\n",
       "      <th>ad_id</th>\n",
       "      <th>requester</th>\n",
       "      <th>region</th>\n",
       "      <th>is_success</th>\n",
       "      <th>is_sever</th>\n",
       "      <th>recommendation_type</th>\n",
       "      <th>rec_provider</th>\n",
       "      <th>Year</th>\n",
       "      <th>Week</th>\n",
       "    </tr>\n",
       "  </thead>\n",
       "  <tbody>\n",
       "    <tr>\n",
       "      <th>30954</th>\n",
       "      <td>2021-week_35</td>\n",
       "      <td>AD08RGUAT6</td>\n",
       "      <td>Search Million Culture</td>\n",
       "      <td>DE</td>\n",
       "      <td>yes</td>\n",
       "      <td>NaN</td>\n",
       "      <td>Qality</td>\n",
       "      <td>DNNQ</td>\n",
       "      <td>2021</td>\n",
       "      <td>35</td>\n",
       "    </tr>\n",
       "    <tr>\n",
       "      <th>88834</th>\n",
       "      <td>2021-week_39</td>\n",
       "      <td>AD008HD0WE</td>\n",
       "      <td>Modanisa</td>\n",
       "      <td>GB</td>\n",
       "      <td>no</td>\n",
       "      <td>True</td>\n",
       "      <td>Yield</td>\n",
       "      <td>RuleBasedY</td>\n",
       "      <td>2021</td>\n",
       "      <td>39</td>\n",
       "    </tr>\n",
       "    <tr>\n",
       "      <th>241468</th>\n",
       "      <td>2021-week_49</td>\n",
       "      <td>AD077L8T7R</td>\n",
       "      <td>Fancy</td>\n",
       "      <td>US</td>\n",
       "      <td>yes</td>\n",
       "      <td>NaN</td>\n",
       "      <td>Qality</td>\n",
       "      <td>RNNQ</td>\n",
       "      <td>2021</td>\n",
       "      <td>49</td>\n",
       "    </tr>\n",
       "    <tr>\n",
       "      <th>364540</th>\n",
       "      <td>2022-week_52</td>\n",
       "      <td>AD088QGH8P</td>\n",
       "      <td>RelayFoods</td>\n",
       "      <td>IN</td>\n",
       "      <td>no</td>\n",
       "      <td>True</td>\n",
       "      <td>Qality</td>\n",
       "      <td>UserPopQ</td>\n",
       "      <td>2022</td>\n",
       "      <td>52</td>\n",
       "    </tr>\n",
       "    <tr>\n",
       "      <th>5761</th>\n",
       "      <td>2021-week_33</td>\n",
       "      <td>AD07GCPDWH</td>\n",
       "      <td>Search Million Culture</td>\n",
       "      <td>IN</td>\n",
       "      <td>no</td>\n",
       "      <td>False</td>\n",
       "      <td>Qality</td>\n",
       "      <td>UserPopQ</td>\n",
       "      <td>2021</td>\n",
       "      <td>33</td>\n",
       "    </tr>\n",
       "  </tbody>\n",
       "</table>\n",
       "</div>"
      ],
      "text/plain": [
       "             week_id       ad_id               requester region is_success  \\\n",
       "30954   2021-week_35  AD08RGUAT6  Search Million Culture     DE        yes   \n",
       "88834   2021-week_39  AD008HD0WE                Modanisa     GB         no   \n",
       "241468  2021-week_49  AD077L8T7R                   Fancy     US        yes   \n",
       "364540  2022-week_52  AD088QGH8P              RelayFoods     IN         no   \n",
       "5761    2021-week_33  AD07GCPDWH  Search Million Culture     IN         no   \n",
       "\n",
       "       is_sever recommendation_type rec_provider  Year  Week  \n",
       "30954       NaN              Qality         DNNQ  2021    35  \n",
       "88834      True               Yield   RuleBasedY  2021    39  \n",
       "241468      NaN              Qality         RNNQ  2021    49  \n",
       "364540     True              Qality     UserPopQ  2022    52  \n",
       "5761      False              Qality     UserPopQ  2021    33  "
      ]
     },
     "execution_count": 5,
     "metadata": {},
     "output_type": "execute_result"
    }
   ],
   "source": [
    "ad_recs_annotated.sample(5)"
   ]
  },
  {
   "cell_type": "markdown",
   "id": "60dca296-f2f4-4f6f-ad35-d9fd67dd2d50",
   "metadata": {},
   "source": [
    "Add a column with the sample quarter (google how to)"
   ]
  },
  {
   "cell_type": "code",
   "execution_count": 6,
   "id": "20aac6b3-3421-4b0b-bb9a-18e01d55c579",
   "metadata": {},
   "outputs": [],
   "source": [
    "ad_recs_annotated['Quarter'] = ((ad_recs_annotated['Week']-1) // 13) + 1"
   ]
  },
  {
   "cell_type": "markdown",
   "id": "f5c97e5f-3791-4cff-bad0-9f14cffc03f9",
   "metadata": {},
   "source": [
    "Add a new success column with values 1 and 0 for yes and no"
   ]
  },
  {
   "cell_type": "code",
   "execution_count": 7,
   "id": "73f110c9-bf98-4543-b879-167266f8edf7",
   "metadata": {},
   "outputs": [],
   "source": [
    "ad_recs_annotated['Success'] = ad_recs_annotated['is_success'].map(lambda s: 1 if s=='yes' else 0)"
   ]
  },
  {
   "cell_type": "markdown",
   "id": "860c32a9-e389-4c8e-94c3-b563fcf9808a",
   "metadata": {},
   "source": [
    "Are there duplicated ads? To compac the data, remove duplicated ads and instead add an ad_count column (pay attention, this is not trivial at all)"
   ]
  },
  {
   "cell_type": "code",
   "execution_count": 8,
   "id": "0768c794-ee60-4908-a9f2-96f89fd1c06b",
   "metadata": {},
   "outputs": [
    {
     "data": {
      "text/plain": [
       "9644"
      ]
     },
     "execution_count": 8,
     "metadata": {},
     "output_type": "execute_result"
    }
   ],
   "source": [
    "ad_recs_annotated.duplicated().sum()"
   ]
  },
  {
   "cell_type": "code",
   "execution_count": 9,
   "id": "520143de-702b-4da5-a29b-41545c9007dc",
   "metadata": {},
   "outputs": [],
   "source": [
    "ad_recs_annotated['ad_count'] = 1"
   ]
  },
  {
   "cell_type": "code",
   "execution_count": 10,
   "id": "01589160-25c5-48cb-8e2f-45b85cc2aaf4",
   "metadata": {},
   "outputs": [],
   "source": [
    "col_list = ad_recs_annotated.columns.tolist()\n",
    "col_list.remove('ad_count')"
   ]
  },
  {
   "cell_type": "code",
   "execution_count": 11,
   "id": "1bc4ba90-f024-48bd-9e80-c9c354e2aa26",
   "metadata": {},
   "outputs": [
    {
     "data": {
      "text/html": [
       "<div>\n",
       "<style scoped>\n",
       "    .dataframe tbody tr th:only-of-type {\n",
       "        vertical-align: middle;\n",
       "    }\n",
       "\n",
       "    .dataframe tbody tr th {\n",
       "        vertical-align: top;\n",
       "    }\n",
       "\n",
       "    .dataframe thead th {\n",
       "        text-align: right;\n",
       "    }\n",
       "</style>\n",
       "<table border=\"1\" class=\"dataframe\">\n",
       "  <thead>\n",
       "    <tr style=\"text-align: right;\">\n",
       "      <th></th>\n",
       "      <th>week_id</th>\n",
       "      <th>ad_id</th>\n",
       "      <th>requester</th>\n",
       "      <th>region</th>\n",
       "      <th>is_success</th>\n",
       "      <th>is_sever</th>\n",
       "      <th>recommendation_type</th>\n",
       "      <th>rec_provider</th>\n",
       "      <th>Year</th>\n",
       "      <th>Week</th>\n",
       "      <th>Quarter</th>\n",
       "      <th>Success</th>\n",
       "      <th>ad_count</th>\n",
       "    </tr>\n",
       "  </thead>\n",
       "  <tbody>\n",
       "    <tr>\n",
       "      <th>0</th>\n",
       "      <td>2021-week_33</td>\n",
       "      <td>AD00000ADJ</td>\n",
       "      <td>Extreme DA</td>\n",
       "      <td>US</td>\n",
       "      <td>yes</td>\n",
       "      <td>NaN</td>\n",
       "      <td>Yield</td>\n",
       "      <td>BooksY</td>\n",
       "      <td>2021</td>\n",
       "      <td>33</td>\n",
       "      <td>3</td>\n",
       "      <td>1</td>\n",
       "      <td>1</td>\n",
       "    </tr>\n",
       "    <tr>\n",
       "      <th>1</th>\n",
       "      <td>2021-week_33</td>\n",
       "      <td>AD00000IV8</td>\n",
       "      <td>Search Million Culture</td>\n",
       "      <td>US</td>\n",
       "      <td>yes</td>\n",
       "      <td>NaN</td>\n",
       "      <td>Qality</td>\n",
       "      <td>DNNQ</td>\n",
       "      <td>2021</td>\n",
       "      <td>33</td>\n",
       "      <td>3</td>\n",
       "      <td>1</td>\n",
       "      <td>1</td>\n",
       "    </tr>\n",
       "    <tr>\n",
       "      <th>2</th>\n",
       "      <td>2021-week_33</td>\n",
       "      <td>AD00000IZK</td>\n",
       "      <td>Extreme DA</td>\n",
       "      <td>US</td>\n",
       "      <td>yes</td>\n",
       "      <td>NaN</td>\n",
       "      <td>Yield</td>\n",
       "      <td>RuleBasedY</td>\n",
       "      <td>2021</td>\n",
       "      <td>33</td>\n",
       "      <td>3</td>\n",
       "      <td>1</td>\n",
       "      <td>1</td>\n",
       "    </tr>\n",
       "    <tr>\n",
       "      <th>3</th>\n",
       "      <td>2021-week_33</td>\n",
       "      <td>AD000068FZ</td>\n",
       "      <td>Tab Solutions</td>\n",
       "      <td>US</td>\n",
       "      <td>yes</td>\n",
       "      <td>NaN</td>\n",
       "      <td>Qality</td>\n",
       "      <td>ManualQ</td>\n",
       "      <td>2021</td>\n",
       "      <td>33</td>\n",
       "      <td>3</td>\n",
       "      <td>1</td>\n",
       "      <td>1</td>\n",
       "    </tr>\n",
       "    <tr>\n",
       "      <th>4</th>\n",
       "      <td>2021-week_33</td>\n",
       "      <td>AD00006IDK</td>\n",
       "      <td>Extreme DA</td>\n",
       "      <td>US</td>\n",
       "      <td>yes</td>\n",
       "      <td>NaN</td>\n",
       "      <td>Yield</td>\n",
       "      <td>DNNY</td>\n",
       "      <td>2021</td>\n",
       "      <td>33</td>\n",
       "      <td>3</td>\n",
       "      <td>1</td>\n",
       "      <td>1</td>\n",
       "    </tr>\n",
       "  </tbody>\n",
       "</table>\n",
       "</div>"
      ],
      "text/plain": [
       "        week_id       ad_id               requester region is_success  \\\n",
       "0  2021-week_33  AD00000ADJ              Extreme DA     US        yes   \n",
       "1  2021-week_33  AD00000IV8  Search Million Culture     US        yes   \n",
       "2  2021-week_33  AD00000IZK              Extreme DA     US        yes   \n",
       "3  2021-week_33  AD000068FZ           Tab Solutions     US        yes   \n",
       "4  2021-week_33  AD00006IDK              Extreme DA     US        yes   \n",
       "\n",
       "  is_sever recommendation_type rec_provider  Year  Week  Quarter  Success  \\\n",
       "0      NaN               Yield       BooksY  2021    33        3        1   \n",
       "1      NaN              Qality         DNNQ  2021    33        3        1   \n",
       "2      NaN               Yield   RuleBasedY  2021    33        3        1   \n",
       "3      NaN              Qality      ManualQ  2021    33        3        1   \n",
       "4      NaN               Yield         DNNY  2021    33        3        1   \n",
       "\n",
       "   ad_count  \n",
       "0         1  \n",
       "1         1  \n",
       "2         1  \n",
       "3         1  \n",
       "4         1  "
      ]
     },
     "execution_count": 11,
     "metadata": {},
     "output_type": "execute_result"
    }
   ],
   "source": [
    "ad_recs_annotated = ad_recs_annotated.groupby(col_list, dropna=False).ad_count.count().reset_index()\n",
    "ad_recs_annotated.head(5)"
   ]
  },
  {
   "cell_type": "code",
   "execution_count": 12,
   "id": "4a2de9f0-d610-4f59-972a-219c6f4ddf8f",
   "metadata": {},
   "outputs": [
    {
     "data": {
      "text/plain": [
       "1     358338\n",
       "2       4560\n",
       "3        686\n",
       "4        210\n",
       "5        107\n",
       "6         48\n",
       "7         44\n",
       "9         21\n",
       "8         20\n",
       "11        19\n",
       "10        18\n",
       "12        14\n",
       "14         8\n",
       "20         7\n",
       "15         6\n",
       "13         6\n",
       "19         4\n",
       "28         4\n",
       "24         2\n",
       "21         2\n",
       "25         2\n",
       "34         2\n",
       "17         2\n",
       "22         2\n",
       "31         1\n",
       "69         1\n",
       "45         1\n",
       "29         1\n",
       "30         1\n",
       "38         1\n",
       "57         1\n",
       "44         1\n",
       "49         1\n",
       "35         1\n",
       "56         1\n",
       "18         1\n",
       "Name: ad_count, dtype: int64"
      ]
     },
     "execution_count": 12,
     "metadata": {},
     "output_type": "execute_result"
    }
   ],
   "source": [
    "ad_recs_annotated.ad_count.value_counts()"
   ]
  },
  {
   "cell_type": "code",
   "execution_count": 13,
   "id": "75bd1a1f-e6c6-4ef0-96be-dece771b733b",
   "metadata": {},
   "outputs": [
    {
     "data": {
      "text/html": [
       "<div>\n",
       "<style scoped>\n",
       "    .dataframe tbody tr th:only-of-type {\n",
       "        vertical-align: middle;\n",
       "    }\n",
       "\n",
       "    .dataframe tbody tr th {\n",
       "        vertical-align: top;\n",
       "    }\n",
       "\n",
       "    .dataframe thead th {\n",
       "        text-align: right;\n",
       "    }\n",
       "</style>\n",
       "<table border=\"1\" class=\"dataframe\">\n",
       "  <thead>\n",
       "    <tr style=\"text-align: right;\">\n",
       "      <th></th>\n",
       "      <th>week_id</th>\n",
       "      <th>ad_id</th>\n",
       "      <th>requester</th>\n",
       "      <th>region</th>\n",
       "      <th>is_success</th>\n",
       "      <th>is_sever</th>\n",
       "      <th>recommendation_type</th>\n",
       "      <th>rec_provider</th>\n",
       "      <th>Year</th>\n",
       "      <th>Week</th>\n",
       "      <th>Quarter</th>\n",
       "      <th>Success</th>\n",
       "      <th>ad_count</th>\n",
       "    </tr>\n",
       "  </thead>\n",
       "  <tbody>\n",
       "    <tr>\n",
       "      <th>107204</th>\n",
       "      <td>2021-week_40</td>\n",
       "      <td>AD089RZW8Q</td>\n",
       "      <td>Search Million Culture</td>\n",
       "      <td>GB</td>\n",
       "      <td>yes</td>\n",
       "      <td>NaN</td>\n",
       "      <td>Qality</td>\n",
       "      <td>DNNQ</td>\n",
       "      <td>2021</td>\n",
       "      <td>40</td>\n",
       "      <td>4</td>\n",
       "      <td>1</td>\n",
       "      <td>1</td>\n",
       "    </tr>\n",
       "    <tr>\n",
       "      <th>264775</th>\n",
       "      <td>2022-week_01</td>\n",
       "      <td>AD008J888J</td>\n",
       "      <td>Search Million Culture</td>\n",
       "      <td>DE</td>\n",
       "      <td>yes</td>\n",
       "      <td>NaN</td>\n",
       "      <td>Qality</td>\n",
       "      <td>UserPopQ</td>\n",
       "      <td>2022</td>\n",
       "      <td>1</td>\n",
       "      <td>1</td>\n",
       "      <td>1</td>\n",
       "      <td>1</td>\n",
       "    </tr>\n",
       "    <tr>\n",
       "      <th>18602</th>\n",
       "      <td>2021-week_34</td>\n",
       "      <td>AD07FLYLSW</td>\n",
       "      <td>MoJoe Brewing Company</td>\n",
       "      <td>GB</td>\n",
       "      <td>yes</td>\n",
       "      <td>NaN</td>\n",
       "      <td>Yield</td>\n",
       "      <td>RNNY</td>\n",
       "      <td>2021</td>\n",
       "      <td>34</td>\n",
       "      <td>3</td>\n",
       "      <td>1</td>\n",
       "      <td>1</td>\n",
       "    </tr>\n",
       "    <tr>\n",
       "      <th>2849</th>\n",
       "      <td>2021-week_33</td>\n",
       "      <td>AD00V87XU8</td>\n",
       "      <td>RelayFoods</td>\n",
       "      <td>US</td>\n",
       "      <td>yes</td>\n",
       "      <td>NaN</td>\n",
       "      <td>Qality</td>\n",
       "      <td>RNNQ</td>\n",
       "      <td>2021</td>\n",
       "      <td>33</td>\n",
       "      <td>3</td>\n",
       "      <td>1</td>\n",
       "      <td>1</td>\n",
       "    </tr>\n",
       "    <tr>\n",
       "      <th>248808</th>\n",
       "      <td>2021-week_50</td>\n",
       "      <td>AD08SYNSG9</td>\n",
       "      <td>Extreme DA</td>\n",
       "      <td>US</td>\n",
       "      <td>yes</td>\n",
       "      <td>NaN</td>\n",
       "      <td>Yield</td>\n",
       "      <td>DNNY</td>\n",
       "      <td>2021</td>\n",
       "      <td>50</td>\n",
       "      <td>4</td>\n",
       "      <td>1</td>\n",
       "      <td>1</td>\n",
       "    </tr>\n",
       "  </tbody>\n",
       "</table>\n",
       "</div>"
      ],
      "text/plain": [
       "             week_id       ad_id               requester region is_success  \\\n",
       "107204  2021-week_40  AD089RZW8Q  Search Million Culture     GB        yes   \n",
       "264775  2022-week_01  AD008J888J  Search Million Culture     DE        yes   \n",
       "18602   2021-week_34  AD07FLYLSW   MoJoe Brewing Company     GB        yes   \n",
       "2849    2021-week_33  AD00V87XU8              RelayFoods     US        yes   \n",
       "248808  2021-week_50  AD08SYNSG9              Extreme DA     US        yes   \n",
       "\n",
       "       is_sever recommendation_type rec_provider  Year  Week  Quarter  \\\n",
       "107204      NaN              Qality         DNNQ  2021    40        4   \n",
       "264775      NaN              Qality     UserPopQ  2022     1        1   \n",
       "18602       NaN               Yield         RNNY  2021    34        3   \n",
       "2849        NaN              Qality         RNNQ  2021    33        3   \n",
       "248808      NaN               Yield         DNNY  2021    50        4   \n",
       "\n",
       "        Success  ad_count  \n",
       "107204        1         1  \n",
       "264775        1         1  \n",
       "18602         1         1  \n",
       "2849          1         1  \n",
       "248808        1         1  "
      ]
     },
     "execution_count": 13,
     "metadata": {},
     "output_type": "execute_result"
    }
   ],
   "source": [
    "ad_recs_annotated.sample(5) "
   ]
  },
  {
   "cell_type": "markdown",
   "id": "12d52733-1c8a-4b31-85f4-28c7bef853f2",
   "metadata": {},
   "source": [
    "Are there any NaNs in the is_sever column? Count how many and create a new column with NaNs filled as False. Check that indeed the new column contaion no NaNs."
   ]
  },
  {
   "cell_type": "code",
   "execution_count": 14,
   "id": "8aad9105-4ffd-450d-b4bd-4bd79590f7e0",
   "metadata": {},
   "outputs": [
    {
     "data": {
      "text/plain": [
       "296238"
      ]
     },
     "execution_count": 14,
     "metadata": {},
     "output_type": "execute_result"
    }
   ],
   "source": [
    "ad_recs_annotated['is_sever'].isnull().sum()"
   ]
  },
  {
   "cell_type": "code",
   "execution_count": 15,
   "id": "214709d5-6fd7-4838-9335-a4c9c19b26f8",
   "metadata": {},
   "outputs": [
    {
     "data": {
      "text/plain": [
       "0"
      ]
     },
     "execution_count": 15,
     "metadata": {},
     "output_type": "execute_result"
    }
   ],
   "source": [
    "ad_recs_annotated['is_sever_modified'] = ad_recs_annotated['is_sever'].fillna(False)\n",
    "ad_recs_annotated['is_sever_modified'].isnull().sum()"
   ]
  },
  {
   "cell_type": "markdown",
   "id": "536f838f-6ee4-413c-ba97-69b86ff4b434",
   "metadata": {},
   "source": [
    "Capitlize (first letter only) the is_success column"
   ]
  },
  {
   "cell_type": "code",
   "execution_count": 16,
   "id": "61638bc7-fb97-4b9e-99d9-c727eceb7cc0",
   "metadata": {},
   "outputs": [],
   "source": [
    "ad_recs_annotated['is_success'] = ad_recs_annotated['is_success'].apply(lambda x: x.capitalize())"
   ]
  },
  {
   "cell_type": "code",
   "execution_count": 17,
   "id": "96cdd37d-16d2-4308-9a2f-144d3ad9146c",
   "metadata": {},
   "outputs": [
    {
     "data": {
      "text/html": [
       "<div>\n",
       "<style scoped>\n",
       "    .dataframe tbody tr th:only-of-type {\n",
       "        vertical-align: middle;\n",
       "    }\n",
       "\n",
       "    .dataframe tbody tr th {\n",
       "        vertical-align: top;\n",
       "    }\n",
       "\n",
       "    .dataframe thead th {\n",
       "        text-align: right;\n",
       "    }\n",
       "</style>\n",
       "<table border=\"1\" class=\"dataframe\">\n",
       "  <thead>\n",
       "    <tr style=\"text-align: right;\">\n",
       "      <th></th>\n",
       "      <th>week_id</th>\n",
       "      <th>ad_id</th>\n",
       "      <th>requester</th>\n",
       "      <th>region</th>\n",
       "      <th>is_success</th>\n",
       "      <th>is_sever</th>\n",
       "      <th>recommendation_type</th>\n",
       "      <th>rec_provider</th>\n",
       "      <th>Year</th>\n",
       "      <th>Week</th>\n",
       "      <th>Quarter</th>\n",
       "      <th>Success</th>\n",
       "      <th>ad_count</th>\n",
       "      <th>is_sever_modified</th>\n",
       "    </tr>\n",
       "  </thead>\n",
       "  <tbody>\n",
       "    <tr>\n",
       "      <th>58849</th>\n",
       "      <td>2021-week_37</td>\n",
       "      <td>AD00OH78V8</td>\n",
       "      <td>Fancy</td>\n",
       "      <td>GB</td>\n",
       "      <td>Yes</td>\n",
       "      <td>NaN</td>\n",
       "      <td>Qality</td>\n",
       "      <td>DNNQ</td>\n",
       "      <td>2021</td>\n",
       "      <td>37</td>\n",
       "      <td>3</td>\n",
       "      <td>1</td>\n",
       "      <td>1</td>\n",
       "      <td>False</td>\n",
       "    </tr>\n",
       "    <tr>\n",
       "      <th>261096</th>\n",
       "      <td>2021-week_51</td>\n",
       "      <td>AD08NVQZPQ</td>\n",
       "      <td>RelayFoods</td>\n",
       "      <td>IN</td>\n",
       "      <td>Yes</td>\n",
       "      <td>NaN</td>\n",
       "      <td>Qality</td>\n",
       "      <td>UserPopQ</td>\n",
       "      <td>2021</td>\n",
       "      <td>51</td>\n",
       "      <td>4</td>\n",
       "      <td>1</td>\n",
       "      <td>1</td>\n",
       "      <td>False</td>\n",
       "    </tr>\n",
       "    <tr>\n",
       "      <th>283882</th>\n",
       "      <td>2022-week_02</td>\n",
       "      <td>AD07SK8YF8</td>\n",
       "      <td>RelayFoods</td>\n",
       "      <td>IN</td>\n",
       "      <td>Yes</td>\n",
       "      <td>NaN</td>\n",
       "      <td>Qality</td>\n",
       "      <td>UserPopQ</td>\n",
       "      <td>2022</td>\n",
       "      <td>2</td>\n",
       "      <td>1</td>\n",
       "      <td>1</td>\n",
       "      <td>1</td>\n",
       "      <td>False</td>\n",
       "    </tr>\n",
       "    <tr>\n",
       "      <th>74369</th>\n",
       "      <td>2021-week_38</td>\n",
       "      <td>AD079JG7N8</td>\n",
       "      <td>Extreme DA</td>\n",
       "      <td>US</td>\n",
       "      <td>No</td>\n",
       "      <td>True</td>\n",
       "      <td>Yield</td>\n",
       "      <td>DNNY</td>\n",
       "      <td>2021</td>\n",
       "      <td>38</td>\n",
       "      <td>3</td>\n",
       "      <td>0</td>\n",
       "      <td>1</td>\n",
       "      <td>True</td>\n",
       "    </tr>\n",
       "    <tr>\n",
       "      <th>110673</th>\n",
       "      <td>2021-week_40</td>\n",
       "      <td>AD0977XHCX</td>\n",
       "      <td>Search Million Culture</td>\n",
       "      <td>JP</td>\n",
       "      <td>No</td>\n",
       "      <td>False</td>\n",
       "      <td>Qality</td>\n",
       "      <td>UserPopQ</td>\n",
       "      <td>2021</td>\n",
       "      <td>40</td>\n",
       "      <td>4</td>\n",
       "      <td>0</td>\n",
       "      <td>1</td>\n",
       "      <td>False</td>\n",
       "    </tr>\n",
       "  </tbody>\n",
       "</table>\n",
       "</div>"
      ],
      "text/plain": [
       "             week_id       ad_id               requester region is_success  \\\n",
       "58849   2021-week_37  AD00OH78V8                   Fancy     GB        Yes   \n",
       "261096  2021-week_51  AD08NVQZPQ              RelayFoods     IN        Yes   \n",
       "283882  2022-week_02  AD07SK8YF8              RelayFoods     IN        Yes   \n",
       "74369   2021-week_38  AD079JG7N8              Extreme DA     US         No   \n",
       "110673  2021-week_40  AD0977XHCX  Search Million Culture     JP         No   \n",
       "\n",
       "       is_sever recommendation_type rec_provider  Year  Week  Quarter  \\\n",
       "58849       NaN              Qality         DNNQ  2021    37        3   \n",
       "261096      NaN              Qality     UserPopQ  2021    51        4   \n",
       "283882      NaN              Qality     UserPopQ  2022     2        1   \n",
       "74369      True               Yield         DNNY  2021    38        3   \n",
       "110673    False              Qality     UserPopQ  2021    40        4   \n",
       "\n",
       "        Success  ad_count  is_sever_modified  \n",
       "58849         1         1              False  \n",
       "261096        1         1              False  \n",
       "283882        1         1              False  \n",
       "74369         0         1               True  \n",
       "110673        0         1              False  "
      ]
     },
     "execution_count": 17,
     "metadata": {},
     "output_type": "execute_result"
    }
   ],
   "source": [
    "ad_recs_annotated.sample(5)"
   ]
  },
  {
   "cell_type": "markdown",
   "id": "e1a4707e-5673-4bec-bf9a-51aaf633b09f",
   "metadata": {},
   "source": [
    "### Subset selection"
   ]
  },
  {
   "cell_type": "markdown",
   "id": "6e4087a0-8706-471d-ae78-d9c47534f6b8",
   "metadata": {},
   "source": [
    "for each question, sub-select the data by using the conditional selection (`[]`) and the `.query` API. Use `.shape` on the subselection to obtain the result.  \n",
    "For example:\n",
    "`df.query('some_condition').shape`"
   ]
  },
  {
   "cell_type": "markdown",
   "id": "df326ef2-83c4-400f-bb51-f47db2401ee3",
   "metadata": {},
   "source": [
    "1. How many requests are there in US region? \n",
    "1. How many **successful** requests are there in US region? \n",
    "1. How many **successful** requests are there in US region, on week 52?\n",
    "1. How many requests where delivered by DNNQ, RNNY and UserPopQ together? \n",
    "1. How many requests where delivered by rule based providers? \n",
    "1. Select only the requests from 2021 - How many are there? \n",
    "1. Select the reqeusts from week 30 to week 40 - How many are there? \n",
    "1. Select all the data that comes from the most popular Ad\n",
    "1. Select all the data that comes from the least popular provider\n",
    "1. Select the data in which is_sever is None. How big is it? \n",
    "1. Select the data in which the requester is a 3 word company\n",
    "1. Select the data in which the requester is a 3 word company, and the ad_id has the letter 6 in it\n",
    "1. Select the data in which the requester is a 3 word company, and the multiplication of all the numbers in the ad_id is bigger than 30"
   ]
  },
  {
   "cell_type": "markdown",
   "id": "98037889-b473-4045-8edd-dec97e163215",
   "metadata": {},
   "source": [
    "1. How many requests are there in US region? "
   ]
  },
  {
   "cell_type": "code",
   "execution_count": 18,
   "id": "f6c52f4e-a1ba-422e-81fa-0b0b6a952f10",
   "metadata": {},
   "outputs": [
    {
     "data": {
      "text/plain": [
       "102262"
      ]
     },
     "execution_count": 18,
     "metadata": {},
     "output_type": "execute_result"
    }
   ],
   "source": [
    "ad_recs_annotated.query(\"region == 'US'\").shape[0]"
   ]
  },
  {
   "cell_type": "code",
   "execution_count": 19,
   "id": "651eef1a-5ecb-457a-8b43-ec8f0f8cf2e0",
   "metadata": {},
   "outputs": [
    {
     "data": {
      "text/plain": [
       "102262"
      ]
     },
     "execution_count": 19,
     "metadata": {},
     "output_type": "execute_result"
    }
   ],
   "source": [
    "(ad_recs_annotated['region'] == 'US').map({False: 0, True: 1}).sum() "
   ]
  },
  {
   "cell_type": "markdown",
   "id": "2aaa09ff-b94f-43eb-96b2-f44d6732fed6",
   "metadata": {},
   "source": [
    "2. How many successful requests are there in US region?"
   ]
  },
  {
   "cell_type": "code",
   "execution_count": 20,
   "id": "1f1dc12c-109e-4955-9b26-7d1a05722734",
   "metadata": {},
   "outputs": [
    {
     "data": {
      "text/plain": [
       "87488"
      ]
     },
     "execution_count": 20,
     "metadata": {},
     "output_type": "execute_result"
    }
   ],
   "source": [
    "ad_recs_annotated.query(\"region == 'US' & is_success == 'Yes'\").shape[0]"
   ]
  },
  {
   "cell_type": "code",
   "execution_count": 21,
   "id": "65ab1dfc-9e58-4e79-8f47-4f6f3811526f",
   "metadata": {},
   "outputs": [
    {
     "data": {
      "text/plain": [
       "87488"
      ]
     },
     "execution_count": 21,
     "metadata": {},
     "output_type": "execute_result"
    }
   ],
   "source": [
    "ad_recs_annotated.loc[(ad_recs_annotated.region=='US') & (ad_recs_annotated.is_success=='Yes')].shape[0]"
   ]
  },
  {
   "cell_type": "markdown",
   "id": "9c0c5a29-0c0c-45f6-b1ca-f1b9cada77fe",
   "metadata": {},
   "source": [
    "3. How many successful requests are there in US region, on week 52?"
   ]
  },
  {
   "cell_type": "code",
   "execution_count": 22,
   "id": "b5a99bae-9bea-4a22-86c3-5fa32fe4407c",
   "metadata": {},
   "outputs": [
    {
     "data": {
      "text/plain": [
       "3284"
      ]
     },
     "execution_count": 22,
     "metadata": {},
     "output_type": "execute_result"
    }
   ],
   "source": [
    "ad_recs_annotated.query(\"region == 'US' & is_success == 'Yes' & Week == 52\").shape[0]"
   ]
  },
  {
   "cell_type": "code",
   "execution_count": 23,
   "id": "ec22ed2c-8bc2-438f-8d9f-90a13d7c0fe6",
   "metadata": {},
   "outputs": [
    {
     "data": {
      "text/plain": [
       "3284"
      ]
     },
     "execution_count": 23,
     "metadata": {},
     "output_type": "execute_result"
    }
   ],
   "source": [
    "ad_recs_annotated.loc[(ad_recs_annotated.region=='US') & \n",
    "                      (ad_recs_annotated.is_success=='Yes') & \n",
    "                      (ad_recs_annotated.Week==52)].shape[0]"
   ]
  },
  {
   "cell_type": "markdown",
   "id": "6d448121-f225-474a-aa0e-2309d04c2777",
   "metadata": {},
   "source": [
    "4. How many requests where delivered by DNNQ, RNNY and UserPopQ together?"
   ]
  },
  {
   "cell_type": "code",
   "execution_count": 24,
   "id": "97316a1f-f2ad-4329-bec2-004d34b0f5d1",
   "metadata": {},
   "outputs": [
    {
     "data": {
      "text/plain": [
       "196748"
      ]
     },
     "execution_count": 24,
     "metadata": {},
     "output_type": "execute_result"
    }
   ],
   "source": [
    "ad_recs_annotated.query(\"rec_provider == 'DNNQ' | rec_provider == 'RNNY' | rec_provider == 'UserPopQ'\").shape[0]"
   ]
  },
  {
   "cell_type": "code",
   "execution_count": 25,
   "id": "ad83b8c9-b3d2-4f49-9441-6427b05262e2",
   "metadata": {},
   "outputs": [
    {
     "data": {
      "text/plain": [
       "196748"
      ]
     },
     "execution_count": 25,
     "metadata": {},
     "output_type": "execute_result"
    }
   ],
   "source": [
    "ad_recs_annotated.loc[(ad_recs_annotated.rec_provider == 'DNNQ') | \n",
    "                      (ad_recs_annotated.rec_provider == 'RNNY') | \n",
    "                      (ad_recs_annotated.rec_provider == 'UserPopQ')].shape[0]"
   ]
  },
  {
   "cell_type": "markdown",
   "id": "e5cf2371-d5c1-4547-b44e-28d0d3d1c1c0",
   "metadata": {},
   "source": [
    "5. How many requests where delivered by rule based providers?"
   ]
  },
  {
   "cell_type": "code",
   "execution_count": 26,
   "id": "a64c765a-e98e-4b6b-a230-81ae389d224e",
   "metadata": {},
   "outputs": [
    {
     "data": {
      "text/plain": [
       "182"
      ]
     },
     "execution_count": 26,
     "metadata": {},
     "output_type": "execute_result"
    }
   ],
   "source": [
    "ad_recs_annotated.query('rec_provider.str.lower() in \"rulebased\"').shape[0]"
   ]
  },
  {
   "cell_type": "code",
   "execution_count": 27,
   "id": "d6db01a7-f2f7-4878-8a40-12c199a38b0a",
   "metadata": {},
   "outputs": [
    {
     "data": {
      "text/plain": [
       "182"
      ]
     },
     "execution_count": 27,
     "metadata": {},
     "output_type": "execute_result"
    }
   ],
   "source": [
    "ad_recs_annotated.loc[ad_recs_annotated['rec_provider'].str.lower()==\"rulebased\"].shape[0]"
   ]
  },
  {
   "cell_type": "markdown",
   "id": "0e61bd47-d6c4-4164-b2df-231e728dde0e",
   "metadata": {},
   "source": [
    "6. Select only the requests from 2021 - How many are there?"
   ]
  },
  {
   "cell_type": "code",
   "execution_count": 28,
   "id": "4882ffdf-c239-4e48-a6b9-b10463985a91",
   "metadata": {},
   "outputs": [
    {
     "data": {
      "text/plain": [
       "263830"
      ]
     },
     "execution_count": 28,
     "metadata": {},
     "output_type": "execute_result"
    }
   ],
   "source": [
    "ad_recs_annotated.query('Year == 2021').shape[0]"
   ]
  },
  {
   "cell_type": "code",
   "execution_count": 29,
   "id": "d0e5a086-99d2-4aa4-94ce-de467d811f15",
   "metadata": {},
   "outputs": [
    {
     "data": {
      "text/plain": [
       "263830"
      ]
     },
     "execution_count": 29,
     "metadata": {},
     "output_type": "execute_result"
    }
   ],
   "source": [
    "ad_recs_annotated.loc[ad_recs_annotated['Year'] == 2021].shape[0]"
   ]
  },
  {
   "cell_type": "markdown",
   "id": "47c9cdda-5762-47c1-bac4-cd3b0edf1889",
   "metadata": {},
   "source": [
    "7. Select the reqeusts from week 30 to week 40 - How many are there?"
   ]
  },
  {
   "cell_type": "code",
   "execution_count": 30,
   "id": "e804ece3-34c5-49ed-99ff-db6e187b6888",
   "metadata": {},
   "outputs": [
    {
     "data": {
      "text/plain": [
       "112092"
      ]
     },
     "execution_count": 30,
     "metadata": {},
     "output_type": "execute_result"
    }
   ],
   "source": [
    "ad_recs_annotated.query('30 <= Week <= 40').shape[0]"
   ]
  },
  {
   "cell_type": "code",
   "execution_count": 31,
   "id": "2e01ad93-4fbe-44cf-a581-8d0332677f59",
   "metadata": {},
   "outputs": [
    {
     "data": {
      "text/plain": [
       "112092"
      ]
     },
     "execution_count": 31,
     "metadata": {},
     "output_type": "execute_result"
    }
   ],
   "source": [
    "ad_recs_annotated.loc[ad_recs_annotated['Week'].between(30, 40)].shape[0]"
   ]
  },
  {
   "cell_type": "markdown",
   "id": "ff7cb0e7-6f03-46fd-9b76-8638453d7163",
   "metadata": {},
   "source": [
    "8. Select all the data that comes from the most popular Ad"
   ]
  },
  {
   "cell_type": "code",
   "execution_count": 32,
   "id": "4a0c40ce-509d-4d35-a993-0db4bbed12ed",
   "metadata": {},
   "outputs": [
    {
     "data": {
      "text/plain": [
       "week_id                        2021-week_47\n",
       "ad_id                            AD08C8RR8J\n",
       "requester              iDreamsky Technology\n",
       "region                                   GB\n",
       "is_success                              Yes\n",
       "is_sever                                NaN\n",
       "recommendation_type                  Qality\n",
       "rec_provider                        ManualY\n",
       "Year                                   2021\n",
       "Week                                     47\n",
       "Quarter                                   4\n",
       "Success                                   1\n",
       "ad_count                                 69\n",
       "is_sever_modified                     False\n",
       "Name: 204298, dtype: object"
      ]
     },
     "execution_count": 32,
     "metadata": {},
     "output_type": "execute_result"
    }
   ],
   "source": [
    "ad_recs_annotated.query('ad_count.idxmax()')"
   ]
  },
  {
   "cell_type": "code",
   "execution_count": 33,
   "id": "2cbd7276-6e01-421e-b4eb-46476a73072f",
   "metadata": {},
   "outputs": [
    {
     "data": {
      "text/plain": [
       "week_id                        2021-week_47\n",
       "ad_id                            AD08C8RR8J\n",
       "requester              iDreamsky Technology\n",
       "region                                   GB\n",
       "is_success                              Yes\n",
       "is_sever                                NaN\n",
       "recommendation_type                  Qality\n",
       "rec_provider                        ManualY\n",
       "Year                                   2021\n",
       "Week                                     47\n",
       "Quarter                                   4\n",
       "Success                                   1\n",
       "ad_count                                 69\n",
       "is_sever_modified                     False\n",
       "Name: 204298, dtype: object"
      ]
     },
     "execution_count": 33,
     "metadata": {},
     "output_type": "execute_result"
    }
   ],
   "source": [
    "ad_recs_annotated.iloc[ad_recs_annotated['ad_count'].idxmax()]"
   ]
  },
  {
   "cell_type": "markdown",
   "id": "3ea0de9d-adf3-40c6-9218-ce4cb2e17744",
   "metadata": {},
   "source": [
    "9. Select all the data that comes from the least popular provider"
   ]
  },
  {
   "cell_type": "code",
   "execution_count": 34,
   "id": "c1d5da44-f08b-4964-945c-17d3f3c08e45",
   "metadata": {},
   "outputs": [
    {
     "data": {
      "text/plain": [
       "rec_provider    UserPopSelectionY\n",
       "ad_count                       21\n",
       "Name: 12, dtype: object"
      ]
     },
     "execution_count": 34,
     "metadata": {},
     "output_type": "execute_result"
    }
   ],
   "source": [
    "ad_recs_annotated.groupby('rec_provider', dropna=False).ad_count.count().reset_index().query('ad_count.idxmin()')"
   ]
  },
  {
   "cell_type": "code",
   "execution_count": 35,
   "id": "90cb067f-1d02-4213-bd08-bb38e796fc67",
   "metadata": {},
   "outputs": [
    {
     "data": {
      "text/plain": [
       "rec_provider    UserPopSelectionY\n",
       "ad_count                       21\n",
       "Name: 12, dtype: object"
      ]
     },
     "execution_count": 35,
     "metadata": {},
     "output_type": "execute_result"
    }
   ],
   "source": [
    "tmp_df = ad_recs_annotated.groupby('rec_provider', dropna=False).ad_count.count().reset_index()\n",
    "tmp_df.iloc[tmp_df.ad_count.idxmin()]\n"
   ]
  },
  {
   "cell_type": "markdown",
   "id": "28e98f2a-b982-462c-9b3f-fd7503ea038c",
   "metadata": {},
   "source": [
    "10. Select the data in which is_sever is None. How big is it?"
   ]
  },
  {
   "cell_type": "code",
   "execution_count": 36,
   "id": "d55b9560-26f4-4335-baf5-adba94c18772",
   "metadata": {},
   "outputs": [
    {
     "data": {
      "text/plain": [
       "296238"
      ]
     },
     "execution_count": 36,
     "metadata": {},
     "output_type": "execute_result"
    }
   ],
   "source": [
    "ad_recs_annotated.query('is_sever.isnull()', engine='python').shape[0]"
   ]
  },
  {
   "cell_type": "code",
   "execution_count": 37,
   "id": "2f1ead7a-aacf-4a8a-a9ec-6f5802d4766d",
   "metadata": {},
   "outputs": [
    {
     "data": {
      "text/plain": [
       "296238"
      ]
     },
     "execution_count": 37,
     "metadata": {},
     "output_type": "execute_result"
    }
   ],
   "source": [
    "ad_recs_annotated.loc[ad_recs_annotated.is_sever.isnull()].shape[0]"
   ]
  },
  {
   "cell_type": "markdown",
   "id": "ebfab8c5-7bcf-44f7-babf-2a152aa4a074",
   "metadata": {},
   "source": [
    "11. Select the data in which the requester is a 3 word company"
   ]
  },
  {
   "cell_type": "code",
   "execution_count": 38,
   "id": "ef3e5ecc-7f97-4df2-89bd-72d174f34ecf",
   "metadata": {},
   "outputs": [
    {
     "data": {
      "text/html": [
       "<div>\n",
       "<style scoped>\n",
       "    .dataframe tbody tr th:only-of-type {\n",
       "        vertical-align: middle;\n",
       "    }\n",
       "\n",
       "    .dataframe tbody tr th {\n",
       "        vertical-align: top;\n",
       "    }\n",
       "\n",
       "    .dataframe thead th {\n",
       "        text-align: right;\n",
       "    }\n",
       "</style>\n",
       "<table border=\"1\" class=\"dataframe\">\n",
       "  <thead>\n",
       "    <tr style=\"text-align: right;\">\n",
       "      <th></th>\n",
       "      <th>week_id</th>\n",
       "      <th>ad_id</th>\n",
       "      <th>requester</th>\n",
       "      <th>region</th>\n",
       "      <th>is_success</th>\n",
       "      <th>is_sever</th>\n",
       "      <th>recommendation_type</th>\n",
       "      <th>rec_provider</th>\n",
       "      <th>Year</th>\n",
       "      <th>Week</th>\n",
       "      <th>Quarter</th>\n",
       "      <th>Success</th>\n",
       "      <th>ad_count</th>\n",
       "      <th>is_sever_modified</th>\n",
       "    </tr>\n",
       "  </thead>\n",
       "  <tbody>\n",
       "    <tr>\n",
       "      <th>1</th>\n",
       "      <td>2021-week_33</td>\n",
       "      <td>AD00000IV8</td>\n",
       "      <td>Search Million Culture</td>\n",
       "      <td>US</td>\n",
       "      <td>Yes</td>\n",
       "      <td>NaN</td>\n",
       "      <td>Qality</td>\n",
       "      <td>DNNQ</td>\n",
       "      <td>2021</td>\n",
       "      <td>33</td>\n",
       "      <td>3</td>\n",
       "      <td>1</td>\n",
       "      <td>1</td>\n",
       "      <td>False</td>\n",
       "    </tr>\n",
       "    <tr>\n",
       "      <th>6</th>\n",
       "      <td>2021-week_33</td>\n",
       "      <td>AD00006IF8</td>\n",
       "      <td>Search Million Culture</td>\n",
       "      <td>US</td>\n",
       "      <td>Yes</td>\n",
       "      <td>NaN</td>\n",
       "      <td>Qality</td>\n",
       "      <td>DNNQ</td>\n",
       "      <td>2021</td>\n",
       "      <td>33</td>\n",
       "      <td>3</td>\n",
       "      <td>1</td>\n",
       "      <td>1</td>\n",
       "      <td>False</td>\n",
       "    </tr>\n",
       "    <tr>\n",
       "      <th>7</th>\n",
       "      <td>2021-week_33</td>\n",
       "      <td>AD00006J8G</td>\n",
       "      <td>Search Million Culture</td>\n",
       "      <td>DE</td>\n",
       "      <td>Yes</td>\n",
       "      <td>NaN</td>\n",
       "      <td>Qality</td>\n",
       "      <td>DNNQ</td>\n",
       "      <td>2021</td>\n",
       "      <td>33</td>\n",
       "      <td>3</td>\n",
       "      <td>1</td>\n",
       "      <td>1</td>\n",
       "      <td>False</td>\n",
       "    </tr>\n",
       "    <tr>\n",
       "      <th>8</th>\n",
       "      <td>2021-week_33</td>\n",
       "      <td>AD00006JCU</td>\n",
       "      <td>Search Million Culture</td>\n",
       "      <td>DE</td>\n",
       "      <td>Yes</td>\n",
       "      <td>NaN</td>\n",
       "      <td>Qality</td>\n",
       "      <td>DNNQ</td>\n",
       "      <td>2021</td>\n",
       "      <td>33</td>\n",
       "      <td>3</td>\n",
       "      <td>1</td>\n",
       "      <td>1</td>\n",
       "      <td>False</td>\n",
       "    </tr>\n",
       "    <tr>\n",
       "      <th>10</th>\n",
       "      <td>2021-week_33</td>\n",
       "      <td>AD000077CP</td>\n",
       "      <td>Search Million Culture</td>\n",
       "      <td>US</td>\n",
       "      <td>Yes</td>\n",
       "      <td>NaN</td>\n",
       "      <td>Qality</td>\n",
       "      <td>DNNQ</td>\n",
       "      <td>2021</td>\n",
       "      <td>33</td>\n",
       "      <td>3</td>\n",
       "      <td>1</td>\n",
       "      <td>1</td>\n",
       "      <td>False</td>\n",
       "    </tr>\n",
       "    <tr>\n",
       "      <th>...</th>\n",
       "      <td>...</td>\n",
       "      <td>...</td>\n",
       "      <td>...</td>\n",
       "      <td>...</td>\n",
       "      <td>...</td>\n",
       "      <td>...</td>\n",
       "      <td>...</td>\n",
       "      <td>...</td>\n",
       "      <td>...</td>\n",
       "      <td>...</td>\n",
       "      <td>...</td>\n",
       "      <td>...</td>\n",
       "      <td>...</td>\n",
       "      <td>...</td>\n",
       "    </tr>\n",
       "    <tr>\n",
       "      <th>364127</th>\n",
       "      <td>2022-week_52</td>\n",
       "      <td>AD89888888</td>\n",
       "      <td>MoJoe Brewing Company</td>\n",
       "      <td>GB</td>\n",
       "      <td>Yes</td>\n",
       "      <td>NaN</td>\n",
       "      <td>Yield</td>\n",
       "      <td>ManualQ</td>\n",
       "      <td>2022</td>\n",
       "      <td>52</td>\n",
       "      <td>4</td>\n",
       "      <td>1</td>\n",
       "      <td>1</td>\n",
       "      <td>False</td>\n",
       "    </tr>\n",
       "    <tr>\n",
       "      <th>364129</th>\n",
       "      <td>2022-week_52</td>\n",
       "      <td>AD89888978</td>\n",
       "      <td>Search Million Culture</td>\n",
       "      <td>DE</td>\n",
       "      <td>Yes</td>\n",
       "      <td>NaN</td>\n",
       "      <td>Qality</td>\n",
       "      <td>BooksQ</td>\n",
       "      <td>2022</td>\n",
       "      <td>52</td>\n",
       "      <td>4</td>\n",
       "      <td>1</td>\n",
       "      <td>1</td>\n",
       "      <td>False</td>\n",
       "    </tr>\n",
       "    <tr>\n",
       "      <th>364140</th>\n",
       "      <td>2022-week_52</td>\n",
       "      <td>AD98898698</td>\n",
       "      <td>Search Million Culture</td>\n",
       "      <td>DE</td>\n",
       "      <td>Yes</td>\n",
       "      <td>NaN</td>\n",
       "      <td>Qality</td>\n",
       "      <td>DNNQ</td>\n",
       "      <td>2022</td>\n",
       "      <td>52</td>\n",
       "      <td>4</td>\n",
       "      <td>1</td>\n",
       "      <td>1</td>\n",
       "      <td>False</td>\n",
       "    </tr>\n",
       "    <tr>\n",
       "      <th>364141</th>\n",
       "      <td>2022-week_52</td>\n",
       "      <td>AD98898880</td>\n",
       "      <td>MoJoe Brewing Company</td>\n",
       "      <td>IN</td>\n",
       "      <td>Yes</td>\n",
       "      <td>NaN</td>\n",
       "      <td>Yield</td>\n",
       "      <td>ManualQ</td>\n",
       "      <td>2022</td>\n",
       "      <td>52</td>\n",
       "      <td>4</td>\n",
       "      <td>1</td>\n",
       "      <td>1</td>\n",
       "      <td>False</td>\n",
       "    </tr>\n",
       "    <tr>\n",
       "      <th>364143</th>\n",
       "      <td>2022-week_52</td>\n",
       "      <td>AD98908668</td>\n",
       "      <td>MoJoe Brewing Company</td>\n",
       "      <td>IN</td>\n",
       "      <td>Yes</td>\n",
       "      <td>NaN</td>\n",
       "      <td>Yield</td>\n",
       "      <td>ManualQ</td>\n",
       "      <td>2022</td>\n",
       "      <td>52</td>\n",
       "      <td>4</td>\n",
       "      <td>1</td>\n",
       "      <td>1</td>\n",
       "      <td>False</td>\n",
       "    </tr>\n",
       "  </tbody>\n",
       "</table>\n",
       "<p>116309 rows × 14 columns</p>\n",
       "</div>"
      ],
      "text/plain": [
       "             week_id       ad_id               requester region is_success  \\\n",
       "1       2021-week_33  AD00000IV8  Search Million Culture     US        Yes   \n",
       "6       2021-week_33  AD00006IF8  Search Million Culture     US        Yes   \n",
       "7       2021-week_33  AD00006J8G  Search Million Culture     DE        Yes   \n",
       "8       2021-week_33  AD00006JCU  Search Million Culture     DE        Yes   \n",
       "10      2021-week_33  AD000077CP  Search Million Culture     US        Yes   \n",
       "...              ...         ...                     ...    ...        ...   \n",
       "364127  2022-week_52  AD89888888   MoJoe Brewing Company     GB        Yes   \n",
       "364129  2022-week_52  AD89888978  Search Million Culture     DE        Yes   \n",
       "364140  2022-week_52  AD98898698  Search Million Culture     DE        Yes   \n",
       "364141  2022-week_52  AD98898880   MoJoe Brewing Company     IN        Yes   \n",
       "364143  2022-week_52  AD98908668   MoJoe Brewing Company     IN        Yes   \n",
       "\n",
       "       is_sever recommendation_type rec_provider  Year  Week  Quarter  \\\n",
       "1           NaN              Qality         DNNQ  2021    33        3   \n",
       "6           NaN              Qality         DNNQ  2021    33        3   \n",
       "7           NaN              Qality         DNNQ  2021    33        3   \n",
       "8           NaN              Qality         DNNQ  2021    33        3   \n",
       "10          NaN              Qality         DNNQ  2021    33        3   \n",
       "...         ...                 ...          ...   ...   ...      ...   \n",
       "364127      NaN               Yield      ManualQ  2022    52        4   \n",
       "364129      NaN              Qality       BooksQ  2022    52        4   \n",
       "364140      NaN              Qality         DNNQ  2022    52        4   \n",
       "364141      NaN               Yield      ManualQ  2022    52        4   \n",
       "364143      NaN               Yield      ManualQ  2022    52        4   \n",
       "\n",
       "        Success  ad_count  is_sever_modified  \n",
       "1             1         1              False  \n",
       "6             1         1              False  \n",
       "7             1         1              False  \n",
       "8             1         1              False  \n",
       "10            1         1              False  \n",
       "...         ...       ...                ...  \n",
       "364127        1         1              False  \n",
       "364129        1         1              False  \n",
       "364140        1         1              False  \n",
       "364141        1         1              False  \n",
       "364143        1         1              False  \n",
       "\n",
       "[116309 rows x 14 columns]"
      ]
     },
     "execution_count": 38,
     "metadata": {},
     "output_type": "execute_result"
    }
   ],
   "source": [
    "ad_recs_annotated.query('requester.str.count(\" \") == 2', engine='python')"
   ]
  },
  {
   "cell_type": "code",
   "execution_count": 39,
   "id": "270d978a-0df8-4ec5-924f-0437d589ae0a",
   "metadata": {},
   "outputs": [
    {
     "data": {
      "text/html": [
       "<div>\n",
       "<style scoped>\n",
       "    .dataframe tbody tr th:only-of-type {\n",
       "        vertical-align: middle;\n",
       "    }\n",
       "\n",
       "    .dataframe tbody tr th {\n",
       "        vertical-align: top;\n",
       "    }\n",
       "\n",
       "    .dataframe thead th {\n",
       "        text-align: right;\n",
       "    }\n",
       "</style>\n",
       "<table border=\"1\" class=\"dataframe\">\n",
       "  <thead>\n",
       "    <tr style=\"text-align: right;\">\n",
       "      <th></th>\n",
       "      <th>week_id</th>\n",
       "      <th>ad_id</th>\n",
       "      <th>requester</th>\n",
       "      <th>region</th>\n",
       "      <th>is_success</th>\n",
       "      <th>is_sever</th>\n",
       "      <th>recommendation_type</th>\n",
       "      <th>rec_provider</th>\n",
       "      <th>Year</th>\n",
       "      <th>Week</th>\n",
       "      <th>Quarter</th>\n",
       "      <th>Success</th>\n",
       "      <th>ad_count</th>\n",
       "      <th>is_sever_modified</th>\n",
       "    </tr>\n",
       "  </thead>\n",
       "  <tbody>\n",
       "    <tr>\n",
       "      <th>1</th>\n",
       "      <td>2021-week_33</td>\n",
       "      <td>AD00000IV8</td>\n",
       "      <td>Search Million Culture</td>\n",
       "      <td>US</td>\n",
       "      <td>Yes</td>\n",
       "      <td>NaN</td>\n",
       "      <td>Qality</td>\n",
       "      <td>DNNQ</td>\n",
       "      <td>2021</td>\n",
       "      <td>33</td>\n",
       "      <td>3</td>\n",
       "      <td>1</td>\n",
       "      <td>1</td>\n",
       "      <td>False</td>\n",
       "    </tr>\n",
       "    <tr>\n",
       "      <th>6</th>\n",
       "      <td>2021-week_33</td>\n",
       "      <td>AD00006IF8</td>\n",
       "      <td>Search Million Culture</td>\n",
       "      <td>US</td>\n",
       "      <td>Yes</td>\n",
       "      <td>NaN</td>\n",
       "      <td>Qality</td>\n",
       "      <td>DNNQ</td>\n",
       "      <td>2021</td>\n",
       "      <td>33</td>\n",
       "      <td>3</td>\n",
       "      <td>1</td>\n",
       "      <td>1</td>\n",
       "      <td>False</td>\n",
       "    </tr>\n",
       "    <tr>\n",
       "      <th>7</th>\n",
       "      <td>2021-week_33</td>\n",
       "      <td>AD00006J8G</td>\n",
       "      <td>Search Million Culture</td>\n",
       "      <td>DE</td>\n",
       "      <td>Yes</td>\n",
       "      <td>NaN</td>\n",
       "      <td>Qality</td>\n",
       "      <td>DNNQ</td>\n",
       "      <td>2021</td>\n",
       "      <td>33</td>\n",
       "      <td>3</td>\n",
       "      <td>1</td>\n",
       "      <td>1</td>\n",
       "      <td>False</td>\n",
       "    </tr>\n",
       "    <tr>\n",
       "      <th>8</th>\n",
       "      <td>2021-week_33</td>\n",
       "      <td>AD00006JCU</td>\n",
       "      <td>Search Million Culture</td>\n",
       "      <td>DE</td>\n",
       "      <td>Yes</td>\n",
       "      <td>NaN</td>\n",
       "      <td>Qality</td>\n",
       "      <td>DNNQ</td>\n",
       "      <td>2021</td>\n",
       "      <td>33</td>\n",
       "      <td>3</td>\n",
       "      <td>1</td>\n",
       "      <td>1</td>\n",
       "      <td>False</td>\n",
       "    </tr>\n",
       "    <tr>\n",
       "      <th>10</th>\n",
       "      <td>2021-week_33</td>\n",
       "      <td>AD000077CP</td>\n",
       "      <td>Search Million Culture</td>\n",
       "      <td>US</td>\n",
       "      <td>Yes</td>\n",
       "      <td>NaN</td>\n",
       "      <td>Qality</td>\n",
       "      <td>DNNQ</td>\n",
       "      <td>2021</td>\n",
       "      <td>33</td>\n",
       "      <td>3</td>\n",
       "      <td>1</td>\n",
       "      <td>1</td>\n",
       "      <td>False</td>\n",
       "    </tr>\n",
       "    <tr>\n",
       "      <th>...</th>\n",
       "      <td>...</td>\n",
       "      <td>...</td>\n",
       "      <td>...</td>\n",
       "      <td>...</td>\n",
       "      <td>...</td>\n",
       "      <td>...</td>\n",
       "      <td>...</td>\n",
       "      <td>...</td>\n",
       "      <td>...</td>\n",
       "      <td>...</td>\n",
       "      <td>...</td>\n",
       "      <td>...</td>\n",
       "      <td>...</td>\n",
       "      <td>...</td>\n",
       "    </tr>\n",
       "    <tr>\n",
       "      <th>364127</th>\n",
       "      <td>2022-week_52</td>\n",
       "      <td>AD89888888</td>\n",
       "      <td>MoJoe Brewing Company</td>\n",
       "      <td>GB</td>\n",
       "      <td>Yes</td>\n",
       "      <td>NaN</td>\n",
       "      <td>Yield</td>\n",
       "      <td>ManualQ</td>\n",
       "      <td>2022</td>\n",
       "      <td>52</td>\n",
       "      <td>4</td>\n",
       "      <td>1</td>\n",
       "      <td>1</td>\n",
       "      <td>False</td>\n",
       "    </tr>\n",
       "    <tr>\n",
       "      <th>364129</th>\n",
       "      <td>2022-week_52</td>\n",
       "      <td>AD89888978</td>\n",
       "      <td>Search Million Culture</td>\n",
       "      <td>DE</td>\n",
       "      <td>Yes</td>\n",
       "      <td>NaN</td>\n",
       "      <td>Qality</td>\n",
       "      <td>BooksQ</td>\n",
       "      <td>2022</td>\n",
       "      <td>52</td>\n",
       "      <td>4</td>\n",
       "      <td>1</td>\n",
       "      <td>1</td>\n",
       "      <td>False</td>\n",
       "    </tr>\n",
       "    <tr>\n",
       "      <th>364140</th>\n",
       "      <td>2022-week_52</td>\n",
       "      <td>AD98898698</td>\n",
       "      <td>Search Million Culture</td>\n",
       "      <td>DE</td>\n",
       "      <td>Yes</td>\n",
       "      <td>NaN</td>\n",
       "      <td>Qality</td>\n",
       "      <td>DNNQ</td>\n",
       "      <td>2022</td>\n",
       "      <td>52</td>\n",
       "      <td>4</td>\n",
       "      <td>1</td>\n",
       "      <td>1</td>\n",
       "      <td>False</td>\n",
       "    </tr>\n",
       "    <tr>\n",
       "      <th>364141</th>\n",
       "      <td>2022-week_52</td>\n",
       "      <td>AD98898880</td>\n",
       "      <td>MoJoe Brewing Company</td>\n",
       "      <td>IN</td>\n",
       "      <td>Yes</td>\n",
       "      <td>NaN</td>\n",
       "      <td>Yield</td>\n",
       "      <td>ManualQ</td>\n",
       "      <td>2022</td>\n",
       "      <td>52</td>\n",
       "      <td>4</td>\n",
       "      <td>1</td>\n",
       "      <td>1</td>\n",
       "      <td>False</td>\n",
       "    </tr>\n",
       "    <tr>\n",
       "      <th>364143</th>\n",
       "      <td>2022-week_52</td>\n",
       "      <td>AD98908668</td>\n",
       "      <td>MoJoe Brewing Company</td>\n",
       "      <td>IN</td>\n",
       "      <td>Yes</td>\n",
       "      <td>NaN</td>\n",
       "      <td>Yield</td>\n",
       "      <td>ManualQ</td>\n",
       "      <td>2022</td>\n",
       "      <td>52</td>\n",
       "      <td>4</td>\n",
       "      <td>1</td>\n",
       "      <td>1</td>\n",
       "      <td>False</td>\n",
       "    </tr>\n",
       "  </tbody>\n",
       "</table>\n",
       "<p>116309 rows × 14 columns</p>\n",
       "</div>"
      ],
      "text/plain": [
       "             week_id       ad_id               requester region is_success  \\\n",
       "1       2021-week_33  AD00000IV8  Search Million Culture     US        Yes   \n",
       "6       2021-week_33  AD00006IF8  Search Million Culture     US        Yes   \n",
       "7       2021-week_33  AD00006J8G  Search Million Culture     DE        Yes   \n",
       "8       2021-week_33  AD00006JCU  Search Million Culture     DE        Yes   \n",
       "10      2021-week_33  AD000077CP  Search Million Culture     US        Yes   \n",
       "...              ...         ...                     ...    ...        ...   \n",
       "364127  2022-week_52  AD89888888   MoJoe Brewing Company     GB        Yes   \n",
       "364129  2022-week_52  AD89888978  Search Million Culture     DE        Yes   \n",
       "364140  2022-week_52  AD98898698  Search Million Culture     DE        Yes   \n",
       "364141  2022-week_52  AD98898880   MoJoe Brewing Company     IN        Yes   \n",
       "364143  2022-week_52  AD98908668   MoJoe Brewing Company     IN        Yes   \n",
       "\n",
       "       is_sever recommendation_type rec_provider  Year  Week  Quarter  \\\n",
       "1           NaN              Qality         DNNQ  2021    33        3   \n",
       "6           NaN              Qality         DNNQ  2021    33        3   \n",
       "7           NaN              Qality         DNNQ  2021    33        3   \n",
       "8           NaN              Qality         DNNQ  2021    33        3   \n",
       "10          NaN              Qality         DNNQ  2021    33        3   \n",
       "...         ...                 ...          ...   ...   ...      ...   \n",
       "364127      NaN               Yield      ManualQ  2022    52        4   \n",
       "364129      NaN              Qality       BooksQ  2022    52        4   \n",
       "364140      NaN              Qality         DNNQ  2022    52        4   \n",
       "364141      NaN               Yield      ManualQ  2022    52        4   \n",
       "364143      NaN               Yield      ManualQ  2022    52        4   \n",
       "\n",
       "        Success  ad_count  is_sever_modified  \n",
       "1             1         1              False  \n",
       "6             1         1              False  \n",
       "7             1         1              False  \n",
       "8             1         1              False  \n",
       "10            1         1              False  \n",
       "...         ...       ...                ...  \n",
       "364127        1         1              False  \n",
       "364129        1         1              False  \n",
       "364140        1         1              False  \n",
       "364141        1         1              False  \n",
       "364143        1         1              False  \n",
       "\n",
       "[116309 rows x 14 columns]"
      ]
     },
     "execution_count": 39,
     "metadata": {},
     "output_type": "execute_result"
    }
   ],
   "source": [
    "ad_recs_annotated.loc[ad_recs_annotated.requester.str.count(\" \") == 2]"
   ]
  },
  {
   "cell_type": "markdown",
   "id": "5ed3a003-8d15-4898-a3a1-d7207dd9a5c0",
   "metadata": {},
   "source": [
    "12. Select the data in which the requester is a 3 word company, and the ad_id has the letter 6 in it"
   ]
  },
  {
   "cell_type": "code",
   "execution_count": 40,
   "id": "055989e0-60f4-4a3e-8778-840c6c067d1e",
   "metadata": {},
   "outputs": [
    {
     "data": {
      "text/html": [
       "<div>\n",
       "<style scoped>\n",
       "    .dataframe tbody tr th:only-of-type {\n",
       "        vertical-align: middle;\n",
       "    }\n",
       "\n",
       "    .dataframe tbody tr th {\n",
       "        vertical-align: top;\n",
       "    }\n",
       "\n",
       "    .dataframe thead th {\n",
       "        text-align: right;\n",
       "    }\n",
       "</style>\n",
       "<table border=\"1\" class=\"dataframe\">\n",
       "  <thead>\n",
       "    <tr style=\"text-align: right;\">\n",
       "      <th></th>\n",
       "      <th>week_id</th>\n",
       "      <th>ad_id</th>\n",
       "      <th>requester</th>\n",
       "      <th>region</th>\n",
       "      <th>is_success</th>\n",
       "      <th>is_sever</th>\n",
       "      <th>recommendation_type</th>\n",
       "      <th>rec_provider</th>\n",
       "      <th>Year</th>\n",
       "      <th>Week</th>\n",
       "      <th>Quarter</th>\n",
       "      <th>Success</th>\n",
       "      <th>ad_count</th>\n",
       "      <th>is_sever_modified</th>\n",
       "    </tr>\n",
       "  </thead>\n",
       "  <tbody>\n",
       "    <tr>\n",
       "      <th>25</th>\n",
       "      <td>2021-week_33</td>\n",
       "      <td>AD0000AIRX</td>\n",
       "      <td>Search Million Culture</td>\n",
       "      <td>GB</td>\n",
       "      <td>No</td>\n",
       "      <td>True</td>\n",
       "      <td>Qality</td>\n",
       "      <td>XGBQ</td>\n",
       "      <td>2021</td>\n",
       "      <td>33</td>\n",
       "      <td>3</td>\n",
       "      <td>0</td>\n",
       "      <td>1</td>\n",
       "      <td>True</td>\n",
       "    </tr>\n",
       "    <tr>\n",
       "      <th>36</th>\n",
       "      <td>2021-week_33</td>\n",
       "      <td>AD0000YTGG</td>\n",
       "      <td>MoJoe Brewing Company</td>\n",
       "      <td>JP</td>\n",
       "      <td>No</td>\n",
       "      <td>True</td>\n",
       "      <td>Yield</td>\n",
       "      <td>UserPopY</td>\n",
       "      <td>2021</td>\n",
       "      <td>33</td>\n",
       "      <td>3</td>\n",
       "      <td>0</td>\n",
       "      <td>1</td>\n",
       "      <td>True</td>\n",
       "    </tr>\n",
       "    <tr>\n",
       "      <th>57</th>\n",
       "      <td>2021-week_33</td>\n",
       "      <td>AD0007OEES</td>\n",
       "      <td>Search Million Culture</td>\n",
       "      <td>DE</td>\n",
       "      <td>Yes</td>\n",
       "      <td>NaN</td>\n",
       "      <td>Qality</td>\n",
       "      <td>DNNQ</td>\n",
       "      <td>2021</td>\n",
       "      <td>33</td>\n",
       "      <td>3</td>\n",
       "      <td>1</td>\n",
       "      <td>1</td>\n",
       "      <td>False</td>\n",
       "    </tr>\n",
       "    <tr>\n",
       "      <th>83</th>\n",
       "      <td>2021-week_33</td>\n",
       "      <td>AD0008EXYP</td>\n",
       "      <td>MoJoe Brewing Company</td>\n",
       "      <td>GB</td>\n",
       "      <td>Yes</td>\n",
       "      <td>NaN</td>\n",
       "      <td>Yield</td>\n",
       "      <td>DNNY</td>\n",
       "      <td>2021</td>\n",
       "      <td>33</td>\n",
       "      <td>3</td>\n",
       "      <td>1</td>\n",
       "      <td>1</td>\n",
       "      <td>False</td>\n",
       "    </tr>\n",
       "    <tr>\n",
       "      <th>84</th>\n",
       "      <td>2021-week_33</td>\n",
       "      <td>AD0008EXYR</td>\n",
       "      <td>MoJoe Brewing Company</td>\n",
       "      <td>GB</td>\n",
       "      <td>Yes</td>\n",
       "      <td>NaN</td>\n",
       "      <td>Yield</td>\n",
       "      <td>DNNY</td>\n",
       "      <td>2021</td>\n",
       "      <td>33</td>\n",
       "      <td>3</td>\n",
       "      <td>1</td>\n",
       "      <td>1</td>\n",
       "      <td>False</td>\n",
       "    </tr>\n",
       "    <tr>\n",
       "      <th>...</th>\n",
       "      <td>...</td>\n",
       "      <td>...</td>\n",
       "      <td>...</td>\n",
       "      <td>...</td>\n",
       "      <td>...</td>\n",
       "      <td>...</td>\n",
       "      <td>...</td>\n",
       "      <td>...</td>\n",
       "      <td>...</td>\n",
       "      <td>...</td>\n",
       "      <td>...</td>\n",
       "      <td>...</td>\n",
       "      <td>...</td>\n",
       "      <td>...</td>\n",
       "    </tr>\n",
       "    <tr>\n",
       "      <th>363949</th>\n",
       "      <td>2022-week_52</td>\n",
       "      <td>AD09NL9TG</td>\n",
       "      <td>Search Million Culture</td>\n",
       "      <td>GB</td>\n",
       "      <td>Yes</td>\n",
       "      <td>NaN</td>\n",
       "      <td>Qality</td>\n",
       "      <td>RNNQ</td>\n",
       "      <td>2022</td>\n",
       "      <td>52</td>\n",
       "      <td>4</td>\n",
       "      <td>1</td>\n",
       "      <td>1</td>\n",
       "      <td>False</td>\n",
       "    </tr>\n",
       "    <tr>\n",
       "      <th>363980</th>\n",
       "      <td>2022-week_52</td>\n",
       "      <td>AD09R8N8PY</td>\n",
       "      <td>Search Million Culture</td>\n",
       "      <td>IN</td>\n",
       "      <td>Yes</td>\n",
       "      <td>NaN</td>\n",
       "      <td>Qality</td>\n",
       "      <td>UserPopQ</td>\n",
       "      <td>2022</td>\n",
       "      <td>52</td>\n",
       "      <td>4</td>\n",
       "      <td>1</td>\n",
       "      <td>1</td>\n",
       "      <td>False</td>\n",
       "    </tr>\n",
       "    <tr>\n",
       "      <th>363990</th>\n",
       "      <td>2022-week_52</td>\n",
       "      <td>AD09VG7VV6</td>\n",
       "      <td>Search Million Culture</td>\n",
       "      <td>DE</td>\n",
       "      <td>Yes</td>\n",
       "      <td>NaN</td>\n",
       "      <td>Qality</td>\n",
       "      <td>UserPopQ</td>\n",
       "      <td>2022</td>\n",
       "      <td>52</td>\n",
       "      <td>4</td>\n",
       "      <td>1</td>\n",
       "      <td>1</td>\n",
       "      <td>False</td>\n",
       "    </tr>\n",
       "    <tr>\n",
       "      <th>363991</th>\n",
       "      <td>2022-week_52</td>\n",
       "      <td>AD09VG8SN7</td>\n",
       "      <td>Search Million Culture</td>\n",
       "      <td>DE</td>\n",
       "      <td>No</td>\n",
       "      <td>True</td>\n",
       "      <td>Qality</td>\n",
       "      <td>UserPopQ</td>\n",
       "      <td>2022</td>\n",
       "      <td>52</td>\n",
       "      <td>4</td>\n",
       "      <td>0</td>\n",
       "      <td>1</td>\n",
       "      <td>True</td>\n",
       "    </tr>\n",
       "    <tr>\n",
       "      <th>363994</th>\n",
       "      <td>2022-week_52</td>\n",
       "      <td>AD09VMCG88</td>\n",
       "      <td>Search Million Culture</td>\n",
       "      <td>GB</td>\n",
       "      <td>No</td>\n",
       "      <td>False</td>\n",
       "      <td>Yield</td>\n",
       "      <td>RuleBasedY</td>\n",
       "      <td>2022</td>\n",
       "      <td>52</td>\n",
       "      <td>4</td>\n",
       "      <td>0</td>\n",
       "      <td>1</td>\n",
       "      <td>False</td>\n",
       "    </tr>\n",
       "  </tbody>\n",
       "</table>\n",
       "<p>37833 rows × 14 columns</p>\n",
       "</div>"
      ],
      "text/plain": [
       "             week_id       ad_id               requester region is_success  \\\n",
       "25      2021-week_33  AD0000AIRX  Search Million Culture     GB         No   \n",
       "36      2021-week_33  AD0000YTGG   MoJoe Brewing Company     JP         No   \n",
       "57      2021-week_33  AD0007OEES  Search Million Culture     DE        Yes   \n",
       "83      2021-week_33  AD0008EXYP   MoJoe Brewing Company     GB        Yes   \n",
       "84      2021-week_33  AD0008EXYR   MoJoe Brewing Company     GB        Yes   \n",
       "...              ...         ...                     ...    ...        ...   \n",
       "363949  2022-week_52   AD09NL9TG  Search Million Culture     GB        Yes   \n",
       "363980  2022-week_52  AD09R8N8PY  Search Million Culture     IN        Yes   \n",
       "363990  2022-week_52  AD09VG7VV6  Search Million Culture     DE        Yes   \n",
       "363991  2022-week_52  AD09VG8SN7  Search Million Culture     DE         No   \n",
       "363994  2022-week_52  AD09VMCG88  Search Million Culture     GB         No   \n",
       "\n",
       "       is_sever recommendation_type rec_provider  Year  Week  Quarter  \\\n",
       "25         True              Qality         XGBQ  2021    33        3   \n",
       "36         True               Yield     UserPopY  2021    33        3   \n",
       "57          NaN              Qality         DNNQ  2021    33        3   \n",
       "83          NaN               Yield         DNNY  2021    33        3   \n",
       "84          NaN               Yield         DNNY  2021    33        3   \n",
       "...         ...                 ...          ...   ...   ...      ...   \n",
       "363949      NaN              Qality         RNNQ  2022    52        4   \n",
       "363980      NaN              Qality     UserPopQ  2022    52        4   \n",
       "363990      NaN              Qality     UserPopQ  2022    52        4   \n",
       "363991     True              Qality     UserPopQ  2022    52        4   \n",
       "363994    False               Yield   RuleBasedY  2022    52        4   \n",
       "\n",
       "        Success  ad_count  is_sever_modified  \n",
       "25            0         1               True  \n",
       "36            0         1               True  \n",
       "57            1         1              False  \n",
       "83            1         1              False  \n",
       "84            1         1              False  \n",
       "...         ...       ...                ...  \n",
       "363949        1         1              False  \n",
       "363980        1         1              False  \n",
       "363990        1         1              False  \n",
       "363991        0         1               True  \n",
       "363994        0         1              False  \n",
       "\n",
       "[37833 rows x 14 columns]"
      ]
     },
     "execution_count": 40,
     "metadata": {},
     "output_type": "execute_result"
    }
   ],
   "source": [
    "ad_recs_annotated.query('requester.str.count(\" \") == 2 & ad_id.str.count(\"[a-zA-Z]\") == 6', engine='python')"
   ]
  },
  {
   "cell_type": "code",
   "execution_count": 41,
   "id": "4d015531-97fa-4d09-a765-c4d5e7e93d95",
   "metadata": {},
   "outputs": [
    {
     "data": {
      "text/html": [
       "<div>\n",
       "<style scoped>\n",
       "    .dataframe tbody tr th:only-of-type {\n",
       "        vertical-align: middle;\n",
       "    }\n",
       "\n",
       "    .dataframe tbody tr th {\n",
       "        vertical-align: top;\n",
       "    }\n",
       "\n",
       "    .dataframe thead th {\n",
       "        text-align: right;\n",
       "    }\n",
       "</style>\n",
       "<table border=\"1\" class=\"dataframe\">\n",
       "  <thead>\n",
       "    <tr style=\"text-align: right;\">\n",
       "      <th></th>\n",
       "      <th>week_id</th>\n",
       "      <th>ad_id</th>\n",
       "      <th>requester</th>\n",
       "      <th>region</th>\n",
       "      <th>is_success</th>\n",
       "      <th>is_sever</th>\n",
       "      <th>recommendation_type</th>\n",
       "      <th>rec_provider</th>\n",
       "      <th>Year</th>\n",
       "      <th>Week</th>\n",
       "      <th>Quarter</th>\n",
       "      <th>Success</th>\n",
       "      <th>ad_count</th>\n",
       "      <th>is_sever_modified</th>\n",
       "    </tr>\n",
       "  </thead>\n",
       "  <tbody>\n",
       "    <tr>\n",
       "      <th>25</th>\n",
       "      <td>2021-week_33</td>\n",
       "      <td>AD0000AIRX</td>\n",
       "      <td>Search Million Culture</td>\n",
       "      <td>GB</td>\n",
       "      <td>No</td>\n",
       "      <td>True</td>\n",
       "      <td>Qality</td>\n",
       "      <td>XGBQ</td>\n",
       "      <td>2021</td>\n",
       "      <td>33</td>\n",
       "      <td>3</td>\n",
       "      <td>0</td>\n",
       "      <td>1</td>\n",
       "      <td>True</td>\n",
       "    </tr>\n",
       "    <tr>\n",
       "      <th>36</th>\n",
       "      <td>2021-week_33</td>\n",
       "      <td>AD0000YTGG</td>\n",
       "      <td>MoJoe Brewing Company</td>\n",
       "      <td>JP</td>\n",
       "      <td>No</td>\n",
       "      <td>True</td>\n",
       "      <td>Yield</td>\n",
       "      <td>UserPopY</td>\n",
       "      <td>2021</td>\n",
       "      <td>33</td>\n",
       "      <td>3</td>\n",
       "      <td>0</td>\n",
       "      <td>1</td>\n",
       "      <td>True</td>\n",
       "    </tr>\n",
       "    <tr>\n",
       "      <th>57</th>\n",
       "      <td>2021-week_33</td>\n",
       "      <td>AD0007OEES</td>\n",
       "      <td>Search Million Culture</td>\n",
       "      <td>DE</td>\n",
       "      <td>Yes</td>\n",
       "      <td>NaN</td>\n",
       "      <td>Qality</td>\n",
       "      <td>DNNQ</td>\n",
       "      <td>2021</td>\n",
       "      <td>33</td>\n",
       "      <td>3</td>\n",
       "      <td>1</td>\n",
       "      <td>1</td>\n",
       "      <td>False</td>\n",
       "    </tr>\n",
       "    <tr>\n",
       "      <th>83</th>\n",
       "      <td>2021-week_33</td>\n",
       "      <td>AD0008EXYP</td>\n",
       "      <td>MoJoe Brewing Company</td>\n",
       "      <td>GB</td>\n",
       "      <td>Yes</td>\n",
       "      <td>NaN</td>\n",
       "      <td>Yield</td>\n",
       "      <td>DNNY</td>\n",
       "      <td>2021</td>\n",
       "      <td>33</td>\n",
       "      <td>3</td>\n",
       "      <td>1</td>\n",
       "      <td>1</td>\n",
       "      <td>False</td>\n",
       "    </tr>\n",
       "    <tr>\n",
       "      <th>84</th>\n",
       "      <td>2021-week_33</td>\n",
       "      <td>AD0008EXYR</td>\n",
       "      <td>MoJoe Brewing Company</td>\n",
       "      <td>GB</td>\n",
       "      <td>Yes</td>\n",
       "      <td>NaN</td>\n",
       "      <td>Yield</td>\n",
       "      <td>DNNY</td>\n",
       "      <td>2021</td>\n",
       "      <td>33</td>\n",
       "      <td>3</td>\n",
       "      <td>1</td>\n",
       "      <td>1</td>\n",
       "      <td>False</td>\n",
       "    </tr>\n",
       "    <tr>\n",
       "      <th>...</th>\n",
       "      <td>...</td>\n",
       "      <td>...</td>\n",
       "      <td>...</td>\n",
       "      <td>...</td>\n",
       "      <td>...</td>\n",
       "      <td>...</td>\n",
       "      <td>...</td>\n",
       "      <td>...</td>\n",
       "      <td>...</td>\n",
       "      <td>...</td>\n",
       "      <td>...</td>\n",
       "      <td>...</td>\n",
       "      <td>...</td>\n",
       "      <td>...</td>\n",
       "    </tr>\n",
       "    <tr>\n",
       "      <th>363949</th>\n",
       "      <td>2022-week_52</td>\n",
       "      <td>AD09NL9TG</td>\n",
       "      <td>Search Million Culture</td>\n",
       "      <td>GB</td>\n",
       "      <td>Yes</td>\n",
       "      <td>NaN</td>\n",
       "      <td>Qality</td>\n",
       "      <td>RNNQ</td>\n",
       "      <td>2022</td>\n",
       "      <td>52</td>\n",
       "      <td>4</td>\n",
       "      <td>1</td>\n",
       "      <td>1</td>\n",
       "      <td>False</td>\n",
       "    </tr>\n",
       "    <tr>\n",
       "      <th>363980</th>\n",
       "      <td>2022-week_52</td>\n",
       "      <td>AD09R8N8PY</td>\n",
       "      <td>Search Million Culture</td>\n",
       "      <td>IN</td>\n",
       "      <td>Yes</td>\n",
       "      <td>NaN</td>\n",
       "      <td>Qality</td>\n",
       "      <td>UserPopQ</td>\n",
       "      <td>2022</td>\n",
       "      <td>52</td>\n",
       "      <td>4</td>\n",
       "      <td>1</td>\n",
       "      <td>1</td>\n",
       "      <td>False</td>\n",
       "    </tr>\n",
       "    <tr>\n",
       "      <th>363990</th>\n",
       "      <td>2022-week_52</td>\n",
       "      <td>AD09VG7VV6</td>\n",
       "      <td>Search Million Culture</td>\n",
       "      <td>DE</td>\n",
       "      <td>Yes</td>\n",
       "      <td>NaN</td>\n",
       "      <td>Qality</td>\n",
       "      <td>UserPopQ</td>\n",
       "      <td>2022</td>\n",
       "      <td>52</td>\n",
       "      <td>4</td>\n",
       "      <td>1</td>\n",
       "      <td>1</td>\n",
       "      <td>False</td>\n",
       "    </tr>\n",
       "    <tr>\n",
       "      <th>363991</th>\n",
       "      <td>2022-week_52</td>\n",
       "      <td>AD09VG8SN7</td>\n",
       "      <td>Search Million Culture</td>\n",
       "      <td>DE</td>\n",
       "      <td>No</td>\n",
       "      <td>True</td>\n",
       "      <td>Qality</td>\n",
       "      <td>UserPopQ</td>\n",
       "      <td>2022</td>\n",
       "      <td>52</td>\n",
       "      <td>4</td>\n",
       "      <td>0</td>\n",
       "      <td>1</td>\n",
       "      <td>True</td>\n",
       "    </tr>\n",
       "    <tr>\n",
       "      <th>363994</th>\n",
       "      <td>2022-week_52</td>\n",
       "      <td>AD09VMCG88</td>\n",
       "      <td>Search Million Culture</td>\n",
       "      <td>GB</td>\n",
       "      <td>No</td>\n",
       "      <td>False</td>\n",
       "      <td>Yield</td>\n",
       "      <td>RuleBasedY</td>\n",
       "      <td>2022</td>\n",
       "      <td>52</td>\n",
       "      <td>4</td>\n",
       "      <td>0</td>\n",
       "      <td>1</td>\n",
       "      <td>False</td>\n",
       "    </tr>\n",
       "  </tbody>\n",
       "</table>\n",
       "<p>37833 rows × 14 columns</p>\n",
       "</div>"
      ],
      "text/plain": [
       "             week_id       ad_id               requester region is_success  \\\n",
       "25      2021-week_33  AD0000AIRX  Search Million Culture     GB         No   \n",
       "36      2021-week_33  AD0000YTGG   MoJoe Brewing Company     JP         No   \n",
       "57      2021-week_33  AD0007OEES  Search Million Culture     DE        Yes   \n",
       "83      2021-week_33  AD0008EXYP   MoJoe Brewing Company     GB        Yes   \n",
       "84      2021-week_33  AD0008EXYR   MoJoe Brewing Company     GB        Yes   \n",
       "...              ...         ...                     ...    ...        ...   \n",
       "363949  2022-week_52   AD09NL9TG  Search Million Culture     GB        Yes   \n",
       "363980  2022-week_52  AD09R8N8PY  Search Million Culture     IN        Yes   \n",
       "363990  2022-week_52  AD09VG7VV6  Search Million Culture     DE        Yes   \n",
       "363991  2022-week_52  AD09VG8SN7  Search Million Culture     DE         No   \n",
       "363994  2022-week_52  AD09VMCG88  Search Million Culture     GB         No   \n",
       "\n",
       "       is_sever recommendation_type rec_provider  Year  Week  Quarter  \\\n",
       "25         True              Qality         XGBQ  2021    33        3   \n",
       "36         True               Yield     UserPopY  2021    33        3   \n",
       "57          NaN              Qality         DNNQ  2021    33        3   \n",
       "83          NaN               Yield         DNNY  2021    33        3   \n",
       "84          NaN               Yield         DNNY  2021    33        3   \n",
       "...         ...                 ...          ...   ...   ...      ...   \n",
       "363949      NaN              Qality         RNNQ  2022    52        4   \n",
       "363980      NaN              Qality     UserPopQ  2022    52        4   \n",
       "363990      NaN              Qality     UserPopQ  2022    52        4   \n",
       "363991     True              Qality     UserPopQ  2022    52        4   \n",
       "363994    False               Yield   RuleBasedY  2022    52        4   \n",
       "\n",
       "        Success  ad_count  is_sever_modified  \n",
       "25            0         1               True  \n",
       "36            0         1               True  \n",
       "57            1         1              False  \n",
       "83            1         1              False  \n",
       "84            1         1              False  \n",
       "...         ...       ...                ...  \n",
       "363949        1         1              False  \n",
       "363980        1         1              False  \n",
       "363990        1         1              False  \n",
       "363991        0         1               True  \n",
       "363994        0         1              False  \n",
       "\n",
       "[37833 rows x 14 columns]"
      ]
     },
     "execution_count": 41,
     "metadata": {},
     "output_type": "execute_result"
    }
   ],
   "source": [
    "ad_recs_annotated.loc[(ad_recs_annotated.requester.str.count(\" \") == 2) & (ad_recs_annotated.ad_id.apply(lambda s: sum(c.isalpha() for c in s)) == 6)]"
   ]
  },
  {
   "cell_type": "markdown",
   "id": "fa549f62-5c28-447e-9277-3c74fccbf047",
   "metadata": {},
   "source": [
    "13. Select the data in which the requester is a 3 word company, and the multiplication of all the numbers in the ad_id is bigger than 30"
   ]
  },
  {
   "cell_type": "code",
   "execution_count": 42,
   "id": "7c1756f4-e738-4264-af64-73e0d9ab0d8c",
   "metadata": {},
   "outputs": [],
   "source": [
    "def my_func(s):\n",
    "    result = 1\n",
    "    for c in s:\n",
    "        if c.isdigit():\n",
    "            result = result * int(c)\n",
    "    return result"
   ]
  },
  {
   "cell_type": "code",
   "execution_count": 43,
   "id": "fe2aadeb-296b-4596-86af-82c9c5f81a7b",
   "metadata": {},
   "outputs": [
    {
     "data": {
      "text/plain": [
       "(945, 14)"
      ]
     },
     "execution_count": 43,
     "metadata": {},
     "output_type": "execute_result"
    }
   ],
   "source": [
    "ad_recs_annotated.query('requester.str.count(\" \") == 2  & ad_id.apply(@my_func) > 30', engine='python').shape"
   ]
  },
  {
   "cell_type": "code",
   "execution_count": 44,
   "id": "63a6d733-7a76-4361-9dff-ec39a2be09f4",
   "metadata": {},
   "outputs": [
    {
     "data": {
      "text/plain": [
       "(945, 14)"
      ]
     },
     "execution_count": 44,
     "metadata": {},
     "output_type": "execute_result"
    }
   ],
   "source": [
    "ad_recs_annotated.loc[(ad_recs_annotated.requester.str.count(\" \") == 2) &\n",
    "                      (ad_recs_annotated.ad_id.apply(my_func) > 30)].shape"
   ]
  },
  {
   "cell_type": "markdown",
   "id": "11d8b056-c777-490a-b26d-949ee8755561",
   "metadata": {},
   "source": [
    "### Analysis"
   ]
  },
  {
   "cell_type": "markdown",
   "id": "ccae8707-2c86-424a-bd55-73496219adbe",
   "metadata": {},
   "source": [
    "1. How many weeks available in the data? Are there any missing weeks? \n",
    "1. How many regions available in the data? Are there any missing weeks per region? \n",
    "1. How many ads are being sent to annotation in each region per week?\n",
    "1. How many None values are there in is_sever column? \n",
    "1. Are ads being sent more than one time in a given week? what is the ad_id that was sent the most in a given week? (e.g. ad X where sent 50 times in week Y)\n",
    "1. Are there ads that are being sent in more than one week?\n",
    "   1. Which is the ad that was sent in most amount of weeks (e.g. ad X where sent in Y different weeks)\n",
    "   2. What are the weeks that the ad from above was sent in? \n",
    "   3. Is there an Ad that was succsefull in one week, but not succesfful in a different week? Show one.\n",
    "1. When is_sever is None, what is the number of successful requests? What is the number of non-successful requests? What do you learn from it about the reason for Nones in the first place? \n",
    "1. Per each region, What is the Quality/Yield traffic proportion WoW? \n",
    "1. How many different reqeusters are there? \n",
    "1. Which are the top 5 requesters per region? \n",
    "1. Which are the different rec_proivders?\n",
    "1. Are there different rec providers per region? \n",
    "1. Are there different rec providers per rec type?\n",
    "1. What are the notation rules distinguishing between quality vs yielding providers?\n",
    "1. Which is the most successful region of operation? \n",
    "1. Which is the most successful rec provider per each region? \n",
    "1. Present a table with a success rate, sever defects rate and CI (for each metric) per region\n",
    "1. Present a table with a success rate, sever defects rate and CI (for each metric) per rec provider\n",
    "1. Present a table with a success rate, sever defects rate and CI (for each metric) per region and rec provider combinations\n",
    "1. Present a table with a success rate, sever defects rate and CI (for each metric) per rec type (Q/Y)\n",
    "1. Present a table with a success rate, sever defects rate and CI (for each metric) per rec type and region\n",
    "1. Present WoW table/graph with success rate and CI (see image below) per region\n",
    "1. Present WoW table/graph with success rate and CI (see image below) per region and rec type\n",
    "1. Present WoW table/graph with success rate and CI (see image below) per region and rec provider\n",
    "1. Which are the requester to which we succeed the most?\n",
    "1. Which are the requester to which we produce the most critical defects?\n",
    "1. What is the overall success rate trend over time? \n",
    "1. What is the overall sever defect rate trend over time? \n",
    "1. Preset a WoW graph showing the number of requests per customer in each region (hint: [use stacked bars](https://plotly.com/python/bar-charts/)), from it:\n",
    "  1. Identify major traffic shape changes (addition/removal) of major clients\n",
    "1. Preset a WoW graph showing the **requests proportion** per customer in each region (hint: [use stacked bars](https://plotly.com/python/bar-charts/)), from it:\n",
    "  1. Identify major traffic shape changes (addition/removal) of major clients\n"
   ]
  },
  {
   "cell_type": "markdown",
   "id": "ccd49645-542e-4dbf-b0c4-b197c974a528",
   "metadata": {},
   "source": [
    "Analysis Bonus questions:\n",
    "1. Compute the per region success rate and CI in trailing weeks, Say, 4 weeks instead of 1 week - to allow for smoother estimations and smaller CIs"
   ]
  },
  {
   "cell_type": "markdown",
   "id": "0c80b53c-a77a-48d1-9d83-918cb97c3963",
   "metadata": {},
   "source": [
    "1. How many weeks available in the data? Are there any missing weeks? "
   ]
  },
  {
   "cell_type": "code",
   "execution_count": 45,
   "id": "baef5347-fba3-4410-8911-362a92bda92c",
   "metadata": {},
   "outputs": [
    {
     "data": {
      "text/plain": [
       "Week  Year\n",
       "1     2022    14157\n",
       "2     2022    14216\n",
       "3     2022    14103\n",
       "4     2022    14087\n",
       "5     2022    14072\n",
       "6     2022    13994\n",
       "33    2021    14037\n",
       "34    2021    14110\n",
       "35    2021    14079\n",
       "36    2021    14096\n",
       "37    2021    14118\n",
       "38    2021    14040\n",
       "39    2021    13969\n",
       "40    2021    13643\n",
       "41    2021    13810\n",
       "42    2021    13986\n",
       "43    2021    13920\n",
       "44    2021    14016\n",
       "45    2021    14179\n",
       "46    2021    13739\n",
       "47    2021    13362\n",
       "48    2021    14026\n",
       "49    2021    14059\n",
       "50    2021    14113\n",
       "51    2021    12528\n",
       "52    2022    15685\n",
       "Name: Week, dtype: int64"
      ]
     },
     "execution_count": 45,
     "metadata": {},
     "output_type": "execute_result"
    }
   ],
   "source": [
    "ad_recs_annotated.groupby(['Week', 'Year']).Week.count()"
   ]
  },
  {
   "cell_type": "markdown",
   "id": "8f376066-b434-4d9b-a3d1-d858eef04b1c",
   "metadata": {},
   "source": [
    "There are 26 weeks in total (from week 33 in 2021 to week 6 of 2022). The week 52/2022 seems a mistake and should be infact 52/2021."
   ]
  },
  {
   "cell_type": "markdown",
   "id": "27018dc7-94c1-4716-8a5b-27b7934d8cbd",
   "metadata": {},
   "source": [
    "2. How many regions available in the data? Are there any missing weeks per region?"
   ]
  },
  {
   "cell_type": "code",
   "execution_count": 46,
   "id": "9998f86e-0710-4b8a-a7a7-8c41ac703b80",
   "metadata": {},
   "outputs": [
    {
     "data": {
      "text/plain": [
       "region\n",
       "DE    26\n",
       "GB    26\n",
       "IN    26\n",
       "JP    25\n",
       "US    26\n",
       "Name: region, dtype: int64"
      ]
     },
     "execution_count": 46,
     "metadata": {},
     "output_type": "execute_result"
    }
   ],
   "source": [
    "ad_recs_annotated.groupby(['region', 'Week', 'Year']).count().reset_index().groupby('region').region.count()"
   ]
  },
  {
   "cell_type": "markdown",
   "id": "0f88a347-2440-47a0-8ebb-84449071e004",
   "metadata": {},
   "source": [
    "There are 5 regions (DE, GB, IN, JP, US). There are 26 weeks for each region except JP which has 25 weeks."
   ]
  },
  {
   "cell_type": "markdown",
   "id": "21c087c1-44c6-452c-855f-a0bf39a642ac",
   "metadata": {},
   "source": [
    "3. How many ads are being sent to annotation in each region per week?"
   ]
  },
  {
   "cell_type": "code",
   "execution_count": 47,
   "id": "7bdb9ee9-bbc7-43cf-ae9b-c382e08023fa",
   "metadata": {},
   "outputs": [
    {
     "data": {
      "text/html": [
       "<div>\n",
       "<style scoped>\n",
       "    .dataframe tbody tr th:only-of-type {\n",
       "        vertical-align: middle;\n",
       "    }\n",
       "\n",
       "    .dataframe tbody tr th {\n",
       "        vertical-align: top;\n",
       "    }\n",
       "\n",
       "    .dataframe thead th {\n",
       "        text-align: right;\n",
       "    }\n",
       "</style>\n",
       "<table border=\"1\" class=\"dataframe\">\n",
       "  <thead>\n",
       "    <tr style=\"text-align: right;\">\n",
       "      <th></th>\n",
       "      <th>region</th>\n",
       "      <th>Week</th>\n",
       "      <th>Year</th>\n",
       "      <th>ad_count</th>\n",
       "    </tr>\n",
       "  </thead>\n",
       "  <tbody>\n",
       "    <tr>\n",
       "      <th>0</th>\n",
       "      <td>DE</td>\n",
       "      <td>1</td>\n",
       "      <td>2022</td>\n",
       "      <td>2374</td>\n",
       "    </tr>\n",
       "    <tr>\n",
       "      <th>1</th>\n",
       "      <td>DE</td>\n",
       "      <td>2</td>\n",
       "      <td>2022</td>\n",
       "      <td>2375</td>\n",
       "    </tr>\n",
       "    <tr>\n",
       "      <th>2</th>\n",
       "      <td>DE</td>\n",
       "      <td>3</td>\n",
       "      <td>2022</td>\n",
       "      <td>2357</td>\n",
       "    </tr>\n",
       "    <tr>\n",
       "      <th>3</th>\n",
       "      <td>DE</td>\n",
       "      <td>4</td>\n",
       "      <td>2022</td>\n",
       "      <td>2338</td>\n",
       "    </tr>\n",
       "    <tr>\n",
       "      <th>4</th>\n",
       "      <td>DE</td>\n",
       "      <td>5</td>\n",
       "      <td>2022</td>\n",
       "      <td>2374</td>\n",
       "    </tr>\n",
       "    <tr>\n",
       "      <th>...</th>\n",
       "      <td>...</td>\n",
       "      <td>...</td>\n",
       "      <td>...</td>\n",
       "      <td>...</td>\n",
       "    </tr>\n",
       "    <tr>\n",
       "      <th>124</th>\n",
       "      <td>US</td>\n",
       "      <td>48</td>\n",
       "      <td>2021</td>\n",
       "      <td>3940</td>\n",
       "    </tr>\n",
       "    <tr>\n",
       "      <th>125</th>\n",
       "      <td>US</td>\n",
       "      <td>49</td>\n",
       "      <td>2021</td>\n",
       "      <td>3886</td>\n",
       "    </tr>\n",
       "    <tr>\n",
       "      <th>126</th>\n",
       "      <td>US</td>\n",
       "      <td>50</td>\n",
       "      <td>2021</td>\n",
       "      <td>3869</td>\n",
       "    </tr>\n",
       "    <tr>\n",
       "      <th>127</th>\n",
       "      <td>US</td>\n",
       "      <td>51</td>\n",
       "      <td>2021</td>\n",
       "      <td>3933</td>\n",
       "    </tr>\n",
       "    <tr>\n",
       "      <th>128</th>\n",
       "      <td>US</td>\n",
       "      <td>52</td>\n",
       "      <td>2022</td>\n",
       "      <td>3936</td>\n",
       "    </tr>\n",
       "  </tbody>\n",
       "</table>\n",
       "<p>129 rows × 4 columns</p>\n",
       "</div>"
      ],
      "text/plain": [
       "    region  Week  Year  ad_count\n",
       "0       DE     1  2022      2374\n",
       "1       DE     2  2022      2375\n",
       "2       DE     3  2022      2357\n",
       "3       DE     4  2022      2338\n",
       "4       DE     5  2022      2374\n",
       "..     ...   ...   ...       ...\n",
       "124     US    48  2021      3940\n",
       "125     US    49  2021      3886\n",
       "126     US    50  2021      3869\n",
       "127     US    51  2021      3933\n",
       "128     US    52  2022      3936\n",
       "\n",
       "[129 rows x 4 columns]"
      ]
     },
     "execution_count": 47,
     "metadata": {},
     "output_type": "execute_result"
    }
   ],
   "source": [
    "ad_recs_annotated.groupby(['region', 'Week', 'Year']).ad_count.count().reset_index()"
   ]
  },
  {
   "cell_type": "markdown",
   "id": "590215e4-9200-4719-a50e-0e474d70facc",
   "metadata": {},
   "source": [
    "4. How many None values are there in is_sever column?"
   ]
  },
  {
   "cell_type": "code",
   "execution_count": 48,
   "id": "88adfa78-3080-4d59-b0be-903ff943eeba",
   "metadata": {},
   "outputs": [
    {
     "data": {
      "text/plain": [
       "296238"
      ]
     },
     "execution_count": 48,
     "metadata": {},
     "output_type": "execute_result"
    }
   ],
   "source": [
    "ad_recs_annotated.is_sever.isna().sum()"
   ]
  },
  {
   "cell_type": "markdown",
   "id": "12785b8c-3e3a-4656-b617-74807dfcd069",
   "metadata": {},
   "source": [
    "5. Are ads being sent more than one time in a given week? what is the ad_id that was sent the most in a given week? (e.g. ad X where sent 50 times in week Y)"
   ]
  },
  {
   "cell_type": "code",
   "execution_count": 49,
   "id": "557b3a85-d1b7-4963-ac67-07f50a808fee",
   "metadata": {},
   "outputs": [
    {
     "name": "stdout",
     "output_type": "stream",
     "text": [
      "Ads being sent more than one time in a given week:\n"
     ]
    },
    {
     "data": {
      "text/html": [
       "<div>\n",
       "<style scoped>\n",
       "    .dataframe tbody tr th:only-of-type {\n",
       "        vertical-align: middle;\n",
       "    }\n",
       "\n",
       "    .dataframe tbody tr th {\n",
       "        vertical-align: top;\n",
       "    }\n",
       "\n",
       "    .dataframe thead th {\n",
       "        text-align: right;\n",
       "    }\n",
       "</style>\n",
       "<table border=\"1\" class=\"dataframe\">\n",
       "  <thead>\n",
       "    <tr style=\"text-align: right;\">\n",
       "      <th></th>\n",
       "      <th>Week</th>\n",
       "      <th>Year</th>\n",
       "      <th>ad_id</th>\n",
       "      <th>ad_count</th>\n",
       "    </tr>\n",
       "  </thead>\n",
       "  <tbody>\n",
       "    <tr>\n",
       "      <th>0</th>\n",
       "      <td>1</td>\n",
       "      <td>2022</td>\n",
       "      <td>AD000068FZ</td>\n",
       "      <td>2</td>\n",
       "    </tr>\n",
       "    <tr>\n",
       "      <th>29</th>\n",
       "      <td>1</td>\n",
       "      <td>2022</td>\n",
       "      <td>AD0000C78C</td>\n",
       "      <td>2</td>\n",
       "    </tr>\n",
       "    <tr>\n",
       "      <th>37</th>\n",
       "      <td>1</td>\n",
       "      <td>2022</td>\n",
       "      <td>AD000688KC</td>\n",
       "      <td>2</td>\n",
       "    </tr>\n",
       "    <tr>\n",
       "      <th>53</th>\n",
       "      <td>1</td>\n",
       "      <td>2022</td>\n",
       "      <td>AD00087EGI</td>\n",
       "      <td>2</td>\n",
       "    </tr>\n",
       "    <tr>\n",
       "      <th>58</th>\n",
       "      <td>1</td>\n",
       "      <td>2022</td>\n",
       "      <td>AD000888DY</td>\n",
       "      <td>2</td>\n",
       "    </tr>\n",
       "    <tr>\n",
       "      <th>...</th>\n",
       "      <td>...</td>\n",
       "      <td>...</td>\n",
       "      <td>...</td>\n",
       "      <td>...</td>\n",
       "    </tr>\n",
       "    <tr>\n",
       "      <th>358700</th>\n",
       "      <td>52</td>\n",
       "      <td>2022</td>\n",
       "      <td>AD88868888</td>\n",
       "      <td>2</td>\n",
       "    </tr>\n",
       "    <tr>\n",
       "      <th>358708</th>\n",
       "      <td>52</td>\n",
       "      <td>2022</td>\n",
       "      <td>AD88886888</td>\n",
       "      <td>2</td>\n",
       "    </tr>\n",
       "    <tr>\n",
       "      <th>358719</th>\n",
       "      <td>52</td>\n",
       "      <td>2022</td>\n",
       "      <td>AD88888877</td>\n",
       "      <td>2</td>\n",
       "    </tr>\n",
       "    <tr>\n",
       "      <th>358721</th>\n",
       "      <td>52</td>\n",
       "      <td>2022</td>\n",
       "      <td>AD88888888</td>\n",
       "      <td>3</td>\n",
       "    </tr>\n",
       "    <tr>\n",
       "      <th>358746</th>\n",
       "      <td>52</td>\n",
       "      <td>2022</td>\n",
       "      <td>AD89888888</td>\n",
       "      <td>2</td>\n",
       "    </tr>\n",
       "  </tbody>\n",
       "</table>\n",
       "<p>9176 rows × 4 columns</p>\n",
       "</div>"
      ],
      "text/plain": [
       "        Week  Year       ad_id  ad_count\n",
       "0          1  2022  AD000068FZ         2\n",
       "29         1  2022  AD0000C78C         2\n",
       "37         1  2022  AD000688KC         2\n",
       "53         1  2022  AD00087EGI         2\n",
       "58         1  2022  AD000888DY         2\n",
       "...      ...   ...         ...       ...\n",
       "358700    52  2022  AD88868888         2\n",
       "358708    52  2022  AD88886888         2\n",
       "358719    52  2022  AD88888877         2\n",
       "358721    52  2022  AD88888888         3\n",
       "358746    52  2022  AD89888888         2\n",
       "\n",
       "[9176 rows x 4 columns]"
      ]
     },
     "execution_count": 49,
     "metadata": {},
     "output_type": "execute_result"
    }
   ],
   "source": [
    "print('Ads being sent more than one time in a given week:')\n",
    "df = pd.DataFrame(ad_recs_annotated.groupby(['Week', 'Year', 'ad_id']).ad_count.sum().reset_index())\n",
    "df.loc[df.ad_count > 1]"
   ]
  },
  {
   "cell_type": "code",
   "execution_count": 50,
   "id": "f4784db0-1ead-4ba2-b5e6-0489e5c819b9",
   "metadata": {},
   "outputs": [
    {
     "name": "stdout",
     "output_type": "stream",
     "text": [
      "The ad that was sent the most in a given week:\n"
     ]
    },
    {
     "data": {
      "text/html": [
       "<div>\n",
       "<style scoped>\n",
       "    .dataframe tbody tr th:only-of-type {\n",
       "        vertical-align: middle;\n",
       "    }\n",
       "\n",
       "    .dataframe tbody tr th {\n",
       "        vertical-align: top;\n",
       "    }\n",
       "\n",
       "    .dataframe thead th {\n",
       "        text-align: right;\n",
       "    }\n",
       "</style>\n",
       "<table border=\"1\" class=\"dataframe\">\n",
       "  <thead>\n",
       "    <tr style=\"text-align: right;\">\n",
       "      <th></th>\n",
       "      <th>Week</th>\n",
       "      <th>Year</th>\n",
       "      <th>ad_id</th>\n",
       "      <th>ad_count</th>\n",
       "    </tr>\n",
       "  </thead>\n",
       "  <tbody>\n",
       "    <tr>\n",
       "      <th>13468</th>\n",
       "      <td>1</td>\n",
       "      <td>2022</td>\n",
       "      <td>AD09H7HKVL</td>\n",
       "      <td>10</td>\n",
       "    </tr>\n",
       "    <tr>\n",
       "      <th>26258</th>\n",
       "      <td>2</td>\n",
       "      <td>2022</td>\n",
       "      <td>AD0986H87S</td>\n",
       "      <td>26</td>\n",
       "    </tr>\n",
       "    <tr>\n",
       "      <th>33564</th>\n",
       "      <td>3</td>\n",
       "      <td>2022</td>\n",
       "      <td>AD07PFFMP9</td>\n",
       "      <td>15</td>\n",
       "    </tr>\n",
       "    <tr>\n",
       "      <th>55423</th>\n",
       "      <td>4</td>\n",
       "      <td>2022</td>\n",
       "      <td>AD09KZ6TNY</td>\n",
       "      <td>11</td>\n",
       "    </tr>\n",
       "    <tr>\n",
       "      <th>65956</th>\n",
       "      <td>5</td>\n",
       "      <td>2022</td>\n",
       "      <td>AD08LRDT7P</td>\n",
       "      <td>17</td>\n",
       "    </tr>\n",
       "    <tr>\n",
       "      <th>83125</th>\n",
       "      <td>6</td>\n",
       "      <td>2022</td>\n",
       "      <td>AD09KZ6TNY</td>\n",
       "      <td>18</td>\n",
       "    </tr>\n",
       "    <tr>\n",
       "      <th>88402</th>\n",
       "      <td>33</td>\n",
       "      <td>2021</td>\n",
       "      <td>AD07FM8DDG</td>\n",
       "      <td>8</td>\n",
       "    </tr>\n",
       "    <tr>\n",
       "      <th>101415</th>\n",
       "      <td>34</td>\n",
       "      <td>2021</td>\n",
       "      <td>AD079Q9D7</td>\n",
       "      <td>6</td>\n",
       "    </tr>\n",
       "    <tr>\n",
       "      <th>117870</th>\n",
       "      <td>35</td>\n",
       "      <td>2021</td>\n",
       "      <td>AD07TTH8TM</td>\n",
       "      <td>7</td>\n",
       "    </tr>\n",
       "    <tr>\n",
       "      <th>133387</th>\n",
       "      <td>36</td>\n",
       "      <td>2021</td>\n",
       "      <td>AD088J88G6</td>\n",
       "      <td>15</td>\n",
       "    </tr>\n",
       "    <tr>\n",
       "      <th>140162</th>\n",
       "      <td>37</td>\n",
       "      <td>2021</td>\n",
       "      <td>AD008MZV8O</td>\n",
       "      <td>8</td>\n",
       "    </tr>\n",
       "    <tr>\n",
       "      <th>160898</th>\n",
       "      <td>38</td>\n",
       "      <td>2021</td>\n",
       "      <td>AD088J88G6</td>\n",
       "      <td>10</td>\n",
       "    </tr>\n",
       "    <tr>\n",
       "      <th>167620</th>\n",
       "      <td>39</td>\n",
       "      <td>2021</td>\n",
       "      <td>AD008HD0WE</td>\n",
       "      <td>23</td>\n",
       "    </tr>\n",
       "    <tr>\n",
       "      <th>192748</th>\n",
       "      <td>40</td>\n",
       "      <td>2021</td>\n",
       "      <td>AD098SWYF6</td>\n",
       "      <td>81</td>\n",
       "    </tr>\n",
       "    <tr>\n",
       "      <th>206149</th>\n",
       "      <td>41</td>\n",
       "      <td>2021</td>\n",
       "      <td>AD098SWYF6</td>\n",
       "      <td>51</td>\n",
       "    </tr>\n",
       "    <tr>\n",
       "      <th>208024</th>\n",
       "      <td>42</td>\n",
       "      <td>2021</td>\n",
       "      <td>AD008IR8RJ</td>\n",
       "      <td>38</td>\n",
       "    </tr>\n",
       "    <tr>\n",
       "      <th>228234</th>\n",
       "      <td>43</td>\n",
       "      <td>2021</td>\n",
       "      <td>AD087J8WAN</td>\n",
       "      <td>33</td>\n",
       "    </tr>\n",
       "    <tr>\n",
       "      <th>246450</th>\n",
       "      <td>44</td>\n",
       "      <td>2021</td>\n",
       "      <td>AD08XJCMGL</td>\n",
       "      <td>16</td>\n",
       "    </tr>\n",
       "    <tr>\n",
       "      <th>258195</th>\n",
       "      <td>45</td>\n",
       "      <td>2021</td>\n",
       "      <td>AD08FJSGY8</td>\n",
       "      <td>27</td>\n",
       "    </tr>\n",
       "    <tr>\n",
       "      <th>271083</th>\n",
       "      <td>46</td>\n",
       "      <td>2021</td>\n",
       "      <td>AD08C8RR8J</td>\n",
       "      <td>29</td>\n",
       "    </tr>\n",
       "    <tr>\n",
       "      <th>284284</th>\n",
       "      <td>47</td>\n",
       "      <td>2021</td>\n",
       "      <td>AD08C8RR8J</td>\n",
       "      <td>70</td>\n",
       "    </tr>\n",
       "    <tr>\n",
       "      <th>302315</th>\n",
       "      <td>48</td>\n",
       "      <td>2021</td>\n",
       "      <td>AD09CH6RYY</td>\n",
       "      <td>18</td>\n",
       "    </tr>\n",
       "    <tr>\n",
       "      <th>312484</th>\n",
       "      <td>49</td>\n",
       "      <td>2021</td>\n",
       "      <td>AD08FJSGY8</td>\n",
       "      <td>14</td>\n",
       "    </tr>\n",
       "    <tr>\n",
       "      <th>329250</th>\n",
       "      <td>50</td>\n",
       "      <td>2021</td>\n",
       "      <td>AD0986H87S</td>\n",
       "      <td>11</td>\n",
       "    </tr>\n",
       "    <tr>\n",
       "      <th>341448</th>\n",
       "      <td>51</td>\n",
       "      <td>2021</td>\n",
       "      <td>AD08ZMTTQ7</td>\n",
       "      <td>21</td>\n",
       "    </tr>\n",
       "    <tr>\n",
       "      <th>349702</th>\n",
       "      <td>52</td>\n",
       "      <td>2022</td>\n",
       "      <td>AD07PFFMP9</td>\n",
       "      <td>16</td>\n",
       "    </tr>\n",
       "  </tbody>\n",
       "</table>\n",
       "</div>"
      ],
      "text/plain": [
       "        Week  Year       ad_id  ad_count\n",
       "13468      1  2022  AD09H7HKVL        10\n",
       "26258      2  2022  AD0986H87S        26\n",
       "33564      3  2022  AD07PFFMP9        15\n",
       "55423      4  2022  AD09KZ6TNY        11\n",
       "65956      5  2022  AD08LRDT7P        17\n",
       "83125      6  2022  AD09KZ6TNY        18\n",
       "88402     33  2021  AD07FM8DDG         8\n",
       "101415    34  2021   AD079Q9D7         6\n",
       "117870    35  2021  AD07TTH8TM         7\n",
       "133387    36  2021  AD088J88G6        15\n",
       "140162    37  2021  AD008MZV8O         8\n",
       "160898    38  2021  AD088J88G6        10\n",
       "167620    39  2021  AD008HD0WE        23\n",
       "192748    40  2021  AD098SWYF6        81\n",
       "206149    41  2021  AD098SWYF6        51\n",
       "208024    42  2021  AD008IR8RJ        38\n",
       "228234    43  2021  AD087J8WAN        33\n",
       "246450    44  2021  AD08XJCMGL        16\n",
       "258195    45  2021  AD08FJSGY8        27\n",
       "271083    46  2021  AD08C8RR8J        29\n",
       "284284    47  2021  AD08C8RR8J        70\n",
       "302315    48  2021  AD09CH6RYY        18\n",
       "312484    49  2021  AD08FJSGY8        14\n",
       "329250    50  2021  AD0986H87S        11\n",
       "341448    51  2021  AD08ZMTTQ7        21\n",
       "349702    52  2022  AD07PFFMP9        16"
      ]
     },
     "execution_count": 50,
     "metadata": {},
     "output_type": "execute_result"
    }
   ],
   "source": [
    "print('The ad that was sent the most in a given week:')\n",
    "df = ad_recs_annotated.groupby(['Week', 'Year', 'ad_id']).ad_count.sum()\n",
    "df = df.reset_index()\n",
    "df.iloc[df.groupby(['Week','Year']).ad_count.idxmax()]\n",
    "#ad_recs_annotated.iloc[ad_recs_annotated.groupby(['Week', 'Year']).ad_count.idxmax()]"
   ]
  },
  {
   "cell_type": "markdown",
   "id": "4714b2d8-6dcd-4c9b-a9f2-0fdb11517d23",
   "metadata": {},
   "source": [
    "6. Are there ads that are being sent in more than one week?"
   ]
  },
  {
   "cell_type": "code",
   "execution_count": 51,
   "id": "b0a33ca2-1921-4908-8cab-94e78785d414",
   "metadata": {},
   "outputs": [
    {
     "name": "stdout",
     "output_type": "stream",
     "text": [
      "Yes, there are 32069 ads that are being sent in more than one week:\n"
     ]
    },
    {
     "data": {
      "text/html": [
       "<div>\n",
       "<style scoped>\n",
       "    .dataframe tbody tr th:only-of-type {\n",
       "        vertical-align: middle;\n",
       "    }\n",
       "\n",
       "    .dataframe tbody tr th {\n",
       "        vertical-align: top;\n",
       "    }\n",
       "\n",
       "    .dataframe thead th {\n",
       "        text-align: right;\n",
       "    }\n",
       "</style>\n",
       "<table border=\"1\" class=\"dataframe\">\n",
       "  <thead>\n",
       "    <tr style=\"text-align: right;\">\n",
       "      <th></th>\n",
       "      <th>ad_id</th>\n",
       "      <th>week_id</th>\n",
       "    </tr>\n",
       "  </thead>\n",
       "  <tbody>\n",
       "    <tr>\n",
       "      <th>3</th>\n",
       "      <td>AD00000888</td>\n",
       "      <td>2</td>\n",
       "    </tr>\n",
       "    <tr>\n",
       "      <th>12</th>\n",
       "      <td>AD00000DMF</td>\n",
       "      <td>2</td>\n",
       "    </tr>\n",
       "    <tr>\n",
       "      <th>15</th>\n",
       "      <td>AD00000ISC</td>\n",
       "      <td>2</td>\n",
       "    </tr>\n",
       "    <tr>\n",
       "      <th>17</th>\n",
       "      <td>AD00000IV8</td>\n",
       "      <td>2</td>\n",
       "    </tr>\n",
       "    <tr>\n",
       "      <th>21</th>\n",
       "      <td>AD00000IZK</td>\n",
       "      <td>2</td>\n",
       "    </tr>\n",
       "    <tr>\n",
       "      <th>...</th>\n",
       "      <td>...</td>\n",
       "      <td>...</td>\n",
       "    </tr>\n",
       "    <tr>\n",
       "      <th>300711</th>\n",
       "      <td>AD98908668</td>\n",
       "      <td>11</td>\n",
       "    </tr>\n",
       "    <tr>\n",
       "      <th>300717</th>\n",
       "      <td>AD98908888</td>\n",
       "      <td>2</td>\n",
       "    </tr>\n",
       "    <tr>\n",
       "      <th>300720</th>\n",
       "      <td>AD98908988</td>\n",
       "      <td>3</td>\n",
       "    </tr>\n",
       "    <tr>\n",
       "      <th>300724</th>\n",
       "      <td>AD98988898</td>\n",
       "      <td>2</td>\n",
       "    </tr>\n",
       "    <tr>\n",
       "      <th>300726</th>\n",
       "      <td>ADOO8X898E</td>\n",
       "      <td>2</td>\n",
       "    </tr>\n",
       "  </tbody>\n",
       "</table>\n",
       "<p>32069 rows × 2 columns</p>\n",
       "</div>"
      ],
      "text/plain": [
       "             ad_id  week_id\n",
       "3       AD00000888        2\n",
       "12      AD00000DMF        2\n",
       "15      AD00000ISC        2\n",
       "17      AD00000IV8        2\n",
       "21      AD00000IZK        2\n",
       "...            ...      ...\n",
       "300711  AD98908668       11\n",
       "300717  AD98908888        2\n",
       "300720  AD98908988        3\n",
       "300724  AD98988898        2\n",
       "300726  ADOO8X898E        2\n",
       "\n",
       "[32069 rows x 2 columns]"
      ]
     },
     "execution_count": 51,
     "metadata": {},
     "output_type": "execute_result"
    }
   ],
   "source": [
    "df = pd.DataFrame(ad_recs_annotated.groupby('ad_id').week_id.count()).reset_index()\n",
    "ads_sent_in_more_than_one_week = df[df.week_id >1].shape[0]\n",
    "print(f'Yes, there are {ads_sent_in_more_than_one_week} ads that are being sent in more than one week:')\n",
    "df = df[df.week_id >1]\n",
    "df"
   ]
  },
  {
   "cell_type": "markdown",
   "id": "96949034-28c1-4e7e-823a-23e66790c584",
   "metadata": {},
   "source": [
    "A. Which is the ad that was sent in most amount of weeks (e.g. ad X where sent in Y different weeks)"
   ]
  },
  {
   "cell_type": "code",
   "execution_count": 52,
   "id": "22e99592-631d-403e-a6ab-1a90480e321a",
   "metadata": {},
   "outputs": [
    {
     "name": "stdout",
     "output_type": "stream",
     "text": [
      "The ad was sent in highest number of weeks is: AD07PFFMP9. It was sent in 89 different weeks\n"
     ]
    }
   ],
   "source": [
    "ad_id_idx = df[df.week_id >1].week_id.idxmax()\n",
    "ad_id = df.loc[ad_id_idx][0]\n",
    "num_of_weeks = df.loc[ad_id_idx][1]\n",
    "print(f'The ad was sent in highest number of weeks is: {ad_id}. It was sent in {num_of_weeks} different weeks')"
   ]
  },
  {
   "cell_type": "markdown",
   "id": "b1f45647-85f7-465d-afd6-37579d4d2984",
   "metadata": {},
   "source": [
    "B. What are the weeks that the ad from above was sent in?"
   ]
  },
  {
   "cell_type": "code",
   "execution_count": 53,
   "id": "96072cef-2eab-4e83-8b41-f5799abcaf3b",
   "metadata": {},
   "outputs": [
    {
     "data": {
      "text/html": [
       "<div>\n",
       "<style scoped>\n",
       "    .dataframe tbody tr th:only-of-type {\n",
       "        vertical-align: middle;\n",
       "    }\n",
       "\n",
       "    .dataframe tbody tr th {\n",
       "        vertical-align: top;\n",
       "    }\n",
       "\n",
       "    .dataframe thead th {\n",
       "        text-align: right;\n",
       "    }\n",
       "</style>\n",
       "<table border=\"1\" class=\"dataframe\">\n",
       "  <thead>\n",
       "    <tr style=\"text-align: right;\">\n",
       "      <th></th>\n",
       "      <th>week_id</th>\n",
       "      <th>ad_id</th>\n",
       "      <th>requester</th>\n",
       "      <th>region</th>\n",
       "      <th>is_success</th>\n",
       "      <th>is_sever</th>\n",
       "      <th>recommendation_type</th>\n",
       "      <th>rec_provider</th>\n",
       "      <th>Year</th>\n",
       "      <th>Week</th>\n",
       "      <th>Quarter</th>\n",
       "      <th>Success</th>\n",
       "      <th>ad_count</th>\n",
       "      <th>is_sever_modified</th>\n",
       "    </tr>\n",
       "  </thead>\n",
       "  <tbody>\n",
       "    <tr>\n",
       "      <th>6016</th>\n",
       "      <td>2021-week_33</td>\n",
       "      <td>AD07PFFMP9</td>\n",
       "      <td>Puentes Company</td>\n",
       "      <td>IN</td>\n",
       "      <td>Yes</td>\n",
       "      <td>NaN</td>\n",
       "      <td>Yield</td>\n",
       "      <td>ManualQ</td>\n",
       "      <td>2021</td>\n",
       "      <td>33</td>\n",
       "      <td>3</td>\n",
       "      <td>1</td>\n",
       "      <td>2</td>\n",
       "      <td>False</td>\n",
       "    </tr>\n",
       "    <tr>\n",
       "      <th>19808</th>\n",
       "      <td>2021-week_34</td>\n",
       "      <td>AD07PFFMP9</td>\n",
       "      <td>Bizanga</td>\n",
       "      <td>IN</td>\n",
       "      <td>Yes</td>\n",
       "      <td>NaN</td>\n",
       "      <td>Yield</td>\n",
       "      <td>ManualQ</td>\n",
       "      <td>2021</td>\n",
       "      <td>34</td>\n",
       "      <td>3</td>\n",
       "      <td>1</td>\n",
       "      <td>1</td>\n",
       "      <td>False</td>\n",
       "    </tr>\n",
       "    <tr>\n",
       "      <th>19809</th>\n",
       "      <td>2021-week_34</td>\n",
       "      <td>AD07PFFMP9</td>\n",
       "      <td>Puentes Company</td>\n",
       "      <td>IN</td>\n",
       "      <td>Yes</td>\n",
       "      <td>NaN</td>\n",
       "      <td>Yield</td>\n",
       "      <td>ManualQ</td>\n",
       "      <td>2021</td>\n",
       "      <td>34</td>\n",
       "      <td>3</td>\n",
       "      <td>1</td>\n",
       "      <td>1</td>\n",
       "      <td>False</td>\n",
       "    </tr>\n",
       "    <tr>\n",
       "      <th>34080</th>\n",
       "      <td>2021-week_35</td>\n",
       "      <td>AD07PFFMP9</td>\n",
       "      <td>Bizanga</td>\n",
       "      <td>IN</td>\n",
       "      <td>Yes</td>\n",
       "      <td>NaN</td>\n",
       "      <td>Yield</td>\n",
       "      <td>ManualQ</td>\n",
       "      <td>2021</td>\n",
       "      <td>35</td>\n",
       "      <td>3</td>\n",
       "      <td>1</td>\n",
       "      <td>2</td>\n",
       "      <td>False</td>\n",
       "    </tr>\n",
       "    <tr>\n",
       "      <th>34081</th>\n",
       "      <td>2021-week_35</td>\n",
       "      <td>AD07PFFMP9</td>\n",
       "      <td>iDreamsky Technology</td>\n",
       "      <td>IN</td>\n",
       "      <td>Yes</td>\n",
       "      <td>NaN</td>\n",
       "      <td>Qality</td>\n",
       "      <td>ManualQ</td>\n",
       "      <td>2021</td>\n",
       "      <td>35</td>\n",
       "      <td>3</td>\n",
       "      <td>1</td>\n",
       "      <td>1</td>\n",
       "      <td>False</td>\n",
       "    </tr>\n",
       "    <tr>\n",
       "      <th>...</th>\n",
       "      <td>...</td>\n",
       "      <td>...</td>\n",
       "      <td>...</td>\n",
       "      <td>...</td>\n",
       "      <td>...</td>\n",
       "      <td>...</td>\n",
       "      <td>...</td>\n",
       "      <td>...</td>\n",
       "      <td>...</td>\n",
       "      <td>...</td>\n",
       "      <td>...</td>\n",
       "      <td>...</td>\n",
       "      <td>...</td>\n",
       "      <td>...</td>\n",
       "    </tr>\n",
       "    <tr>\n",
       "      <th>339915</th>\n",
       "      <td>2022-week_06</td>\n",
       "      <td>AD07PFFMP9</td>\n",
       "      <td>Puentes Company</td>\n",
       "      <td>IN</td>\n",
       "      <td>Yes</td>\n",
       "      <td>NaN</td>\n",
       "      <td>Yield</td>\n",
       "      <td>ManualQ</td>\n",
       "      <td>2022</td>\n",
       "      <td>6</td>\n",
       "      <td>1</td>\n",
       "      <td>1</td>\n",
       "      <td>1</td>\n",
       "      <td>False</td>\n",
       "    </tr>\n",
       "    <tr>\n",
       "      <th>355000</th>\n",
       "      <td>2022-week_52</td>\n",
       "      <td>AD07PFFMP9</td>\n",
       "      <td>Allthetopbananas.com</td>\n",
       "      <td>IN</td>\n",
       "      <td>Yes</td>\n",
       "      <td>NaN</td>\n",
       "      <td>Qality</td>\n",
       "      <td>ManualQ</td>\n",
       "      <td>2022</td>\n",
       "      <td>52</td>\n",
       "      <td>4</td>\n",
       "      <td>1</td>\n",
       "      <td>1</td>\n",
       "      <td>False</td>\n",
       "    </tr>\n",
       "    <tr>\n",
       "      <th>355001</th>\n",
       "      <td>2022-week_52</td>\n",
       "      <td>AD07PFFMP9</td>\n",
       "      <td>Bizanga</td>\n",
       "      <td>IN</td>\n",
       "      <td>Yes</td>\n",
       "      <td>NaN</td>\n",
       "      <td>Yield</td>\n",
       "      <td>ManualQ</td>\n",
       "      <td>2022</td>\n",
       "      <td>52</td>\n",
       "      <td>4</td>\n",
       "      <td>1</td>\n",
       "      <td>2</td>\n",
       "      <td>False</td>\n",
       "    </tr>\n",
       "    <tr>\n",
       "      <th>355002</th>\n",
       "      <td>2022-week_52</td>\n",
       "      <td>AD07PFFMP9</td>\n",
       "      <td>MoJoe Brewing Company</td>\n",
       "      <td>IN</td>\n",
       "      <td>Yes</td>\n",
       "      <td>NaN</td>\n",
       "      <td>Yield</td>\n",
       "      <td>ManualQ</td>\n",
       "      <td>2022</td>\n",
       "      <td>52</td>\n",
       "      <td>4</td>\n",
       "      <td>1</td>\n",
       "      <td>12</td>\n",
       "      <td>False</td>\n",
       "    </tr>\n",
       "    <tr>\n",
       "      <th>355003</th>\n",
       "      <td>2022-week_52</td>\n",
       "      <td>AD07PFFMP9</td>\n",
       "      <td>Puentes Company</td>\n",
       "      <td>IN</td>\n",
       "      <td>Yes</td>\n",
       "      <td>NaN</td>\n",
       "      <td>Yield</td>\n",
       "      <td>ManualQ</td>\n",
       "      <td>2022</td>\n",
       "      <td>52</td>\n",
       "      <td>4</td>\n",
       "      <td>1</td>\n",
       "      <td>1</td>\n",
       "      <td>False</td>\n",
       "    </tr>\n",
       "  </tbody>\n",
       "</table>\n",
       "<p>89 rows × 14 columns</p>\n",
       "</div>"
      ],
      "text/plain": [
       "             week_id       ad_id              requester region is_success  \\\n",
       "6016    2021-week_33  AD07PFFMP9        Puentes Company     IN        Yes   \n",
       "19808   2021-week_34  AD07PFFMP9                Bizanga     IN        Yes   \n",
       "19809   2021-week_34  AD07PFFMP9        Puentes Company     IN        Yes   \n",
       "34080   2021-week_35  AD07PFFMP9                Bizanga     IN        Yes   \n",
       "34081   2021-week_35  AD07PFFMP9   iDreamsky Technology     IN        Yes   \n",
       "...              ...         ...                    ...    ...        ...   \n",
       "339915  2022-week_06  AD07PFFMP9        Puentes Company     IN        Yes   \n",
       "355000  2022-week_52  AD07PFFMP9   Allthetopbananas.com     IN        Yes   \n",
       "355001  2022-week_52  AD07PFFMP9                Bizanga     IN        Yes   \n",
       "355002  2022-week_52  AD07PFFMP9  MoJoe Brewing Company     IN        Yes   \n",
       "355003  2022-week_52  AD07PFFMP9        Puentes Company     IN        Yes   \n",
       "\n",
       "       is_sever recommendation_type rec_provider  Year  Week  Quarter  \\\n",
       "6016        NaN               Yield      ManualQ  2021    33        3   \n",
       "19808       NaN               Yield      ManualQ  2021    34        3   \n",
       "19809       NaN               Yield      ManualQ  2021    34        3   \n",
       "34080       NaN               Yield      ManualQ  2021    35        3   \n",
       "34081       NaN              Qality      ManualQ  2021    35        3   \n",
       "...         ...                 ...          ...   ...   ...      ...   \n",
       "339915      NaN               Yield      ManualQ  2022     6        1   \n",
       "355000      NaN              Qality      ManualQ  2022    52        4   \n",
       "355001      NaN               Yield      ManualQ  2022    52        4   \n",
       "355002      NaN               Yield      ManualQ  2022    52        4   \n",
       "355003      NaN               Yield      ManualQ  2022    52        4   \n",
       "\n",
       "        Success  ad_count  is_sever_modified  \n",
       "6016          1         2              False  \n",
       "19808         1         1              False  \n",
       "19809         1         1              False  \n",
       "34080         1         2              False  \n",
       "34081         1         1              False  \n",
       "...         ...       ...                ...  \n",
       "339915        1         1              False  \n",
       "355000        1         1              False  \n",
       "355001        1         2              False  \n",
       "355002        1        12              False  \n",
       "355003        1         1              False  \n",
       "\n",
       "[89 rows x 14 columns]"
      ]
     },
     "execution_count": 53,
     "metadata": {},
     "output_type": "execute_result"
    }
   ],
   "source": [
    "#list(ad_recs_annotated.query('ad_id == @ad_id')[['Year', 'Week']].to_records(index=False))\n",
    "ad_recs_annotated.query('ad_id == @ad_id')"
   ]
  },
  {
   "cell_type": "markdown",
   "id": "b152db91-2373-42a2-b007-4165025f802c",
   "metadata": {},
   "source": [
    "C. Is there an Ad that was succsefull in one week, but not succesfful in a different week? Show one."
   ]
  },
  {
   "cell_type": "code",
   "execution_count": 54,
   "id": "ba896b50-25c3-41b4-ba4d-60d608366491",
   "metadata": {},
   "outputs": [
    {
     "name": "stdout",
     "output_type": "stream",
     "text": [
      "Yes, all the ads list below were successful in one week but not successful in a different week:\n"
     ]
    },
    {
     "data": {
      "text/html": [
       "<div>\n",
       "<style scoped>\n",
       "    .dataframe tbody tr th:only-of-type {\n",
       "        vertical-align: middle;\n",
       "    }\n",
       "\n",
       "    .dataframe tbody tr th {\n",
       "        vertical-align: top;\n",
       "    }\n",
       "\n",
       "    .dataframe thead th {\n",
       "        text-align: right;\n",
       "    }\n",
       "</style>\n",
       "<table border=\"1\" class=\"dataframe\">\n",
       "  <thead>\n",
       "    <tr style=\"text-align: right;\">\n",
       "      <th></th>\n",
       "      <th></th>\n",
       "      <th>nunique</th>\n",
       "    </tr>\n",
       "    <tr>\n",
       "      <th>ad_id</th>\n",
       "      <th>week_id</th>\n",
       "      <th></th>\n",
       "    </tr>\n",
       "  </thead>\n",
       "  <tbody>\n",
       "    <tr>\n",
       "      <th>AD0008E8O8</th>\n",
       "      <th>2021-week_40</th>\n",
       "      <td>2</td>\n",
       "    </tr>\n",
       "    <tr>\n",
       "      <th>AD000F8AVP</th>\n",
       "      <th>2022-week_01</th>\n",
       "      <td>2</td>\n",
       "    </tr>\n",
       "    <tr>\n",
       "      <th>AD000FI8ER</th>\n",
       "      <th>2021-week_43</th>\n",
       "      <td>2</td>\n",
       "    </tr>\n",
       "    <tr>\n",
       "      <th rowspan=\"2\" valign=\"top\">AD000IWW8G</th>\n",
       "      <th>2021-week_35</th>\n",
       "      <td>2</td>\n",
       "    </tr>\n",
       "    <tr>\n",
       "      <th>2021-week_36</th>\n",
       "      <td>2</td>\n",
       "    </tr>\n",
       "    <tr>\n",
       "      <th>...</th>\n",
       "      <th>...</th>\n",
       "      <td>...</td>\n",
       "    </tr>\n",
       "    <tr>\n",
       "      <th>AD88897888</th>\n",
       "      <th>2021-week_44</th>\n",
       "      <td>2</td>\n",
       "    </tr>\n",
       "    <tr>\n",
       "      <th>AD88986988</th>\n",
       "      <th>2021-week_36</th>\n",
       "      <td>2</td>\n",
       "    </tr>\n",
       "    <tr>\n",
       "      <th>AD88988888</th>\n",
       "      <th>2021-week_34</th>\n",
       "      <td>2</td>\n",
       "    </tr>\n",
       "    <tr>\n",
       "      <th>AD89787888</th>\n",
       "      <th>2021-week_34</th>\n",
       "      <td>2</td>\n",
       "    </tr>\n",
       "    <tr>\n",
       "      <th>AD98898880</th>\n",
       "      <th>2021-week_49</th>\n",
       "      <td>2</td>\n",
       "    </tr>\n",
       "  </tbody>\n",
       "</table>\n",
       "<p>518 rows × 1 columns</p>\n",
       "</div>"
      ],
      "text/plain": [
       "                         nunique\n",
       "ad_id      week_id              \n",
       "AD0008E8O8 2021-week_40        2\n",
       "AD000F8AVP 2022-week_01        2\n",
       "AD000FI8ER 2021-week_43        2\n",
       "AD000IWW8G 2021-week_35        2\n",
       "           2021-week_36        2\n",
       "...                          ...\n",
       "AD88897888 2021-week_44        2\n",
       "AD88986988 2021-week_36        2\n",
       "AD88988888 2021-week_34        2\n",
       "AD89787888 2021-week_34        2\n",
       "AD98898880 2021-week_49        2\n",
       "\n",
       "[518 rows x 1 columns]"
      ]
     },
     "execution_count": 54,
     "metadata": {},
     "output_type": "execute_result"
    }
   ],
   "source": [
    "print('Yes, all the ads list below were successful in one week but not successful in a different week:')\n",
    "df = ad_recs_annotated.groupby(['ad_id', 'week_id']).Success.agg(['nunique'])\n",
    "df = pd.DataFrame(df)\n",
    "df.query('nunique > 1')"
   ]
  },
  {
   "cell_type": "code",
   "execution_count": 55,
   "id": "5187579c-4d3d-415e-a005-d7a805b266f6",
   "metadata": {},
   "outputs": [
    {
     "name": "stdout",
     "output_type": "stream",
     "text": [
      "Example for such an ad is ad_id AD000F8AVP which was successful in all weeks but not successful in week 2022-week_01:\n"
     ]
    },
    {
     "data": {
      "text/html": [
       "<div>\n",
       "<style scoped>\n",
       "    .dataframe tbody tr th:only-of-type {\n",
       "        vertical-align: middle;\n",
       "    }\n",
       "\n",
       "    .dataframe tbody tr th {\n",
       "        vertical-align: top;\n",
       "    }\n",
       "\n",
       "    .dataframe thead th {\n",
       "        text-align: right;\n",
       "    }\n",
       "</style>\n",
       "<table border=\"1\" class=\"dataframe\">\n",
       "  <thead>\n",
       "    <tr style=\"text-align: right;\">\n",
       "      <th></th>\n",
       "      <th>week_id</th>\n",
       "      <th>ad_id</th>\n",
       "      <th>requester</th>\n",
       "      <th>region</th>\n",
       "      <th>is_success</th>\n",
       "      <th>is_sever</th>\n",
       "      <th>recommendation_type</th>\n",
       "      <th>rec_provider</th>\n",
       "      <th>Year</th>\n",
       "      <th>Week</th>\n",
       "      <th>Quarter</th>\n",
       "      <th>Success</th>\n",
       "      <th>ad_count</th>\n",
       "      <th>is_sever_modified</th>\n",
       "    </tr>\n",
       "  </thead>\n",
       "  <tbody>\n",
       "    <tr>\n",
       "      <th>14163</th>\n",
       "      <td>2021-week_34</td>\n",
       "      <td>AD000F8AVP</td>\n",
       "      <td>SOLOMO365</td>\n",
       "      <td>GB</td>\n",
       "      <td>Yes</td>\n",
       "      <td>NaN</td>\n",
       "      <td>Qality</td>\n",
       "      <td>RNNQ</td>\n",
       "      <td>2021</td>\n",
       "      <td>34</td>\n",
       "      <td>3</td>\n",
       "      <td>1</td>\n",
       "      <td>1</td>\n",
       "      <td>False</td>\n",
       "    </tr>\n",
       "    <tr>\n",
       "      <th>56446</th>\n",
       "      <td>2021-week_37</td>\n",
       "      <td>AD000F8AVP</td>\n",
       "      <td>Search Million Culture</td>\n",
       "      <td>GB</td>\n",
       "      <td>Yes</td>\n",
       "      <td>NaN</td>\n",
       "      <td>Qality</td>\n",
       "      <td>RNNQ</td>\n",
       "      <td>2021</td>\n",
       "      <td>37</td>\n",
       "      <td>3</td>\n",
       "      <td>1</td>\n",
       "      <td>1</td>\n",
       "      <td>False</td>\n",
       "    </tr>\n",
       "    <tr>\n",
       "      <th>209231</th>\n",
       "      <td>2021-week_48</td>\n",
       "      <td>AD000F8AVP</td>\n",
       "      <td>Fancy</td>\n",
       "      <td>US</td>\n",
       "      <td>Yes</td>\n",
       "      <td>NaN</td>\n",
       "      <td>Qality</td>\n",
       "      <td>ManualQ</td>\n",
       "      <td>2021</td>\n",
       "      <td>48</td>\n",
       "      <td>4</td>\n",
       "      <td>1</td>\n",
       "      <td>1</td>\n",
       "      <td>False</td>\n",
       "    </tr>\n",
       "    <tr>\n",
       "      <th>209232</th>\n",
       "      <td>2021-week_48</td>\n",
       "      <td>AD000F8AVP</td>\n",
       "      <td>Fancy</td>\n",
       "      <td>US</td>\n",
       "      <td>Yes</td>\n",
       "      <td>NaN</td>\n",
       "      <td>Qality</td>\n",
       "      <td>RNNQ</td>\n",
       "      <td>2021</td>\n",
       "      <td>48</td>\n",
       "      <td>4</td>\n",
       "      <td>1</td>\n",
       "      <td>2</td>\n",
       "      <td>False</td>\n",
       "    </tr>\n",
       "    <tr>\n",
       "      <th>209233</th>\n",
       "      <td>2021-week_48</td>\n",
       "      <td>AD000F8AVP</td>\n",
       "      <td>Search Million Culture</td>\n",
       "      <td>GB</td>\n",
       "      <td>Yes</td>\n",
       "      <td>NaN</td>\n",
       "      <td>Qality</td>\n",
       "      <td>RNNQ</td>\n",
       "      <td>2021</td>\n",
       "      <td>48</td>\n",
       "      <td>4</td>\n",
       "      <td>1</td>\n",
       "      <td>1</td>\n",
       "      <td>False</td>\n",
       "    </tr>\n",
       "    <tr>\n",
       "      <th>263959</th>\n",
       "      <td>2022-week_01</td>\n",
       "      <td>AD000F8AVP</td>\n",
       "      <td>Fancy</td>\n",
       "      <td>US</td>\n",
       "      <td>Yes</td>\n",
       "      <td>NaN</td>\n",
       "      <td>Qality</td>\n",
       "      <td>ManualQ</td>\n",
       "      <td>2022</td>\n",
       "      <td>1</td>\n",
       "      <td>1</td>\n",
       "      <td>1</td>\n",
       "      <td>1</td>\n",
       "      <td>False</td>\n",
       "    </tr>\n",
       "    <tr>\n",
       "      <th>263960</th>\n",
       "      <td>2022-week_01</td>\n",
       "      <td>AD000F8AVP</td>\n",
       "      <td>Search Million Culture</td>\n",
       "      <td>GB</td>\n",
       "      <td>No</td>\n",
       "      <td>True</td>\n",
       "      <td>Qality</td>\n",
       "      <td>DNNQ</td>\n",
       "      <td>2022</td>\n",
       "      <td>1</td>\n",
       "      <td>1</td>\n",
       "      <td>0</td>\n",
       "      <td>1</td>\n",
       "      <td>True</td>\n",
       "    </tr>\n",
       "    <tr>\n",
       "      <th>320497</th>\n",
       "      <td>2022-week_05</td>\n",
       "      <td>AD000F8AVP</td>\n",
       "      <td>MoJoe Brewing Company</td>\n",
       "      <td>DE</td>\n",
       "      <td>Yes</td>\n",
       "      <td>NaN</td>\n",
       "      <td>Yield</td>\n",
       "      <td>DNNY</td>\n",
       "      <td>2022</td>\n",
       "      <td>5</td>\n",
       "      <td>1</td>\n",
       "      <td>1</td>\n",
       "      <td>1</td>\n",
       "      <td>False</td>\n",
       "    </tr>\n",
       "  </tbody>\n",
       "</table>\n",
       "</div>"
      ],
      "text/plain": [
       "             week_id       ad_id               requester region is_success  \\\n",
       "14163   2021-week_34  AD000F8AVP               SOLOMO365     GB        Yes   \n",
       "56446   2021-week_37  AD000F8AVP  Search Million Culture     GB        Yes   \n",
       "209231  2021-week_48  AD000F8AVP                   Fancy     US        Yes   \n",
       "209232  2021-week_48  AD000F8AVP                   Fancy     US        Yes   \n",
       "209233  2021-week_48  AD000F8AVP  Search Million Culture     GB        Yes   \n",
       "263959  2022-week_01  AD000F8AVP                   Fancy     US        Yes   \n",
       "263960  2022-week_01  AD000F8AVP  Search Million Culture     GB         No   \n",
       "320497  2022-week_05  AD000F8AVP   MoJoe Brewing Company     DE        Yes   \n",
       "\n",
       "       is_sever recommendation_type rec_provider  Year  Week  Quarter  \\\n",
       "14163       NaN              Qality         RNNQ  2021    34        3   \n",
       "56446       NaN              Qality         RNNQ  2021    37        3   \n",
       "209231      NaN              Qality      ManualQ  2021    48        4   \n",
       "209232      NaN              Qality         RNNQ  2021    48        4   \n",
       "209233      NaN              Qality         RNNQ  2021    48        4   \n",
       "263959      NaN              Qality      ManualQ  2022     1        1   \n",
       "263960     True              Qality         DNNQ  2022     1        1   \n",
       "320497      NaN               Yield         DNNY  2022     5        1   \n",
       "\n",
       "        Success  ad_count  is_sever_modified  \n",
       "14163         1         1              False  \n",
       "56446         1         1              False  \n",
       "209231        1         1              False  \n",
       "209232        1         2              False  \n",
       "209233        1         1              False  \n",
       "263959        1         1              False  \n",
       "263960        0         1               True  \n",
       "320497        1         1              False  "
      ]
     },
     "execution_count": 55,
     "metadata": {},
     "output_type": "execute_result"
    }
   ],
   "source": [
    "print('Example for such an ad is ad_id AD000F8AVP which was successful in all weeks but not successful in week 2022-week_01:')\n",
    "ad_recs_annotated.query('ad_id == \"AD000F8AVP\"')"
   ]
  },
  {
   "cell_type": "markdown",
   "id": "f804a5b5-6908-41f3-9cc6-5c0e943b2530",
   "metadata": {},
   "source": [
    "7. When is_sever is None, what is the number of successful requests? What is the number of non-successful requests? What do you learn from it about the reason for Nones in the first place?"
   ]
  },
  {
   "cell_type": "code",
   "execution_count": 56,
   "id": "c38384db-b72c-40fb-a6f8-40fb92839a24",
   "metadata": {},
   "outputs": [
    {
     "name": "stdout",
     "output_type": "stream",
     "text": [
      "When is_sever is None, the number of successful requests is:\n"
     ]
    },
    {
     "data": {
      "text/plain": [
       "296232"
      ]
     },
     "execution_count": 56,
     "metadata": {},
     "output_type": "execute_result"
    }
   ],
   "source": [
    "print('When is_sever is None, the number of successful requests is:')\n",
    "ad_recs_annotated.loc[ad_recs_annotated.is_sever.isna()].query('Success==1').shape[0]"
   ]
  },
  {
   "cell_type": "code",
   "execution_count": 57,
   "id": "cb47ac90-42fc-422d-bfe2-409c2f48b260",
   "metadata": {},
   "outputs": [
    {
     "name": "stdout",
     "output_type": "stream",
     "text": [
      "When is_sever is None, the number of non-successful requests is:\n"
     ]
    },
    {
     "data": {
      "text/plain": [
       "6"
      ]
     },
     "execution_count": 57,
     "metadata": {},
     "output_type": "execute_result"
    }
   ],
   "source": [
    "print('When is_sever is None, the number of non-successful requests is:')\n",
    "ad_recs_annotated.loc[ad_recs_annotated.is_sever.isna()].query('Success==0').shape[0]"
   ]
  },
  {
   "cell_type": "markdown",
   "id": "0d185a96-4115-48f8-8ca6-99358884989a",
   "metadata": {},
   "source": [
    "8. Per each region, What is the Quality/Yield traffic proportion WoW?"
   ]
  },
  {
   "cell_type": "code",
   "execution_count": 58,
   "id": "82a66dfa-2d32-412e-9171-0c54fa5002ae",
   "metadata": {},
   "outputs": [],
   "source": [
    "def calc_Qality_to_Yield_rate(grp):\n",
    "    Qality_to_Yield_rate = len(grp[grp.recommendation_type == 'Qality']) / len(grp[grp.recommendation_type == 'Yield'])\n",
    "    return pd.Series({'Qality_to_Yield_rate': Qality_to_Yield_rate})"
   ]
  },
  {
   "cell_type": "code",
   "execution_count": 59,
   "id": "cb9dbfd1-98c5-42f2-9c14-abb4ea26cfe7",
   "metadata": {},
   "outputs": [
    {
     "data": {
      "text/html": [
       "<div>\n",
       "<style scoped>\n",
       "    .dataframe tbody tr th:only-of-type {\n",
       "        vertical-align: middle;\n",
       "    }\n",
       "\n",
       "    .dataframe tbody tr th {\n",
       "        vertical-align: top;\n",
       "    }\n",
       "\n",
       "    .dataframe thead th {\n",
       "        text-align: right;\n",
       "    }\n",
       "</style>\n",
       "<table border=\"1\" class=\"dataframe\">\n",
       "  <thead>\n",
       "    <tr style=\"text-align: right;\">\n",
       "      <th></th>\n",
       "      <th>week_id</th>\n",
       "      <th>Qality_to_Yield_rate</th>\n",
       "    </tr>\n",
       "  </thead>\n",
       "  <tbody>\n",
       "    <tr>\n",
       "      <th>0</th>\n",
       "      <td>2021-week_33</td>\n",
       "      <td>2.284277</td>\n",
       "    </tr>\n",
       "    <tr>\n",
       "      <th>1</th>\n",
       "      <td>2021-week_34</td>\n",
       "      <td>2.014313</td>\n",
       "    </tr>\n",
       "    <tr>\n",
       "      <th>2</th>\n",
       "      <td>2021-week_35</td>\n",
       "      <td>1.859842</td>\n",
       "    </tr>\n",
       "    <tr>\n",
       "      <th>3</th>\n",
       "      <td>2021-week_36</td>\n",
       "      <td>2.068350</td>\n",
       "    </tr>\n",
       "    <tr>\n",
       "      <th>4</th>\n",
       "      <td>2021-week_37</td>\n",
       "      <td>2.047270</td>\n",
       "    </tr>\n",
       "    <tr>\n",
       "      <th>5</th>\n",
       "      <td>2021-week_38</td>\n",
       "      <td>1.808000</td>\n",
       "    </tr>\n",
       "    <tr>\n",
       "      <th>6</th>\n",
       "      <td>2021-week_39</td>\n",
       "      <td>1.543981</td>\n",
       "    </tr>\n",
       "    <tr>\n",
       "      <th>7</th>\n",
       "      <td>2021-week_40</td>\n",
       "      <td>1.602136</td>\n",
       "    </tr>\n",
       "    <tr>\n",
       "      <th>8</th>\n",
       "      <td>2021-week_41</td>\n",
       "      <td>1.637510</td>\n",
       "    </tr>\n",
       "    <tr>\n",
       "      <th>9</th>\n",
       "      <td>2021-week_42</td>\n",
       "      <td>2.172148</td>\n",
       "    </tr>\n",
       "    <tr>\n",
       "      <th>10</th>\n",
       "      <td>2021-week_43</td>\n",
       "      <td>1.890966</td>\n",
       "    </tr>\n",
       "    <tr>\n",
       "      <th>11</th>\n",
       "      <td>2021-week_44</td>\n",
       "      <td>1.799840</td>\n",
       "    </tr>\n",
       "    <tr>\n",
       "      <th>12</th>\n",
       "      <td>2021-week_45</td>\n",
       "      <td>1.663723</td>\n",
       "    </tr>\n",
       "    <tr>\n",
       "      <th>13</th>\n",
       "      <td>2021-week_46</td>\n",
       "      <td>1.323524</td>\n",
       "    </tr>\n",
       "    <tr>\n",
       "      <th>14</th>\n",
       "      <td>2021-week_47</td>\n",
       "      <td>1.398062</td>\n",
       "    </tr>\n",
       "    <tr>\n",
       "      <th>15</th>\n",
       "      <td>2021-week_48</td>\n",
       "      <td>1.277318</td>\n",
       "    </tr>\n",
       "    <tr>\n",
       "      <th>16</th>\n",
       "      <td>2021-week_49</td>\n",
       "      <td>1.972304</td>\n",
       "    </tr>\n",
       "    <tr>\n",
       "      <th>17</th>\n",
       "      <td>2021-week_50</td>\n",
       "      <td>1.629588</td>\n",
       "    </tr>\n",
       "    <tr>\n",
       "      <th>18</th>\n",
       "      <td>2021-week_51</td>\n",
       "      <td>1.396786</td>\n",
       "    </tr>\n",
       "    <tr>\n",
       "      <th>19</th>\n",
       "      <td>2022-week_01</td>\n",
       "      <td>1.460803</td>\n",
       "    </tr>\n",
       "    <tr>\n",
       "      <th>20</th>\n",
       "      <td>2022-week_02</td>\n",
       "      <td>1.516997</td>\n",
       "    </tr>\n",
       "    <tr>\n",
       "      <th>21</th>\n",
       "      <td>2022-week_03</td>\n",
       "      <td>1.657934</td>\n",
       "    </tr>\n",
       "    <tr>\n",
       "      <th>22</th>\n",
       "      <td>2022-week_04</td>\n",
       "      <td>2.034683</td>\n",
       "    </tr>\n",
       "    <tr>\n",
       "      <th>23</th>\n",
       "      <td>2022-week_05</td>\n",
       "      <td>1.853782</td>\n",
       "    </tr>\n",
       "    <tr>\n",
       "      <th>24</th>\n",
       "      <td>2022-week_06</td>\n",
       "      <td>2.019853</td>\n",
       "    </tr>\n",
       "    <tr>\n",
       "      <th>25</th>\n",
       "      <td>2022-week_52</td>\n",
       "      <td>1.479450</td>\n",
       "    </tr>\n",
       "  </tbody>\n",
       "</table>\n",
       "</div>"
      ],
      "text/plain": [
       "         week_id  Qality_to_Yield_rate\n",
       "0   2021-week_33              2.284277\n",
       "1   2021-week_34              2.014313\n",
       "2   2021-week_35              1.859842\n",
       "3   2021-week_36              2.068350\n",
       "4   2021-week_37              2.047270\n",
       "5   2021-week_38              1.808000\n",
       "6   2021-week_39              1.543981\n",
       "7   2021-week_40              1.602136\n",
       "8   2021-week_41              1.637510\n",
       "9   2021-week_42              2.172148\n",
       "10  2021-week_43              1.890966\n",
       "11  2021-week_44              1.799840\n",
       "12  2021-week_45              1.663723\n",
       "13  2021-week_46              1.323524\n",
       "14  2021-week_47              1.398062\n",
       "15  2021-week_48              1.277318\n",
       "16  2021-week_49              1.972304\n",
       "17  2021-week_50              1.629588\n",
       "18  2021-week_51              1.396786\n",
       "19  2022-week_01              1.460803\n",
       "20  2022-week_02              1.516997\n",
       "21  2022-week_03              1.657934\n",
       "22  2022-week_04              2.034683\n",
       "23  2022-week_05              1.853782\n",
       "24  2022-week_06              2.019853\n",
       "25  2022-week_52              1.479450"
      ]
     },
     "execution_count": 59,
     "metadata": {},
     "output_type": "execute_result"
    }
   ],
   "source": [
    "ad_recs_annotated.groupby('week_id').apply(calc_Qality_to_Yield_rate).reset_index()\n",
    "#ad_recs_annotated.groupby('week_id').recommendation_type.value_counts()\n"
   ]
  },
  {
   "cell_type": "markdown",
   "id": "8a430ad0-50aa-4975-9e9d-df2153f25494",
   "metadata": {},
   "source": [
    "9. How many different reqeusters are there?"
   ]
  },
  {
   "cell_type": "code",
   "execution_count": 60,
   "id": "02a618f0-f098-46b3-a38c-a4e9b0c7f1f1",
   "metadata": {},
   "outputs": [
    {
     "name": "stdout",
     "output_type": "stream",
     "text": [
      "There are 36 requesters\n"
     ]
    }
   ],
   "source": [
    "num_of_requesters = ad_recs_annotated.requester.nunique()\n",
    "print(f'There are {num_of_requesters} requesters')"
   ]
  },
  {
   "cell_type": "markdown",
   "id": "d271bf40-285a-4e30-b824-e6aedcdf86fe",
   "metadata": {},
   "source": [
    "10. Which are the top 5 requesters per region?"
   ]
  },
  {
   "cell_type": "code",
   "execution_count": 61,
   "id": "3b823e52-78ce-46fd-9bf3-1c9d047f8bb1",
   "metadata": {},
   "outputs": [],
   "source": [
    "def top_5_requesters_per_region(grp):\n",
    "    top_5_requesters_per_region = grp.groupby('requester').ad_count.agg('count').to_frame().sort_values(by=['ad_count'], ascending=False)\n",
    "    return top_5_requesters_per_region.head(5)"
   ]
  },
  {
   "cell_type": "code",
   "execution_count": 62,
   "id": "85fe03f3-d778-4396-875d-7ede601559ad",
   "metadata": {},
   "outputs": [
    {
     "data": {
      "text/html": [
       "<div>\n",
       "<style scoped>\n",
       "    .dataframe tbody tr th:only-of-type {\n",
       "        vertical-align: middle;\n",
       "    }\n",
       "\n",
       "    .dataframe tbody tr th {\n",
       "        vertical-align: top;\n",
       "    }\n",
       "\n",
       "    .dataframe thead th {\n",
       "        text-align: right;\n",
       "    }\n",
       "</style>\n",
       "<table border=\"1\" class=\"dataframe\">\n",
       "  <thead>\n",
       "    <tr style=\"text-align: right;\">\n",
       "      <th></th>\n",
       "      <th>region</th>\n",
       "      <th>requester</th>\n",
       "      <th>ad_count</th>\n",
       "    </tr>\n",
       "  </thead>\n",
       "  <tbody>\n",
       "    <tr>\n",
       "      <th>0</th>\n",
       "      <td>DE</td>\n",
       "      <td>Search Million Culture</td>\n",
       "      <td>23366</td>\n",
       "    </tr>\n",
       "    <tr>\n",
       "      <th>1</th>\n",
       "      <td>DE</td>\n",
       "      <td>RelayFoods</td>\n",
       "      <td>17301</td>\n",
       "    </tr>\n",
       "    <tr>\n",
       "      <th>2</th>\n",
       "      <td>DE</td>\n",
       "      <td>MoJoe Brewing Company</td>\n",
       "      <td>8567</td>\n",
       "    </tr>\n",
       "    <tr>\n",
       "      <th>3</th>\n",
       "      <td>DE</td>\n",
       "      <td>iDreamsky Technology</td>\n",
       "      <td>2841</td>\n",
       "    </tr>\n",
       "    <tr>\n",
       "      <th>4</th>\n",
       "      <td>DE</td>\n",
       "      <td>SOLOMO365</td>\n",
       "      <td>2369</td>\n",
       "    </tr>\n",
       "    <tr>\n",
       "      <th>5</th>\n",
       "      <td>GB</td>\n",
       "      <td>Search Million Culture</td>\n",
       "      <td>27658</td>\n",
       "    </tr>\n",
       "    <tr>\n",
       "      <th>6</th>\n",
       "      <td>GB</td>\n",
       "      <td>RelayFoods</td>\n",
       "      <td>15910</td>\n",
       "    </tr>\n",
       "    <tr>\n",
       "      <th>7</th>\n",
       "      <td>GB</td>\n",
       "      <td>Fancy</td>\n",
       "      <td>12844</td>\n",
       "    </tr>\n",
       "    <tr>\n",
       "      <th>8</th>\n",
       "      <td>GB</td>\n",
       "      <td>MoJoe Brewing Company</td>\n",
       "      <td>9497</td>\n",
       "    </tr>\n",
       "    <tr>\n",
       "      <th>9</th>\n",
       "      <td>GB</td>\n",
       "      <td>SOLOMO365</td>\n",
       "      <td>3344</td>\n",
       "    </tr>\n",
       "    <tr>\n",
       "      <th>10</th>\n",
       "      <td>IN</td>\n",
       "      <td>Puentes Company</td>\n",
       "      <td>28502</td>\n",
       "    </tr>\n",
       "    <tr>\n",
       "      <th>11</th>\n",
       "      <td>IN</td>\n",
       "      <td>Search Million Culture</td>\n",
       "      <td>20701</td>\n",
       "    </tr>\n",
       "    <tr>\n",
       "      <th>12</th>\n",
       "      <td>IN</td>\n",
       "      <td>RelayFoods</td>\n",
       "      <td>17277</td>\n",
       "    </tr>\n",
       "    <tr>\n",
       "      <th>13</th>\n",
       "      <td>IN</td>\n",
       "      <td>MoJoe Brewing Company</td>\n",
       "      <td>7017</td>\n",
       "    </tr>\n",
       "    <tr>\n",
       "      <th>14</th>\n",
       "      <td>IN</td>\n",
       "      <td>iDreamsky Technology</td>\n",
       "      <td>1748</td>\n",
       "    </tr>\n",
       "    <tr>\n",
       "      <th>15</th>\n",
       "      <td>JP</td>\n",
       "      <td>RelayFoods</td>\n",
       "      <td>24550</td>\n",
       "    </tr>\n",
       "    <tr>\n",
       "      <th>16</th>\n",
       "      <td>JP</td>\n",
       "      <td>Search Million Culture</td>\n",
       "      <td>7714</td>\n",
       "    </tr>\n",
       "    <tr>\n",
       "      <th>17</th>\n",
       "      <td>JP</td>\n",
       "      <td>MoJoe Brewing Company</td>\n",
       "      <td>3485</td>\n",
       "    </tr>\n",
       "    <tr>\n",
       "      <th>18</th>\n",
       "      <td>JP</td>\n",
       "      <td>LocalVox Media</td>\n",
       "      <td>1719</td>\n",
       "    </tr>\n",
       "    <tr>\n",
       "      <th>19</th>\n",
       "      <td>JP</td>\n",
       "      <td>Tab Solutions</td>\n",
       "      <td>1337</td>\n",
       "    </tr>\n",
       "    <tr>\n",
       "      <th>20</th>\n",
       "      <td>US</td>\n",
       "      <td>Extreme DA</td>\n",
       "      <td>56887</td>\n",
       "    </tr>\n",
       "    <tr>\n",
       "      <th>21</th>\n",
       "      <td>US</td>\n",
       "      <td>Fancy</td>\n",
       "      <td>17838</td>\n",
       "    </tr>\n",
       "    <tr>\n",
       "      <th>22</th>\n",
       "      <td>US</td>\n",
       "      <td>Tab Solutions</td>\n",
       "      <td>9490</td>\n",
       "    </tr>\n",
       "    <tr>\n",
       "      <th>23</th>\n",
       "      <td>US</td>\n",
       "      <td>Search Million Culture</td>\n",
       "      <td>5594</td>\n",
       "    </tr>\n",
       "    <tr>\n",
       "      <th>24</th>\n",
       "      <td>US</td>\n",
       "      <td>Sensor Tower</td>\n",
       "      <td>3503</td>\n",
       "    </tr>\n",
       "  </tbody>\n",
       "</table>\n",
       "</div>"
      ],
      "text/plain": [
       "   region               requester  ad_count\n",
       "0      DE  Search Million Culture     23366\n",
       "1      DE              RelayFoods     17301\n",
       "2      DE   MoJoe Brewing Company      8567\n",
       "3      DE    iDreamsky Technology      2841\n",
       "4      DE               SOLOMO365      2369\n",
       "5      GB  Search Million Culture     27658\n",
       "6      GB              RelayFoods     15910\n",
       "7      GB                   Fancy     12844\n",
       "8      GB   MoJoe Brewing Company      9497\n",
       "9      GB               SOLOMO365      3344\n",
       "10     IN         Puentes Company     28502\n",
       "11     IN  Search Million Culture     20701\n",
       "12     IN              RelayFoods     17277\n",
       "13     IN   MoJoe Brewing Company      7017\n",
       "14     IN    iDreamsky Technology      1748\n",
       "15     JP              RelayFoods     24550\n",
       "16     JP  Search Million Culture      7714\n",
       "17     JP   MoJoe Brewing Company      3485\n",
       "18     JP          LocalVox Media      1719\n",
       "19     JP           Tab Solutions      1337\n",
       "20     US              Extreme DA     56887\n",
       "21     US                   Fancy     17838\n",
       "22     US           Tab Solutions      9490\n",
       "23     US  Search Million Culture      5594\n",
       "24     US            Sensor Tower      3503"
      ]
     },
     "execution_count": 62,
     "metadata": {},
     "output_type": "execute_result"
    }
   ],
   "source": [
    "ad_recs_annotated.groupby(['region']).apply(top_5_requesters_per_region).reset_index()"
   ]
  },
  {
   "cell_type": "markdown",
   "id": "73b55a61-7922-46de-a715-208366b46992",
   "metadata": {},
   "source": [
    "11. Which are the different rec_proivders?"
   ]
  },
  {
   "cell_type": "code",
   "execution_count": 63,
   "id": "e9893e58-46f6-4eb3-bf50-4c8ffb7e65b8",
   "metadata": {},
   "outputs": [
    {
     "data": {
      "text/plain": [
       "array(['BooksY', 'DNNQ', 'RuleBasedY', 'ManualQ', 'DNNY', 'BooksQ',\n",
       "       'RNNQ', 'RNNY', 'XGBQ', 'UserPopQ', 'UserPopY', 'XGBY', 'ManualY',\n",
       "       'RuleBased', 'UserPopSelectionQ', 'UserPopSelectionY'],\n",
       "      dtype=object)"
      ]
     },
     "execution_count": 63,
     "metadata": {},
     "output_type": "execute_result"
    }
   ],
   "source": [
    "ad_recs_annotated.rec_provider.unique()"
   ]
  },
  {
   "cell_type": "markdown",
   "id": "d8140444-8d99-48a4-baaa-e07e59ea3c16",
   "metadata": {},
   "source": [
    "12. Are there different rec providers per region?"
   ]
  },
  {
   "cell_type": "code",
   "execution_count": 64,
   "id": "033b3c72-fcef-436d-8ae4-dcce1152f4a2",
   "metadata": {},
   "outputs": [
    {
     "name": "stdout",
     "output_type": "stream",
     "text": [
      "Yes, there are different rec providers per region. The following table shows the different rec providers active in each region:\n"
     ]
    },
    {
     "data": {
      "text/html": [
       "<div>\n",
       "<style scoped>\n",
       "    .dataframe tbody tr th:only-of-type {\n",
       "        vertical-align: middle;\n",
       "    }\n",
       "\n",
       "    .dataframe tbody tr th {\n",
       "        vertical-align: top;\n",
       "    }\n",
       "\n",
       "    .dataframe thead tr th {\n",
       "        text-align: left;\n",
       "    }\n",
       "\n",
       "    .dataframe thead tr:last-of-type th {\n",
       "        text-align: right;\n",
       "    }\n",
       "</style>\n",
       "<table border=\"1\" class=\"dataframe\">\n",
       "  <thead>\n",
       "    <tr>\n",
       "      <th></th>\n",
       "      <th colspan=\"16\" halign=\"left\">rec_provider</th>\n",
       "    </tr>\n",
       "    <tr>\n",
       "      <th>rec_provider</th>\n",
       "      <th>BooksQ</th>\n",
       "      <th>BooksY</th>\n",
       "      <th>DNNQ</th>\n",
       "      <th>DNNY</th>\n",
       "      <th>ManualQ</th>\n",
       "      <th>ManualY</th>\n",
       "      <th>RNNQ</th>\n",
       "      <th>RNNY</th>\n",
       "      <th>RuleBased</th>\n",
       "      <th>RuleBasedY</th>\n",
       "      <th>UserPopQ</th>\n",
       "      <th>UserPopSelectionQ</th>\n",
       "      <th>UserPopSelectionY</th>\n",
       "      <th>UserPopY</th>\n",
       "      <th>XGBQ</th>\n",
       "      <th>XGBY</th>\n",
       "    </tr>\n",
       "    <tr>\n",
       "      <th>region</th>\n",
       "      <th></th>\n",
       "      <th></th>\n",
       "      <th></th>\n",
       "      <th></th>\n",
       "      <th></th>\n",
       "      <th></th>\n",
       "      <th></th>\n",
       "      <th></th>\n",
       "      <th></th>\n",
       "      <th></th>\n",
       "      <th></th>\n",
       "      <th></th>\n",
       "      <th></th>\n",
       "      <th></th>\n",
       "      <th></th>\n",
       "      <th></th>\n",
       "    </tr>\n",
       "  </thead>\n",
       "  <tbody>\n",
       "    <tr>\n",
       "      <th>DE</th>\n",
       "      <td>1310.0</td>\n",
       "      <td>1095.0</td>\n",
       "      <td>31906.0</td>\n",
       "      <td>5382.0</td>\n",
       "      <td>851.0</td>\n",
       "      <td>295.0</td>\n",
       "      <td>NaN</td>\n",
       "      <td>NaN</td>\n",
       "      <td>NaN</td>\n",
       "      <td>1527.0</td>\n",
       "      <td>15018.0</td>\n",
       "      <td>NaN</td>\n",
       "      <td>NaN</td>\n",
       "      <td>3339.0</td>\n",
       "      <td>NaN</td>\n",
       "      <td>NaN</td>\n",
       "    </tr>\n",
       "    <tr>\n",
       "      <th>GB</th>\n",
       "      <td>NaN</td>\n",
       "      <td>NaN</td>\n",
       "      <td>38596.0</td>\n",
       "      <td>7226.0</td>\n",
       "      <td>1826.0</td>\n",
       "      <td>269.0</td>\n",
       "      <td>10957.0</td>\n",
       "      <td>1528.0</td>\n",
       "      <td>40.0</td>\n",
       "      <td>1483.0</td>\n",
       "      <td>6597.0</td>\n",
       "      <td>NaN</td>\n",
       "      <td>NaN</td>\n",
       "      <td>1624.0</td>\n",
       "      <td>8871.0</td>\n",
       "      <td>961.0</td>\n",
       "    </tr>\n",
       "    <tr>\n",
       "      <th>IN</th>\n",
       "      <td>NaN</td>\n",
       "      <td>NaN</td>\n",
       "      <td>NaN</td>\n",
       "      <td>NaN</td>\n",
       "      <td>4598.0</td>\n",
       "      <td>184.0</td>\n",
       "      <td>NaN</td>\n",
       "      <td>NaN</td>\n",
       "      <td>7.0</td>\n",
       "      <td>13754.0</td>\n",
       "      <td>37451.0</td>\n",
       "      <td>NaN</td>\n",
       "      <td>NaN</td>\n",
       "      <td>23933.0</td>\n",
       "      <td>NaN</td>\n",
       "      <td>NaN</td>\n",
       "    </tr>\n",
       "    <tr>\n",
       "      <th>JP</th>\n",
       "      <td>NaN</td>\n",
       "      <td>NaN</td>\n",
       "      <td>24440.0</td>\n",
       "      <td>3835.0</td>\n",
       "      <td>625.0</td>\n",
       "      <td>83.0</td>\n",
       "      <td>NaN</td>\n",
       "      <td>NaN</td>\n",
       "      <td>NaN</td>\n",
       "      <td>622.0</td>\n",
       "      <td>7847.0</td>\n",
       "      <td>2412.0</td>\n",
       "      <td>21.0</td>\n",
       "      <td>1369.0</td>\n",
       "      <td>NaN</td>\n",
       "      <td>NaN</td>\n",
       "    </tr>\n",
       "    <tr>\n",
       "      <th>US</th>\n",
       "      <td>363.0</td>\n",
       "      <td>2822.0</td>\n",
       "      <td>20411.0</td>\n",
       "      <td>28433.0</td>\n",
       "      <td>4153.0</td>\n",
       "      <td>413.0</td>\n",
       "      <td>9420.0</td>\n",
       "      <td>11142.0</td>\n",
       "      <td>135.0</td>\n",
       "      <td>9890.0</td>\n",
       "      <td>1812.0</td>\n",
       "      <td>NaN</td>\n",
       "      <td>NaN</td>\n",
       "      <td>6896.0</td>\n",
       "      <td>3080.0</td>\n",
       "      <td>3292.0</td>\n",
       "    </tr>\n",
       "  </tbody>\n",
       "</table>\n",
       "</div>"
      ],
      "text/plain": [
       "             rec_provider                                                     \\\n",
       "rec_provider       BooksQ  BooksY     DNNQ     DNNY ManualQ ManualY     RNNQ   \n",
       "region                                                                         \n",
       "DE                 1310.0  1095.0  31906.0   5382.0   851.0   295.0      NaN   \n",
       "GB                    NaN     NaN  38596.0   7226.0  1826.0   269.0  10957.0   \n",
       "IN                    NaN     NaN      NaN      NaN  4598.0   184.0      NaN   \n",
       "JP                    NaN     NaN  24440.0   3835.0   625.0    83.0      NaN   \n",
       "US                  363.0  2822.0  20411.0  28433.0  4153.0   413.0   9420.0   \n",
       "\n",
       "                                                                       \\\n",
       "rec_provider     RNNY RuleBased RuleBasedY UserPopQ UserPopSelectionQ   \n",
       "region                                                                  \n",
       "DE                NaN       NaN     1527.0  15018.0               NaN   \n",
       "GB             1528.0      40.0     1483.0   6597.0               NaN   \n",
       "IN                NaN       7.0    13754.0  37451.0               NaN   \n",
       "JP                NaN       NaN      622.0   7847.0            2412.0   \n",
       "US            11142.0     135.0     9890.0   1812.0               NaN   \n",
       "\n",
       "                                                         \n",
       "rec_provider UserPopSelectionY UserPopY    XGBQ    XGBY  \n",
       "region                                                   \n",
       "DE                         NaN   3339.0     NaN     NaN  \n",
       "GB                         NaN   1624.0  8871.0   961.0  \n",
       "IN                         NaN  23933.0     NaN     NaN  \n",
       "JP                        21.0   1369.0     NaN     NaN  \n",
       "US                         NaN   6896.0  3080.0  3292.0  "
      ]
     },
     "execution_count": 64,
     "metadata": {},
     "output_type": "execute_result"
    }
   ],
   "source": [
    "print(f'Yes, there are different rec providers per region. The following table shows the different rec providers active in each region:')\n",
    "ad_recs_annotated.groupby(['region', 'rec_provider']).rec_provider.size().to_frame().unstack()"
   ]
  },
  {
   "cell_type": "markdown",
   "id": "9e33018d-4ad1-47cd-abe1-2ae264e45c70",
   "metadata": {},
   "source": [
    "13. Are there different rec providers per rec type?"
   ]
  },
  {
   "cell_type": "code",
   "execution_count": 65,
   "id": "b83e43e2-f77e-4f6b-a511-9675eb05fe67",
   "metadata": {},
   "outputs": [
    {
     "name": "stdout",
     "output_type": "stream",
     "text": [
      "Yes, there are different rec providers per recommendation_type.\n",
      "The following table shows the different rec providers per recommendation_type. Two rec providers provide both recommendation_types:\n"
     ]
    },
    {
     "data": {
      "text/html": [
       "<div>\n",
       "<style scoped>\n",
       "    .dataframe tbody tr th:only-of-type {\n",
       "        vertical-align: middle;\n",
       "    }\n",
       "\n",
       "    .dataframe tbody tr th {\n",
       "        vertical-align: top;\n",
       "    }\n",
       "\n",
       "    .dataframe thead tr th {\n",
       "        text-align: left;\n",
       "    }\n",
       "\n",
       "    .dataframe thead tr:last-of-type th {\n",
       "        text-align: right;\n",
       "    }\n",
       "</style>\n",
       "<table border=\"1\" class=\"dataframe\">\n",
       "  <thead>\n",
       "    <tr>\n",
       "      <th></th>\n",
       "      <th colspan=\"16\" halign=\"left\">rec_provider</th>\n",
       "    </tr>\n",
       "    <tr>\n",
       "      <th>rec_provider</th>\n",
       "      <th>BooksQ</th>\n",
       "      <th>BooksY</th>\n",
       "      <th>DNNQ</th>\n",
       "      <th>DNNY</th>\n",
       "      <th>ManualQ</th>\n",
       "      <th>ManualY</th>\n",
       "      <th>RNNQ</th>\n",
       "      <th>RNNY</th>\n",
       "      <th>RuleBased</th>\n",
       "      <th>RuleBasedY</th>\n",
       "      <th>UserPopQ</th>\n",
       "      <th>UserPopSelectionQ</th>\n",
       "      <th>UserPopSelectionY</th>\n",
       "      <th>UserPopY</th>\n",
       "      <th>XGBQ</th>\n",
       "      <th>XGBY</th>\n",
       "    </tr>\n",
       "    <tr>\n",
       "      <th>recommendation_type</th>\n",
       "      <th></th>\n",
       "      <th></th>\n",
       "      <th></th>\n",
       "      <th></th>\n",
       "      <th></th>\n",
       "      <th></th>\n",
       "      <th></th>\n",
       "      <th></th>\n",
       "      <th></th>\n",
       "      <th></th>\n",
       "      <th></th>\n",
       "      <th></th>\n",
       "      <th></th>\n",
       "      <th></th>\n",
       "      <th></th>\n",
       "      <th></th>\n",
       "    </tr>\n",
       "  </thead>\n",
       "  <tbody>\n",
       "    <tr>\n",
       "      <th>Qality</th>\n",
       "      <td>1673.0</td>\n",
       "      <td>NaN</td>\n",
       "      <td>115353.0</td>\n",
       "      <td>NaN</td>\n",
       "      <td>8842.0</td>\n",
       "      <td>793.0</td>\n",
       "      <td>20377.0</td>\n",
       "      <td>NaN</td>\n",
       "      <td>182.0</td>\n",
       "      <td>NaN</td>\n",
       "      <td>68725.0</td>\n",
       "      <td>2412.0</td>\n",
       "      <td>NaN</td>\n",
       "      <td>NaN</td>\n",
       "      <td>11951.0</td>\n",
       "      <td>NaN</td>\n",
       "    </tr>\n",
       "    <tr>\n",
       "      <th>Yield</th>\n",
       "      <td>NaN</td>\n",
       "      <td>3917.0</td>\n",
       "      <td>NaN</td>\n",
       "      <td>44876.0</td>\n",
       "      <td>3211.0</td>\n",
       "      <td>451.0</td>\n",
       "      <td>NaN</td>\n",
       "      <td>12670.0</td>\n",
       "      <td>NaN</td>\n",
       "      <td>27276.0</td>\n",
       "      <td>NaN</td>\n",
       "      <td>NaN</td>\n",
       "      <td>21.0</td>\n",
       "      <td>37161.0</td>\n",
       "      <td>NaN</td>\n",
       "      <td>4253.0</td>\n",
       "    </tr>\n",
       "  </tbody>\n",
       "</table>\n",
       "</div>"
      ],
      "text/plain": [
       "                    rec_provider                                             \\\n",
       "rec_provider              BooksQ  BooksY      DNNQ     DNNY ManualQ ManualY   \n",
       "recommendation_type                                                           \n",
       "Qality                    1673.0     NaN  115353.0      NaN  8842.0   793.0   \n",
       "Yield                        NaN  3917.0       NaN  44876.0  3211.0   451.0   \n",
       "\n",
       "                                                                     \\\n",
       "rec_provider            RNNQ     RNNY RuleBased RuleBasedY UserPopQ   \n",
       "recommendation_type                                                   \n",
       "Qality               20377.0      NaN     182.0        NaN  68725.0   \n",
       "Yield                    NaN  12670.0       NaN    27276.0      NaN   \n",
       "\n",
       "                                                                           \\\n",
       "rec_provider        UserPopSelectionQ UserPopSelectionY UserPopY     XGBQ   \n",
       "recommendation_type                                                         \n",
       "Qality                         2412.0               NaN      NaN  11951.0   \n",
       "Yield                             NaN              21.0  37161.0      NaN   \n",
       "\n",
       "                             \n",
       "rec_provider           XGBY  \n",
       "recommendation_type          \n",
       "Qality                  NaN  \n",
       "Yield                4253.0  "
      ]
     },
     "execution_count": 65,
     "metadata": {},
     "output_type": "execute_result"
    }
   ],
   "source": [
    "print(f'Yes, there are different rec providers per recommendation_type.')\n",
    "print(f'The following table shows the different rec providers per recommendation_type. Two rec providers provide both recommendation_types:')\n",
    "ad_recs_annotated.groupby(['recommendation_type', 'rec_provider']).rec_provider.size().to_frame().unstack()"
   ]
  },
  {
   "cell_type": "markdown",
   "id": "729c9ea3-3c4a-405a-88cb-bef45b1b6aac",
   "metadata": {},
   "source": [
    "14. What are the notation rules distinguishing between quality vs yielding providers?"
   ]
  },
  {
   "cell_type": "code",
   "execution_count": 66,
   "id": "1a481a1f-2c9a-4557-9a1d-fca4b6620ad7",
   "metadata": {},
   "outputs": [
    {
     "name": "stdout",
     "output_type": "stream",
     "text": [
      "Mostly, rec_provider names ending with \"Q\" are Quality providers while ending with \"Y\" are Yield providers:\n"
     ]
    },
    {
     "data": {
      "text/plain": [
       "recommendation_type  rec_provider     \n",
       "Qality               BooksQ                 1673\n",
       "                     DNNQ                 115353\n",
       "                     ManualQ                8842\n",
       "                     ManualY                 793\n",
       "                     RNNQ                  20377\n",
       "                     RuleBased               182\n",
       "                     UserPopQ              68725\n",
       "                     UserPopSelectionQ      2412\n",
       "                     XGBQ                  11951\n",
       "Yield                BooksY                 3917\n",
       "                     DNNY                  44876\n",
       "                     ManualQ                3211\n",
       "                     ManualY                 451\n",
       "                     RNNY                  12670\n",
       "                     RuleBasedY            27276\n",
       "                     UserPopSelectionY        21\n",
       "                     UserPopY              37161\n",
       "                     XGBY                   4253\n",
       "Name: rec_provider, dtype: int64"
      ]
     },
     "execution_count": 66,
     "metadata": {},
     "output_type": "execute_result"
    }
   ],
   "source": [
    "print('Mostly, rec_provider names ending with \"Q\" are Quality providers while ending with \"Y\" are Yield providers:')\n",
    "ad_recs_annotated.groupby(['recommendation_type', 'rec_provider']).rec_provider.size()"
   ]
  },
  {
   "cell_type": "markdown",
   "id": "02f0334a-adac-4d28-bf63-264195ce16aa",
   "metadata": {},
   "source": [
    "15. Which is the most successful region of operation?"
   ]
  },
  {
   "cell_type": "code",
   "execution_count": 67,
   "id": "ed745903-2ccc-436e-bfc3-37e9b83401e9",
   "metadata": {},
   "outputs": [],
   "source": [
    "def calc_success_metrics(grp):\n",
    "    success_rate = len(grp[grp.is_success == 'Yes']) / len(grp)\n",
    "    num_of_success = len(grp[grp.is_success == 'Yes'])\n",
    "    num_of_no_success = len(grp[grp.is_success == 'No'])\n",
    "    return pd.Series({'success_rate': success_rate,\n",
    "                    'num_of_success': num_of_success,\n",
    "                     'num_of_no_success': num_of_no_success})    "
   ]
  },
  {
   "cell_type": "code",
   "execution_count": 68,
   "id": "469f094e-f2e7-4903-933b-28dd695e1e0e",
   "metadata": {},
   "outputs": [
    {
     "name": "stdout",
     "output_type": "stream",
     "text": [
      "        success_rate  num_of_success  num_of_no_success\n",
      "region                                                 \n",
      "US          0.855528         87488.0            14774.0\n",
      "GB          0.838231         67040.0            12938.0\n",
      "DE          0.812905         49362.0            11361.0\n",
      "JP          0.764023         31519.0             9735.0\n",
      "IN          0.761170         60838.0            19089.0\n",
      "\n",
      "The most successful region of operations is US who scores the highest success rate\n"
     ]
    }
   ],
   "source": [
    "df = pd.DataFrame(ad_recs_annotated.groupby(['region']).apply(calc_success_metrics))    \n",
    "df = df.sort_values(by='success_rate', ascending=False)\n",
    "print(df)\n",
    "most_successful_region = df.head(1).index[0]\n",
    "print(f'\\nThe most successful region of operations is {most_successful_region} who scores the highest success rate')"
   ]
  },
  {
   "cell_type": "markdown",
   "id": "73bfa4f1-6d10-4eae-86c9-da5dd1618e2a",
   "metadata": {},
   "source": [
    "16. Which is the most successful rec provider per each region?"
   ]
  },
  {
   "cell_type": "code",
   "execution_count": 69,
   "id": "e746ef96-9945-41ae-8c12-4de6c45276a4",
   "metadata": {},
   "outputs": [
    {
     "name": "stdout",
     "output_type": "stream",
     "text": [
      "The most successful rec provider per each region are:\n"
     ]
    },
    {
     "data": {
      "text/html": [
       "<div>\n",
       "<style scoped>\n",
       "    .dataframe tbody tr th:only-of-type {\n",
       "        vertical-align: middle;\n",
       "    }\n",
       "\n",
       "    .dataframe tbody tr th {\n",
       "        vertical-align: top;\n",
       "    }\n",
       "\n",
       "    .dataframe thead th {\n",
       "        text-align: right;\n",
       "    }\n",
       "</style>\n",
       "<table border=\"1\" class=\"dataframe\">\n",
       "  <thead>\n",
       "    <tr style=\"text-align: right;\">\n",
       "      <th></th>\n",
       "      <th>region</th>\n",
       "      <th>most_successful_rec_provider</th>\n",
       "    </tr>\n",
       "  </thead>\n",
       "  <tbody>\n",
       "    <tr>\n",
       "      <th>0</th>\n",
       "      <td>DE</td>\n",
       "      <td>ManualY</td>\n",
       "    </tr>\n",
       "    <tr>\n",
       "      <th>1</th>\n",
       "      <td>GB</td>\n",
       "      <td>RuleBased</td>\n",
       "    </tr>\n",
       "    <tr>\n",
       "      <th>2</th>\n",
       "      <td>IN</td>\n",
       "      <td>ManualQ</td>\n",
       "    </tr>\n",
       "    <tr>\n",
       "      <th>3</th>\n",
       "      <td>JP</td>\n",
       "      <td>ManualQ</td>\n",
       "    </tr>\n",
       "    <tr>\n",
       "      <th>4</th>\n",
       "      <td>US</td>\n",
       "      <td>BooksY</td>\n",
       "    </tr>\n",
       "  </tbody>\n",
       "</table>\n",
       "</div>"
      ],
      "text/plain": [
       "  region most_successful_rec_provider\n",
       "0     DE                      ManualY\n",
       "1     GB                    RuleBased\n",
       "2     IN                      ManualQ\n",
       "3     JP                      ManualQ\n",
       "4     US                       BooksY"
      ]
     },
     "execution_count": 69,
     "metadata": {},
     "output_type": "execute_result"
    }
   ],
   "source": [
    "df = pd.DataFrame(ad_recs_annotated.groupby(['region', 'rec_provider']).apply(calc_success_metrics))    \n",
    "df = df.sort_values(by=['region','success_rate'], ascending=False)\n",
    "#print(df)\n",
    "print(f'The most successful rec provider per each region are:')\n",
    "df = pd.DataFrame(pd.DataFrame(df.groupby('region').success_rate.idxmax()).reset_index().success_rate.tolist())\n",
    "df.columns = ['region', 'most_successful_rec_provider']\n",
    "df"
   ]
  },
  {
   "cell_type": "markdown",
   "id": "62772713-6b5b-457d-939e-4f8604aa9e1e",
   "metadata": {},
   "source": [
    "21. Present a table with a success rate, sever defects rate and CI (for each metric) per rec type and region"
   ]
  },
  {
   "cell_type": "code",
   "execution_count": 70,
   "id": "233d24f5-0ffa-482a-ac9a-c40dbc98c48a",
   "metadata": {},
   "outputs": [],
   "source": [
    "def calc_metrics(grp):\n",
    "    \n",
    "    success_rate_stats = grp.Success.agg(['mean', 'count', 'std'])\n",
    "    ci95_hi = []\n",
    "    ci95_lo = []\n",
    "    #for i in success_rate_stats.index:\n",
    "        #m, c, s = success_rate_stats.loc[i]\n",
    "    m = success_rate_stats[0]\n",
    "    c = success_rate_stats[1]\n",
    "    s = success_rate_stats[2]\n",
    "    ci95_hi.append(m + 1.96*s/math.sqrt(c))\n",
    "    ci95_lo.append(m - 1.96*s/math.sqrt(c))\n",
    "    success_rate_stats['ci95_hi'] = ci95_hi\n",
    "    success_rate_stats['ci95_lo'] = ci95_lo\n",
    "\n",
    "    sever_defects_rate_stats = grp.is_sever_modified.agg(['mean', 'count', 'std'])\n",
    "    ci95_hi = []\n",
    "    ci95_lo = []\n",
    "    m = sever_defects_rate_stats[0]\n",
    "    c = sever_defects_rate_stats[1]\n",
    "    s = sever_defects_rate_stats[2]\n",
    "    ci95_hi.append(m + 1.96*s/math.sqrt(c))\n",
    "    ci95_lo.append(m - 1.96*s/math.sqrt(c))\n",
    "    sever_defects_rate_stats['ci95_hi'] = ci95_hi\n",
    "    sever_defects_rate_stats['ci95_lo'] = ci95_lo\n",
    "    \n",
    "    return pd.Series({'success_rate': success_rate_stats[0],\n",
    "                      'success_rate_ci95_low': success_rate_stats['ci95_lo'],\n",
    "                      'success_rate_ci95_hi': success_rate_stats['ci95_hi'],\n",
    "                      'sever_defects_rate': sever_defects_rate_stats[0],\n",
    "                      'sever_defects_rate_ci95_low': sever_defects_rate_stats['ci95_lo'],\n",
    "                      'sever_defects_rate_ci95_hi': sever_defects_rate_stats['ci95_hi'],\n",
    "                     })    \n"
   ]
  },
  {
   "cell_type": "code",
   "execution_count": 71,
   "id": "b093bb2c-4441-48c8-b153-b769fbc10058",
   "metadata": {},
   "outputs": [
    {
     "data": {
      "text/html": [
       "<div>\n",
       "<style scoped>\n",
       "    .dataframe tbody tr th:only-of-type {\n",
       "        vertical-align: middle;\n",
       "    }\n",
       "\n",
       "    .dataframe tbody tr th {\n",
       "        vertical-align: top;\n",
       "    }\n",
       "\n",
       "    .dataframe thead th {\n",
       "        text-align: right;\n",
       "    }\n",
       "</style>\n",
       "<table border=\"1\" class=\"dataframe\">\n",
       "  <thead>\n",
       "    <tr style=\"text-align: right;\">\n",
       "      <th></th>\n",
       "      <th></th>\n",
       "      <th>success_rate</th>\n",
       "      <th>success_rate_ci95_low</th>\n",
       "      <th>success_rate_ci95_hi</th>\n",
       "      <th>sever_defects_rate</th>\n",
       "      <th>sever_defects_rate_ci95_low</th>\n",
       "      <th>sever_defects_rate_ci95_hi</th>\n",
       "    </tr>\n",
       "    <tr>\n",
       "      <th>recommendation_type</th>\n",
       "      <th>region</th>\n",
       "      <th></th>\n",
       "      <th></th>\n",
       "      <th></th>\n",
       "      <th></th>\n",
       "      <th></th>\n",
       "      <th></th>\n",
       "    </tr>\n",
       "  </thead>\n",
       "  <tbody>\n",
       "    <tr>\n",
       "      <th rowspan=\"5\" valign=\"top\">Qality</th>\n",
       "      <th>DE</th>\n",
       "      <td>0.805528</td>\n",
       "      <td>[0.8020297461537124]</td>\n",
       "      <td>[0.8090271247274202]</td>\n",
       "      <td>0.122468</td>\n",
       "      <td>[0.1195697875386158]</td>\n",
       "      <td>[0.12536553098713474]</td>\n",
       "    </tr>\n",
       "    <tr>\n",
       "      <th>GB</th>\n",
       "      <td>0.848715</td>\n",
       "      <td>[0.8459993873278674]</td>\n",
       "      <td>[0.8514306065423914]</td>\n",
       "      <td>0.108810</td>\n",
       "      <td>[0.10645039971702075]</td>\n",
       "      <td>[0.11117036366001815]</td>\n",
       "    </tr>\n",
       "    <tr>\n",
       "      <th>IN</th>\n",
       "      <td>0.804018</td>\n",
       "      <td>[0.800114340488601]</td>\n",
       "      <td>[0.8079223179534153]</td>\n",
       "      <td>0.089254</td>\n",
       "      <td>[0.08645022396871432]</td>\n",
       "      <td>[0.09205826084925234]</td>\n",
       "    </tr>\n",
       "    <tr>\n",
       "      <th>JP</th>\n",
       "      <td>0.777535</td>\n",
       "      <td>[0.7731880143281515]</td>\n",
       "      <td>[0.7818810707915391]</td>\n",
       "      <td>0.156565</td>\n",
       "      <td>[0.15276677896959517]</td>\n",
       "      <td>[0.1603622367806749]</td>\n",
       "    </tr>\n",
       "    <tr>\n",
       "      <th>US</th>\n",
       "      <td>0.898539</td>\n",
       "      <td>[0.8955565131578309]</td>\n",
       "      <td>[0.9015221099845545]</td>\n",
       "      <td>0.074508</td>\n",
       "      <td>[0.07191366952550773]</td>\n",
       "      <td>[0.07710195348986124]</td>\n",
       "    </tr>\n",
       "    <tr>\n",
       "      <th rowspan=\"5\" valign=\"top\">Yield</th>\n",
       "      <th>DE</th>\n",
       "      <td>0.844277</td>\n",
       "      <td>[0.8376667008465993]</td>\n",
       "      <td>[0.8508876723690767]</td>\n",
       "      <td>0.079851</td>\n",
       "      <td>[0.07490940602526573]</td>\n",
       "      <td>[0.08479299037580702]</td>\n",
       "    </tr>\n",
       "    <tr>\n",
       "      <th>GB</th>\n",
       "      <td>0.784661</td>\n",
       "      <td>[0.7776193400870616]</td>\n",
       "      <td>[0.7917030951738048]</td>\n",
       "      <td>0.163777</td>\n",
       "      <td>[0.15743687230356224]</td>\n",
       "      <td>[0.17011640857643168]</td>\n",
       "    </tr>\n",
       "    <tr>\n",
       "      <th>IN</th>\n",
       "      <td>0.718844</td>\n",
       "      <td>[0.714449728578849]</td>\n",
       "      <td>[0.723238351204284]</td>\n",
       "      <td>0.190629</td>\n",
       "      <td>[0.1867895216889528]</td>\n",
       "      <td>[0.19446840564074952]</td>\n",
       "    </tr>\n",
       "    <tr>\n",
       "      <th>JP</th>\n",
       "      <td>0.685855</td>\n",
       "      <td>[0.6741865992379592]</td>\n",
       "      <td>[0.6975239270778302]</td>\n",
       "      <td>0.146546</td>\n",
       "      <td>[0.13765573847757842]</td>\n",
       "      <td>[0.15543636678557946]</td>\n",
       "    </tr>\n",
       "    <tr>\n",
       "      <th>US</th>\n",
       "      <td>0.828609</td>\n",
       "      <td>[0.8256634850059461]</td>\n",
       "      <td>[0.8315538703528151]</td>\n",
       "      <td>0.102533</td>\n",
       "      <td>[0.10016196583926694]</td>\n",
       "      <td>[0.10490345858479143]</td>\n",
       "    </tr>\n",
       "  </tbody>\n",
       "</table>\n",
       "</div>"
      ],
      "text/plain": [
       "                            success_rate success_rate_ci95_low  \\\n",
       "recommendation_type region                                       \n",
       "Qality              DE          0.805528  [0.8020297461537124]   \n",
       "                    GB          0.848715  [0.8459993873278674]   \n",
       "                    IN          0.804018   [0.800114340488601]   \n",
       "                    JP          0.777535  [0.7731880143281515]   \n",
       "                    US          0.898539  [0.8955565131578309]   \n",
       "Yield               DE          0.844277  [0.8376667008465993]   \n",
       "                    GB          0.784661  [0.7776193400870616]   \n",
       "                    IN          0.718844   [0.714449728578849]   \n",
       "                    JP          0.685855  [0.6741865992379592]   \n",
       "                    US          0.828609  [0.8256634850059461]   \n",
       "\n",
       "                            success_rate_ci95_hi  sever_defects_rate  \\\n",
       "recommendation_type region                                             \n",
       "Qality              DE      [0.8090271247274202]            0.122468   \n",
       "                    GB      [0.8514306065423914]            0.108810   \n",
       "                    IN      [0.8079223179534153]            0.089254   \n",
       "                    JP      [0.7818810707915391]            0.156565   \n",
       "                    US      [0.9015221099845545]            0.074508   \n",
       "Yield               DE      [0.8508876723690767]            0.079851   \n",
       "                    GB      [0.7917030951738048]            0.163777   \n",
       "                    IN       [0.723238351204284]            0.190629   \n",
       "                    JP      [0.6975239270778302]            0.146546   \n",
       "                    US      [0.8315538703528151]            0.102533   \n",
       "\n",
       "                           sever_defects_rate_ci95_low  \\\n",
       "recommendation_type region                               \n",
       "Qality              DE            [0.1195697875386158]   \n",
       "                    GB           [0.10645039971702075]   \n",
       "                    IN           [0.08645022396871432]   \n",
       "                    JP           [0.15276677896959517]   \n",
       "                    US           [0.07191366952550773]   \n",
       "Yield               DE           [0.07490940602526573]   \n",
       "                    GB           [0.15743687230356224]   \n",
       "                    IN            [0.1867895216889528]   \n",
       "                    JP           [0.13765573847757842]   \n",
       "                    US           [0.10016196583926694]   \n",
       "\n",
       "                           sever_defects_rate_ci95_hi  \n",
       "recommendation_type region                             \n",
       "Qality              DE          [0.12536553098713474]  \n",
       "                    GB          [0.11117036366001815]  \n",
       "                    IN          [0.09205826084925234]  \n",
       "                    JP           [0.1603622367806749]  \n",
       "                    US          [0.07710195348986124]  \n",
       "Yield               DE          [0.08479299037580702]  \n",
       "                    GB          [0.17011640857643168]  \n",
       "                    IN          [0.19446840564074952]  \n",
       "                    JP          [0.15543636678557946]  \n",
       "                    US          [0.10490345858479143]  "
      ]
     },
     "execution_count": 71,
     "metadata": {},
     "output_type": "execute_result"
    }
   ],
   "source": [
    "ad_recs_annotated.groupby(['recommendation_type', 'region']).apply(calc_metrics)"
   ]
  },
  {
   "cell_type": "markdown",
   "id": "37c110da-8099-4005-9b35-2cdf65b3e8af",
   "metadata": {},
   "source": [
    "24. Present WoW table/graph with success rate and CI (see image below) per region and rec provider"
   ]
  },
  {
   "cell_type": "code",
   "execution_count": 72,
   "id": "7b174cd9-de88-4747-8a1b-e26a4b503f50",
   "metadata": {},
   "outputs": [],
   "source": [
    "def calc_success_metrics(grp):\n",
    "    success_metrics = grp.Success.agg(['mean', 'count', 'std'])\n",
    "    ci95_hi = []\n",
    "    ci95_lo = []\n",
    "    m = success_metrics[0]\n",
    "    c = success_metrics[1]\n",
    "    s = success_metrics[2]\n",
    "    ci95_hi.append(m + 1.96*s/math.sqrt(c))\n",
    "    ci95_lo.append(m - 1.96*s/math.sqrt(c))\n",
    "    success_metrics['ci95_hi'] = ci95_hi\n",
    "    success_metrics['ci95_lo'] = ci95_lo\n",
    "\n",
    "    return pd.Series({'success_rate': success_metrics[0],\n",
    "                      'success_rate_ci95_low': success_metrics['ci95_lo'],\n",
    "                      'success_rate_ci95_hi': success_metrics['ci95_hi'],\n",
    "                     }) "
   ]
  },
  {
   "cell_type": "code",
   "execution_count": 73,
   "id": "6fafd113-0ea5-44f2-9bf3-94882de28df9",
   "metadata": {},
   "outputs": [
    {
     "data": {
      "text/html": [
       "<div>\n",
       "<style scoped>\n",
       "    .dataframe tbody tr th:only-of-type {\n",
       "        vertical-align: middle;\n",
       "    }\n",
       "\n",
       "    .dataframe tbody tr th {\n",
       "        vertical-align: top;\n",
       "    }\n",
       "\n",
       "    .dataframe thead th {\n",
       "        text-align: right;\n",
       "    }\n",
       "</style>\n",
       "<table border=\"1\" class=\"dataframe\">\n",
       "  <thead>\n",
       "    <tr style=\"text-align: right;\">\n",
       "      <th></th>\n",
       "      <th></th>\n",
       "      <th></th>\n",
       "      <th>success_rate</th>\n",
       "      <th>success_rate_ci95_low</th>\n",
       "      <th>success_rate_ci95_hi</th>\n",
       "    </tr>\n",
       "    <tr>\n",
       "      <th>region</th>\n",
       "      <th>rec_provider</th>\n",
       "      <th>week_id</th>\n",
       "      <th></th>\n",
       "      <th></th>\n",
       "      <th></th>\n",
       "    </tr>\n",
       "  </thead>\n",
       "  <tbody>\n",
       "    <tr>\n",
       "      <th rowspan=\"5\" valign=\"top\">DE</th>\n",
       "      <th rowspan=\"5\" valign=\"top\">BooksQ</th>\n",
       "      <th>2021-week_33</th>\n",
       "      <td>0.835821</td>\n",
       "      <td>[0.746449270028722]</td>\n",
       "      <td>[0.9251925210160541]</td>\n",
       "    </tr>\n",
       "    <tr>\n",
       "      <th>2021-week_34</th>\n",
       "      <td>0.840909</td>\n",
       "      <td>[0.7640502818692304]</td>\n",
       "      <td>[0.9177678999489515]</td>\n",
       "    </tr>\n",
       "    <tr>\n",
       "      <th>2021-week_35</th>\n",
       "      <td>0.842105</td>\n",
       "      <td>[0.7595789473684209]</td>\n",
       "      <td>[0.9246315789473685]</td>\n",
       "    </tr>\n",
       "    <tr>\n",
       "      <th>2021-week_36</th>\n",
       "      <td>0.784946</td>\n",
       "      <td>[0.7009894829822666]</td>\n",
       "      <td>[0.8689029901360129]</td>\n",
       "    </tr>\n",
       "    <tr>\n",
       "      <th>2021-week_37</th>\n",
       "      <td>0.718310</td>\n",
       "      <td>[0.6129321413958179]</td>\n",
       "      <td>[0.8236875769140414]</td>\n",
       "    </tr>\n",
       "    <tr>\n",
       "      <th>...</th>\n",
       "      <th>...</th>\n",
       "      <th>...</th>\n",
       "      <td>...</td>\n",
       "      <td>...</td>\n",
       "      <td>...</td>\n",
       "    </tr>\n",
       "    <tr>\n",
       "      <th rowspan=\"5\" valign=\"top\">US</th>\n",
       "      <th rowspan=\"5\" valign=\"top\">XGBY</th>\n",
       "      <th>2022-week_03</th>\n",
       "      <td>0.864286</td>\n",
       "      <td>[0.8073492989113384]</td>\n",
       "      <td>[0.9212221296600902]</td>\n",
       "    </tr>\n",
       "    <tr>\n",
       "      <th>2022-week_04</th>\n",
       "      <td>0.899281</td>\n",
       "      <td>[0.8490670456561379]</td>\n",
       "      <td>[0.9494941054229987]</td>\n",
       "    </tr>\n",
       "    <tr>\n",
       "      <th>2022-week_05</th>\n",
       "      <td>0.861789</td>\n",
       "      <td>[0.8005467486425939]</td>\n",
       "      <td>[0.9230304871297639]</td>\n",
       "    </tr>\n",
       "    <tr>\n",
       "      <th>2022-week_06</th>\n",
       "      <td>0.838028</td>\n",
       "      <td>[0.7772152892991422]</td>\n",
       "      <td>[0.8988410487290268]</td>\n",
       "    </tr>\n",
       "    <tr>\n",
       "      <th>2022-week_52</th>\n",
       "      <td>0.899225</td>\n",
       "      <td>[0.8470738774674766]</td>\n",
       "      <td>[0.9513757349356242]</td>\n",
       "    </tr>\n",
       "  </tbody>\n",
       "</table>\n",
       "<p>1212 rows × 3 columns</p>\n",
       "</div>"
      ],
      "text/plain": [
       "                                  success_rate success_rate_ci95_low  \\\n",
       "region rec_provider week_id                                            \n",
       "DE     BooksQ       2021-week_33      0.835821   [0.746449270028722]   \n",
       "                    2021-week_34      0.840909  [0.7640502818692304]   \n",
       "                    2021-week_35      0.842105  [0.7595789473684209]   \n",
       "                    2021-week_36      0.784946  [0.7009894829822666]   \n",
       "                    2021-week_37      0.718310  [0.6129321413958179]   \n",
       "...                                        ...                   ...   \n",
       "US     XGBY         2022-week_03      0.864286  [0.8073492989113384]   \n",
       "                    2022-week_04      0.899281  [0.8490670456561379]   \n",
       "                    2022-week_05      0.861789  [0.8005467486425939]   \n",
       "                    2022-week_06      0.838028  [0.7772152892991422]   \n",
       "                    2022-week_52      0.899225  [0.8470738774674766]   \n",
       "\n",
       "                                  success_rate_ci95_hi  \n",
       "region rec_provider week_id                             \n",
       "DE     BooksQ       2021-week_33  [0.9251925210160541]  \n",
       "                    2021-week_34  [0.9177678999489515]  \n",
       "                    2021-week_35  [0.9246315789473685]  \n",
       "                    2021-week_36  [0.8689029901360129]  \n",
       "                    2021-week_37  [0.8236875769140414]  \n",
       "...                                                ...  \n",
       "US     XGBY         2022-week_03  [0.9212221296600902]  \n",
       "                    2022-week_04  [0.9494941054229987]  \n",
       "                    2022-week_05  [0.9230304871297639]  \n",
       "                    2022-week_06  [0.8988410487290268]  \n",
       "                    2022-week_52  [0.9513757349356242]  \n",
       "\n",
       "[1212 rows x 3 columns]"
      ]
     },
     "execution_count": 73,
     "metadata": {},
     "output_type": "execute_result"
    }
   ],
   "source": [
    "ad_recs_annotated.groupby(['region', 'rec_provider', 'week_id']).apply(calc_success_metrics)"
   ]
  },
  {
   "cell_type": "markdown",
   "id": "80133cc5-385b-48f6-aae1-c30ce6a2247b",
   "metadata": {},
   "source": [
    "25. Which are the requester to which we succeed the most?"
   ]
  },
  {
   "cell_type": "code",
   "execution_count": 74,
   "id": "676033ad-5b39-41d9-817b-ab4c251bbc1d",
   "metadata": {},
   "outputs": [],
   "source": [
    "def calc_success_rate(grp):\n",
    "    success_rate = grp.Success.agg(['mean'])\n",
    "    return pd.Series({'success_rate': success_rate[0]}) "
   ]
  },
  {
   "cell_type": "code",
   "execution_count": 75,
   "id": "478de5f1-c8c8-42d5-bd85-54a51ec5935c",
   "metadata": {},
   "outputs": [
    {
     "name": "stdout",
     "output_type": "stream",
     "text": [
      "We success the most for the following requesters:\n"
     ]
    },
    {
     "data": {
      "text/html": [
       "<div>\n",
       "<style scoped>\n",
       "    .dataframe tbody tr th:only-of-type {\n",
       "        vertical-align: middle;\n",
       "    }\n",
       "\n",
       "    .dataframe tbody tr th {\n",
       "        vertical-align: top;\n",
       "    }\n",
       "\n",
       "    .dataframe thead th {\n",
       "        text-align: right;\n",
       "    }\n",
       "</style>\n",
       "<table border=\"1\" class=\"dataframe\">\n",
       "  <thead>\n",
       "    <tr style=\"text-align: right;\">\n",
       "      <th></th>\n",
       "      <th>success_rate</th>\n",
       "    </tr>\n",
       "    <tr>\n",
       "      <th>requester</th>\n",
       "      <th></th>\n",
       "    </tr>\n",
       "  </thead>\n",
       "  <tbody>\n",
       "    <tr>\n",
       "      <th>Marketo Japan</th>\n",
       "      <td>1.0</td>\n",
       "    </tr>\n",
       "    <tr>\n",
       "      <th>FlagTap</th>\n",
       "      <td>1.0</td>\n",
       "    </tr>\n",
       "    <tr>\n",
       "      <th>Cue</th>\n",
       "      <td>1.0</td>\n",
       "    </tr>\n",
       "    <tr>\n",
       "      <th>Derceto</th>\n",
       "      <td>1.0</td>\n",
       "    </tr>\n",
       "    <tr>\n",
       "      <th>Altammune</th>\n",
       "      <td>1.0</td>\n",
       "    </tr>\n",
       "  </tbody>\n",
       "</table>\n",
       "</div>"
      ],
      "text/plain": [
       "               success_rate\n",
       "requester                  \n",
       "Marketo Japan           1.0\n",
       "FlagTap                 1.0\n",
       "Cue                     1.0\n",
       "Derceto                 1.0\n",
       "Altammune               1.0"
      ]
     },
     "execution_count": 75,
     "metadata": {},
     "output_type": "execute_result"
    }
   ],
   "source": [
    "df = ad_recs_annotated.groupby(['requester']).apply(calc_success_rate).sort_values(by='success_rate', ascending = False)\n",
    "print('We success the most for the following requesters:') \n",
    "df[df['success_rate'] == df.max()[0]]"
   ]
  },
  {
   "cell_type": "markdown",
   "id": "a66a6141-05ec-44a7-8d2c-e2d67e460c76",
   "metadata": {},
   "source": [
    "29. Preset a WoW graph showing the number of requests per customer in each region (hint: use stacked bars), from it:"
   ]
  },
  {
   "cell_type": "code",
   "execution_count": 88,
   "id": "3cb9d23e-5d7c-4518-a048-7bb1ac007dbd",
   "metadata": {},
   "outputs": [
    {
     "data": {
      "text/html": [
       "<div>\n",
       "<style scoped>\n",
       "    .dataframe tbody tr th:only-of-type {\n",
       "        vertical-align: middle;\n",
       "    }\n",
       "\n",
       "    .dataframe tbody tr th {\n",
       "        vertical-align: top;\n",
       "    }\n",
       "\n",
       "    .dataframe thead th {\n",
       "        text-align: right;\n",
       "    }\n",
       "</style>\n",
       "<table border=\"1\" class=\"dataframe\">\n",
       "  <thead>\n",
       "    <tr style=\"text-align: right;\">\n",
       "      <th></th>\n",
       "      <th>region</th>\n",
       "      <th>week_id</th>\n",
       "      <th>requester</th>\n",
       "      <th>num_of_requests</th>\n",
       "    </tr>\n",
       "  </thead>\n",
       "  <tbody>\n",
       "    <tr>\n",
       "      <th>0</th>\n",
       "      <td>DE</td>\n",
       "      <td>2021-week_33</td>\n",
       "      <td>Bizanga</td>\n",
       "      <td>7</td>\n",
       "    </tr>\n",
       "    <tr>\n",
       "      <th>1</th>\n",
       "      <td>DE</td>\n",
       "      <td>2021-week_33</td>\n",
       "      <td>Crescendo Networks</td>\n",
       "      <td>9</td>\n",
       "    </tr>\n",
       "    <tr>\n",
       "      <th>2</th>\n",
       "      <td>DE</td>\n",
       "      <td>2021-week_33</td>\n",
       "      <td>Extreme DA</td>\n",
       "      <td>2</td>\n",
       "    </tr>\n",
       "    <tr>\n",
       "      <th>3</th>\n",
       "      <td>DE</td>\n",
       "      <td>2021-week_33</td>\n",
       "      <td>Fry Multimedia</td>\n",
       "      <td>82</td>\n",
       "    </tr>\n",
       "    <tr>\n",
       "      <th>4</th>\n",
       "      <td>DE</td>\n",
       "      <td>2021-week_33</td>\n",
       "      <td>G-mode</td>\n",
       "      <td>11</td>\n",
       "    </tr>\n",
       "    <tr>\n",
       "      <th>...</th>\n",
       "      <td>...</td>\n",
       "      <td>...</td>\n",
       "      <td>...</td>\n",
       "      <td>...</td>\n",
       "    </tr>\n",
       "    <tr>\n",
       "      <th>2064</th>\n",
       "      <td>US</td>\n",
       "      <td>2022-week_52</td>\n",
       "      <td>Sensor Tower</td>\n",
       "      <td>67</td>\n",
       "    </tr>\n",
       "    <tr>\n",
       "      <th>2065</th>\n",
       "      <td>US</td>\n",
       "      <td>2022-week_52</td>\n",
       "      <td>Tab Solutions</td>\n",
       "      <td>220</td>\n",
       "    </tr>\n",
       "    <tr>\n",
       "      <th>2066</th>\n",
       "      <td>US</td>\n",
       "      <td>2022-week_52</td>\n",
       "      <td>VarVee</td>\n",
       "      <td>2</td>\n",
       "    </tr>\n",
       "    <tr>\n",
       "      <th>2067</th>\n",
       "      <td>US</td>\n",
       "      <td>2022-week_52</td>\n",
       "      <td>aPriori Technologies</td>\n",
       "      <td>2</td>\n",
       "    </tr>\n",
       "    <tr>\n",
       "      <th>2068</th>\n",
       "      <td>US</td>\n",
       "      <td>2022-week_52</td>\n",
       "      <td>iDreamsky Technology</td>\n",
       "      <td>23</td>\n",
       "    </tr>\n",
       "  </tbody>\n",
       "</table>\n",
       "<p>2069 rows × 4 columns</p>\n",
       "</div>"
      ],
      "text/plain": [
       "     region       week_id             requester  num_of_requests\n",
       "0        DE  2021-week_33               Bizanga                7\n",
       "1        DE  2021-week_33    Crescendo Networks                9\n",
       "2        DE  2021-week_33            Extreme DA                2\n",
       "3        DE  2021-week_33        Fry Multimedia               82\n",
       "4        DE  2021-week_33                G-mode               11\n",
       "...     ...           ...                   ...              ...\n",
       "2064     US  2022-week_52          Sensor Tower               67\n",
       "2065     US  2022-week_52         Tab Solutions              220\n",
       "2066     US  2022-week_52                VarVee                2\n",
       "2067     US  2022-week_52  aPriori Technologies                2\n",
       "2068     US  2022-week_52  iDreamsky Technology               23\n",
       "\n",
       "[2069 rows x 4 columns]"
      ]
     },
     "execution_count": 88,
     "metadata": {},
     "output_type": "execute_result"
    }
   ],
   "source": [
    "df = ad_recs_annotated\n",
    "df = ad_recs_annotated.groupby(['region', 'week_id', 'requester']).recommendation_type.count()\n",
    "df = pd.DataFrame(df).reset_index()\n",
    "df.columns = ['region', 'week_id', 'requester', 'num_of_requests']\n",
    "df"
   ]
  },
  {
   "cell_type": "code",
   "execution_count": 96,
   "id": "9b65b618-44f4-449d-893d-a3682344f33d",
   "metadata": {},
   "outputs": [
    {
     "data": {
      "application/vnd.plotly.v1+json": {
       "config": {
        "plotlyServerURL": "https://plot.ly"
       },
       "data": [
        {
         "alignmentgroup": "True",
         "customdata": [
          [
           "Bizanga"
          ],
          [
           "Crescendo Networks"
          ],
          [
           "Extreme DA"
          ],
          [
           "Fry Multimedia"
          ],
          [
           "G-mode"
          ],
          [
           "LocalVox Media"
          ],
          [
           "MoJoe Brewing Company"
          ],
          [
           "Modanisa"
          ],
          [
           "RelayFoods"
          ],
          [
           "SOLOMO365"
          ],
          [
           "Search Million Culture"
          ],
          [
           "aPriori Technologies"
          ],
          [
           "iDreamsky Technology"
          ],
          [
           "Bizanga"
          ],
          [
           "Crescendo Networks"
          ],
          [
           "Extreme DA"
          ],
          [
           "Fry Multimedia"
          ],
          [
           "G-mode"
          ],
          [
           "LocalVox Media"
          ],
          [
           "MoJoe Brewing Company"
          ],
          [
           "Modanisa"
          ],
          [
           "OpenDesks, Inc."
          ],
          [
           "RelayFoods"
          ],
          [
           "SOLOMO365"
          ],
          [
           "Search Million Culture"
          ],
          [
           "aPriori Technologies"
          ],
          [
           "iDreamsky Technology"
          ],
          [
           "Bizanga"
          ],
          [
           "Crescendo Networks"
          ],
          [
           "Extreme DA"
          ],
          [
           "Fry Multimedia"
          ],
          [
           "G-mode"
          ],
          [
           "LocalVox Media"
          ],
          [
           "MoJoe Brewing Company"
          ],
          [
           "Modanisa"
          ],
          [
           "RelayFoods"
          ],
          [
           "SOLOMO365"
          ],
          [
           "Search Million Culture"
          ],
          [
           "aPriori Technologies"
          ],
          [
           "iDreamsky Technology"
          ],
          [
           "Bizanga"
          ],
          [
           "Crescendo Networks"
          ],
          [
           "Extreme DA"
          ],
          [
           "Fry Multimedia"
          ],
          [
           "G-mode"
          ],
          [
           "LocalVox Media"
          ],
          [
           "MoJoe Brewing Company"
          ],
          [
           "Modanisa"
          ],
          [
           "OpenDesks, Inc."
          ],
          [
           "RelayFoods"
          ],
          [
           "SOLOMO365"
          ],
          [
           "Search Million Culture"
          ],
          [
           "VarVee"
          ],
          [
           "aPriori Technologies"
          ],
          [
           "iDreamsky Technology"
          ],
          [
           "Bizanga"
          ],
          [
           "Crescendo Networks"
          ],
          [
           "Extreme DA"
          ],
          [
           "Fry Multimedia"
          ],
          [
           "G-mode"
          ],
          [
           "LocalVox Media"
          ],
          [
           "MoJoe Brewing Company"
          ],
          [
           "Modanisa"
          ],
          [
           "RelayFoods"
          ],
          [
           "SOLOMO365"
          ],
          [
           "Search Million Culture"
          ],
          [
           "VarVee"
          ],
          [
           "aPriori Technologies"
          ],
          [
           "iDreamsky Technology"
          ],
          [
           "Bizanga"
          ],
          [
           "Crescendo Networks"
          ],
          [
           "Extreme DA"
          ],
          [
           "Fry Multimedia"
          ],
          [
           "G-mode"
          ],
          [
           "LocalVox Media"
          ],
          [
           "MoJoe Brewing Company"
          ],
          [
           "Modanisa"
          ],
          [
           "OpenDesks, Inc."
          ],
          [
           "RelayFoods"
          ],
          [
           "SOLOMO365"
          ],
          [
           "Search Million Culture"
          ],
          [
           "VarVee"
          ],
          [
           "aPriori Technologies"
          ],
          [
           "iDreamsky Technology"
          ],
          [
           "Bizanga"
          ],
          [
           "Crescendo Networks"
          ],
          [
           "Extreme DA"
          ],
          [
           "Fry Multimedia"
          ],
          [
           "G-mode"
          ],
          [
           "LocalVox Media"
          ],
          [
           "MoJoe Brewing Company"
          ],
          [
           "Modanisa"
          ],
          [
           "OpenDesks, Inc."
          ],
          [
           "RelayFoods"
          ],
          [
           "SOLOMO365"
          ],
          [
           "Search Million Culture"
          ],
          [
           "Tab Solutions"
          ],
          [
           "VarVee"
          ],
          [
           "aPriori Technologies"
          ],
          [
           "iDreamsky Technology"
          ],
          [
           "Allthetopbananas.com"
          ],
          [
           "Bizanga"
          ],
          [
           "Crescendo Networks"
          ],
          [
           "Extreme DA"
          ],
          [
           "Fry Multimedia"
          ],
          [
           "G-mode"
          ],
          [
           "LocalVox Media"
          ],
          [
           "MoJoe Brewing Company"
          ],
          [
           "Modanisa"
          ],
          [
           "RelayFoods"
          ],
          [
           "SOLOMO365"
          ],
          [
           "Search Million Culture"
          ],
          [
           "Tab Solutions"
          ],
          [
           "VarVee"
          ],
          [
           "aPriori Technologies"
          ],
          [
           "iDreamsky Technology"
          ],
          [
           "Allthetopbananas.com"
          ],
          [
           "Bizanga"
          ],
          [
           "Crescendo Networks"
          ],
          [
           "Extreme DA"
          ],
          [
           "Fry Multimedia"
          ],
          [
           "G-mode"
          ],
          [
           "LocalVox Media"
          ],
          [
           "MoJoe Brewing Company"
          ],
          [
           "Modanisa"
          ],
          [
           "OpenDesks, Inc."
          ],
          [
           "Pole Star"
          ],
          [
           "RelayFoods"
          ],
          [
           "Search Million Culture"
          ],
          [
           "Tab Solutions"
          ],
          [
           "VarVee"
          ],
          [
           "aPriori Technologies"
          ],
          [
           "iDreamsky Technology"
          ],
          [
           "Allthetopbananas.com"
          ],
          [
           "Bizanga"
          ],
          [
           "Crescendo Networks"
          ],
          [
           "Fry Multimedia"
          ],
          [
           "G-mode"
          ],
          [
           "LocalVox Media"
          ],
          [
           "MoJoe Brewing Company"
          ],
          [
           "Modanisa"
          ],
          [
           "RelayFoods"
          ],
          [
           "Search Million Culture"
          ],
          [
           "Tab Solutions"
          ],
          [
           "VarVee"
          ],
          [
           "aPriori Technologies"
          ],
          [
           "iDreamsky Technology"
          ],
          [
           "Allthetopbananas.com"
          ],
          [
           "Bizanga"
          ],
          [
           "Crescendo Networks"
          ],
          [
           "Cuiker"
          ],
          [
           "Extreme DA"
          ],
          [
           "Fry Multimedia"
          ],
          [
           "G-mode"
          ],
          [
           "LocalVox Media"
          ],
          [
           "MoJoe Brewing Company"
          ],
          [
           "Modanisa"
          ],
          [
           "Pole Star"
          ],
          [
           "RelayFoods"
          ],
          [
           "Search Million Culture"
          ],
          [
           "Tab Solutions"
          ],
          [
           "VarVee"
          ],
          [
           "aPriori Technologies"
          ],
          [
           "iDreamsky Technology"
          ],
          [
           "Allthetopbananas.com"
          ],
          [
           "Bizanga"
          ],
          [
           "Crescendo Networks"
          ],
          [
           "Extreme DA"
          ],
          [
           "Fry Multimedia"
          ],
          [
           "G-mode"
          ],
          [
           "LocalVox Media"
          ],
          [
           "MoJoe Brewing Company"
          ],
          [
           "Modanisa"
          ],
          [
           "RelayFoods"
          ],
          [
           "Search Million Culture"
          ],
          [
           "Tab Solutions"
          ],
          [
           "VarVee"
          ],
          [
           "aPriori Technologies"
          ],
          [
           "iDreamsky Technology"
          ],
          [
           "Allthetopbananas.com"
          ],
          [
           "Bizanga"
          ],
          [
           "Crescendo Networks"
          ],
          [
           "Extreme DA"
          ],
          [
           "Fry Multimedia"
          ],
          [
           "G-mode"
          ],
          [
           "LocalVox Media"
          ],
          [
           "MoJoe Brewing Company"
          ],
          [
           "Modanisa"
          ],
          [
           "OpenDesks, Inc."
          ],
          [
           "Pole Star"
          ],
          [
           "RelayFoods"
          ],
          [
           "Search Million Culture"
          ],
          [
           "Tab Solutions"
          ],
          [
           "VarVee"
          ],
          [
           "aPriori Technologies"
          ],
          [
           "iDreamsky Technology"
          ],
          [
           "Allthetopbananas.com"
          ],
          [
           "Bizanga"
          ],
          [
           "Crescendo Networks"
          ],
          [
           "Cuiker"
          ],
          [
           "Extreme DA"
          ],
          [
           "Fry Multimedia"
          ],
          [
           "G-mode"
          ],
          [
           "LocalVox Media"
          ],
          [
           "MoJoe Brewing Company"
          ],
          [
           "Modanisa"
          ],
          [
           "OpenDesks, Inc."
          ],
          [
           "Pole Star"
          ],
          [
           "RelayFoods"
          ],
          [
           "Search Million Culture"
          ],
          [
           "VarVee"
          ],
          [
           "aPriori Technologies"
          ],
          [
           "iDreamsky Technology"
          ],
          [
           "Allthetopbananas.com"
          ],
          [
           "Bizanga"
          ],
          [
           "Crescendo Networks"
          ],
          [
           "Extreme DA"
          ],
          [
           "Fry Multimedia"
          ],
          [
           "G-mode"
          ],
          [
           "LocalVox Media"
          ],
          [
           "MoJoe Brewing Company"
          ],
          [
           "Modanisa"
          ],
          [
           "OpenDesks, Inc."
          ],
          [
           "RelayFoods"
          ],
          [
           "Search Million Culture"
          ],
          [
           "VarVee"
          ],
          [
           "aPriori Technologies"
          ],
          [
           "iDreamsky Technology"
          ],
          [
           "Bizanga"
          ],
          [
           "Crescendo Networks"
          ],
          [
           "Extreme DA"
          ],
          [
           "Fry Multimedia"
          ],
          [
           "G-mode"
          ],
          [
           "LocalVox Media"
          ],
          [
           "MoJoe Brewing Company"
          ],
          [
           "Modanisa"
          ],
          [
           "OpenDesks, Inc."
          ],
          [
           "RelayFoods"
          ],
          [
           "Search Million Culture"
          ],
          [
           "VarVee"
          ],
          [
           "aPriori Technologies"
          ],
          [
           "iDreamsky Technology"
          ],
          [
           "Allthetopbananas.com"
          ],
          [
           "Bizanga"
          ],
          [
           "Crescendo Networks"
          ],
          [
           "Cuiker"
          ],
          [
           "Extreme DA"
          ],
          [
           "Fry Multimedia"
          ],
          [
           "G-mode"
          ],
          [
           "LocalVox Media"
          ],
          [
           "MoJoe Brewing Company"
          ],
          [
           "Modanisa"
          ],
          [
           "OpenDesks, Inc."
          ],
          [
           "RelayFoods"
          ],
          [
           "Search Million Culture"
          ],
          [
           "aPriori Technologies"
          ],
          [
           "iDreamsky Technology"
          ],
          [
           "Allthetopbananas.com"
          ],
          [
           "Bizanga"
          ],
          [
           "Crescendo Networks"
          ],
          [
           "Cuiker"
          ],
          [
           "Extreme DA"
          ],
          [
           "Fry Multimedia"
          ],
          [
           "G-mode"
          ],
          [
           "LocalVox Media"
          ],
          [
           "MoJoe Brewing Company"
          ],
          [
           "Modanisa"
          ],
          [
           "OpenDesks, Inc."
          ],
          [
           "RelayFoods"
          ],
          [
           "Search Million Culture"
          ],
          [
           "VarVee"
          ],
          [
           "aPriori Technologies"
          ],
          [
           "iDreamsky Technology"
          ],
          [
           "Allthetopbananas.com"
          ],
          [
           "Bizanga"
          ],
          [
           "Crescendo Networks"
          ],
          [
           "Cuiker"
          ],
          [
           "Extreme DA"
          ],
          [
           "Fry Multimedia"
          ],
          [
           "G-mode"
          ],
          [
           "LocalVox Media"
          ],
          [
           "MoJoe Brewing Company"
          ],
          [
           "Modanisa"
          ],
          [
           "OpenDesks, Inc."
          ],
          [
           "RelayFoods"
          ],
          [
           "Search Million Culture"
          ],
          [
           "VarVee"
          ],
          [
           "aPriori Technologies"
          ],
          [
           "iDreamsky Technology"
          ],
          [
           "Allthetopbananas.com"
          ],
          [
           "Bizanga"
          ],
          [
           "Crescendo Networks"
          ],
          [
           "Extreme DA"
          ],
          [
           "Fry Multimedia"
          ],
          [
           "G-mode"
          ],
          [
           "LocalVox Media"
          ],
          [
           "MoJoe Brewing Company"
          ],
          [
           "Modanisa"
          ],
          [
           "OpenDesks, Inc."
          ],
          [
           "RelayFoods"
          ],
          [
           "Search Million Culture"
          ],
          [
           "aPriori Technologies"
          ],
          [
           "iDreamsky Technology"
          ],
          [
           "Allthetopbananas.com"
          ],
          [
           "Bizanga"
          ],
          [
           "Crescendo Networks"
          ],
          [
           "Cuiker"
          ],
          [
           "Extreme DA"
          ],
          [
           "Fry Multimedia"
          ],
          [
           "G-mode"
          ],
          [
           "LocalVox Media"
          ],
          [
           "MoJoe Brewing Company"
          ],
          [
           "Modanisa"
          ],
          [
           "Pole Star"
          ],
          [
           "RelayFoods"
          ],
          [
           "Search Million Culture"
          ],
          [
           "aPriori Technologies"
          ],
          [
           "iDreamsky Technology"
          ],
          [
           "Bizanga"
          ],
          [
           "Crescendo Networks"
          ],
          [
           "Extreme DA"
          ],
          [
           "Fry Multimedia"
          ],
          [
           "G-mode"
          ],
          [
           "LocalVox Media"
          ],
          [
           "MoJoe Brewing Company"
          ],
          [
           "Modanisa"
          ],
          [
           "OpenDesks, Inc."
          ],
          [
           "Pole Star"
          ],
          [
           "RelayFoods"
          ],
          [
           "Search Million Culture"
          ],
          [
           "aPriori Technologies"
          ],
          [
           "iDreamsky Technology"
          ],
          [
           "Allthetopbananas.com"
          ],
          [
           "Bizanga"
          ],
          [
           "Crescendo Networks"
          ],
          [
           "Extreme DA"
          ],
          [
           "Fry Multimedia"
          ],
          [
           "G-mode"
          ],
          [
           "LocalVox Media"
          ],
          [
           "MoJoe Brewing Company"
          ],
          [
           "Modanisa"
          ],
          [
           "OpenDesks, Inc."
          ],
          [
           "Pole Star"
          ],
          [
           "RelayFoods"
          ],
          [
           "Search Million Culture"
          ],
          [
           "VarVee"
          ],
          [
           "aPriori Technologies"
          ],
          [
           "iDreamsky Technology"
          ],
          [
           "Allthetopbananas.com"
          ],
          [
           "Bizanga"
          ],
          [
           "Crescendo Networks"
          ],
          [
           "Extreme DA"
          ],
          [
           "Fry Multimedia"
          ],
          [
           "G-mode"
          ],
          [
           "LocalVox Media"
          ],
          [
           "MoJoe Brewing Company"
          ],
          [
           "Modanisa"
          ],
          [
           "OpenDesks, Inc."
          ],
          [
           "Pole Star"
          ],
          [
           "RelayFoods"
          ],
          [
           "Search Million Culture"
          ],
          [
           "aPriori Technologies"
          ],
          [
           "iDreamsky Technology"
          ],
          [
           "Allthetopbananas.com"
          ],
          [
           "Bizanga"
          ],
          [
           "Crescendo Networks"
          ],
          [
           "Extreme DA"
          ],
          [
           "Fry Multimedia"
          ],
          [
           "G-mode"
          ],
          [
           "LocalVox Media"
          ],
          [
           "MoJoe Brewing Company"
          ],
          [
           "Modanisa"
          ],
          [
           "OpenDesks, Inc."
          ],
          [
           "Pole Star"
          ],
          [
           "RelayFoods"
          ],
          [
           "Search Million Culture"
          ],
          [
           "VarVee"
          ],
          [
           "aPriori Technologies"
          ],
          [
           "iDreamsky Technology"
          ],
          [
           "Allthetopbananas.com"
          ],
          [
           "Bizanga"
          ],
          [
           "Crescendo Networks"
          ],
          [
           "Extreme DA"
          ],
          [
           "Fry Multimedia"
          ],
          [
           "G-mode"
          ],
          [
           "LocalVox Media"
          ],
          [
           "MoJoe Brewing Company"
          ],
          [
           "Modanisa"
          ],
          [
           "OpenDesks, Inc."
          ],
          [
           "RelayFoods"
          ],
          [
           "Search Million Culture"
          ],
          [
           "VarVee"
          ],
          [
           "aPriori Technologies"
          ],
          [
           "iDreamsky Technology"
          ]
         ],
         "hovertemplate": "region=DE<br>week_id=%{x}<br>num_of_requests=%{y}<br>requester=%{customdata[0]}<extra></extra>",
         "legendgroup": "DE",
         "marker": {
          "color": "#636efa",
          "pattern": {
           "shape": ""
          }
         },
         "name": "DE",
         "offsetgroup": "DE",
         "orientation": "v",
         "showlegend": true,
         "textposition": "auto",
         "type": "bar",
         "visible": true,
         "x": [
          "2021-week_33",
          "2021-week_33",
          "2021-week_33",
          "2021-week_33",
          "2021-week_33",
          "2021-week_33",
          "2021-week_33",
          "2021-week_33",
          "2021-week_33",
          "2021-week_33",
          "2021-week_33",
          "2021-week_33",
          "2021-week_33",
          "2021-week_34",
          "2021-week_34",
          "2021-week_34",
          "2021-week_34",
          "2021-week_34",
          "2021-week_34",
          "2021-week_34",
          "2021-week_34",
          "2021-week_34",
          "2021-week_34",
          "2021-week_34",
          "2021-week_34",
          "2021-week_34",
          "2021-week_34",
          "2021-week_35",
          "2021-week_35",
          "2021-week_35",
          "2021-week_35",
          "2021-week_35",
          "2021-week_35",
          "2021-week_35",
          "2021-week_35",
          "2021-week_35",
          "2021-week_35",
          "2021-week_35",
          "2021-week_35",
          "2021-week_35",
          "2021-week_36",
          "2021-week_36",
          "2021-week_36",
          "2021-week_36",
          "2021-week_36",
          "2021-week_36",
          "2021-week_36",
          "2021-week_36",
          "2021-week_36",
          "2021-week_36",
          "2021-week_36",
          "2021-week_36",
          "2021-week_36",
          "2021-week_36",
          "2021-week_36",
          "2021-week_37",
          "2021-week_37",
          "2021-week_37",
          "2021-week_37",
          "2021-week_37",
          "2021-week_37",
          "2021-week_37",
          "2021-week_37",
          "2021-week_37",
          "2021-week_37",
          "2021-week_37",
          "2021-week_37",
          "2021-week_37",
          "2021-week_37",
          "2021-week_38",
          "2021-week_38",
          "2021-week_38",
          "2021-week_38",
          "2021-week_38",
          "2021-week_38",
          "2021-week_38",
          "2021-week_38",
          "2021-week_38",
          "2021-week_38",
          "2021-week_38",
          "2021-week_38",
          "2021-week_38",
          "2021-week_38",
          "2021-week_38",
          "2021-week_39",
          "2021-week_39",
          "2021-week_39",
          "2021-week_39",
          "2021-week_39",
          "2021-week_39",
          "2021-week_39",
          "2021-week_39",
          "2021-week_39",
          "2021-week_39",
          "2021-week_39",
          "2021-week_39",
          "2021-week_39",
          "2021-week_39",
          "2021-week_39",
          "2021-week_39",
          "2021-week_40",
          "2021-week_40",
          "2021-week_40",
          "2021-week_40",
          "2021-week_40",
          "2021-week_40",
          "2021-week_40",
          "2021-week_40",
          "2021-week_40",
          "2021-week_40",
          "2021-week_40",
          "2021-week_40",
          "2021-week_40",
          "2021-week_40",
          "2021-week_40",
          "2021-week_40",
          "2021-week_41",
          "2021-week_41",
          "2021-week_41",
          "2021-week_41",
          "2021-week_41",
          "2021-week_41",
          "2021-week_41",
          "2021-week_41",
          "2021-week_41",
          "2021-week_41",
          "2021-week_41",
          "2021-week_41",
          "2021-week_41",
          "2021-week_41",
          "2021-week_41",
          "2021-week_41",
          "2021-week_41",
          "2021-week_42",
          "2021-week_42",
          "2021-week_42",
          "2021-week_42",
          "2021-week_42",
          "2021-week_42",
          "2021-week_42",
          "2021-week_42",
          "2021-week_42",
          "2021-week_42",
          "2021-week_42",
          "2021-week_42",
          "2021-week_42",
          "2021-week_42",
          "2021-week_43",
          "2021-week_43",
          "2021-week_43",
          "2021-week_43",
          "2021-week_43",
          "2021-week_43",
          "2021-week_43",
          "2021-week_43",
          "2021-week_43",
          "2021-week_43",
          "2021-week_43",
          "2021-week_43",
          "2021-week_43",
          "2021-week_43",
          "2021-week_43",
          "2021-week_43",
          "2021-week_43",
          "2021-week_44",
          "2021-week_44",
          "2021-week_44",
          "2021-week_44",
          "2021-week_44",
          "2021-week_44",
          "2021-week_44",
          "2021-week_44",
          "2021-week_44",
          "2021-week_44",
          "2021-week_44",
          "2021-week_44",
          "2021-week_44",
          "2021-week_44",
          "2021-week_44",
          "2021-week_45",
          "2021-week_45",
          "2021-week_45",
          "2021-week_45",
          "2021-week_45",
          "2021-week_45",
          "2021-week_45",
          "2021-week_45",
          "2021-week_45",
          "2021-week_45",
          "2021-week_45",
          "2021-week_45",
          "2021-week_45",
          "2021-week_45",
          "2021-week_45",
          "2021-week_45",
          "2021-week_45",
          "2021-week_46",
          "2021-week_46",
          "2021-week_46",
          "2021-week_46",
          "2021-week_46",
          "2021-week_46",
          "2021-week_46",
          "2021-week_46",
          "2021-week_46",
          "2021-week_46",
          "2021-week_46",
          "2021-week_46",
          "2021-week_46",
          "2021-week_46",
          "2021-week_46",
          "2021-week_46",
          "2021-week_46",
          "2021-week_47",
          "2021-week_47",
          "2021-week_47",
          "2021-week_47",
          "2021-week_47",
          "2021-week_47",
          "2021-week_47",
          "2021-week_47",
          "2021-week_47",
          "2021-week_47",
          "2021-week_47",
          "2021-week_47",
          "2021-week_47",
          "2021-week_47",
          "2021-week_47",
          "2021-week_48",
          "2021-week_48",
          "2021-week_48",
          "2021-week_48",
          "2021-week_48",
          "2021-week_48",
          "2021-week_48",
          "2021-week_48",
          "2021-week_48",
          "2021-week_48",
          "2021-week_48",
          "2021-week_48",
          "2021-week_48",
          "2021-week_48",
          "2021-week_49",
          "2021-week_49",
          "2021-week_49",
          "2021-week_49",
          "2021-week_49",
          "2021-week_49",
          "2021-week_49",
          "2021-week_49",
          "2021-week_49",
          "2021-week_49",
          "2021-week_49",
          "2021-week_49",
          "2021-week_49",
          "2021-week_49",
          "2021-week_49",
          "2021-week_50",
          "2021-week_50",
          "2021-week_50",
          "2021-week_50",
          "2021-week_50",
          "2021-week_50",
          "2021-week_50",
          "2021-week_50",
          "2021-week_50",
          "2021-week_50",
          "2021-week_50",
          "2021-week_50",
          "2021-week_50",
          "2021-week_50",
          "2021-week_50",
          "2021-week_50",
          "2021-week_51",
          "2021-week_51",
          "2021-week_51",
          "2021-week_51",
          "2021-week_51",
          "2021-week_51",
          "2021-week_51",
          "2021-week_51",
          "2021-week_51",
          "2021-week_51",
          "2021-week_51",
          "2021-week_51",
          "2021-week_51",
          "2021-week_51",
          "2021-week_51",
          "2021-week_51",
          "2022-week_01",
          "2022-week_01",
          "2022-week_01",
          "2022-week_01",
          "2022-week_01",
          "2022-week_01",
          "2022-week_01",
          "2022-week_01",
          "2022-week_01",
          "2022-week_01",
          "2022-week_01",
          "2022-week_01",
          "2022-week_01",
          "2022-week_01",
          "2022-week_02",
          "2022-week_02",
          "2022-week_02",
          "2022-week_02",
          "2022-week_02",
          "2022-week_02",
          "2022-week_02",
          "2022-week_02",
          "2022-week_02",
          "2022-week_02",
          "2022-week_02",
          "2022-week_02",
          "2022-week_02",
          "2022-week_02",
          "2022-week_02",
          "2022-week_03",
          "2022-week_03",
          "2022-week_03",
          "2022-week_03",
          "2022-week_03",
          "2022-week_03",
          "2022-week_03",
          "2022-week_03",
          "2022-week_03",
          "2022-week_03",
          "2022-week_03",
          "2022-week_03",
          "2022-week_03",
          "2022-week_03",
          "2022-week_04",
          "2022-week_04",
          "2022-week_04",
          "2022-week_04",
          "2022-week_04",
          "2022-week_04",
          "2022-week_04",
          "2022-week_04",
          "2022-week_04",
          "2022-week_04",
          "2022-week_04",
          "2022-week_04",
          "2022-week_04",
          "2022-week_04",
          "2022-week_04",
          "2022-week_04",
          "2022-week_05",
          "2022-week_05",
          "2022-week_05",
          "2022-week_05",
          "2022-week_05",
          "2022-week_05",
          "2022-week_05",
          "2022-week_05",
          "2022-week_05",
          "2022-week_05",
          "2022-week_05",
          "2022-week_05",
          "2022-week_05",
          "2022-week_05",
          "2022-week_05",
          "2022-week_06",
          "2022-week_06",
          "2022-week_06",
          "2022-week_06",
          "2022-week_06",
          "2022-week_06",
          "2022-week_06",
          "2022-week_06",
          "2022-week_06",
          "2022-week_06",
          "2022-week_06",
          "2022-week_06",
          "2022-week_06",
          "2022-week_06",
          "2022-week_06",
          "2022-week_06",
          "2022-week_52",
          "2022-week_52",
          "2022-week_52",
          "2022-week_52",
          "2022-week_52",
          "2022-week_52",
          "2022-week_52",
          "2022-week_52",
          "2022-week_52",
          "2022-week_52",
          "2022-week_52",
          "2022-week_52",
          "2022-week_52",
          "2022-week_52",
          "2022-week_52"
         ],
         "xaxis": "x",
         "y": [
          7,
          9,
          2,
          82,
          11,
          49,
          369,
          28,
          305,
          307,
          1126,
          7,
          58,
          5,
          30,
          3,
          91,
          14,
          39,
          293,
          20,
          1,
          88,
          361,
          1291,
          17,
          86,
          4,
          9,
          1,
          84,
          9,
          32,
          453,
          17,
          73,
          321,
          1186,
          19,
          144,
          5,
          27,
          1,
          95,
          16,
          37,
          380,
          26,
          2,
          65,
          318,
          1177,
          3,
          12,
          184,
          5,
          17,
          2,
          94,
          15,
          39,
          395,
          23,
          78,
          308,
          1205,
          12,
          10,
          151,
          10,
          25,
          1,
          96,
          6,
          49,
          353,
          19,
          1,
          94,
          357,
          1172,
          9,
          16,
          148,
          6,
          23,
          1,
          77,
          19,
          41,
          362,
          63,
          1,
          69,
          312,
          1106,
          69,
          10,
          10,
          176,
          1,
          5,
          41,
          2,
          118,
          22,
          51,
          372,
          37,
          69,
          85,
          1282,
          93,
          6,
          8,
          161,
          2,
          8,
          25,
          4,
          125,
          14,
          49,
          288,
          50,
          2,
          3,
          105,
          1339,
          129,
          9,
          18,
          130,
          1,
          2,
          13,
          67,
          6,
          37,
          196,
          48,
          1003,
          847,
          62,
          7,
          6,
          62,
          1,
          4,
          12,
          1,
          1,
          64,
          4,
          33,
          252,
          33,
          1,
          906,
          840,
          85,
          4,
          15,
          76,
          4,
          2,
          17,
          1,
          70,
          5,
          60,
          285,
          40,
          1057,
          578,
          94,
          4,
          7,
          88,
          6,
          5,
          17,
          5,
          58,
          12,
          72,
          227,
          28,
          1,
          6,
          1305,
          409,
          80,
          7,
          17,
          106,
          4,
          1,
          41,
          1,
          3,
          64,
          9,
          60,
          352,
          24,
          4,
          3,
          955,
          446,
          2,
          27,
          109,
          2,
          4,
          12,
          2,
          77,
          14,
          70,
          203,
          38,
          3,
          1050,
          502,
          6,
          25,
          118,
          2,
          18,
          6,
          91,
          10,
          56,
          506,
          45,
          2,
          935,
          560,
          7,
          15,
          94,
          2,
          11,
          23,
          1,
          8,
          58,
          9,
          65,
          283,
          36,
          2,
          1136,
          610,
          17,
          109,
          4,
          2,
          29,
          1,
          5,
          46,
          8,
          59,
          473,
          27,
          2,
          1011,
          584,
          3,
          18,
          103,
          5,
          4,
          31,
          1,
          8,
          54,
          15,
          72,
          234,
          32,
          3,
          1280,
          501,
          4,
          22,
          111,
          2,
          2,
          12,
          7,
          96,
          3,
          59,
          250,
          19,
          1,
          797,
          1024,
          9,
          93,
          2,
          2,
          15,
          1,
          1,
          74,
          7,
          35,
          269,
          11,
          1,
          699,
          1158,
          3,
          97,
          1,
          9,
          4,
          85,
          4,
          35,
          398,
          18,
          2,
          1,
          763,
          945,
          7,
          85,
          2,
          1,
          18,
          8,
          81,
          7,
          37,
          233,
          18,
          1,
          3,
          874,
          973,
          2,
          11,
          69,
          5,
          2,
          17,
          6,
          70,
          7,
          33,
          315,
          25,
          1,
          6,
          740,
          1065,
          9,
          73,
          3,
          1,
          9,
          8,
          96,
          5,
          35,
          251,
          14,
          1,
          11,
          771,
          1061,
          1,
          10,
          107,
          4,
          3,
          33,
          9,
          38,
          8,
          70,
          575,
          29,
          3,
          1073,
          379,
          1,
          24,
          103
         ],
         "yaxis": "y"
        },
        {
         "alignmentgroup": "True",
         "customdata": [
          [
           "Allthetopbananas.com"
          ],
          [
           "Bizanga"
          ],
          [
           "Crescendo Networks"
          ],
          [
           "Extreme DA"
          ],
          [
           "Fancy"
          ],
          [
           "Fry Multimedia"
          ],
          [
           "G-mode"
          ],
          [
           "LocalVox Media"
          ],
          [
           "Mission Street Manufacturing"
          ],
          [
           "MoJoe Brewing Company"
          ],
          [
           "Modanisa"
          ],
          [
           "OpenDesks, Inc."
          ],
          [
           "RelayFoods"
          ],
          [
           "SOLOMO365"
          ],
          [
           "Search Million Culture"
          ],
          [
           "VarVee"
          ],
          [
           "aPriori Technologies"
          ],
          [
           "iDreamsky Technology"
          ],
          [
           "Bizanga"
          ],
          [
           "Crescendo Networks"
          ],
          [
           "Extreme DA"
          ],
          [
           "Fancy"
          ],
          [
           "Fry Multimedia"
          ],
          [
           "G-mode"
          ],
          [
           "LocalVox Media"
          ],
          [
           "Mission Street Manufacturing"
          ],
          [
           "MoJoe Brewing Company"
          ],
          [
           "Modanisa"
          ],
          [
           "OpenDesks, Inc."
          ],
          [
           "RelayFoods"
          ],
          [
           "SOLOMO365"
          ],
          [
           "Search Million Culture"
          ],
          [
           "VarVee"
          ],
          [
           "aPriori Technologies"
          ],
          [
           "iDreamsky Technology"
          ],
          [
           "Allthetopbananas.com"
          ],
          [
           "Bizanga"
          ],
          [
           "Crescendo Networks"
          ],
          [
           "Cuiker"
          ],
          [
           "Extreme DA"
          ],
          [
           "Fancy"
          ],
          [
           "Fry Multimedia"
          ],
          [
           "G-mode"
          ],
          [
           "LocalVox Media"
          ],
          [
           "Mission Street Manufacturing"
          ],
          [
           "MoJoe Brewing Company"
          ],
          [
           "Modanisa"
          ],
          [
           "RelayFoods"
          ],
          [
           "SOLOMO365"
          ],
          [
           "Search Million Culture"
          ],
          [
           "VarVee"
          ],
          [
           "aPriori Technologies"
          ],
          [
           "iDreamsky Technology"
          ],
          [
           "Allthetopbananas.com"
          ],
          [
           "Bizanga"
          ],
          [
           "Crescendo Networks"
          ],
          [
           "Earth Networks"
          ],
          [
           "Extreme DA"
          ],
          [
           "Fancy"
          ],
          [
           "Fry Multimedia"
          ],
          [
           "G-mode"
          ],
          [
           "LocalVox Media"
          ],
          [
           "Mission Street Manufacturing"
          ],
          [
           "MoJoe Brewing Company"
          ],
          [
           "Modanisa"
          ],
          [
           "OpenDesks, Inc."
          ],
          [
           "RelayFoods"
          ],
          [
           "SOLOMO365"
          ],
          [
           "Search Million Culture"
          ],
          [
           "VarVee"
          ],
          [
           "aPriori Technologies"
          ],
          [
           "iDreamsky Technology"
          ],
          [
           "Allthetopbananas.com"
          ],
          [
           "Bizanga"
          ],
          [
           "Crescendo Networks"
          ],
          [
           "Extreme DA"
          ],
          [
           "Fancy"
          ],
          [
           "Fry Multimedia"
          ],
          [
           "G-mode"
          ],
          [
           "LocalVox Media"
          ],
          [
           "Mission Street Manufacturing"
          ],
          [
           "MoJoe Brewing Company"
          ],
          [
           "Modanisa"
          ],
          [
           "OpenDesks, Inc."
          ],
          [
           "RelayFoods"
          ],
          [
           "SOLOMO365"
          ],
          [
           "Search Million Culture"
          ],
          [
           "Tab Solutions"
          ],
          [
           "VarVee"
          ],
          [
           "aPriori Technologies"
          ],
          [
           "iDreamsky Technology"
          ],
          [
           "Allthetopbananas.com"
          ],
          [
           "Bizanga"
          ],
          [
           "Crescendo Networks"
          ],
          [
           "Extreme DA"
          ],
          [
           "Fancy"
          ],
          [
           "Fry Multimedia"
          ],
          [
           "G-mode"
          ],
          [
           "LocalVox Media"
          ],
          [
           "Mission Street Manufacturing"
          ],
          [
           "MoJoe Brewing Company"
          ],
          [
           "Modanisa"
          ],
          [
           "OpenDesks, Inc."
          ],
          [
           "RelayFoods"
          ],
          [
           "SOLOMO365"
          ],
          [
           "Search Million Culture"
          ],
          [
           "Tab Solutions"
          ],
          [
           "VarVee"
          ],
          [
           "aPriori Technologies"
          ],
          [
           "iDreamsky Technology"
          ],
          [
           "Allthetopbananas.com"
          ],
          [
           "Bizanga"
          ],
          [
           "Crescendo Networks"
          ],
          [
           "Extreme DA"
          ],
          [
           "Fancy"
          ],
          [
           "Fry Multimedia"
          ],
          [
           "G-mode"
          ],
          [
           "LocalVox Media"
          ],
          [
           "Mission Street Manufacturing"
          ],
          [
           "MoJoe Brewing Company"
          ],
          [
           "Modanisa"
          ],
          [
           "OpenDesks, Inc."
          ],
          [
           "RelayFoods"
          ],
          [
           "SOLOMO365"
          ],
          [
           "Search Million Culture"
          ],
          [
           "Tab Solutions"
          ],
          [
           "VarVee"
          ],
          [
           "aPriori Technologies"
          ],
          [
           "iDreamsky Technology"
          ],
          [
           "Allthetopbananas.com"
          ],
          [
           "Bizanga"
          ],
          [
           "Crescendo Networks"
          ],
          [
           "Extreme DA"
          ],
          [
           "Fancy"
          ],
          [
           "Fry Multimedia"
          ],
          [
           "G-mode"
          ],
          [
           "LocalVox Media"
          ],
          [
           "Mission Street Manufacturing"
          ],
          [
           "MoJoe Brewing Company"
          ],
          [
           "Modanisa"
          ],
          [
           "OpenDesks, Inc."
          ],
          [
           "RelayFoods"
          ],
          [
           "SOLOMO365"
          ],
          [
           "Search Million Culture"
          ],
          [
           "Tab Solutions"
          ],
          [
           "VarVee"
          ],
          [
           "aPriori Technologies"
          ],
          [
           "iDreamsky Technology"
          ],
          [
           "Allthetopbananas.com"
          ],
          [
           "Bizanga"
          ],
          [
           "Crescendo Networks"
          ],
          [
           "Earth Networks"
          ],
          [
           "Extreme DA"
          ],
          [
           "Fancy"
          ],
          [
           "Fry Multimedia"
          ],
          [
           "G-mode"
          ],
          [
           "LocalVox Media"
          ],
          [
           "Mission Street Manufacturing"
          ],
          [
           "MoJoe Brewing Company"
          ],
          [
           "Modanisa"
          ],
          [
           "OpenDesks, Inc."
          ],
          [
           "Pole Star"
          ],
          [
           "RelayFoods"
          ],
          [
           "Search Million Culture"
          ],
          [
           "Tab Solutions"
          ],
          [
           "VarVee"
          ],
          [
           "aPriori Technologies"
          ],
          [
           "iDreamsky Technology"
          ],
          [
           "Allthetopbananas.com"
          ],
          [
           "Bizanga"
          ],
          [
           "Crescendo Networks"
          ],
          [
           "Extreme DA"
          ],
          [
           "Fancy"
          ],
          [
           "Fry Multimedia"
          ],
          [
           "G-mode"
          ],
          [
           "LocalVox Media"
          ],
          [
           "Mission Street Manufacturing"
          ],
          [
           "MoJoe Brewing Company"
          ],
          [
           "Modanisa"
          ],
          [
           "OpenDesks, Inc."
          ],
          [
           "RelayFoods"
          ],
          [
           "Search Million Culture"
          ],
          [
           "Tab Solutions"
          ],
          [
           "VarVee"
          ],
          [
           "aPriori Technologies"
          ],
          [
           "iDreamsky Technology"
          ],
          [
           "Allthetopbananas.com"
          ],
          [
           "Bizanga"
          ],
          [
           "Crescendo Networks"
          ],
          [
           "Extreme DA"
          ],
          [
           "Fancy"
          ],
          [
           "Fry Multimedia"
          ],
          [
           "G-mode"
          ],
          [
           "LocalVox Media"
          ],
          [
           "Mission Street Manufacturing"
          ],
          [
           "MoJoe Brewing Company"
          ],
          [
           "Modanisa"
          ],
          [
           "RelayFoods"
          ],
          [
           "Search Million Culture"
          ],
          [
           "Tab Solutions"
          ],
          [
           "VarVee"
          ],
          [
           "aPriori Technologies"
          ],
          [
           "iDreamsky Technology"
          ],
          [
           "Allthetopbananas.com"
          ],
          [
           "Bizanga"
          ],
          [
           "Crescendo Networks"
          ],
          [
           "Extreme DA"
          ],
          [
           "Fancy"
          ],
          [
           "Fry Multimedia"
          ],
          [
           "G-mode"
          ],
          [
           "LocalVox Media"
          ],
          [
           "Mission Street Manufacturing"
          ],
          [
           "MoJoe Brewing Company"
          ],
          [
           "Modanisa"
          ],
          [
           "OpenDesks, Inc."
          ],
          [
           "Pole Star"
          ],
          [
           "RelayFoods"
          ],
          [
           "Search Million Culture"
          ],
          [
           "Tab Solutions"
          ],
          [
           "VarVee"
          ],
          [
           "aPriori Technologies"
          ],
          [
           "iDreamsky Technology"
          ],
          [
           "Allthetopbananas.com"
          ],
          [
           "Bizanga"
          ],
          [
           "Crescendo Networks"
          ],
          [
           "Extreme DA"
          ],
          [
           "Fancy"
          ],
          [
           "Fry Multimedia"
          ],
          [
           "G-mode"
          ],
          [
           "LocalVox Media"
          ],
          [
           "Mission Street Manufacturing"
          ],
          [
           "MoJoe Brewing Company"
          ],
          [
           "Modanisa"
          ],
          [
           "OpenDesks, Inc."
          ],
          [
           "Pole Star"
          ],
          [
           "RelayFoods"
          ],
          [
           "Search Million Culture"
          ],
          [
           "Tab Solutions"
          ],
          [
           "VarVee"
          ],
          [
           "aPriori Technologies"
          ],
          [
           "iDreamsky Technology"
          ],
          [
           "Allthetopbananas.com"
          ],
          [
           "Bizanga"
          ],
          [
           "Crescendo Networks"
          ],
          [
           "Extreme DA"
          ],
          [
           "Fancy"
          ],
          [
           "Fry Multimedia"
          ],
          [
           "G-mode"
          ],
          [
           "LocalVox Media"
          ],
          [
           "Mission Street Manufacturing"
          ],
          [
           "MoJoe Brewing Company"
          ],
          [
           "Modanisa"
          ],
          [
           "OpenDesks, Inc."
          ],
          [
           "Pole Star"
          ],
          [
           "RelayFoods"
          ],
          [
           "Search Million Culture"
          ],
          [
           "VarVee"
          ],
          [
           "aPriori Technologies"
          ],
          [
           "iDreamsky Technology"
          ],
          [
           "Allthetopbananas.com"
          ],
          [
           "Bizanga"
          ],
          [
           "Crescendo Networks"
          ],
          [
           "Extreme DA"
          ],
          [
           "Fancy"
          ],
          [
           "Fry Multimedia"
          ],
          [
           "G-mode"
          ],
          [
           "LocalVox Media"
          ],
          [
           "Mission Street Manufacturing"
          ],
          [
           "MoJoe Brewing Company"
          ],
          [
           "Modanisa"
          ],
          [
           "OpenDesks, Inc."
          ],
          [
           "RelayFoods"
          ],
          [
           "Search Million Culture"
          ],
          [
           "VarVee"
          ],
          [
           "aPriori Technologies"
          ],
          [
           "iDreamsky Technology"
          ],
          [
           "Allthetopbananas.com"
          ],
          [
           "Bizanga"
          ],
          [
           "Crescendo Networks"
          ],
          [
           "Extreme DA"
          ],
          [
           "Fancy"
          ],
          [
           "Fry Multimedia"
          ],
          [
           "G-mode"
          ],
          [
           "LocalVox Media"
          ],
          [
           "Mission Street Manufacturing"
          ],
          [
           "MoJoe Brewing Company"
          ],
          [
           "Modanisa"
          ],
          [
           "OpenDesks, Inc."
          ],
          [
           "RelayFoods"
          ],
          [
           "Search Million Culture"
          ],
          [
           "VarVee"
          ],
          [
           "aPriori Technologies"
          ],
          [
           "iDreamsky Technology"
          ],
          [
           "Allthetopbananas.com"
          ],
          [
           "Bizanga"
          ],
          [
           "Crescendo Networks"
          ],
          [
           "Extreme DA"
          ],
          [
           "Fancy"
          ],
          [
           "Fry Multimedia"
          ],
          [
           "G-mode"
          ],
          [
           "LocalVox Media"
          ],
          [
           "Mission Street Manufacturing"
          ],
          [
           "MoJoe Brewing Company"
          ],
          [
           "Modanisa"
          ],
          [
           "OpenDesks, Inc."
          ],
          [
           "RelayFoods"
          ],
          [
           "Search Million Culture"
          ],
          [
           "aPriori Technologies"
          ],
          [
           "iDreamsky Technology"
          ],
          [
           "Allthetopbananas.com"
          ],
          [
           "Bizanga"
          ],
          [
           "Crescendo Networks"
          ],
          [
           "Extreme DA"
          ],
          [
           "Fancy"
          ],
          [
           "Fry Multimedia"
          ],
          [
           "G-mode"
          ],
          [
           "LocalVox Media"
          ],
          [
           "Mission Street Manufacturing"
          ],
          [
           "MoJoe Brewing Company"
          ],
          [
           "Modanisa"
          ],
          [
           "OpenDesks, Inc."
          ],
          [
           "RelayFoods"
          ],
          [
           "Search Million Culture"
          ],
          [
           "aPriori Technologies"
          ],
          [
           "iDreamsky Technology"
          ],
          [
           "Bizanga"
          ],
          [
           "Crescendo Networks"
          ],
          [
           "Extreme DA"
          ],
          [
           "Fancy"
          ],
          [
           "Fry Multimedia"
          ],
          [
           "G-mode"
          ],
          [
           "Jun Group"
          ],
          [
           "LocalVox Media"
          ],
          [
           "Mission Street Manufacturing"
          ],
          [
           "MoJoe Brewing Company"
          ],
          [
           "Modanisa"
          ],
          [
           "OpenDesks, Inc."
          ],
          [
           "RelayFoods"
          ],
          [
           "Search Million Culture"
          ],
          [
           "aPriori Technologies"
          ],
          [
           "iDreamsky Technology"
          ],
          [
           "Allthetopbananas.com"
          ],
          [
           "Bizanga"
          ],
          [
           "Crescendo Networks"
          ],
          [
           "Extreme DA"
          ],
          [
           "Fancy"
          ],
          [
           "Fry Multimedia"
          ],
          [
           "G-mode"
          ],
          [
           "LocalVox Media"
          ],
          [
           "Mission Street Manufacturing"
          ],
          [
           "MoJoe Brewing Company"
          ],
          [
           "Modanisa"
          ],
          [
           "RelayFoods"
          ],
          [
           "Search Million Culture"
          ],
          [
           "aPriori Technologies"
          ],
          [
           "iDreamsky Technology"
          ],
          [
           "Allthetopbananas.com"
          ],
          [
           "Bizanga"
          ],
          [
           "Crescendo Networks"
          ],
          [
           "Extreme DA"
          ],
          [
           "Fancy"
          ],
          [
           "Fry Multimedia"
          ],
          [
           "G-mode"
          ],
          [
           "LocalVox Media"
          ],
          [
           "Mission Street Manufacturing"
          ],
          [
           "MoJoe Brewing Company"
          ],
          [
           "Modanisa"
          ],
          [
           "OpenDesks, Inc."
          ],
          [
           "Pole Star"
          ],
          [
           "RelayFoods"
          ],
          [
           "Search Million Culture"
          ],
          [
           "VarVee"
          ],
          [
           "aPriori Technologies"
          ],
          [
           "iDreamsky Technology"
          ],
          [
           "Allthetopbananas.com"
          ],
          [
           "Bizanga"
          ],
          [
           "Crescendo Networks"
          ],
          [
           "Extreme DA"
          ],
          [
           "Fancy"
          ],
          [
           "Fry Multimedia"
          ],
          [
           "G-mode"
          ],
          [
           "LocalVox Media"
          ],
          [
           "Mission Street Manufacturing"
          ],
          [
           "MoJoe Brewing Company"
          ],
          [
           "Modanisa"
          ],
          [
           "OpenDesks, Inc."
          ],
          [
           "Pole Star"
          ],
          [
           "RelayFoods"
          ],
          [
           "Search Million Culture"
          ],
          [
           "VarVee"
          ],
          [
           "aPriori Technologies"
          ],
          [
           "iDreamsky Technology"
          ],
          [
           "Allthetopbananas.com"
          ],
          [
           "Bizanga"
          ],
          [
           "Crescendo Networks"
          ],
          [
           "Extreme DA"
          ],
          [
           "Fancy"
          ],
          [
           "Fry Multimedia"
          ],
          [
           "G-mode"
          ],
          [
           "LocalVox Media"
          ],
          [
           "Mission Street Manufacturing"
          ],
          [
           "MoJoe Brewing Company"
          ],
          [
           "Modanisa"
          ],
          [
           "OpenDesks, Inc."
          ],
          [
           "Pole Star"
          ],
          [
           "RelayFoods"
          ],
          [
           "Search Million Culture"
          ],
          [
           "VarVee"
          ],
          [
           "aPriori Technologies"
          ],
          [
           "iDreamsky Technology"
          ],
          [
           "Bizanga"
          ],
          [
           "Crescendo Networks"
          ],
          [
           "Extreme DA"
          ],
          [
           "Fancy"
          ],
          [
           "Fry Multimedia"
          ],
          [
           "G-mode"
          ],
          [
           "LocalVox Media"
          ],
          [
           "Mission Street Manufacturing"
          ],
          [
           "MoJoe Brewing Company"
          ],
          [
           "Modanisa"
          ],
          [
           "OpenDesks, Inc."
          ],
          [
           "Pole Star"
          ],
          [
           "RelayFoods"
          ],
          [
           "Search Million Culture"
          ],
          [
           "VarVee"
          ],
          [
           "aPriori Technologies"
          ],
          [
           "iDreamsky Technology"
          ],
          [
           "Bizanga"
          ],
          [
           "Crescendo Networks"
          ],
          [
           "Extreme DA"
          ],
          [
           "Fancy"
          ],
          [
           "Fry Multimedia"
          ],
          [
           "G-mode"
          ],
          [
           "LocalVox Media"
          ],
          [
           "Mission Street Manufacturing"
          ],
          [
           "MoJoe Brewing Company"
          ],
          [
           "Modanisa"
          ],
          [
           "OpenDesks, Inc."
          ],
          [
           "Pole Star"
          ],
          [
           "RelayFoods"
          ],
          [
           "Search Million Culture"
          ],
          [
           "VarVee"
          ],
          [
           "aPriori Technologies"
          ],
          [
           "iDreamsky Technology"
          ],
          [
           "Allthetopbananas.com"
          ],
          [
           "Bizanga"
          ],
          [
           "Crescendo Networks"
          ],
          [
           "Extreme DA"
          ],
          [
           "Fancy"
          ],
          [
           "Fry Multimedia"
          ],
          [
           "G-mode"
          ],
          [
           "LocalVox Media"
          ],
          [
           "Mission Street Manufacturing"
          ],
          [
           "MoJoe Brewing Company"
          ],
          [
           "Modanisa"
          ],
          [
           "OpenDesks, Inc."
          ],
          [
           "RelayFoods"
          ],
          [
           "Search Million Culture"
          ],
          [
           "aPriori Technologies"
          ],
          [
           "iDreamsky Technology"
          ]
         ],
         "hovertemplate": "region=GB<br>week_id=%{x}<br>num_of_requests=%{y}<br>requester=%{customdata[0]}<extra></extra>",
         "legendgroup": "GB",
         "marker": {
          "color": "#EF553B",
          "pattern": {
           "shape": ""
          }
         },
         "name": "GB",
         "offsetgroup": "GB",
         "orientation": "v",
         "showlegend": true,
         "textposition": "auto",
         "type": "bar",
         "visible": true,
         "x": [
          "2021-week_33",
          "2021-week_33",
          "2021-week_33",
          "2021-week_33",
          "2021-week_33",
          "2021-week_33",
          "2021-week_33",
          "2021-week_33",
          "2021-week_33",
          "2021-week_33",
          "2021-week_33",
          "2021-week_33",
          "2021-week_33",
          "2021-week_33",
          "2021-week_33",
          "2021-week_33",
          "2021-week_33",
          "2021-week_33",
          "2021-week_34",
          "2021-week_34",
          "2021-week_34",
          "2021-week_34",
          "2021-week_34",
          "2021-week_34",
          "2021-week_34",
          "2021-week_34",
          "2021-week_34",
          "2021-week_34",
          "2021-week_34",
          "2021-week_34",
          "2021-week_34",
          "2021-week_34",
          "2021-week_34",
          "2021-week_34",
          "2021-week_34",
          "2021-week_35",
          "2021-week_35",
          "2021-week_35",
          "2021-week_35",
          "2021-week_35",
          "2021-week_35",
          "2021-week_35",
          "2021-week_35",
          "2021-week_35",
          "2021-week_35",
          "2021-week_35",
          "2021-week_35",
          "2021-week_35",
          "2021-week_35",
          "2021-week_35",
          "2021-week_35",
          "2021-week_35",
          "2021-week_35",
          "2021-week_36",
          "2021-week_36",
          "2021-week_36",
          "2021-week_36",
          "2021-week_36",
          "2021-week_36",
          "2021-week_36",
          "2021-week_36",
          "2021-week_36",
          "2021-week_36",
          "2021-week_36",
          "2021-week_36",
          "2021-week_36",
          "2021-week_36",
          "2021-week_36",
          "2021-week_36",
          "2021-week_36",
          "2021-week_36",
          "2021-week_36",
          "2021-week_37",
          "2021-week_37",
          "2021-week_37",
          "2021-week_37",
          "2021-week_37",
          "2021-week_37",
          "2021-week_37",
          "2021-week_37",
          "2021-week_37",
          "2021-week_37",
          "2021-week_37",
          "2021-week_37",
          "2021-week_37",
          "2021-week_37",
          "2021-week_37",
          "2021-week_37",
          "2021-week_37",
          "2021-week_37",
          "2021-week_37",
          "2021-week_38",
          "2021-week_38",
          "2021-week_38",
          "2021-week_38",
          "2021-week_38",
          "2021-week_38",
          "2021-week_38",
          "2021-week_38",
          "2021-week_38",
          "2021-week_38",
          "2021-week_38",
          "2021-week_38",
          "2021-week_38",
          "2021-week_38",
          "2021-week_38",
          "2021-week_38",
          "2021-week_38",
          "2021-week_38",
          "2021-week_38",
          "2021-week_39",
          "2021-week_39",
          "2021-week_39",
          "2021-week_39",
          "2021-week_39",
          "2021-week_39",
          "2021-week_39",
          "2021-week_39",
          "2021-week_39",
          "2021-week_39",
          "2021-week_39",
          "2021-week_39",
          "2021-week_39",
          "2021-week_39",
          "2021-week_39",
          "2021-week_39",
          "2021-week_39",
          "2021-week_39",
          "2021-week_39",
          "2021-week_40",
          "2021-week_40",
          "2021-week_40",
          "2021-week_40",
          "2021-week_40",
          "2021-week_40",
          "2021-week_40",
          "2021-week_40",
          "2021-week_40",
          "2021-week_40",
          "2021-week_40",
          "2021-week_40",
          "2021-week_40",
          "2021-week_40",
          "2021-week_40",
          "2021-week_40",
          "2021-week_40",
          "2021-week_40",
          "2021-week_40",
          "2021-week_41",
          "2021-week_41",
          "2021-week_41",
          "2021-week_41",
          "2021-week_41",
          "2021-week_41",
          "2021-week_41",
          "2021-week_41",
          "2021-week_41",
          "2021-week_41",
          "2021-week_41",
          "2021-week_41",
          "2021-week_41",
          "2021-week_41",
          "2021-week_41",
          "2021-week_41",
          "2021-week_41",
          "2021-week_41",
          "2021-week_41",
          "2021-week_41",
          "2021-week_42",
          "2021-week_42",
          "2021-week_42",
          "2021-week_42",
          "2021-week_42",
          "2021-week_42",
          "2021-week_42",
          "2021-week_42",
          "2021-week_42",
          "2021-week_42",
          "2021-week_42",
          "2021-week_42",
          "2021-week_42",
          "2021-week_42",
          "2021-week_42",
          "2021-week_42",
          "2021-week_42",
          "2021-week_42",
          "2021-week_43",
          "2021-week_43",
          "2021-week_43",
          "2021-week_43",
          "2021-week_43",
          "2021-week_43",
          "2021-week_43",
          "2021-week_43",
          "2021-week_43",
          "2021-week_43",
          "2021-week_43",
          "2021-week_43",
          "2021-week_43",
          "2021-week_43",
          "2021-week_43",
          "2021-week_43",
          "2021-week_43",
          "2021-week_44",
          "2021-week_44",
          "2021-week_44",
          "2021-week_44",
          "2021-week_44",
          "2021-week_44",
          "2021-week_44",
          "2021-week_44",
          "2021-week_44",
          "2021-week_44",
          "2021-week_44",
          "2021-week_44",
          "2021-week_44",
          "2021-week_44",
          "2021-week_44",
          "2021-week_44",
          "2021-week_44",
          "2021-week_44",
          "2021-week_44",
          "2021-week_45",
          "2021-week_45",
          "2021-week_45",
          "2021-week_45",
          "2021-week_45",
          "2021-week_45",
          "2021-week_45",
          "2021-week_45",
          "2021-week_45",
          "2021-week_45",
          "2021-week_45",
          "2021-week_45",
          "2021-week_45",
          "2021-week_45",
          "2021-week_45",
          "2021-week_45",
          "2021-week_45",
          "2021-week_45",
          "2021-week_45",
          "2021-week_46",
          "2021-week_46",
          "2021-week_46",
          "2021-week_46",
          "2021-week_46",
          "2021-week_46",
          "2021-week_46",
          "2021-week_46",
          "2021-week_46",
          "2021-week_46",
          "2021-week_46",
          "2021-week_46",
          "2021-week_46",
          "2021-week_46",
          "2021-week_46",
          "2021-week_46",
          "2021-week_46",
          "2021-week_46",
          "2021-week_47",
          "2021-week_47",
          "2021-week_47",
          "2021-week_47",
          "2021-week_47",
          "2021-week_47",
          "2021-week_47",
          "2021-week_47",
          "2021-week_47",
          "2021-week_47",
          "2021-week_47",
          "2021-week_47",
          "2021-week_47",
          "2021-week_47",
          "2021-week_47",
          "2021-week_47",
          "2021-week_47",
          "2021-week_48",
          "2021-week_48",
          "2021-week_48",
          "2021-week_48",
          "2021-week_48",
          "2021-week_48",
          "2021-week_48",
          "2021-week_48",
          "2021-week_48",
          "2021-week_48",
          "2021-week_48",
          "2021-week_48",
          "2021-week_48",
          "2021-week_48",
          "2021-week_48",
          "2021-week_48",
          "2021-week_48",
          "2021-week_49",
          "2021-week_49",
          "2021-week_49",
          "2021-week_49",
          "2021-week_49",
          "2021-week_49",
          "2021-week_49",
          "2021-week_49",
          "2021-week_49",
          "2021-week_49",
          "2021-week_49",
          "2021-week_49",
          "2021-week_49",
          "2021-week_49",
          "2021-week_49",
          "2021-week_49",
          "2021-week_50",
          "2021-week_50",
          "2021-week_50",
          "2021-week_50",
          "2021-week_50",
          "2021-week_50",
          "2021-week_50",
          "2021-week_50",
          "2021-week_50",
          "2021-week_50",
          "2021-week_50",
          "2021-week_50",
          "2021-week_50",
          "2021-week_50",
          "2021-week_50",
          "2021-week_50",
          "2021-week_51",
          "2021-week_51",
          "2021-week_51",
          "2021-week_51",
          "2021-week_51",
          "2021-week_51",
          "2021-week_51",
          "2021-week_51",
          "2021-week_51",
          "2021-week_51",
          "2021-week_51",
          "2021-week_51",
          "2021-week_51",
          "2021-week_51",
          "2021-week_51",
          "2021-week_51",
          "2022-week_01",
          "2022-week_01",
          "2022-week_01",
          "2022-week_01",
          "2022-week_01",
          "2022-week_01",
          "2022-week_01",
          "2022-week_01",
          "2022-week_01",
          "2022-week_01",
          "2022-week_01",
          "2022-week_01",
          "2022-week_01",
          "2022-week_01",
          "2022-week_01",
          "2022-week_02",
          "2022-week_02",
          "2022-week_02",
          "2022-week_02",
          "2022-week_02",
          "2022-week_02",
          "2022-week_02",
          "2022-week_02",
          "2022-week_02",
          "2022-week_02",
          "2022-week_02",
          "2022-week_02",
          "2022-week_02",
          "2022-week_02",
          "2022-week_02",
          "2022-week_02",
          "2022-week_02",
          "2022-week_02",
          "2022-week_03",
          "2022-week_03",
          "2022-week_03",
          "2022-week_03",
          "2022-week_03",
          "2022-week_03",
          "2022-week_03",
          "2022-week_03",
          "2022-week_03",
          "2022-week_03",
          "2022-week_03",
          "2022-week_03",
          "2022-week_03",
          "2022-week_03",
          "2022-week_03",
          "2022-week_03",
          "2022-week_03",
          "2022-week_03",
          "2022-week_04",
          "2022-week_04",
          "2022-week_04",
          "2022-week_04",
          "2022-week_04",
          "2022-week_04",
          "2022-week_04",
          "2022-week_04",
          "2022-week_04",
          "2022-week_04",
          "2022-week_04",
          "2022-week_04",
          "2022-week_04",
          "2022-week_04",
          "2022-week_04",
          "2022-week_04",
          "2022-week_04",
          "2022-week_04",
          "2022-week_05",
          "2022-week_05",
          "2022-week_05",
          "2022-week_05",
          "2022-week_05",
          "2022-week_05",
          "2022-week_05",
          "2022-week_05",
          "2022-week_05",
          "2022-week_05",
          "2022-week_05",
          "2022-week_05",
          "2022-week_05",
          "2022-week_05",
          "2022-week_05",
          "2022-week_05",
          "2022-week_05",
          "2022-week_06",
          "2022-week_06",
          "2022-week_06",
          "2022-week_06",
          "2022-week_06",
          "2022-week_06",
          "2022-week_06",
          "2022-week_06",
          "2022-week_06",
          "2022-week_06",
          "2022-week_06",
          "2022-week_06",
          "2022-week_06",
          "2022-week_06",
          "2022-week_06",
          "2022-week_06",
          "2022-week_06",
          "2022-week_52",
          "2022-week_52",
          "2022-week_52",
          "2022-week_52",
          "2022-week_52",
          "2022-week_52",
          "2022-week_52",
          "2022-week_52",
          "2022-week_52",
          "2022-week_52",
          "2022-week_52",
          "2022-week_52",
          "2022-week_52",
          "2022-week_52",
          "2022-week_52",
          "2022-week_52"
         ],
         "xaxis": "x",
         "y": [
          2,
          38,
          16,
          1,
          502,
          84,
          10,
          46,
          2,
          357,
          15,
          2,
          350,
          468,
          1143,
          25,
          9,
          58,
          42,
          18,
          2,
          438,
          82,
          7,
          48,
          3,
          273,
          14,
          1,
          218,
          489,
          1385,
          22,
          5,
          80,
          1,
          33,
          11,
          1,
          2,
          437,
          99,
          5,
          44,
          5,
          412,
          20,
          190,
          507,
          1228,
          7,
          5,
          128,
          2,
          38,
          28,
          2,
          1,
          553,
          70,
          20,
          31,
          1,
          295,
          14,
          1,
          242,
          456,
          1241,
          12,
          15,
          122,
          4,
          32,
          23,
          3,
          449,
          88,
          17,
          43,
          1,
          373,
          9,
          1,
          187,
          463,
          1137,
          119,
          24,
          6,
          142,
          3,
          36,
          19,
          2,
          447,
          75,
          9,
          42,
          5,
          299,
          10,
          1,
          215,
          448,
          1152,
          165,
          32,
          4,
          160,
          1,
          32,
          17,
          2,
          471,
          79,
          12,
          29,
          2,
          346,
          92,
          1,
          160,
          383,
          1111,
          175,
          21,
          13,
          147,
          5,
          30,
          21,
          2,
          505,
          96,
          20,
          36,
          2,
          332,
          103,
          1,
          177,
          130,
          1234,
          174,
          22,
          8,
          131,
          2,
          36,
          19,
          1,
          3,
          568,
          100,
          17,
          58,
          3,
          274,
          92,
          1,
          2,
          222,
          1321,
          185,
          25,
          17,
          108,
          1,
          48,
          11,
          2,
          359,
          90,
          8,
          40,
          2,
          240,
          80,
          1,
          759,
          1138,
          185,
          12,
          5,
          89,
          1,
          34,
          9,
          1,
          417,
          84,
          9,
          32,
          1,
          344,
          103,
          743,
          1032,
          157,
          13,
          7,
          77,
          1,
          23,
          13,
          2,
          506,
          82,
          11,
          52,
          6,
          280,
          71,
          1,
          2,
          836,
          927,
          180,
          27,
          5,
          93,
          1,
          21,
          7,
          2,
          597,
          76,
          16,
          48,
          4,
          250,
          11,
          1,
          8,
          1096,
          726,
          140,
          20,
          17,
          116,
          2,
          25,
          30,
          2,
          434,
          68,
          14,
          59,
          3,
          445,
          13,
          5,
          7,
          928,
          789,
          11,
          16,
          108,
          1,
          29,
          14,
          6,
          235,
          81,
          13,
          52,
          5,
          249,
          13,
          2,
          932,
          791,
          14,
          13,
          117,
          2,
          32,
          14,
          6,
          327,
          103,
          12,
          43,
          4,
          614,
          11,
          1,
          768,
          994,
          14,
          8,
          119,
          4,
          29,
          16,
          12,
          336,
          113,
          13,
          60,
          8,
          315,
          16,
          2,
          950,
          1140,
          11,
          109,
          1,
          34,
          13,
          6,
          338,
          83,
          6,
          40,
          3,
          543,
          11,
          1,
          892,
          1065,
          12,
          102,
          38,
          24,
          8,
          369,
          86,
          19,
          1,
          57,
          4,
          302,
          8,
          1,
          1073,
          1014,
          13,
          115,
          2,
          43,
          11,
          7,
          320,
          106,
          6,
          49,
          3,
          344,
          12,
          742,
          1357,
          14,
          124,
          1,
          34,
          14,
          11,
          349,
          98,
          19,
          34,
          3,
          382,
          5,
          1,
          1,
          781,
          1307,
          3,
          8,
          99,
          5,
          25,
          8,
          3,
          511,
          83,
          10,
          31,
          4,
          567,
          7,
          1,
          1,
          742,
          1038,
          2,
          2,
          87,
          4,
          26,
          10,
          6,
          825,
          59,
          8,
          32,
          1,
          295,
          5,
          1,
          11,
          705,
          976,
          2,
          6,
          87,
          20,
          7,
          4,
          960,
          45,
          5,
          28,
          3,
          414,
          6,
          1,
          4,
          548,
          906,
          2,
          9,
          73,
          22,
          10,
          5,
          1167,
          50,
          6,
          23,
          4,
          228,
          3,
          1,
          4,
          568,
          794,
          4,
          6,
          62,
          4,
          39,
          28,
          7,
          424,
          57,
          27,
          65,
          4,
          724,
          10,
          1,
          886,
          712,
          18,
          125
         ],
         "yaxis": "y"
        },
        {
         "alignmentgroup": "True",
         "customdata": [
          [
           "Allthetopbananas.com"
          ],
          [
           "Bizanga"
          ],
          [
           "Crescendo Networks"
          ],
          [
           "Cuiker"
          ],
          [
           "Fry Multimedia"
          ],
          [
           "G-mode"
          ],
          [
           "LocalVox Media"
          ],
          [
           "MoJoe Brewing Company"
          ],
          [
           "Modanisa"
          ],
          [
           "OpenDesks, Inc."
          ],
          [
           "Puentes Company"
          ],
          [
           "Search Million Culture"
          ],
          [
           "aPriori Technologies"
          ],
          [
           "iDreamsky Technology"
          ],
          [
           "Allthetopbananas.com"
          ],
          [
           "Bizanga"
          ],
          [
           "Crescendo Networks"
          ],
          [
           "Cuiker"
          ],
          [
           "Fry Multimedia"
          ],
          [
           "G-mode"
          ],
          [
           "LocalVox Media"
          ],
          [
           "MoJoe Brewing Company"
          ],
          [
           "Modanisa"
          ],
          [
           "OpenDesks, Inc."
          ],
          [
           "Puentes Company"
          ],
          [
           "RelayFoods"
          ],
          [
           "Search Million Culture"
          ],
          [
           "aPriori Technologies"
          ],
          [
           "iDreamsky Technology"
          ],
          [
           "Allthetopbananas.com"
          ],
          [
           "Bizanga"
          ],
          [
           "Crescendo Networks"
          ],
          [
           "Fry Multimedia"
          ],
          [
           "G-mode"
          ],
          [
           "LocalVox Media"
          ],
          [
           "MoJoe Brewing Company"
          ],
          [
           "Modanisa"
          ],
          [
           "OpenDesks, Inc."
          ],
          [
           "Puentes Company"
          ],
          [
           "RelayFoods"
          ],
          [
           "Search Million Culture"
          ],
          [
           "aPriori Technologies"
          ],
          [
           "iDreamsky Technology"
          ],
          [
           "Allthetopbananas.com"
          ],
          [
           "Bizanga"
          ],
          [
           "Crescendo Networks"
          ],
          [
           "Cuiker"
          ],
          [
           "Fry Multimedia"
          ],
          [
           "G-mode"
          ],
          [
           "LocalVox Media"
          ],
          [
           "MoJoe Brewing Company"
          ],
          [
           "Modanisa"
          ],
          [
           "OpenDesks, Inc."
          ],
          [
           "Puentes Company"
          ],
          [
           "RelayFoods"
          ],
          [
           "Search Million Culture"
          ],
          [
           "aPriori Technologies"
          ],
          [
           "iDreamsky Technology"
          ],
          [
           "Allthetopbananas.com"
          ],
          [
           "Bizanga"
          ],
          [
           "Crescendo Networks"
          ],
          [
           "Fry Multimedia"
          ],
          [
           "G-mode"
          ],
          [
           "LocalVox Media"
          ],
          [
           "MoJoe Brewing Company"
          ],
          [
           "Modanisa"
          ],
          [
           "OpenDesks, Inc."
          ],
          [
           "Puentes Company"
          ],
          [
           "RelayFoods"
          ],
          [
           "Search Million Culture"
          ],
          [
           "aPriori Technologies"
          ],
          [
           "iDreamsky Technology"
          ],
          [
           "Allthetopbananas.com"
          ],
          [
           "Bizanga"
          ],
          [
           "Crescendo Networks"
          ],
          [
           "Fry Multimedia"
          ],
          [
           "G-mode"
          ],
          [
           "LocalVox Media"
          ],
          [
           "MoJoe Brewing Company"
          ],
          [
           "Modanisa"
          ],
          [
           "OpenDesks, Inc."
          ],
          [
           "Puentes Company"
          ],
          [
           "RelayFoods"
          ],
          [
           "Search Million Culture"
          ],
          [
           "aPriori Technologies"
          ],
          [
           "iDreamsky Technology"
          ],
          [
           "Allthetopbananas.com"
          ],
          [
           "Bizanga"
          ],
          [
           "Crescendo Networks"
          ],
          [
           "Fry Multimedia"
          ],
          [
           "G-mode"
          ],
          [
           "LocalVox Media"
          ],
          [
           "MoJoe Brewing Company"
          ],
          [
           "Modanisa"
          ],
          [
           "OpenDesks, Inc."
          ],
          [
           "Puentes Company"
          ],
          [
           "RelayFoods"
          ],
          [
           "Search Million Culture"
          ],
          [
           "aPriori Technologies"
          ],
          [
           "iDreamsky Technology"
          ],
          [
           "Allthetopbananas.com"
          ],
          [
           "Bizanga"
          ],
          [
           "Crescendo Networks"
          ],
          [
           "Fry Multimedia"
          ],
          [
           "G-mode"
          ],
          [
           "LocalVox Media"
          ],
          [
           "MoJoe Brewing Company"
          ],
          [
           "Modanisa"
          ],
          [
           "OpenDesks, Inc."
          ],
          [
           "Puentes Company"
          ],
          [
           "RelayFoods"
          ],
          [
           "Search Million Culture"
          ],
          [
           "aPriori Technologies"
          ],
          [
           "iDreamsky Technology"
          ],
          [
           "Allthetopbananas.com"
          ],
          [
           "Bizanga"
          ],
          [
           "Crescendo Networks"
          ],
          [
           "Cuiker"
          ],
          [
           "Fry Multimedia"
          ],
          [
           "G-mode"
          ],
          [
           "LocalVox Media"
          ],
          [
           "MoJoe Brewing Company"
          ],
          [
           "Modanisa"
          ],
          [
           "OpenDesks, Inc."
          ],
          [
           "Pole Star"
          ],
          [
           "Puentes Company"
          ],
          [
           "RelayFoods"
          ],
          [
           "Search Million Culture"
          ],
          [
           "aPriori Technologies"
          ],
          [
           "iDreamsky Technology"
          ],
          [
           "Allthetopbananas.com"
          ],
          [
           "Bizanga"
          ],
          [
           "Crescendo Networks"
          ],
          [
           "Fry Multimedia"
          ],
          [
           "G-mode"
          ],
          [
           "LocalVox Media"
          ],
          [
           "MoJoe Brewing Company"
          ],
          [
           "Modanisa"
          ],
          [
           "OpenDesks, Inc."
          ],
          [
           "Puentes Company"
          ],
          [
           "RelayFoods"
          ],
          [
           "Search Million Culture"
          ],
          [
           "aPriori Technologies"
          ],
          [
           "iDreamsky Technology"
          ],
          [
           "Allthetopbananas.com"
          ],
          [
           "Bizanga"
          ],
          [
           "Crescendo Networks"
          ],
          [
           "Fry Multimedia"
          ],
          [
           "G-mode"
          ],
          [
           "LocalVox Media"
          ],
          [
           "MoJoe Brewing Company"
          ],
          [
           "Modanisa"
          ],
          [
           "OpenDesks, Inc."
          ],
          [
           "Puentes Company"
          ],
          [
           "RelayFoods"
          ],
          [
           "Search Million Culture"
          ],
          [
           "aPriori Technologies"
          ],
          [
           "iDreamsky Technology"
          ],
          [
           "Allthetopbananas.com"
          ],
          [
           "Bizanga"
          ],
          [
           "Crescendo Networks"
          ],
          [
           "Fry Multimedia"
          ],
          [
           "G-mode"
          ],
          [
           "LocalVox Media"
          ],
          [
           "MoJoe Brewing Company"
          ],
          [
           "Modanisa"
          ],
          [
           "OpenDesks, Inc."
          ],
          [
           "Puentes Company"
          ],
          [
           "RelayFoods"
          ],
          [
           "Search Million Culture"
          ],
          [
           "aPriori Technologies"
          ],
          [
           "iDreamsky Technology"
          ],
          [
           "Allthetopbananas.com"
          ],
          [
           "Bizanga"
          ],
          [
           "Crescendo Networks"
          ],
          [
           "Cuiker"
          ],
          [
           "Fry Multimedia"
          ],
          [
           "G-mode"
          ],
          [
           "LocalVox Media"
          ],
          [
           "MoJoe Brewing Company"
          ],
          [
           "Modanisa"
          ],
          [
           "OpenDesks, Inc."
          ],
          [
           "Pole Star"
          ],
          [
           "Puentes Company"
          ],
          [
           "RelayFoods"
          ],
          [
           "Search Million Culture"
          ],
          [
           "aPriori Technologies"
          ],
          [
           "iDreamsky Technology"
          ],
          [
           "Allthetopbananas.com"
          ],
          [
           "Bizanga"
          ],
          [
           "Crescendo Networks"
          ],
          [
           "Fry Multimedia"
          ],
          [
           "G-mode"
          ],
          [
           "LocalVox Media"
          ],
          [
           "MoJoe Brewing Company"
          ],
          [
           "Modanisa"
          ],
          [
           "OpenDesks, Inc."
          ],
          [
           "Pole Star"
          ],
          [
           "Puentes Company"
          ],
          [
           "RelayFoods"
          ],
          [
           "Search Million Culture"
          ],
          [
           "aPriori Technologies"
          ],
          [
           "iDreamsky Technology"
          ],
          [
           "Allthetopbananas.com"
          ],
          [
           "Bizanga"
          ],
          [
           "Crescendo Networks"
          ],
          [
           "Cuiker"
          ],
          [
           "Fry Multimedia"
          ],
          [
           "G-mode"
          ],
          [
           "LocalVox Media"
          ],
          [
           "MoJoe Brewing Company"
          ],
          [
           "Modanisa"
          ],
          [
           "OpenDesks, Inc."
          ],
          [
           "Puentes Company"
          ],
          [
           "RelayFoods"
          ],
          [
           "Search Million Culture"
          ],
          [
           "aPriori Technologies"
          ],
          [
           "iDreamsky Technology"
          ],
          [
           "Allthetopbananas.com"
          ],
          [
           "Bizanga"
          ],
          [
           "Crescendo Networks"
          ],
          [
           "Fry Multimedia"
          ],
          [
           "G-mode"
          ],
          [
           "LocalVox Media"
          ],
          [
           "MoJoe Brewing Company"
          ],
          [
           "Modanisa"
          ],
          [
           "OpenDesks, Inc."
          ],
          [
           "Puentes Company"
          ],
          [
           "RelayFoods"
          ],
          [
           "Search Million Culture"
          ],
          [
           "aPriori Technologies"
          ],
          [
           "iDreamsky Technology"
          ],
          [
           "Allthetopbananas.com"
          ],
          [
           "Bizanga"
          ],
          [
           "Crescendo Networks"
          ],
          [
           "Cuiker"
          ],
          [
           "Fry Multimedia"
          ],
          [
           "G-mode"
          ],
          [
           "LocalVox Media"
          ],
          [
           "MoJoe Brewing Company"
          ],
          [
           "Modanisa"
          ],
          [
           "OpenDesks, Inc."
          ],
          [
           "Puentes Company"
          ],
          [
           "RelayFoods"
          ],
          [
           "Search Million Culture"
          ],
          [
           "aPriori Technologies"
          ],
          [
           "iDreamsky Technology"
          ],
          [
           "Allthetopbananas.com"
          ],
          [
           "Bizanga"
          ],
          [
           "Crescendo Networks"
          ],
          [
           "Cuiker"
          ],
          [
           "G-mode"
          ],
          [
           "LocalVox Media"
          ],
          [
           "MoJoe Brewing Company"
          ],
          [
           "Modanisa"
          ],
          [
           "OpenDesks, Inc."
          ],
          [
           "Puentes Company"
          ],
          [
           "RelayFoods"
          ],
          [
           "Search Million Culture"
          ],
          [
           "aPriori Technologies"
          ],
          [
           "iDreamsky Technology"
          ],
          [
           "Allthetopbananas.com"
          ],
          [
           "Bizanga"
          ],
          [
           "Crescendo Networks"
          ],
          [
           "Fry Multimedia"
          ],
          [
           "G-mode"
          ],
          [
           "LocalVox Media"
          ],
          [
           "MoJoe Brewing Company"
          ],
          [
           "Modanisa"
          ],
          [
           "OpenDesks, Inc."
          ],
          [
           "Puentes Company"
          ],
          [
           "RelayFoods"
          ],
          [
           "Search Million Culture"
          ],
          [
           "aPriori Technologies"
          ],
          [
           "iDreamsky Technology"
          ],
          [
           "Allthetopbananas.com"
          ],
          [
           "Bizanga"
          ],
          [
           "Crescendo Networks"
          ],
          [
           "Cuiker"
          ],
          [
           "Fry Multimedia"
          ],
          [
           "G-mode"
          ],
          [
           "LocalVox Media"
          ],
          [
           "MoJoe Brewing Company"
          ],
          [
           "Modanisa"
          ],
          [
           "OpenDesks, Inc."
          ],
          [
           "Pole Star"
          ],
          [
           "Puentes Company"
          ],
          [
           "RelayFoods"
          ],
          [
           "Search Million Culture"
          ],
          [
           "aPriori Technologies"
          ],
          [
           "iDreamsky Technology"
          ],
          [
           "Allthetopbananas.com"
          ],
          [
           "Bizanga"
          ],
          [
           "Crescendo Networks"
          ],
          [
           "Fry Multimedia"
          ],
          [
           "G-mode"
          ],
          [
           "LocalVox Media"
          ],
          [
           "MoJoe Brewing Company"
          ],
          [
           "Modanisa"
          ],
          [
           "OpenDesks, Inc."
          ],
          [
           "Pole Star"
          ],
          [
           "Puentes Company"
          ],
          [
           "RelayFoods"
          ],
          [
           "Search Million Culture"
          ],
          [
           "aPriori Technologies"
          ],
          [
           "iDreamsky Technology"
          ],
          [
           "Allthetopbananas.com"
          ],
          [
           "Bizanga"
          ],
          [
           "Crescendo Networks"
          ],
          [
           "Cuiker"
          ],
          [
           "Fry Multimedia"
          ],
          [
           "G-mode"
          ],
          [
           "LocalVox Media"
          ],
          [
           "MoJoe Brewing Company"
          ],
          [
           "Modanisa"
          ],
          [
           "OpenDesks, Inc."
          ],
          [
           "Puentes Company"
          ],
          [
           "RelayFoods"
          ],
          [
           "Search Million Culture"
          ],
          [
           "VarVee"
          ],
          [
           "aPriori Technologies"
          ],
          [
           "iDreamsky Technology"
          ],
          [
           "Allthetopbananas.com"
          ],
          [
           "Bizanga"
          ],
          [
           "Crescendo Networks"
          ],
          [
           "Fry Multimedia"
          ],
          [
           "G-mode"
          ],
          [
           "LocalVox Media"
          ],
          [
           "MoJoe Brewing Company"
          ],
          [
           "Modanisa"
          ],
          [
           "OpenDesks, Inc."
          ],
          [
           "Pole Star"
          ],
          [
           "Puentes Company"
          ],
          [
           "RelayFoods"
          ],
          [
           "Search Million Culture"
          ],
          [
           "VarVee"
          ],
          [
           "aPriori Technologies"
          ],
          [
           "iDreamsky Technology"
          ],
          [
           "Bizanga"
          ],
          [
           "Crescendo Networks"
          ],
          [
           "Fry Multimedia"
          ],
          [
           "G-mode"
          ],
          [
           "LocalVox Media"
          ],
          [
           "MoJoe Brewing Company"
          ],
          [
           "Modanisa"
          ],
          [
           "OpenDesks, Inc."
          ],
          [
           "Pole Star"
          ],
          [
           "Puentes Company"
          ],
          [
           "RelayFoods"
          ],
          [
           "Search Million Culture"
          ],
          [
           "VarVee"
          ],
          [
           "aPriori Technologies"
          ],
          [
           "iDreamsky Technology"
          ],
          [
           "Allthetopbananas.com"
          ],
          [
           "Bizanga"
          ],
          [
           "Crescendo Networks"
          ],
          [
           "Cuiker"
          ],
          [
           "Fry Multimedia"
          ],
          [
           "G-mode"
          ],
          [
           "LocalVox Media"
          ],
          [
           "MoJoe Brewing Company"
          ],
          [
           "Modanisa"
          ],
          [
           "OpenDesks, Inc."
          ],
          [
           "Pole Star"
          ],
          [
           "Puentes Company"
          ],
          [
           "RelayFoods"
          ],
          [
           "Search Million Culture"
          ],
          [
           "aPriori Technologies"
          ],
          [
           "iDreamsky Technology"
          ],
          [
           "Allthetopbananas.com"
          ],
          [
           "Bizanga"
          ],
          [
           "Crescendo Networks"
          ],
          [
           "Cuiker"
          ],
          [
           "Fry Multimedia"
          ],
          [
           "G-mode"
          ],
          [
           "LocalVox Media"
          ],
          [
           "MoJoe Brewing Company"
          ],
          [
           "Modanisa"
          ],
          [
           "OpenDesks, Inc."
          ],
          [
           "Puentes Company"
          ],
          [
           "RelayFoods"
          ],
          [
           "Search Million Culture"
          ],
          [
           "aPriori Technologies"
          ],
          [
           "iDreamsky Technology"
          ]
         ],
         "hovertemplate": "region=IN<br>week_id=%{x}<br>num_of_requests=%{y}<br>requester=%{customdata[0]}<extra></extra>",
         "legendgroup": "IN",
         "marker": {
          "color": "#00cc96",
          "pattern": {
           "shape": ""
          }
         },
         "name": "IN",
         "offsetgroup": "IN",
         "orientation": "v",
         "showlegend": true,
         "textposition": "auto",
         "type": "bar",
         "visible": true,
         "x": [
          "2021-week_33",
          "2021-week_33",
          "2021-week_33",
          "2021-week_33",
          "2021-week_33",
          "2021-week_33",
          "2021-week_33",
          "2021-week_33",
          "2021-week_33",
          "2021-week_33",
          "2021-week_33",
          "2021-week_33",
          "2021-week_33",
          "2021-week_33",
          "2021-week_34",
          "2021-week_34",
          "2021-week_34",
          "2021-week_34",
          "2021-week_34",
          "2021-week_34",
          "2021-week_34",
          "2021-week_34",
          "2021-week_34",
          "2021-week_34",
          "2021-week_34",
          "2021-week_34",
          "2021-week_34",
          "2021-week_34",
          "2021-week_34",
          "2021-week_35",
          "2021-week_35",
          "2021-week_35",
          "2021-week_35",
          "2021-week_35",
          "2021-week_35",
          "2021-week_35",
          "2021-week_35",
          "2021-week_35",
          "2021-week_35",
          "2021-week_35",
          "2021-week_35",
          "2021-week_35",
          "2021-week_35",
          "2021-week_36",
          "2021-week_36",
          "2021-week_36",
          "2021-week_36",
          "2021-week_36",
          "2021-week_36",
          "2021-week_36",
          "2021-week_36",
          "2021-week_36",
          "2021-week_36",
          "2021-week_36",
          "2021-week_36",
          "2021-week_36",
          "2021-week_36",
          "2021-week_36",
          "2021-week_37",
          "2021-week_37",
          "2021-week_37",
          "2021-week_37",
          "2021-week_37",
          "2021-week_37",
          "2021-week_37",
          "2021-week_37",
          "2021-week_37",
          "2021-week_37",
          "2021-week_37",
          "2021-week_37",
          "2021-week_37",
          "2021-week_37",
          "2021-week_38",
          "2021-week_38",
          "2021-week_38",
          "2021-week_38",
          "2021-week_38",
          "2021-week_38",
          "2021-week_38",
          "2021-week_38",
          "2021-week_38",
          "2021-week_38",
          "2021-week_38",
          "2021-week_38",
          "2021-week_38",
          "2021-week_38",
          "2021-week_39",
          "2021-week_39",
          "2021-week_39",
          "2021-week_39",
          "2021-week_39",
          "2021-week_39",
          "2021-week_39",
          "2021-week_39",
          "2021-week_39",
          "2021-week_39",
          "2021-week_39",
          "2021-week_39",
          "2021-week_39",
          "2021-week_39",
          "2021-week_40",
          "2021-week_40",
          "2021-week_40",
          "2021-week_40",
          "2021-week_40",
          "2021-week_40",
          "2021-week_40",
          "2021-week_40",
          "2021-week_40",
          "2021-week_40",
          "2021-week_40",
          "2021-week_40",
          "2021-week_40",
          "2021-week_40",
          "2021-week_41",
          "2021-week_41",
          "2021-week_41",
          "2021-week_41",
          "2021-week_41",
          "2021-week_41",
          "2021-week_41",
          "2021-week_41",
          "2021-week_41",
          "2021-week_41",
          "2021-week_41",
          "2021-week_41",
          "2021-week_41",
          "2021-week_41",
          "2021-week_41",
          "2021-week_41",
          "2021-week_42",
          "2021-week_42",
          "2021-week_42",
          "2021-week_42",
          "2021-week_42",
          "2021-week_42",
          "2021-week_42",
          "2021-week_42",
          "2021-week_42",
          "2021-week_42",
          "2021-week_42",
          "2021-week_42",
          "2021-week_42",
          "2021-week_42",
          "2021-week_43",
          "2021-week_43",
          "2021-week_43",
          "2021-week_43",
          "2021-week_43",
          "2021-week_43",
          "2021-week_43",
          "2021-week_43",
          "2021-week_43",
          "2021-week_43",
          "2021-week_43",
          "2021-week_43",
          "2021-week_43",
          "2021-week_43",
          "2021-week_44",
          "2021-week_44",
          "2021-week_44",
          "2021-week_44",
          "2021-week_44",
          "2021-week_44",
          "2021-week_44",
          "2021-week_44",
          "2021-week_44",
          "2021-week_44",
          "2021-week_44",
          "2021-week_44",
          "2021-week_44",
          "2021-week_44",
          "2021-week_45",
          "2021-week_45",
          "2021-week_45",
          "2021-week_45",
          "2021-week_45",
          "2021-week_45",
          "2021-week_45",
          "2021-week_45",
          "2021-week_45",
          "2021-week_45",
          "2021-week_45",
          "2021-week_45",
          "2021-week_45",
          "2021-week_45",
          "2021-week_45",
          "2021-week_45",
          "2021-week_46",
          "2021-week_46",
          "2021-week_46",
          "2021-week_46",
          "2021-week_46",
          "2021-week_46",
          "2021-week_46",
          "2021-week_46",
          "2021-week_46",
          "2021-week_46",
          "2021-week_46",
          "2021-week_46",
          "2021-week_46",
          "2021-week_46",
          "2021-week_46",
          "2021-week_47",
          "2021-week_47",
          "2021-week_47",
          "2021-week_47",
          "2021-week_47",
          "2021-week_47",
          "2021-week_47",
          "2021-week_47",
          "2021-week_47",
          "2021-week_47",
          "2021-week_47",
          "2021-week_47",
          "2021-week_47",
          "2021-week_47",
          "2021-week_47",
          "2021-week_48",
          "2021-week_48",
          "2021-week_48",
          "2021-week_48",
          "2021-week_48",
          "2021-week_48",
          "2021-week_48",
          "2021-week_48",
          "2021-week_48",
          "2021-week_48",
          "2021-week_48",
          "2021-week_48",
          "2021-week_48",
          "2021-week_48",
          "2021-week_49",
          "2021-week_49",
          "2021-week_49",
          "2021-week_49",
          "2021-week_49",
          "2021-week_49",
          "2021-week_49",
          "2021-week_49",
          "2021-week_49",
          "2021-week_49",
          "2021-week_49",
          "2021-week_49",
          "2021-week_49",
          "2021-week_49",
          "2021-week_49",
          "2021-week_50",
          "2021-week_50",
          "2021-week_50",
          "2021-week_50",
          "2021-week_50",
          "2021-week_50",
          "2021-week_50",
          "2021-week_50",
          "2021-week_50",
          "2021-week_50",
          "2021-week_50",
          "2021-week_50",
          "2021-week_50",
          "2021-week_50",
          "2021-week_51",
          "2021-week_51",
          "2021-week_51",
          "2021-week_51",
          "2021-week_51",
          "2021-week_51",
          "2021-week_51",
          "2021-week_51",
          "2021-week_51",
          "2021-week_51",
          "2021-week_51",
          "2021-week_51",
          "2021-week_51",
          "2021-week_51",
          "2022-week_01",
          "2022-week_01",
          "2022-week_01",
          "2022-week_01",
          "2022-week_01",
          "2022-week_01",
          "2022-week_01",
          "2022-week_01",
          "2022-week_01",
          "2022-week_01",
          "2022-week_01",
          "2022-week_01",
          "2022-week_01",
          "2022-week_01",
          "2022-week_01",
          "2022-week_01",
          "2022-week_02",
          "2022-week_02",
          "2022-week_02",
          "2022-week_02",
          "2022-week_02",
          "2022-week_02",
          "2022-week_02",
          "2022-week_02",
          "2022-week_02",
          "2022-week_02",
          "2022-week_02",
          "2022-week_02",
          "2022-week_02",
          "2022-week_02",
          "2022-week_02",
          "2022-week_03",
          "2022-week_03",
          "2022-week_03",
          "2022-week_03",
          "2022-week_03",
          "2022-week_03",
          "2022-week_03",
          "2022-week_03",
          "2022-week_03",
          "2022-week_03",
          "2022-week_03",
          "2022-week_03",
          "2022-week_03",
          "2022-week_03",
          "2022-week_03",
          "2022-week_03",
          "2022-week_04",
          "2022-week_04",
          "2022-week_04",
          "2022-week_04",
          "2022-week_04",
          "2022-week_04",
          "2022-week_04",
          "2022-week_04",
          "2022-week_04",
          "2022-week_04",
          "2022-week_04",
          "2022-week_04",
          "2022-week_04",
          "2022-week_04",
          "2022-week_04",
          "2022-week_04",
          "2022-week_05",
          "2022-week_05",
          "2022-week_05",
          "2022-week_05",
          "2022-week_05",
          "2022-week_05",
          "2022-week_05",
          "2022-week_05",
          "2022-week_05",
          "2022-week_05",
          "2022-week_05",
          "2022-week_05",
          "2022-week_05",
          "2022-week_05",
          "2022-week_05",
          "2022-week_06",
          "2022-week_06",
          "2022-week_06",
          "2022-week_06",
          "2022-week_06",
          "2022-week_06",
          "2022-week_06",
          "2022-week_06",
          "2022-week_06",
          "2022-week_06",
          "2022-week_06",
          "2022-week_06",
          "2022-week_06",
          "2022-week_06",
          "2022-week_06",
          "2022-week_06",
          "2022-week_52",
          "2022-week_52",
          "2022-week_52",
          "2022-week_52",
          "2022-week_52",
          "2022-week_52",
          "2022-week_52",
          "2022-week_52",
          "2022-week_52",
          "2022-week_52",
          "2022-week_52",
          "2022-week_52",
          "2022-week_52",
          "2022-week_52",
          "2022-week_52"
         ],
         "xaxis": "x",
         "y": [
          4,
          18,
          7,
          1,
          21,
          13,
          30,
          126,
          21,
          2,
          1322,
          1471,
          18,
          34,
          3,
          20,
          19,
          1,
          22,
          12,
          40,
          137,
          21,
          2,
          1137,
          137,
          1516,
          15,
          49,
          5,
          22,
          25,
          32,
          23,
          26,
          137,
          22,
          5,
          1049,
          222,
          1471,
          24,
          72,
          9,
          20,
          25,
          1,
          24,
          38,
          19,
          137,
          17,
          3,
          1058,
          238,
          1447,
          9,
          69,
          6,
          22,
          28,
          26,
          32,
          38,
          115,
          25,
          5,
          1047,
          233,
          1416,
          15,
          94,
          10,
          24,
          26,
          18,
          22,
          19,
          133,
          28,
          10,
          961,
          240,
          1450,
          11,
          123,
          5,
          26,
          28,
          19,
          29,
          35,
          118,
          108,
          14,
          949,
          200,
          1347,
          26,
          129,
          8,
          25,
          66,
          24,
          25,
          30,
          62,
          56,
          5,
          951,
          87,
          1272,
          21,
          94,
          6,
          24,
          32,
          1,
          19,
          18,
          25,
          63,
          55,
          5,
          2,
          1202,
          144,
          1274,
          7,
          86,
          2,
          27,
          20,
          16,
          21,
          20,
          54,
          60,
          6,
          996,
          543,
          1177,
          18,
          54,
          1,
          18,
          25,
          12,
          17,
          25,
          237,
          77,
          2,
          884,
          505,
          1129,
          11,
          48,
          5,
          28,
          33,
          14,
          18,
          36,
          173,
          50,
          4,
          1066,
          642,
          899,
          14,
          52,
          7,
          32,
          22,
          1,
          6,
          25,
          36,
          235,
          32,
          3,
          3,
          1423,
          1142,
          28,
          15,
          76,
          5,
          59,
          17,
          1,
          19,
          37,
          443,
          28,
          5,
          2,
          1303,
          1106,
          37,
          17,
          58,
          2,
          58,
          11,
          1,
          3,
          12,
          32,
          302,
          33,
          8,
          1277,
          1235,
          27,
          22,
          78,
          5,
          47,
          20,
          3,
          23,
          38,
          633,
          18,
          5,
          1147,
          1014,
          15,
          21,
          66,
          2,
          56,
          20,
          2,
          4,
          24,
          36,
          404,
          18,
          8,
          1274,
          1123,
          42,
          19,
          62,
          3,
          61,
          11,
          1,
          17,
          32,
          575,
          15,
          2,
          1187,
          1087,
          31,
          17,
          71,
          1,
          44,
          22,
          1,
          25,
          32,
          337,
          14,
          4,
          1284,
          1213,
          35,
          18,
          56,
          2,
          54,
          12,
          1,
          21,
          19,
          40,
          399,
          24,
          10,
          1,
          1296,
          1091,
          30,
          19,
          72,
          4,
          52,
          17,
          51,
          21,
          42,
          399,
          24,
          2,
          1,
          1264,
          1108,
          42,
          15,
          65,
          3,
          35,
          16,
          1,
          22,
          19,
          28,
          308,
          12,
          6,
          917,
          767,
          908,
          1,
          15,
          57,
          2,
          22,
          12,
          20,
          20,
          21,
          270,
          15,
          3,
          2,
          818,
          675,
          1238,
          2,
          9,
          36,
          22,
          14,
          15,
          16,
          21,
          298,
          10,
          3,
          3,
          795,
          650,
          1239,
          1,
          13,
          42,
          1,
          30,
          9,
          1,
          12,
          8,
          25,
          294,
          9,
          6,
          1,
          822,
          731,
          1133,
          12,
          46,
          6,
          49,
          20,
          1,
          5,
          20,
          30,
          628,
          12,
          5,
          1073,
          1144,
          27,
          13,
          59
         ],
         "yaxis": "y"
        },
        {
         "alignmentgroup": "True",
         "customdata": [
          [
           "Crescendo Networks"
          ],
          [
           "Fry Multimedia"
          ],
          [
           "G-mode"
          ],
          [
           "LocalVox Media"
          ],
          [
           "MoJoe Brewing Company"
          ],
          [
           "Modanisa"
          ],
          [
           "OpenDesks, Inc."
          ],
          [
           "RelayFoods"
          ],
          [
           "Search Million Culture"
          ],
          [
           "aPriori Technologies"
          ],
          [
           "iDreamsky Technology"
          ],
          [
           "Crescendo Networks"
          ],
          [
           "Extreme DA"
          ],
          [
           "Fry Multimedia"
          ],
          [
           "G-mode"
          ],
          [
           "LocalVox Media"
          ],
          [
           "MoJoe Brewing Company"
          ],
          [
           "Modanisa"
          ],
          [
           "RelayFoods"
          ],
          [
           "Search Million Culture"
          ],
          [
           "VarVee"
          ],
          [
           "aPriori Technologies"
          ],
          [
           "iDreamsky Technology"
          ],
          [
           "Bizanga"
          ],
          [
           "Crescendo Networks"
          ],
          [
           "Fry Multimedia"
          ],
          [
           "G-mode"
          ],
          [
           "LocalVox Media"
          ],
          [
           "MoJoe Brewing Company"
          ],
          [
           "Modanisa"
          ],
          [
           "RelayFoods"
          ],
          [
           "Search Million Culture"
          ],
          [
           "VarVee"
          ],
          [
           "aPriori Technologies"
          ],
          [
           "iDreamsky Technology"
          ],
          [
           "Crescendo Networks"
          ],
          [
           "Extreme DA"
          ],
          [
           "Fry Multimedia"
          ],
          [
           "G-mode"
          ],
          [
           "LocalVox Media"
          ],
          [
           "MoJoe Brewing Company"
          ],
          [
           "Modanisa"
          ],
          [
           "RelayFoods"
          ],
          [
           "Search Million Culture"
          ],
          [
           "VarVee"
          ],
          [
           "iDreamsky Technology"
          ],
          [
           "Crescendo Networks"
          ],
          [
           "Fry Multimedia"
          ],
          [
           "G-mode"
          ],
          [
           "LocalVox Media"
          ],
          [
           "MoJoe Brewing Company"
          ],
          [
           "Modanisa"
          ],
          [
           "RelayFoods"
          ],
          [
           "Search Million Culture"
          ],
          [
           "VarVee"
          ],
          [
           "aPriori Technologies"
          ],
          [
           "iDreamsky Technology"
          ],
          [
           "Crescendo Networks"
          ],
          [
           "Fry Multimedia"
          ],
          [
           "G-mode"
          ],
          [
           "LocalVox Media"
          ],
          [
           "MoJoe Brewing Company"
          ],
          [
           "Modanisa"
          ],
          [
           "RelayFoods"
          ],
          [
           "Search Million Culture"
          ],
          [
           "VarVee"
          ],
          [
           "aPriori Technologies"
          ],
          [
           "iDreamsky Technology"
          ],
          [
           "Crescendo Networks"
          ],
          [
           "Fry Multimedia"
          ],
          [
           "G-mode"
          ],
          [
           "LocalVox Media"
          ],
          [
           "MoJoe Brewing Company"
          ],
          [
           "Modanisa"
          ],
          [
           "OpenDesks, Inc."
          ],
          [
           "RelayFoods"
          ],
          [
           "Search Million Culture"
          ],
          [
           "Tab Solutions"
          ],
          [
           "VarVee"
          ],
          [
           "aPriori Technologies"
          ],
          [
           "iDreamsky Technology"
          ],
          [
           "Bizanga"
          ],
          [
           "Crescendo Networks"
          ],
          [
           "Extreme DA"
          ],
          [
           "Fry Multimedia"
          ],
          [
           "G-mode"
          ],
          [
           "LocalVox Media"
          ],
          [
           "MoJoe Brewing Company"
          ],
          [
           "Modanisa"
          ],
          [
           "RelayFoods"
          ],
          [
           "Search Million Culture"
          ],
          [
           "Tab Solutions"
          ],
          [
           "VarVee"
          ],
          [
           "aPriori Technologies"
          ],
          [
           "iDreamsky Technology"
          ],
          [
           "Bizanga"
          ],
          [
           "Crescendo Networks"
          ],
          [
           "Fry Multimedia"
          ],
          [
           "G-mode"
          ],
          [
           "LocalVox Media"
          ],
          [
           "MoJoe Brewing Company"
          ],
          [
           "Modanisa"
          ],
          [
           "Pole Star"
          ],
          [
           "RelayFoods"
          ],
          [
           "Search Million Culture"
          ],
          [
           "Tab Solutions"
          ],
          [
           "VarVee"
          ],
          [
           "aPriori Technologies"
          ],
          [
           "iDreamsky Technology"
          ],
          [
           "Fry Multimedia"
          ],
          [
           "G-mode"
          ],
          [
           "LocalVox Media"
          ],
          [
           "MoJoe Brewing Company"
          ],
          [
           "Modanisa"
          ],
          [
           "RelayFoods"
          ],
          [
           "Search Million Culture"
          ],
          [
           "Tab Solutions"
          ],
          [
           "VarVee"
          ],
          [
           "aPriori Technologies"
          ],
          [
           "iDreamsky Technology"
          ],
          [
           "Crescendo Networks"
          ],
          [
           "Fry Multimedia"
          ],
          [
           "G-mode"
          ],
          [
           "LocalVox Media"
          ],
          [
           "MoJoe Brewing Company"
          ],
          [
           "Modanisa"
          ],
          [
           "RelayFoods"
          ],
          [
           "Search Million Culture"
          ],
          [
           "Tab Solutions"
          ],
          [
           "VarVee"
          ],
          [
           "iDreamsky Technology"
          ],
          [
           "Crescendo Networks"
          ],
          [
           "Fry Multimedia"
          ],
          [
           "G-mode"
          ],
          [
           "LocalVox Media"
          ],
          [
           "MoJoe Brewing Company"
          ],
          [
           "Modanisa"
          ],
          [
           "Pole Star"
          ],
          [
           "RelayFoods"
          ],
          [
           "Search Million Culture"
          ],
          [
           "Tab Solutions"
          ],
          [
           "VarVee"
          ],
          [
           "aPriori Technologies"
          ],
          [
           "iDreamsky Technology"
          ],
          [
           "Crescendo Networks"
          ],
          [
           "G-mode"
          ],
          [
           "LocalVox Media"
          ],
          [
           "MoJoe Brewing Company"
          ],
          [
           "Modanisa"
          ],
          [
           "Pole Star"
          ],
          [
           "RelayFoods"
          ],
          [
           "Search Million Culture"
          ],
          [
           "Tab Solutions"
          ],
          [
           "VarVee"
          ],
          [
           "iDreamsky Technology"
          ],
          [
           "Crescendo Networks"
          ],
          [
           "Fry Multimedia"
          ],
          [
           "G-mode"
          ],
          [
           "LocalVox Media"
          ],
          [
           "MoJoe Brewing Company"
          ],
          [
           "Modanisa"
          ],
          [
           "OpenDesks, Inc."
          ],
          [
           "Pole Star"
          ],
          [
           "RelayFoods"
          ],
          [
           "Search Million Culture"
          ],
          [
           "VarVee"
          ],
          [
           "aPriori Technologies"
          ],
          [
           "iDreamsky Technology"
          ],
          [
           "Crescendo Networks"
          ],
          [
           "Cuiker"
          ],
          [
           "Fry Multimedia"
          ],
          [
           "G-mode"
          ],
          [
           "LocalVox Media"
          ],
          [
           "MoJoe Brewing Company"
          ],
          [
           "Modanisa"
          ],
          [
           "RelayFoods"
          ],
          [
           "Search Million Culture"
          ],
          [
           "VarVee"
          ],
          [
           "aPriori Technologies"
          ],
          [
           "iDreamsky Technology"
          ],
          [
           "Crescendo Networks"
          ],
          [
           "Fry Multimedia"
          ],
          [
           "G-mode"
          ],
          [
           "LocalVox Media"
          ],
          [
           "MoJoe Brewing Company"
          ],
          [
           "Modanisa"
          ],
          [
           "OpenDesks, Inc."
          ],
          [
           "RelayFoods"
          ],
          [
           "Search Million Culture"
          ],
          [
           "iDreamsky Technology"
          ],
          [
           "Crescendo Networks"
          ],
          [
           "Fry Multimedia"
          ],
          [
           "G-mode"
          ],
          [
           "LocalVox Media"
          ],
          [
           "MoJoe Brewing Company"
          ],
          [
           "Modanisa"
          ],
          [
           "RelayFoods"
          ],
          [
           "Search Million Culture"
          ],
          [
           "VarVee"
          ],
          [
           "aPriori Technologies"
          ],
          [
           "iDreamsky Technology"
          ],
          [
           "Crescendo Networks"
          ],
          [
           "Fry Multimedia"
          ],
          [
           "G-mode"
          ],
          [
           "LocalVox Media"
          ],
          [
           "MoJoe Brewing Company"
          ],
          [
           "Modanisa"
          ],
          [
           "RelayFoods"
          ],
          [
           "Search Million Culture"
          ],
          [
           "VarVee"
          ],
          [
           "aPriori Technologies"
          ],
          [
           "iDreamsky Technology"
          ],
          [
           "Crescendo Networks"
          ],
          [
           "Fry Multimedia"
          ],
          [
           "G-mode"
          ],
          [
           "LocalVox Media"
          ],
          [
           "MoJoe Brewing Company"
          ],
          [
           "Modanisa"
          ],
          [
           "Pole Star"
          ],
          [
           "RelayFoods"
          ],
          [
           "Search Million Culture"
          ],
          [
           "VarVee"
          ],
          [
           "aPriori Technologies"
          ],
          [
           "iDreamsky Technology"
          ],
          [
           "Fry Multimedia"
          ],
          [
           "G-mode"
          ],
          [
           "LocalVox Media"
          ],
          [
           "MoJoe Brewing Company"
          ],
          [
           "Modanisa"
          ],
          [
           "RelayFoods"
          ],
          [
           "Search Million Culture"
          ],
          [
           "VarVee"
          ],
          [
           "aPriori Technologies"
          ],
          [
           "iDreamsky Technology"
          ],
          [
           "Crescendo Networks"
          ],
          [
           "Fry Multimedia"
          ],
          [
           "G-mode"
          ],
          [
           "LocalVox Media"
          ],
          [
           "MoJoe Brewing Company"
          ],
          [
           "Modanisa"
          ],
          [
           "Pole Star"
          ],
          [
           "RelayFoods"
          ],
          [
           "Search Million Culture"
          ],
          [
           "VarVee"
          ],
          [
           "aPriori Technologies"
          ],
          [
           "iDreamsky Technology"
          ],
          [
           "Crescendo Networks"
          ],
          [
           "Fry Multimedia"
          ],
          [
           "G-mode"
          ],
          [
           "LocalVox Media"
          ],
          [
           "MoJoe Brewing Company"
          ],
          [
           "Modanisa"
          ],
          [
           "Pole Star"
          ],
          [
           "RelayFoods"
          ],
          [
           "Search Million Culture"
          ],
          [
           "VarVee"
          ],
          [
           "aPriori Technologies"
          ],
          [
           "iDreamsky Technology"
          ],
          [
           "Crescendo Networks"
          ],
          [
           "Fry Multimedia"
          ],
          [
           "G-mode"
          ],
          [
           "LocalVox Media"
          ],
          [
           "MoJoe Brewing Company"
          ],
          [
           "Modanisa"
          ],
          [
           "Pole Star"
          ],
          [
           "RelayFoods"
          ],
          [
           "Search Million Culture"
          ],
          [
           "VarVee"
          ],
          [
           "aPriori Technologies"
          ],
          [
           "iDreamsky Technology"
          ],
          [
           "Crescendo Networks"
          ],
          [
           "Fry Multimedia"
          ],
          [
           "G-mode"
          ],
          [
           "LocalVox Media"
          ],
          [
           "MoJoe Brewing Company"
          ],
          [
           "Modanisa"
          ],
          [
           "Pole Star"
          ],
          [
           "RelayFoods"
          ],
          [
           "Search Million Culture"
          ],
          [
           "VarVee"
          ],
          [
           "iDreamsky Technology"
          ],
          [
           "Crescendo Networks"
          ],
          [
           "Fry Multimedia"
          ],
          [
           "G-mode"
          ],
          [
           "LocalVox Media"
          ],
          [
           "MoJoe Brewing Company"
          ],
          [
           "Modanisa"
          ],
          [
           "OpenDesks, Inc."
          ],
          [
           "RelayFoods"
          ],
          [
           "Search Million Culture"
          ],
          [
           "VarVee"
          ],
          [
           "aPriori Technologies"
          ],
          [
           "iDreamsky Technology"
          ]
         ],
         "hovertemplate": "region=JP<br>week_id=%{x}<br>num_of_requests=%{y}<br>requester=%{customdata[0]}<extra></extra>",
         "legendgroup": "JP",
         "marker": {
          "color": "#ab63fa",
          "pattern": {
           "shape": ""
          }
         },
         "name": "JP",
         "offsetgroup": "JP",
         "orientation": "v",
         "showlegend": true,
         "textposition": "auto",
         "type": "bar",
         "visible": true,
         "x": [
          "2021-week_33",
          "2021-week_33",
          "2021-week_33",
          "2021-week_33",
          "2021-week_33",
          "2021-week_33",
          "2021-week_33",
          "2021-week_33",
          "2021-week_33",
          "2021-week_33",
          "2021-week_33",
          "2021-week_34",
          "2021-week_34",
          "2021-week_34",
          "2021-week_34",
          "2021-week_34",
          "2021-week_34",
          "2021-week_34",
          "2021-week_34",
          "2021-week_34",
          "2021-week_34",
          "2021-week_34",
          "2021-week_34",
          "2021-week_35",
          "2021-week_35",
          "2021-week_35",
          "2021-week_35",
          "2021-week_35",
          "2021-week_35",
          "2021-week_35",
          "2021-week_35",
          "2021-week_35",
          "2021-week_35",
          "2021-week_35",
          "2021-week_35",
          "2021-week_36",
          "2021-week_36",
          "2021-week_36",
          "2021-week_36",
          "2021-week_36",
          "2021-week_36",
          "2021-week_36",
          "2021-week_36",
          "2021-week_36",
          "2021-week_36",
          "2021-week_36",
          "2021-week_37",
          "2021-week_37",
          "2021-week_37",
          "2021-week_37",
          "2021-week_37",
          "2021-week_37",
          "2021-week_37",
          "2021-week_37",
          "2021-week_37",
          "2021-week_37",
          "2021-week_37",
          "2021-week_38",
          "2021-week_38",
          "2021-week_38",
          "2021-week_38",
          "2021-week_38",
          "2021-week_38",
          "2021-week_38",
          "2021-week_38",
          "2021-week_38",
          "2021-week_38",
          "2021-week_38",
          "2021-week_39",
          "2021-week_39",
          "2021-week_39",
          "2021-week_39",
          "2021-week_39",
          "2021-week_39",
          "2021-week_39",
          "2021-week_39",
          "2021-week_39",
          "2021-week_39",
          "2021-week_39",
          "2021-week_39",
          "2021-week_39",
          "2021-week_40",
          "2021-week_40",
          "2021-week_40",
          "2021-week_40",
          "2021-week_40",
          "2021-week_40",
          "2021-week_40",
          "2021-week_40",
          "2021-week_40",
          "2021-week_40",
          "2021-week_40",
          "2021-week_40",
          "2021-week_40",
          "2021-week_40",
          "2021-week_41",
          "2021-week_41",
          "2021-week_41",
          "2021-week_41",
          "2021-week_41",
          "2021-week_41",
          "2021-week_41",
          "2021-week_41",
          "2021-week_41",
          "2021-week_41",
          "2021-week_41",
          "2021-week_41",
          "2021-week_41",
          "2021-week_41",
          "2021-week_42",
          "2021-week_42",
          "2021-week_42",
          "2021-week_42",
          "2021-week_42",
          "2021-week_42",
          "2021-week_42",
          "2021-week_42",
          "2021-week_42",
          "2021-week_42",
          "2021-week_42",
          "2021-week_43",
          "2021-week_43",
          "2021-week_43",
          "2021-week_43",
          "2021-week_43",
          "2021-week_43",
          "2021-week_43",
          "2021-week_43",
          "2021-week_43",
          "2021-week_43",
          "2021-week_43",
          "2021-week_44",
          "2021-week_44",
          "2021-week_44",
          "2021-week_44",
          "2021-week_44",
          "2021-week_44",
          "2021-week_44",
          "2021-week_44",
          "2021-week_44",
          "2021-week_44",
          "2021-week_44",
          "2021-week_44",
          "2021-week_44",
          "2021-week_45",
          "2021-week_45",
          "2021-week_45",
          "2021-week_45",
          "2021-week_45",
          "2021-week_45",
          "2021-week_45",
          "2021-week_45",
          "2021-week_45",
          "2021-week_45",
          "2021-week_45",
          "2021-week_46",
          "2021-week_46",
          "2021-week_46",
          "2021-week_46",
          "2021-week_46",
          "2021-week_46",
          "2021-week_46",
          "2021-week_46",
          "2021-week_46",
          "2021-week_46",
          "2021-week_46",
          "2021-week_46",
          "2021-week_46",
          "2021-week_47",
          "2021-week_47",
          "2021-week_47",
          "2021-week_47",
          "2021-week_47",
          "2021-week_47",
          "2021-week_47",
          "2021-week_47",
          "2021-week_47",
          "2021-week_47",
          "2021-week_47",
          "2021-week_47",
          "2021-week_48",
          "2021-week_48",
          "2021-week_48",
          "2021-week_48",
          "2021-week_48",
          "2021-week_48",
          "2021-week_48",
          "2021-week_48",
          "2021-week_48",
          "2021-week_48",
          "2021-week_49",
          "2021-week_49",
          "2021-week_49",
          "2021-week_49",
          "2021-week_49",
          "2021-week_49",
          "2021-week_49",
          "2021-week_49",
          "2021-week_49",
          "2021-week_49",
          "2021-week_49",
          "2021-week_50",
          "2021-week_50",
          "2021-week_50",
          "2021-week_50",
          "2021-week_50",
          "2021-week_50",
          "2021-week_50",
          "2021-week_50",
          "2021-week_50",
          "2021-week_50",
          "2021-week_50",
          "2022-week_01",
          "2022-week_01",
          "2022-week_01",
          "2022-week_01",
          "2022-week_01",
          "2022-week_01",
          "2022-week_01",
          "2022-week_01",
          "2022-week_01",
          "2022-week_01",
          "2022-week_01",
          "2022-week_01",
          "2022-week_02",
          "2022-week_02",
          "2022-week_02",
          "2022-week_02",
          "2022-week_02",
          "2022-week_02",
          "2022-week_02",
          "2022-week_02",
          "2022-week_02",
          "2022-week_02",
          "2022-week_03",
          "2022-week_03",
          "2022-week_03",
          "2022-week_03",
          "2022-week_03",
          "2022-week_03",
          "2022-week_03",
          "2022-week_03",
          "2022-week_03",
          "2022-week_03",
          "2022-week_03",
          "2022-week_03",
          "2022-week_04",
          "2022-week_04",
          "2022-week_04",
          "2022-week_04",
          "2022-week_04",
          "2022-week_04",
          "2022-week_04",
          "2022-week_04",
          "2022-week_04",
          "2022-week_04",
          "2022-week_04",
          "2022-week_04",
          "2022-week_05",
          "2022-week_05",
          "2022-week_05",
          "2022-week_05",
          "2022-week_05",
          "2022-week_05",
          "2022-week_05",
          "2022-week_05",
          "2022-week_05",
          "2022-week_05",
          "2022-week_05",
          "2022-week_05",
          "2022-week_06",
          "2022-week_06",
          "2022-week_06",
          "2022-week_06",
          "2022-week_06",
          "2022-week_06",
          "2022-week_06",
          "2022-week_06",
          "2022-week_06",
          "2022-week_06",
          "2022-week_06",
          "2022-week_52",
          "2022-week_52",
          "2022-week_52",
          "2022-week_52",
          "2022-week_52",
          "2022-week_52",
          "2022-week_52",
          "2022-week_52",
          "2022-week_52",
          "2022-week_52",
          "2022-week_52",
          "2022-week_52"
         ],
         "xaxis": "x",
         "y": [
          8,
          20,
          3,
          46,
          208,
          13,
          1,
          627,
          567,
          4,
          80,
          13,
          1,
          39,
          5,
          115,
          255,
          19,
          297,
          761,
          37,
          5,
          23,
          1,
          13,
          30,
          5,
          82,
          292,
          25,
          348,
          626,
          53,
          3,
          59,
          12,
          1,
          35,
          7,
          79,
          282,
          29,
          291,
          695,
          74,
          63,
          10,
          33,
          9,
          79,
          339,
          23,
          302,
          695,
          62,
          3,
          62,
          14,
          29,
          6,
          72,
          219,
          14,
          318,
          644,
          58,
          2,
          171,
          8,
          29,
          9,
          46,
          236,
          23,
          1,
          234,
          612,
          222,
          40,
          3,
          83,
          1,
          15,
          1,
          21,
          4,
          55,
          194,
          12,
          263,
          583,
          346,
          38,
          3,
          54,
          1,
          10,
          29,
          4,
          57,
          139,
          20,
          10,
          279,
          566,
          340,
          45,
          5,
          43,
          9,
          1,
          27,
          36,
          5,
          1230,
          195,
          78,
          9,
          1,
          5,
          3,
          6,
          1,
          18,
          67,
          4,
          1171,
          161,
          113,
          19,
          30,
          2,
          4,
          3,
          29,
          55,
          5,
          5,
          1213,
          128,
          133,
          10,
          3,
          18,
          1,
          9,
          60,
          51,
          4,
          7,
          1339,
          12,
          105,
          21,
          15,
          3,
          2,
          1,
          48,
          86,
          7,
          1,
          4,
          1402,
          5,
          20,
          2,
          6,
          7,
          1,
          3,
          2,
          70,
          55,
          3,
          1425,
          4,
          16,
          3,
          28,
          1,
          6,
          7,
          95,
          124,
          8,
          1,
          1343,
          12,
          15,
          3,
          3,
          12,
          114,
          100,
          10,
          1301,
          13,
          1,
          2,
          16,
          3,
          1,
          3,
          90,
          104,
          11,
          1355,
          10,
          3,
          2,
          27,
          3,
          8,
          5,
          72,
          82,
          6,
          1,
          1162,
          228,
          1,
          3,
          20,
          7,
          1,
          87,
          66,
          1,
          1153,
          277,
          2,
          3,
          13,
          2,
          5,
          1,
          52,
          90,
          6,
          2,
          1158,
          225,
          4,
          1,
          25,
          4,
          8,
          5,
          60,
          67,
          1,
          5,
          1178,
          231,
          3,
          3,
          16,
          6,
          4,
          5,
          54,
          75,
          4,
          7,
          1204,
          223,
          2,
          2,
          18,
          1,
          10,
          2,
          51,
          80,
          1,
          6,
          1205,
          230,
          5,
          11,
          6,
          3,
          13,
          161,
          183,
          9,
          2,
          2752,
          11,
          3,
          2,
          29
         ],
         "yaxis": "y"
        },
        {
         "alignmentgroup": "True",
         "customdata": [
          [
           "Allthetopbananas.com"
          ],
          [
           "Bizanga"
          ],
          [
           "Crescendo Networks"
          ],
          [
           "Extreme DA"
          ],
          [
           "Fancy"
          ],
          [
           "FlagTap"
          ],
          [
           "Fry Multimedia"
          ],
          [
           "Glory Medical"
          ],
          [
           "Joules Clothing"
          ],
          [
           "LocalVox Media"
          ],
          [
           "Metranome"
          ],
          [
           "Mission Street Manufacturing"
          ],
          [
           "MoJoe Brewing Company"
          ],
          [
           "Modanisa"
          ],
          [
           "PageBites"
          ],
          [
           "Pole Star"
          ],
          [
           "RelayFoods"
          ],
          [
           "Search Million Culture"
          ],
          [
           "Sensor Tower"
          ],
          [
           "Tab Solutions"
          ],
          [
           "VarVee"
          ],
          [
           "aPriori Technologies"
          ],
          [
           "iDreamsky Technology"
          ],
          [
           "Bizanga"
          ],
          [
           "Crescendo Networks"
          ],
          [
           "Cue"
          ],
          [
           "Extreme DA"
          ],
          [
           "Fancy"
          ],
          [
           "Fry Multimedia"
          ],
          [
           "Glory Medical"
          ],
          [
           "Joules Clothing"
          ],
          [
           "LocalVox Media"
          ],
          [
           "Metranome"
          ],
          [
           "Mission Street Manufacturing"
          ],
          [
           "MoJoe Brewing Company"
          ],
          [
           "Modanisa"
          ],
          [
           "PageBites"
          ],
          [
           "Pole Star"
          ],
          [
           "RelayFoods"
          ],
          [
           "Search Million Culture"
          ],
          [
           "Sensor Tower"
          ],
          [
           "Tab Solutions"
          ],
          [
           "VarVee"
          ],
          [
           "iDreamsky Technology"
          ],
          [
           "Allthetopbananas.com"
          ],
          [
           "Altammune"
          ],
          [
           "Bizanga"
          ],
          [
           "Crescendo Networks"
          ],
          [
           "Doctorfun Entertainment, Ltd"
          ],
          [
           "Earth Networks"
          ],
          [
           "Extreme DA"
          ],
          [
           "Fancy"
          ],
          [
           "Fry Multimedia"
          ],
          [
           "G-mode"
          ],
          [
           "Glory Medical"
          ],
          [
           "Joules Clothing"
          ],
          [
           "LocalVox Media"
          ],
          [
           "Metranome"
          ],
          [
           "Mission Street Manufacturing"
          ],
          [
           "MoJoe Brewing Company"
          ],
          [
           "Modanisa"
          ],
          [
           "PageBites"
          ],
          [
           "RelayFoods"
          ],
          [
           "Search Million Culture"
          ],
          [
           "Sensor Tower"
          ],
          [
           "Tab Solutions"
          ],
          [
           "VarVee"
          ],
          [
           "aPriori Technologies"
          ],
          [
           "iDreamsky Technology"
          ],
          [
           "Allthetopbananas.com"
          ],
          [
           "Bizanga"
          ],
          [
           "Crescendo Networks"
          ],
          [
           "Doctorfun Entertainment, Ltd"
          ],
          [
           "Extreme DA"
          ],
          [
           "Fancy"
          ],
          [
           "Fry Multimedia"
          ],
          [
           "Glory Medical"
          ],
          [
           "Joules Clothing"
          ],
          [
           "LocalVox Media"
          ],
          [
           "Metranome"
          ],
          [
           "Mission Street Manufacturing"
          ],
          [
           "MoJoe Brewing Company"
          ],
          [
           "Modanisa"
          ],
          [
           "OpenDesks, Inc."
          ],
          [
           "PageBites"
          ],
          [
           "RelayFoods"
          ],
          [
           "Search Million Culture"
          ],
          [
           "Sensor Tower"
          ],
          [
           "Tab Solutions"
          ],
          [
           "VarVee"
          ],
          [
           "aPriori Technologies"
          ],
          [
           "iDreamsky Technology"
          ],
          [
           "Allthetopbananas.com"
          ],
          [
           "Bizanga"
          ],
          [
           "Crescendo Networks"
          ],
          [
           "Derceto"
          ],
          [
           "Doctorfun Entertainment, Ltd"
          ],
          [
           "Extreme DA"
          ],
          [
           "Fancy"
          ],
          [
           "Fry Multimedia"
          ],
          [
           "G-mode"
          ],
          [
           "Glory Medical"
          ],
          [
           "LocalVox Media"
          ],
          [
           "Marketo Japan"
          ],
          [
           "Metranome"
          ],
          [
           "Mission Street Manufacturing"
          ],
          [
           "MoJoe Brewing Company"
          ],
          [
           "Modanisa"
          ],
          [
           "PageBites"
          ],
          [
           "Pole Star"
          ],
          [
           "RelayFoods"
          ],
          [
           "Search Million Culture"
          ],
          [
           "Sensor Tower"
          ],
          [
           "Tab Solutions"
          ],
          [
           "VarVee"
          ],
          [
           "aPriori Technologies"
          ],
          [
           "iDreamsky Technology"
          ],
          [
           "Allthetopbananas.com"
          ],
          [
           "Altammune"
          ],
          [
           "Bizanga"
          ],
          [
           "Crescendo Networks"
          ],
          [
           "Cue"
          ],
          [
           "Doctorfun Entertainment, Ltd"
          ],
          [
           "Extreme DA"
          ],
          [
           "Fancy"
          ],
          [
           "Fry Multimedia"
          ],
          [
           "Glory Medical"
          ],
          [
           "Joules Clothing"
          ],
          [
           "LocalVox Media"
          ],
          [
           "Metranome"
          ],
          [
           "Mission Street Manufacturing"
          ],
          [
           "MoJoe Brewing Company"
          ],
          [
           "Modanisa"
          ],
          [
           "OpenDesks, Inc."
          ],
          [
           "PageBites"
          ],
          [
           "Pole Star"
          ],
          [
           "RelayFoods"
          ],
          [
           "Search Million Culture"
          ],
          [
           "Sensor Tower"
          ],
          [
           "Tab Solutions"
          ],
          [
           "VarVee"
          ],
          [
           "aPriori Technologies"
          ],
          [
           "iDreamsky Technology"
          ],
          [
           "Bizanga"
          ],
          [
           "Crescendo Networks"
          ],
          [
           "Doctorfun Entertainment, Ltd"
          ],
          [
           "Extreme DA"
          ],
          [
           "Fancy"
          ],
          [
           "Fry Multimedia"
          ],
          [
           "Glory Medical"
          ],
          [
           "LocalVox Media"
          ],
          [
           "Metranome"
          ],
          [
           "Mission Street Manufacturing"
          ],
          [
           "MoJoe Brewing Company"
          ],
          [
           "Modanisa"
          ],
          [
           "OpenDesks, Inc."
          ],
          [
           "PageBites"
          ],
          [
           "Pole Star"
          ],
          [
           "RelayFoods"
          ],
          [
           "Search Million Culture"
          ],
          [
           "Sensor Tower"
          ],
          [
           "Tab Solutions"
          ],
          [
           "VarVee"
          ],
          [
           "aPriori Technologies"
          ],
          [
           "iDreamsky Technology"
          ],
          [
           "Altammune"
          ],
          [
           "Bizanga"
          ],
          [
           "Crescendo Networks"
          ],
          [
           "Cue"
          ],
          [
           "Doctorfun Entertainment, Ltd"
          ],
          [
           "Extreme DA"
          ],
          [
           "Fancy"
          ],
          [
           "Fry Multimedia"
          ],
          [
           "Glory Medical"
          ],
          [
           "LocalVox Media"
          ],
          [
           "Metranome"
          ],
          [
           "Mission Street Manufacturing"
          ],
          [
           "MoJoe Brewing Company"
          ],
          [
           "Modanisa"
          ],
          [
           "OpenDesks, Inc."
          ],
          [
           "PageBites"
          ],
          [
           "Pole Star"
          ],
          [
           "RelayFoods"
          ],
          [
           "Search Million Culture"
          ],
          [
           "Sensor Tower"
          ],
          [
           "Tab Solutions"
          ],
          [
           "VarVee"
          ],
          [
           "iDreamsky Technology"
          ],
          [
           "Bizanga"
          ],
          [
           "Crescendo Networks"
          ],
          [
           "Doctorfun Entertainment, Ltd"
          ],
          [
           "Extreme DA"
          ],
          [
           "Fancy"
          ],
          [
           "Fry Multimedia"
          ],
          [
           "Glory Medical"
          ],
          [
           "Joules Clothing"
          ],
          [
           "LocalVox Media"
          ],
          [
           "Mission Street Manufacturing"
          ],
          [
           "MoJoe Brewing Company"
          ],
          [
           "Modanisa"
          ],
          [
           "PageBites"
          ],
          [
           "RelayFoods"
          ],
          [
           "Search Million Culture"
          ],
          [
           "Sensor Tower"
          ],
          [
           "Tab Solutions"
          ],
          [
           "VarVee"
          ],
          [
           "aPriori Technologies"
          ],
          [
           "iDreamsky Technology"
          ],
          [
           "Altammune"
          ],
          [
           "Bizanga"
          ],
          [
           "Crescendo Networks"
          ],
          [
           "Cuiker"
          ],
          [
           "Doctorfun Entertainment, Ltd"
          ],
          [
           "Extreme DA"
          ],
          [
           "Fancy"
          ],
          [
           "Fry Multimedia"
          ],
          [
           "Glory Medical"
          ],
          [
           "Joules Clothing"
          ],
          [
           "LocalVox Media"
          ],
          [
           "Mission Street Manufacturing"
          ],
          [
           "MoJoe Brewing Company"
          ],
          [
           "Modanisa"
          ],
          [
           "OpenDesks, Inc."
          ],
          [
           "PageBites"
          ],
          [
           "Pole Star"
          ],
          [
           "RelayFoods"
          ],
          [
           "Search Million Culture"
          ],
          [
           "Sensor Tower"
          ],
          [
           "Tab Solutions"
          ],
          [
           "VarVee"
          ],
          [
           "aPriori Technologies"
          ],
          [
           "iDreamsky Technology"
          ],
          [
           "Bizanga"
          ],
          [
           "Crescendo Networks"
          ],
          [
           "Doctorfun Entertainment, Ltd"
          ],
          [
           "Extreme DA"
          ],
          [
           "Fancy"
          ],
          [
           "Fry Multimedia"
          ],
          [
           "Glory Medical"
          ],
          [
           "LocalVox Media"
          ],
          [
           "Mission Street Manufacturing"
          ],
          [
           "MoJoe Brewing Company"
          ],
          [
           "Modanisa"
          ],
          [
           "PageBites"
          ],
          [
           "Pole Star"
          ],
          [
           "RelayFoods"
          ],
          [
           "Search Million Culture"
          ],
          [
           "Sensor Tower"
          ],
          [
           "Tab Solutions"
          ],
          [
           "VarVee"
          ],
          [
           "aPriori Technologies"
          ],
          [
           "iDreamsky Technology"
          ],
          [
           "Bizanga"
          ],
          [
           "Crescendo Networks"
          ],
          [
           "Doctorfun Entertainment, Ltd"
          ],
          [
           "Extreme DA"
          ],
          [
           "Fancy"
          ],
          [
           "Fry Multimedia"
          ],
          [
           "Glory Medical"
          ],
          [
           "Joules Clothing"
          ],
          [
           "Jun Group"
          ],
          [
           "LocalVox Media"
          ],
          [
           "Metranome"
          ],
          [
           "Mission Street Manufacturing"
          ],
          [
           "MoJoe Brewing Company"
          ],
          [
           "Modanisa"
          ],
          [
           "OpenDesks, Inc."
          ],
          [
           "PageBites"
          ],
          [
           "Pole Star"
          ],
          [
           "RelayFoods"
          ],
          [
           "Search Million Culture"
          ],
          [
           "Sensor Tower"
          ],
          [
           "Tab Solutions"
          ],
          [
           "VarVee"
          ],
          [
           "aPriori Technologies"
          ],
          [
           "iDreamsky Technology"
          ],
          [
           "Allthetopbananas.com"
          ],
          [
           "Bizanga"
          ],
          [
           "Doctorfun Entertainment, Ltd"
          ],
          [
           "Extreme DA"
          ],
          [
           "Fancy"
          ],
          [
           "Fry Multimedia"
          ],
          [
           "Joules Clothing"
          ],
          [
           "LocalVox Media"
          ],
          [
           "Mission Street Manufacturing"
          ],
          [
           "MoJoe Brewing Company"
          ],
          [
           "Modanisa"
          ],
          [
           "Pole Star"
          ],
          [
           "RelayFoods"
          ],
          [
           "Search Million Culture"
          ],
          [
           "Sensor Tower"
          ],
          [
           "Tab Solutions"
          ],
          [
           "VarVee"
          ],
          [
           "aPriori Technologies"
          ],
          [
           "iDreamsky Technology"
          ],
          [
           "Bizanga"
          ],
          [
           "Crescendo Networks"
          ],
          [
           "Doctorfun Entertainment, Ltd"
          ],
          [
           "Extreme DA"
          ],
          [
           "Fancy"
          ],
          [
           "Fry Multimedia"
          ],
          [
           "Glory Medical"
          ],
          [
           "Joules Clothing"
          ],
          [
           "LocalVox Media"
          ],
          [
           "Metranome"
          ],
          [
           "Mission Street Manufacturing"
          ],
          [
           "MoJoe Brewing Company"
          ],
          [
           "Modanisa"
          ],
          [
           "RelayFoods"
          ],
          [
           "Search Million Culture"
          ],
          [
           "Sensor Tower"
          ],
          [
           "Tab Solutions"
          ],
          [
           "VarVee"
          ],
          [
           "iDreamsky Technology"
          ],
          [
           "Bizanga"
          ],
          [
           "Crescendo Networks"
          ],
          [
           "Extreme DA"
          ],
          [
           "Fancy"
          ],
          [
           "Fry Multimedia"
          ],
          [
           "Glory Medical"
          ],
          [
           "Joules Clothing"
          ],
          [
           "LocalVox Media"
          ],
          [
           "Mission Street Manufacturing"
          ],
          [
           "MoJoe Brewing Company"
          ],
          [
           "Modanisa"
          ],
          [
           "OpenDesks, Inc."
          ],
          [
           "RelayFoods"
          ],
          [
           "Search Million Culture"
          ],
          [
           "Sensor Tower"
          ],
          [
           "Tab Solutions"
          ],
          [
           "VarVee"
          ],
          [
           "aPriori Technologies"
          ],
          [
           "iDreamsky Technology"
          ],
          [
           "Bizanga"
          ],
          [
           "Crescendo Networks"
          ],
          [
           "Doctorfun Entertainment, Ltd"
          ],
          [
           "Extreme DA"
          ],
          [
           "Fancy"
          ],
          [
           "Fry Multimedia"
          ],
          [
           "Glory Medical"
          ],
          [
           "LocalVox Media"
          ],
          [
           "Mission Street Manufacturing"
          ],
          [
           "MoJoe Brewing Company"
          ],
          [
           "Modanisa"
          ],
          [
           "RelayFoods"
          ],
          [
           "Search Million Culture"
          ],
          [
           "Sensor Tower"
          ],
          [
           "Tab Solutions"
          ],
          [
           "VarVee"
          ],
          [
           "aPriori Technologies"
          ],
          [
           "iDreamsky Technology"
          ],
          [
           "Bizanga"
          ],
          [
           "Crescendo Networks"
          ],
          [
           "Doctorfun Entertainment, Ltd"
          ],
          [
           "Extreme DA"
          ],
          [
           "Fancy"
          ],
          [
           "Fry Multimedia"
          ],
          [
           "G-mode"
          ],
          [
           "Glory Medical"
          ],
          [
           "LocalVox Media"
          ],
          [
           "Metranome"
          ],
          [
           "Mission Street Manufacturing"
          ],
          [
           "MoJoe Brewing Company"
          ],
          [
           "Modanisa"
          ],
          [
           "Pole Star"
          ],
          [
           "RelayFoods"
          ],
          [
           "Search Million Culture"
          ],
          [
           "Sensor Tower"
          ],
          [
           "Tab Solutions"
          ],
          [
           "VarVee"
          ],
          [
           "aPriori Technologies"
          ],
          [
           "iDreamsky Technology"
          ],
          [
           "Bizanga"
          ],
          [
           "Crescendo Networks"
          ],
          [
           "Extreme DA"
          ],
          [
           "Fancy"
          ],
          [
           "Fry Multimedia"
          ],
          [
           "Glory Medical"
          ],
          [
           "LocalVox Media"
          ],
          [
           "Metranome"
          ],
          [
           "Mission Street Manufacturing"
          ],
          [
           "MoJoe Brewing Company"
          ],
          [
           "Modanisa"
          ],
          [
           "Pole Star"
          ],
          [
           "RelayFoods"
          ],
          [
           "Search Million Culture"
          ],
          [
           "Sensor Tower"
          ],
          [
           "Tab Solutions"
          ],
          [
           "VarVee"
          ],
          [
           "aPriori Technologies"
          ],
          [
           "iDreamsky Technology"
          ],
          [
           "Crescendo Networks"
          ],
          [
           "Doctorfun Entertainment, Ltd"
          ],
          [
           "Extreme DA"
          ],
          [
           "Fancy"
          ],
          [
           "Glory Medical"
          ],
          [
           "LocalVox Media"
          ],
          [
           "Metranome"
          ],
          [
           "Mission Street Manufacturing"
          ],
          [
           "MoJoe Brewing Company"
          ],
          [
           "Modanisa"
          ],
          [
           "Pole Star"
          ],
          [
           "RelayFoods"
          ],
          [
           "Search Million Culture"
          ],
          [
           "Sensor Tower"
          ],
          [
           "Tab Solutions"
          ],
          [
           "VarVee"
          ],
          [
           "iDreamsky Technology"
          ],
          [
           "Bizanga"
          ],
          [
           "Doctorfun Entertainment, Ltd"
          ],
          [
           "Extreme DA"
          ],
          [
           "Fancy"
          ],
          [
           "Fry Multimedia"
          ],
          [
           "Glory Medical"
          ],
          [
           "LocalVox Media"
          ],
          [
           "Mission Street Manufacturing"
          ],
          [
           "MoJoe Brewing Company"
          ],
          [
           "Modanisa"
          ],
          [
           "Pole Star"
          ],
          [
           "RelayFoods"
          ],
          [
           "Search Million Culture"
          ],
          [
           "Sensor Tower"
          ],
          [
           "Tab Solutions"
          ],
          [
           "VarVee"
          ],
          [
           "aPriori Technologies"
          ],
          [
           "iDreamsky Technology"
          ],
          [
           "Bizanga"
          ],
          [
           "Crescendo Networks"
          ],
          [
           "Doctorfun Entertainment, Ltd"
          ],
          [
           "Extreme DA"
          ],
          [
           "Fancy"
          ],
          [
           "Fry Multimedia"
          ],
          [
           "Glory Medical"
          ],
          [
           "Joules Clothing"
          ],
          [
           "LocalVox Media"
          ],
          [
           "MoJoe Brewing Company"
          ],
          [
           "Modanisa"
          ],
          [
           "PageBites"
          ],
          [
           "Pole Star"
          ],
          [
           "RelayFoods"
          ],
          [
           "Search Million Culture"
          ],
          [
           "Sensor Tower"
          ],
          [
           "Tab Solutions"
          ],
          [
           "VarVee"
          ],
          [
           "iDreamsky Technology"
          ],
          [
           "Bizanga"
          ],
          [
           "Doctorfun Entertainment, Ltd"
          ],
          [
           "Extreme DA"
          ],
          [
           "Fancy"
          ],
          [
           "Fry Multimedia"
          ],
          [
           "Glory Medical"
          ],
          [
           "LocalVox Media"
          ],
          [
           "Mission Street Manufacturing"
          ],
          [
           "MoJoe Brewing Company"
          ],
          [
           "Modanisa"
          ],
          [
           "PageBites"
          ],
          [
           "Pole Star"
          ],
          [
           "RelayFoods"
          ],
          [
           "Search Million Culture"
          ],
          [
           "Sensor Tower"
          ],
          [
           "Tab Solutions"
          ],
          [
           "VarVee"
          ],
          [
           "iDreamsky Technology"
          ],
          [
           "Bizanga"
          ],
          [
           "Doctorfun Entertainment, Ltd"
          ],
          [
           "Extreme DA"
          ],
          [
           "Fancy"
          ],
          [
           "Fry Multimedia"
          ],
          [
           "Jun Group"
          ],
          [
           "LocalVox Media"
          ],
          [
           "Metranome"
          ],
          [
           "MoJoe Brewing Company"
          ],
          [
           "PageBites"
          ],
          [
           "Pole Star"
          ],
          [
           "RelayFoods"
          ],
          [
           "Search Million Culture"
          ],
          [
           "Sensor Tower"
          ],
          [
           "Tab Solutions"
          ],
          [
           "VarVee"
          ],
          [
           "aPriori Technologies"
          ],
          [
           "iDreamsky Technology"
          ],
          [
           "Bizanga"
          ],
          [
           "Crescendo Networks"
          ],
          [
           "Doctorfun Entertainment, Ltd"
          ],
          [
           "Extreme DA"
          ],
          [
           "Fancy"
          ],
          [
           "Fry Multimedia"
          ],
          [
           "Glory Medical"
          ],
          [
           "LocalVox Media"
          ],
          [
           "Metranome"
          ],
          [
           "MoJoe Brewing Company"
          ],
          [
           "Modanisa"
          ],
          [
           "PageBites"
          ],
          [
           "PureSafe water systems"
          ],
          [
           "RelayFoods"
          ],
          [
           "Search Million Culture"
          ],
          [
           "Sensor Tower"
          ],
          [
           "Tab Solutions"
          ],
          [
           "VarVee"
          ],
          [
           "iDreamsky Technology"
          ],
          [
           "Bizanga"
          ],
          [
           "Crescendo Networks"
          ],
          [
           "Doctorfun Entertainment, Ltd"
          ],
          [
           "Extreme DA"
          ],
          [
           "Fancy"
          ],
          [
           "Fry Multimedia"
          ],
          [
           "LocalVox Media"
          ],
          [
           "Metranome"
          ],
          [
           "Mission Street Manufacturing"
          ],
          [
           "MoJoe Brewing Company"
          ],
          [
           "Modanisa"
          ],
          [
           "PageBites"
          ],
          [
           "Pole Star"
          ],
          [
           "RelayFoods"
          ],
          [
           "Search Million Culture"
          ],
          [
           "Sensor Tower"
          ],
          [
           "Tab Solutions"
          ],
          [
           "aPriori Technologies"
          ],
          [
           "iDreamsky Technology"
          ],
          [
           "Bizanga"
          ],
          [
           "Crescendo Networks"
          ],
          [
           "Doctorfun Entertainment, Ltd"
          ],
          [
           "Extreme DA"
          ],
          [
           "Fancy"
          ],
          [
           "Fry Multimedia"
          ],
          [
           "Glory Medical"
          ],
          [
           "LocalVox Media"
          ],
          [
           "Metranome"
          ],
          [
           "MoJoe Brewing Company"
          ],
          [
           "Modanisa"
          ],
          [
           "Pole Star"
          ],
          [
           "RelayFoods"
          ],
          [
           "Search Million Culture"
          ],
          [
           "Sensor Tower"
          ],
          [
           "Tab Solutions"
          ],
          [
           "VarVee"
          ],
          [
           "aPriori Technologies"
          ],
          [
           "iDreamsky Technology"
          ]
         ],
         "hovertemplate": "region=US<br>week_id=%{x}<br>num_of_requests=%{y}<br>requester=%{customdata[0]}<extra></extra>",
         "legendgroup": "US",
         "marker": {
          "color": "#FFA15A",
          "pattern": {
           "shape": ""
          }
         },
         "name": "US",
         "offsetgroup": "US",
         "orientation": "v",
         "showlegend": true,
         "textposition": "auto",
         "type": "bar",
         "visible": true,
         "x": [
          "2021-week_33",
          "2021-week_33",
          "2021-week_33",
          "2021-week_33",
          "2021-week_33",
          "2021-week_33",
          "2021-week_33",
          "2021-week_33",
          "2021-week_33",
          "2021-week_33",
          "2021-week_33",
          "2021-week_33",
          "2021-week_33",
          "2021-week_33",
          "2021-week_33",
          "2021-week_33",
          "2021-week_33",
          "2021-week_33",
          "2021-week_33",
          "2021-week_33",
          "2021-week_33",
          "2021-week_33",
          "2021-week_33",
          "2021-week_34",
          "2021-week_34",
          "2021-week_34",
          "2021-week_34",
          "2021-week_34",
          "2021-week_34",
          "2021-week_34",
          "2021-week_34",
          "2021-week_34",
          "2021-week_34",
          "2021-week_34",
          "2021-week_34",
          "2021-week_34",
          "2021-week_34",
          "2021-week_34",
          "2021-week_34",
          "2021-week_34",
          "2021-week_34",
          "2021-week_34",
          "2021-week_34",
          "2021-week_34",
          "2021-week_35",
          "2021-week_35",
          "2021-week_35",
          "2021-week_35",
          "2021-week_35",
          "2021-week_35",
          "2021-week_35",
          "2021-week_35",
          "2021-week_35",
          "2021-week_35",
          "2021-week_35",
          "2021-week_35",
          "2021-week_35",
          "2021-week_35",
          "2021-week_35",
          "2021-week_35",
          "2021-week_35",
          "2021-week_35",
          "2021-week_35",
          "2021-week_35",
          "2021-week_35",
          "2021-week_35",
          "2021-week_35",
          "2021-week_35",
          "2021-week_35",
          "2021-week_36",
          "2021-week_36",
          "2021-week_36",
          "2021-week_36",
          "2021-week_36",
          "2021-week_36",
          "2021-week_36",
          "2021-week_36",
          "2021-week_36",
          "2021-week_36",
          "2021-week_36",
          "2021-week_36",
          "2021-week_36",
          "2021-week_36",
          "2021-week_36",
          "2021-week_36",
          "2021-week_36",
          "2021-week_36",
          "2021-week_36",
          "2021-week_36",
          "2021-week_36",
          "2021-week_36",
          "2021-week_36",
          "2021-week_37",
          "2021-week_37",
          "2021-week_37",
          "2021-week_37",
          "2021-week_37",
          "2021-week_37",
          "2021-week_37",
          "2021-week_37",
          "2021-week_37",
          "2021-week_37",
          "2021-week_37",
          "2021-week_37",
          "2021-week_37",
          "2021-week_37",
          "2021-week_37",
          "2021-week_37",
          "2021-week_37",
          "2021-week_37",
          "2021-week_37",
          "2021-week_37",
          "2021-week_37",
          "2021-week_37",
          "2021-week_37",
          "2021-week_37",
          "2021-week_37",
          "2021-week_38",
          "2021-week_38",
          "2021-week_38",
          "2021-week_38",
          "2021-week_38",
          "2021-week_38",
          "2021-week_38",
          "2021-week_38",
          "2021-week_38",
          "2021-week_38",
          "2021-week_38",
          "2021-week_38",
          "2021-week_38",
          "2021-week_38",
          "2021-week_38",
          "2021-week_38",
          "2021-week_38",
          "2021-week_38",
          "2021-week_38",
          "2021-week_38",
          "2021-week_38",
          "2021-week_38",
          "2021-week_38",
          "2021-week_38",
          "2021-week_38",
          "2021-week_38",
          "2021-week_39",
          "2021-week_39",
          "2021-week_39",
          "2021-week_39",
          "2021-week_39",
          "2021-week_39",
          "2021-week_39",
          "2021-week_39",
          "2021-week_39",
          "2021-week_39",
          "2021-week_39",
          "2021-week_39",
          "2021-week_39",
          "2021-week_39",
          "2021-week_39",
          "2021-week_39",
          "2021-week_39",
          "2021-week_39",
          "2021-week_39",
          "2021-week_39",
          "2021-week_39",
          "2021-week_39",
          "2021-week_40",
          "2021-week_40",
          "2021-week_40",
          "2021-week_40",
          "2021-week_40",
          "2021-week_40",
          "2021-week_40",
          "2021-week_40",
          "2021-week_40",
          "2021-week_40",
          "2021-week_40",
          "2021-week_40",
          "2021-week_40",
          "2021-week_40",
          "2021-week_40",
          "2021-week_40",
          "2021-week_40",
          "2021-week_40",
          "2021-week_40",
          "2021-week_40",
          "2021-week_40",
          "2021-week_40",
          "2021-week_40",
          "2021-week_41",
          "2021-week_41",
          "2021-week_41",
          "2021-week_41",
          "2021-week_41",
          "2021-week_41",
          "2021-week_41",
          "2021-week_41",
          "2021-week_41",
          "2021-week_41",
          "2021-week_41",
          "2021-week_41",
          "2021-week_41",
          "2021-week_41",
          "2021-week_41",
          "2021-week_41",
          "2021-week_41",
          "2021-week_41",
          "2021-week_41",
          "2021-week_41",
          "2021-week_42",
          "2021-week_42",
          "2021-week_42",
          "2021-week_42",
          "2021-week_42",
          "2021-week_42",
          "2021-week_42",
          "2021-week_42",
          "2021-week_42",
          "2021-week_42",
          "2021-week_42",
          "2021-week_42",
          "2021-week_42",
          "2021-week_42",
          "2021-week_42",
          "2021-week_42",
          "2021-week_42",
          "2021-week_42",
          "2021-week_42",
          "2021-week_42",
          "2021-week_42",
          "2021-week_42",
          "2021-week_42",
          "2021-week_42",
          "2021-week_43",
          "2021-week_43",
          "2021-week_43",
          "2021-week_43",
          "2021-week_43",
          "2021-week_43",
          "2021-week_43",
          "2021-week_43",
          "2021-week_43",
          "2021-week_43",
          "2021-week_43",
          "2021-week_43",
          "2021-week_43",
          "2021-week_43",
          "2021-week_43",
          "2021-week_43",
          "2021-week_43",
          "2021-week_43",
          "2021-week_43",
          "2021-week_43",
          "2021-week_44",
          "2021-week_44",
          "2021-week_44",
          "2021-week_44",
          "2021-week_44",
          "2021-week_44",
          "2021-week_44",
          "2021-week_44",
          "2021-week_44",
          "2021-week_44",
          "2021-week_44",
          "2021-week_44",
          "2021-week_44",
          "2021-week_44",
          "2021-week_44",
          "2021-week_44",
          "2021-week_44",
          "2021-week_44",
          "2021-week_44",
          "2021-week_44",
          "2021-week_44",
          "2021-week_44",
          "2021-week_44",
          "2021-week_44",
          "2021-week_45",
          "2021-week_45",
          "2021-week_45",
          "2021-week_45",
          "2021-week_45",
          "2021-week_45",
          "2021-week_45",
          "2021-week_45",
          "2021-week_45",
          "2021-week_45",
          "2021-week_45",
          "2021-week_45",
          "2021-week_45",
          "2021-week_45",
          "2021-week_45",
          "2021-week_45",
          "2021-week_45",
          "2021-week_45",
          "2021-week_45",
          "2021-week_46",
          "2021-week_46",
          "2021-week_46",
          "2021-week_46",
          "2021-week_46",
          "2021-week_46",
          "2021-week_46",
          "2021-week_46",
          "2021-week_46",
          "2021-week_46",
          "2021-week_46",
          "2021-week_46",
          "2021-week_46",
          "2021-week_46",
          "2021-week_46",
          "2021-week_46",
          "2021-week_46",
          "2021-week_46",
          "2021-week_46",
          "2021-week_47",
          "2021-week_47",
          "2021-week_47",
          "2021-week_47",
          "2021-week_47",
          "2021-week_47",
          "2021-week_47",
          "2021-week_47",
          "2021-week_47",
          "2021-week_47",
          "2021-week_47",
          "2021-week_47",
          "2021-week_47",
          "2021-week_47",
          "2021-week_47",
          "2021-week_47",
          "2021-week_47",
          "2021-week_47",
          "2021-week_47",
          "2021-week_48",
          "2021-week_48",
          "2021-week_48",
          "2021-week_48",
          "2021-week_48",
          "2021-week_48",
          "2021-week_48",
          "2021-week_48",
          "2021-week_48",
          "2021-week_48",
          "2021-week_48",
          "2021-week_48",
          "2021-week_48",
          "2021-week_48",
          "2021-week_48",
          "2021-week_48",
          "2021-week_48",
          "2021-week_48",
          "2021-week_49",
          "2021-week_49",
          "2021-week_49",
          "2021-week_49",
          "2021-week_49",
          "2021-week_49",
          "2021-week_49",
          "2021-week_49",
          "2021-week_49",
          "2021-week_49",
          "2021-week_49",
          "2021-week_49",
          "2021-week_49",
          "2021-week_49",
          "2021-week_49",
          "2021-week_49",
          "2021-week_49",
          "2021-week_49",
          "2021-week_49",
          "2021-week_49",
          "2021-week_49",
          "2021-week_50",
          "2021-week_50",
          "2021-week_50",
          "2021-week_50",
          "2021-week_50",
          "2021-week_50",
          "2021-week_50",
          "2021-week_50",
          "2021-week_50",
          "2021-week_50",
          "2021-week_50",
          "2021-week_50",
          "2021-week_50",
          "2021-week_50",
          "2021-week_50",
          "2021-week_50",
          "2021-week_50",
          "2021-week_50",
          "2021-week_50",
          "2021-week_51",
          "2021-week_51",
          "2021-week_51",
          "2021-week_51",
          "2021-week_51",
          "2021-week_51",
          "2021-week_51",
          "2021-week_51",
          "2021-week_51",
          "2021-week_51",
          "2021-week_51",
          "2021-week_51",
          "2021-week_51",
          "2021-week_51",
          "2021-week_51",
          "2021-week_51",
          "2021-week_51",
          "2022-week_01",
          "2022-week_01",
          "2022-week_01",
          "2022-week_01",
          "2022-week_01",
          "2022-week_01",
          "2022-week_01",
          "2022-week_01",
          "2022-week_01",
          "2022-week_01",
          "2022-week_01",
          "2022-week_01",
          "2022-week_01",
          "2022-week_01",
          "2022-week_01",
          "2022-week_01",
          "2022-week_01",
          "2022-week_01",
          "2022-week_02",
          "2022-week_02",
          "2022-week_02",
          "2022-week_02",
          "2022-week_02",
          "2022-week_02",
          "2022-week_02",
          "2022-week_02",
          "2022-week_02",
          "2022-week_02",
          "2022-week_02",
          "2022-week_02",
          "2022-week_02",
          "2022-week_02",
          "2022-week_02",
          "2022-week_02",
          "2022-week_02",
          "2022-week_02",
          "2022-week_02",
          "2022-week_03",
          "2022-week_03",
          "2022-week_03",
          "2022-week_03",
          "2022-week_03",
          "2022-week_03",
          "2022-week_03",
          "2022-week_03",
          "2022-week_03",
          "2022-week_03",
          "2022-week_03",
          "2022-week_03",
          "2022-week_03",
          "2022-week_03",
          "2022-week_03",
          "2022-week_03",
          "2022-week_03",
          "2022-week_03",
          "2022-week_04",
          "2022-week_04",
          "2022-week_04",
          "2022-week_04",
          "2022-week_04",
          "2022-week_04",
          "2022-week_04",
          "2022-week_04",
          "2022-week_04",
          "2022-week_04",
          "2022-week_04",
          "2022-week_04",
          "2022-week_04",
          "2022-week_04",
          "2022-week_04",
          "2022-week_04",
          "2022-week_04",
          "2022-week_04",
          "2022-week_05",
          "2022-week_05",
          "2022-week_05",
          "2022-week_05",
          "2022-week_05",
          "2022-week_05",
          "2022-week_05",
          "2022-week_05",
          "2022-week_05",
          "2022-week_05",
          "2022-week_05",
          "2022-week_05",
          "2022-week_05",
          "2022-week_05",
          "2022-week_05",
          "2022-week_05",
          "2022-week_05",
          "2022-week_05",
          "2022-week_05",
          "2022-week_06",
          "2022-week_06",
          "2022-week_06",
          "2022-week_06",
          "2022-week_06",
          "2022-week_06",
          "2022-week_06",
          "2022-week_06",
          "2022-week_06",
          "2022-week_06",
          "2022-week_06",
          "2022-week_06",
          "2022-week_06",
          "2022-week_06",
          "2022-week_06",
          "2022-week_06",
          "2022-week_06",
          "2022-week_06",
          "2022-week_06",
          "2022-week_52",
          "2022-week_52",
          "2022-week_52",
          "2022-week_52",
          "2022-week_52",
          "2022-week_52",
          "2022-week_52",
          "2022-week_52",
          "2022-week_52",
          "2022-week_52",
          "2022-week_52",
          "2022-week_52",
          "2022-week_52",
          "2022-week_52",
          "2022-week_52",
          "2022-week_52",
          "2022-week_52",
          "2022-week_52",
          "2022-week_52"
         ],
         "xaxis": "x",
         "y": [
          1,
          39,
          4,
          499,
          402,
          2,
          17,
          44,
          4,
          47,
          4,
          12,
          274,
          40,
          23,
          44,
          284,
          632,
          521,
          907,
          8,
          5,
          71,
          26,
          2,
          1,
          1264,
          302,
          20,
          11,
          1,
          55,
          3,
          7,
          165,
          32,
          10,
          25,
          165,
          569,
          485,
          740,
          8,
          52,
          1,
          1,
          17,
          11,
          4,
          1,
          1361,
          425,
          13,
          1,
          2,
          5,
          36,
          4,
          10,
          178,
          20,
          16,
          155,
          439,
          450,
          681,
          8,
          6,
          75,
          3,
          13,
          13,
          7,
          1322,
          491,
          23,
          8,
          3,
          45,
          5,
          4,
          172,
          16,
          1,
          12,
          162,
          457,
          270,
          765,
          10,
          7,
          113,
          1,
          17,
          10,
          1,
          13,
          1260,
          698,
          16,
          4,
          2,
          42,
          1,
          1,
          4,
          162,
          12,
          18,
          1,
          158,
          485,
          185,
          697,
          8,
          5,
          123,
          1,
          1,
          5,
          9,
          2,
          15,
          2110,
          667,
          7,
          5,
          1,
          27,
          1,
          4,
          78,
          10,
          1,
          11,
          1,
          98,
          282,
          125,
          397,
          4,
          2,
          74,
          3,
          2,
          18,
          2437,
          564,
          6,
          3,
          16,
          2,
          4,
          89,
          16,
          1,
          7,
          2,
          92,
          245,
          111,
          276,
          2,
          5,
          50,
          2,
          2,
          2,
          1,
          14,
          2356,
          648,
          4,
          3,
          16,
          2,
          3,
          87,
          15,
          1,
          1,
          1,
          66,
          227,
          93,
          343,
          2,
          56,
          11,
          2,
          18,
          2268,
          821,
          9,
          1,
          1,
          13,
          3,
          57,
          10,
          7,
          64,
          229,
          97,
          286,
          1,
          2,
          45,
          1,
          18,
          2,
          1,
          25,
          2044,
          738,
          9,
          1,
          2,
          11,
          4,
          71,
          19,
          1,
          8,
          3,
          196,
          300,
          98,
          351,
          6,
          2,
          38,
          10,
          3,
          14,
          2237,
          757,
          8,
          1,
          12,
          5,
          66,
          17,
          4,
          2,
          140,
          235,
          80,
          315,
          7,
          3,
          24,
          6,
          2,
          13,
          2388,
          729,
          9,
          5,
          3,
          1,
          8,
          1,
          7,
          64,
          15,
          1,
          3,
          2,
          140,
          133,
          77,
          305,
          5,
          4,
          23,
          1,
          3,
          1,
          2639,
          682,
          6,
          1,
          11,
          5,
          47,
          5,
          1,
          137,
          45,
          83,
          259,
          4,
          4,
          17,
          2,
          3,
          1,
          2797,
          553,
          5,
          2,
          2,
          14,
          1,
          5,
          63,
          8,
          145,
          53,
          62,
          203,
          2,
          30,
          4,
          1,
          2974,
          330,
          5,
          3,
          1,
          9,
          3,
          62,
          6,
          2,
          139,
          55,
          64,
          239,
          3,
          1,
          50,
          5,
          1,
          2,
          2599,
          648,
          6,
          4,
          10,
          2,
          68,
          6,
          119,
          63,
          80,
          277,
          4,
          3,
          43,
          3,
          2,
          3,
          1764,
          1213,
          3,
          1,
          6,
          12,
          2,
          5,
          69,
          7,
          2,
          126,
          81,
          107,
          443,
          6,
          1,
          30,
          1,
          1,
          1968,
          1158,
          3,
          4,
          12,
          2,
          3,
          73,
          13,
          1,
          144,
          70,
          70,
          318,
          3,
          1,
          24,
          3,
          1,
          2687,
          751,
          4,
          9,
          1,
          1,
          32,
          2,
          1,
          88,
          44,
          43,
          250,
          2,
          14,
          3,
          1,
          2871,
          613,
          3,
          1,
          5,
          2,
          43,
          2,
          3,
          73,
          116,
          50,
          155,
          3,
          2,
          15,
          2,
          3,
          7,
          2814,
          630,
          8,
          2,
          1,
          9,
          33,
          6,
          2,
          2,
          85,
          130,
          43,
          178,
          5,
          14,
          1,
          11,
          2491,
          741,
          8,
          1,
          8,
          3,
          78,
          4,
          3,
          1,
          108,
          172,
          64,
          211,
          4,
          24,
          5,
          12,
          2398,
          818,
          5,
          2,
          7,
          2,
          64,
          3,
          1,
          123,
          182,
          62,
          236,
          6,
          1,
          17,
          5,
          4,
          11,
          2435,
          828,
          9,
          1,
          11,
          1,
          69,
          7,
          3,
          1,
          108,
          142,
          56,
          197,
          6,
          23,
          3,
          1,
          12,
          2378,
          800,
          7,
          12,
          1,
          4,
          63,
          6,
          4,
          1,
          127,
          163,
          60,
          241,
          1,
          27,
          5,
          1,
          1,
          2526,
          831,
          1,
          1,
          9,
          1,
          92,
          7,
          2,
          100,
          45,
          67,
          220,
          2,
          2,
          23
         ],
         "yaxis": "y"
        }
       ],
       "layout": {
        "autosize": true,
        "barmode": "stack",
        "legend": {
         "title": {
          "text": "region"
         },
         "tracegroupgap": 0
        },
        "margin": {
         "t": 60
        },
        "template": {
         "data": {
          "bar": [
           {
            "error_x": {
             "color": "#2a3f5f"
            },
            "error_y": {
             "color": "#2a3f5f"
            },
            "marker": {
             "line": {
              "color": "#E5ECF6",
              "width": 0.5
             },
             "pattern": {
              "fillmode": "overlay",
              "size": 10,
              "solidity": 0.2
             }
            },
            "type": "bar"
           }
          ],
          "barpolar": [
           {
            "marker": {
             "line": {
              "color": "#E5ECF6",
              "width": 0.5
             },
             "pattern": {
              "fillmode": "overlay",
              "size": 10,
              "solidity": 0.2
             }
            },
            "type": "barpolar"
           }
          ],
          "carpet": [
           {
            "aaxis": {
             "endlinecolor": "#2a3f5f",
             "gridcolor": "white",
             "linecolor": "white",
             "minorgridcolor": "white",
             "startlinecolor": "#2a3f5f"
            },
            "baxis": {
             "endlinecolor": "#2a3f5f",
             "gridcolor": "white",
             "linecolor": "white",
             "minorgridcolor": "white",
             "startlinecolor": "#2a3f5f"
            },
            "type": "carpet"
           }
          ],
          "choropleth": [
           {
            "colorbar": {
             "outlinewidth": 0,
             "ticks": ""
            },
            "type": "choropleth"
           }
          ],
          "contour": [
           {
            "colorbar": {
             "outlinewidth": 0,
             "ticks": ""
            },
            "colorscale": [
             [
              0,
              "#0d0887"
             ],
             [
              0.1111111111111111,
              "#46039f"
             ],
             [
              0.2222222222222222,
              "#7201a8"
             ],
             [
              0.3333333333333333,
              "#9c179e"
             ],
             [
              0.4444444444444444,
              "#bd3786"
             ],
             [
              0.5555555555555556,
              "#d8576b"
             ],
             [
              0.6666666666666666,
              "#ed7953"
             ],
             [
              0.7777777777777778,
              "#fb9f3a"
             ],
             [
              0.8888888888888888,
              "#fdca26"
             ],
             [
              1,
              "#f0f921"
             ]
            ],
            "type": "contour"
           }
          ],
          "contourcarpet": [
           {
            "colorbar": {
             "outlinewidth": 0,
             "ticks": ""
            },
            "type": "contourcarpet"
           }
          ],
          "heatmap": [
           {
            "colorbar": {
             "outlinewidth": 0,
             "ticks": ""
            },
            "colorscale": [
             [
              0,
              "#0d0887"
             ],
             [
              0.1111111111111111,
              "#46039f"
             ],
             [
              0.2222222222222222,
              "#7201a8"
             ],
             [
              0.3333333333333333,
              "#9c179e"
             ],
             [
              0.4444444444444444,
              "#bd3786"
             ],
             [
              0.5555555555555556,
              "#d8576b"
             ],
             [
              0.6666666666666666,
              "#ed7953"
             ],
             [
              0.7777777777777778,
              "#fb9f3a"
             ],
             [
              0.8888888888888888,
              "#fdca26"
             ],
             [
              1,
              "#f0f921"
             ]
            ],
            "type": "heatmap"
           }
          ],
          "heatmapgl": [
           {
            "colorbar": {
             "outlinewidth": 0,
             "ticks": ""
            },
            "colorscale": [
             [
              0,
              "#0d0887"
             ],
             [
              0.1111111111111111,
              "#46039f"
             ],
             [
              0.2222222222222222,
              "#7201a8"
             ],
             [
              0.3333333333333333,
              "#9c179e"
             ],
             [
              0.4444444444444444,
              "#bd3786"
             ],
             [
              0.5555555555555556,
              "#d8576b"
             ],
             [
              0.6666666666666666,
              "#ed7953"
             ],
             [
              0.7777777777777778,
              "#fb9f3a"
             ],
             [
              0.8888888888888888,
              "#fdca26"
             ],
             [
              1,
              "#f0f921"
             ]
            ],
            "type": "heatmapgl"
           }
          ],
          "histogram": [
           {
            "marker": {
             "pattern": {
              "fillmode": "overlay",
              "size": 10,
              "solidity": 0.2
             }
            },
            "type": "histogram"
           }
          ],
          "histogram2d": [
           {
            "colorbar": {
             "outlinewidth": 0,
             "ticks": ""
            },
            "colorscale": [
             [
              0,
              "#0d0887"
             ],
             [
              0.1111111111111111,
              "#46039f"
             ],
             [
              0.2222222222222222,
              "#7201a8"
             ],
             [
              0.3333333333333333,
              "#9c179e"
             ],
             [
              0.4444444444444444,
              "#bd3786"
             ],
             [
              0.5555555555555556,
              "#d8576b"
             ],
             [
              0.6666666666666666,
              "#ed7953"
             ],
             [
              0.7777777777777778,
              "#fb9f3a"
             ],
             [
              0.8888888888888888,
              "#fdca26"
             ],
             [
              1,
              "#f0f921"
             ]
            ],
            "type": "histogram2d"
           }
          ],
          "histogram2dcontour": [
           {
            "colorbar": {
             "outlinewidth": 0,
             "ticks": ""
            },
            "colorscale": [
             [
              0,
              "#0d0887"
             ],
             [
              0.1111111111111111,
              "#46039f"
             ],
             [
              0.2222222222222222,
              "#7201a8"
             ],
             [
              0.3333333333333333,
              "#9c179e"
             ],
             [
              0.4444444444444444,
              "#bd3786"
             ],
             [
              0.5555555555555556,
              "#d8576b"
             ],
             [
              0.6666666666666666,
              "#ed7953"
             ],
             [
              0.7777777777777778,
              "#fb9f3a"
             ],
             [
              0.8888888888888888,
              "#fdca26"
             ],
             [
              1,
              "#f0f921"
             ]
            ],
            "type": "histogram2dcontour"
           }
          ],
          "mesh3d": [
           {
            "colorbar": {
             "outlinewidth": 0,
             "ticks": ""
            },
            "type": "mesh3d"
           }
          ],
          "parcoords": [
           {
            "line": {
             "colorbar": {
              "outlinewidth": 0,
              "ticks": ""
             }
            },
            "type": "parcoords"
           }
          ],
          "pie": [
           {
            "automargin": true,
            "type": "pie"
           }
          ],
          "scatter": [
           {
            "marker": {
             "colorbar": {
              "outlinewidth": 0,
              "ticks": ""
             }
            },
            "type": "scatter"
           }
          ],
          "scatter3d": [
           {
            "line": {
             "colorbar": {
              "outlinewidth": 0,
              "ticks": ""
             }
            },
            "marker": {
             "colorbar": {
              "outlinewidth": 0,
              "ticks": ""
             }
            },
            "type": "scatter3d"
           }
          ],
          "scattercarpet": [
           {
            "marker": {
             "colorbar": {
              "outlinewidth": 0,
              "ticks": ""
             }
            },
            "type": "scattercarpet"
           }
          ],
          "scattergeo": [
           {
            "marker": {
             "colorbar": {
              "outlinewidth": 0,
              "ticks": ""
             }
            },
            "type": "scattergeo"
           }
          ],
          "scattergl": [
           {
            "marker": {
             "colorbar": {
              "outlinewidth": 0,
              "ticks": ""
             }
            },
            "type": "scattergl"
           }
          ],
          "scattermapbox": [
           {
            "marker": {
             "colorbar": {
              "outlinewidth": 0,
              "ticks": ""
             }
            },
            "type": "scattermapbox"
           }
          ],
          "scatterpolar": [
           {
            "marker": {
             "colorbar": {
              "outlinewidth": 0,
              "ticks": ""
             }
            },
            "type": "scatterpolar"
           }
          ],
          "scatterpolargl": [
           {
            "marker": {
             "colorbar": {
              "outlinewidth": 0,
              "ticks": ""
             }
            },
            "type": "scatterpolargl"
           }
          ],
          "scatterternary": [
           {
            "marker": {
             "colorbar": {
              "outlinewidth": 0,
              "ticks": ""
             }
            },
            "type": "scatterternary"
           }
          ],
          "surface": [
           {
            "colorbar": {
             "outlinewidth": 0,
             "ticks": ""
            },
            "colorscale": [
             [
              0,
              "#0d0887"
             ],
             [
              0.1111111111111111,
              "#46039f"
             ],
             [
              0.2222222222222222,
              "#7201a8"
             ],
             [
              0.3333333333333333,
              "#9c179e"
             ],
             [
              0.4444444444444444,
              "#bd3786"
             ],
             [
              0.5555555555555556,
              "#d8576b"
             ],
             [
              0.6666666666666666,
              "#ed7953"
             ],
             [
              0.7777777777777778,
              "#fb9f3a"
             ],
             [
              0.8888888888888888,
              "#fdca26"
             ],
             [
              1,
              "#f0f921"
             ]
            ],
            "type": "surface"
           }
          ],
          "table": [
           {
            "cells": {
             "fill": {
              "color": "#EBF0F8"
             },
             "line": {
              "color": "white"
             }
            },
            "header": {
             "fill": {
              "color": "#C8D4E3"
             },
             "line": {
              "color": "white"
             }
            },
            "type": "table"
           }
          ]
         },
         "layout": {
          "annotationdefaults": {
           "arrowcolor": "#2a3f5f",
           "arrowhead": 0,
           "arrowwidth": 1
          },
          "autotypenumbers": "strict",
          "coloraxis": {
           "colorbar": {
            "outlinewidth": 0,
            "ticks": ""
           }
          },
          "colorscale": {
           "diverging": [
            [
             0,
             "#8e0152"
            ],
            [
             0.1,
             "#c51b7d"
            ],
            [
             0.2,
             "#de77ae"
            ],
            [
             0.3,
             "#f1b6da"
            ],
            [
             0.4,
             "#fde0ef"
            ],
            [
             0.5,
             "#f7f7f7"
            ],
            [
             0.6,
             "#e6f5d0"
            ],
            [
             0.7,
             "#b8e186"
            ],
            [
             0.8,
             "#7fbc41"
            ],
            [
             0.9,
             "#4d9221"
            ],
            [
             1,
             "#276419"
            ]
           ],
           "sequential": [
            [
             0,
             "#0d0887"
            ],
            [
             0.1111111111111111,
             "#46039f"
            ],
            [
             0.2222222222222222,
             "#7201a8"
            ],
            [
             0.3333333333333333,
             "#9c179e"
            ],
            [
             0.4444444444444444,
             "#bd3786"
            ],
            [
             0.5555555555555556,
             "#d8576b"
            ],
            [
             0.6666666666666666,
             "#ed7953"
            ],
            [
             0.7777777777777778,
             "#fb9f3a"
            ],
            [
             0.8888888888888888,
             "#fdca26"
            ],
            [
             1,
             "#f0f921"
            ]
           ],
           "sequentialminus": [
            [
             0,
             "#0d0887"
            ],
            [
             0.1111111111111111,
             "#46039f"
            ],
            [
             0.2222222222222222,
             "#7201a8"
            ],
            [
             0.3333333333333333,
             "#9c179e"
            ],
            [
             0.4444444444444444,
             "#bd3786"
            ],
            [
             0.5555555555555556,
             "#d8576b"
            ],
            [
             0.6666666666666666,
             "#ed7953"
            ],
            [
             0.7777777777777778,
             "#fb9f3a"
            ],
            [
             0.8888888888888888,
             "#fdca26"
            ],
            [
             1,
             "#f0f921"
            ]
           ]
          },
          "colorway": [
           "#636efa",
           "#EF553B",
           "#00cc96",
           "#ab63fa",
           "#FFA15A",
           "#19d3f3",
           "#FF6692",
           "#B6E880",
           "#FF97FF",
           "#FECB52"
          ],
          "font": {
           "color": "#2a3f5f"
          },
          "geo": {
           "bgcolor": "white",
           "lakecolor": "white",
           "landcolor": "#E5ECF6",
           "showlakes": true,
           "showland": true,
           "subunitcolor": "white"
          },
          "hoverlabel": {
           "align": "left"
          },
          "hovermode": "closest",
          "mapbox": {
           "style": "light"
          },
          "paper_bgcolor": "white",
          "plot_bgcolor": "#E5ECF6",
          "polar": {
           "angularaxis": {
            "gridcolor": "white",
            "linecolor": "white",
            "ticks": ""
           },
           "bgcolor": "#E5ECF6",
           "radialaxis": {
            "gridcolor": "white",
            "linecolor": "white",
            "ticks": ""
           }
          },
          "scene": {
           "xaxis": {
            "backgroundcolor": "#E5ECF6",
            "gridcolor": "white",
            "gridwidth": 2,
            "linecolor": "white",
            "showbackground": true,
            "ticks": "",
            "zerolinecolor": "white"
           },
           "yaxis": {
            "backgroundcolor": "#E5ECF6",
            "gridcolor": "white",
            "gridwidth": 2,
            "linecolor": "white",
            "showbackground": true,
            "ticks": "",
            "zerolinecolor": "white"
           },
           "zaxis": {
            "backgroundcolor": "#E5ECF6",
            "gridcolor": "white",
            "gridwidth": 2,
            "linecolor": "white",
            "showbackground": true,
            "ticks": "",
            "zerolinecolor": "white"
           }
          },
          "shapedefaults": {
           "line": {
            "color": "#2a3f5f"
           }
          },
          "ternary": {
           "aaxis": {
            "gridcolor": "white",
            "linecolor": "white",
            "ticks": ""
           },
           "baxis": {
            "gridcolor": "white",
            "linecolor": "white",
            "ticks": ""
           },
           "bgcolor": "#E5ECF6",
           "caxis": {
            "gridcolor": "white",
            "linecolor": "white",
            "ticks": ""
           }
          },
          "title": {
           "x": 0.05
          },
          "xaxis": {
           "automargin": true,
           "gridcolor": "white",
           "linecolor": "white",
           "ticks": "",
           "title": {
            "standoff": 15
           },
           "zerolinecolor": "white",
           "zerolinewidth": 2
          },
          "yaxis": {
           "automargin": true,
           "gridcolor": "white",
           "linecolor": "white",
           "ticks": "",
           "title": {
            "standoff": 15
           },
           "zerolinecolor": "white",
           "zerolinewidth": 2
          }
         }
        },
        "xaxis": {
         "anchor": "y",
         "autorange": true,
         "domain": [
          0,
          1
         ],
         "range": [
          -0.5,
          25.5
         ],
         "title": {
          "text": "week_id"
         },
         "type": "category"
        },
        "yaxis": {
         "anchor": "x",
         "autorange": true,
         "domain": [
          0,
          1
         ],
         "range": [
          0,
          16510.526315789473
         ],
         "title": {
          "text": "num_of_requests"
         },
         "type": "linear"
        }
       }
      },
      "image/png": "[encoded data removed]",
      "text/html": [
       "<div>                            <div id=\"7ebe0eef-b021-4dbd-9f60-2a301b29a4c2\" class=\"plotly-graph-div\" style=\"height:525px; width:100%;\"></div>            <script type=\"text/javascript\">                require([\"plotly\"], function(Plotly) {                    window.PLOTLYENV=window.PLOTLYENV || {};                                    if (document.getElementById(\"7ebe0eef-b021-4dbd-9f60-2a301b29a4c2\")) {                    Plotly.newPlot(                        \"7ebe0eef-b021-4dbd-9f60-2a301b29a4c2\",                        [{\"alignmentgroup\":\"True\",\"customdata\":[[\"Bizanga\"],[\"Crescendo Networks\"],[\"Extreme DA\"],[\"Fry Multimedia\"],[\"G-mode\"],[\"LocalVox Media\"],[\"MoJoe Brewing Company\"],[\"Modanisa\"],[\"RelayFoods\"],[\"SOLOMO365\"],[\"Search Million Culture\"],[\"aPriori Technologies\"],[\"iDreamsky Technology\"],[\"Bizanga\"],[\"Crescendo Networks\"],[\"Extreme DA\"],[\"Fry Multimedia\"],[\"G-mode\"],[\"LocalVox Media\"],[\"MoJoe Brewing Company\"],[\"Modanisa\"],[\"OpenDesks, Inc.\"],[\"RelayFoods\"],[\"SOLOMO365\"],[\"Search Million Culture\"],[\"aPriori Technologies\"],[\"iDreamsky Technology\"],[\"Bizanga\"],[\"Crescendo Networks\"],[\"Extreme DA\"],[\"Fry Multimedia\"],[\"G-mode\"],[\"LocalVox Media\"],[\"MoJoe Brewing Company\"],[\"Modanisa\"],[\"RelayFoods\"],[\"SOLOMO365\"],[\"Search Million Culture\"],[\"aPriori Technologies\"],[\"iDreamsky Technology\"],[\"Bizanga\"],[\"Crescendo Networks\"],[\"Extreme DA\"],[\"Fry Multimedia\"],[\"G-mode\"],[\"LocalVox Media\"],[\"MoJoe Brewing Company\"],[\"Modanisa\"],[\"OpenDesks, Inc.\"],[\"RelayFoods\"],[\"SOLOMO365\"],[\"Search Million Culture\"],[\"VarVee\"],[\"aPriori Technologies\"],[\"iDreamsky Technology\"],[\"Bizanga\"],[\"Crescendo Networks\"],[\"Extreme DA\"],[\"Fry Multimedia\"],[\"G-mode\"],[\"LocalVox Media\"],[\"MoJoe Brewing Company\"],[\"Modanisa\"],[\"RelayFoods\"],[\"SOLOMO365\"],[\"Search Million Culture\"],[\"VarVee\"],[\"aPriori Technologies\"],[\"iDreamsky Technology\"],[\"Bizanga\"],[\"Crescendo Networks\"],[\"Extreme DA\"],[\"Fry Multimedia\"],[\"G-mode\"],[\"LocalVox Media\"],[\"MoJoe Brewing Company\"],[\"Modanisa\"],[\"OpenDesks, Inc.\"],[\"RelayFoods\"],[\"SOLOMO365\"],[\"Search Million Culture\"],[\"VarVee\"],[\"aPriori Technologies\"],[\"iDreamsky Technology\"],[\"Bizanga\"],[\"Crescendo Networks\"],[\"Extreme DA\"],[\"Fry Multimedia\"],[\"G-mode\"],[\"LocalVox Media\"],[\"MoJoe Brewing Company\"],[\"Modanisa\"],[\"OpenDesks, Inc.\"],[\"RelayFoods\"],[\"SOLOMO365\"],[\"Search Million Culture\"],[\"Tab Solutions\"],[\"VarVee\"],[\"aPriori Technologies\"],[\"iDreamsky Technology\"],[\"Allthetopbananas.com\"],[\"Bizanga\"],[\"Crescendo Networks\"],[\"Extreme DA\"],[\"Fry Multimedia\"],[\"G-mode\"],[\"LocalVox Media\"],[\"MoJoe Brewing Company\"],[\"Modanisa\"],[\"RelayFoods\"],[\"SOLOMO365\"],[\"Search Million Culture\"],[\"Tab Solutions\"],[\"VarVee\"],[\"aPriori Technologies\"],[\"iDreamsky Technology\"],[\"Allthetopbananas.com\"],[\"Bizanga\"],[\"Crescendo Networks\"],[\"Extreme DA\"],[\"Fry Multimedia\"],[\"G-mode\"],[\"LocalVox Media\"],[\"MoJoe Brewing Company\"],[\"Modanisa\"],[\"OpenDesks, Inc.\"],[\"Pole Star\"],[\"RelayFoods\"],[\"Search Million Culture\"],[\"Tab Solutions\"],[\"VarVee\"],[\"aPriori Technologies\"],[\"iDreamsky Technology\"],[\"Allthetopbananas.com\"],[\"Bizanga\"],[\"Crescendo Networks\"],[\"Fry Multimedia\"],[\"G-mode\"],[\"LocalVox Media\"],[\"MoJoe Brewing Company\"],[\"Modanisa\"],[\"RelayFoods\"],[\"Search Million Culture\"],[\"Tab Solutions\"],[\"VarVee\"],[\"aPriori Technologies\"],[\"iDreamsky Technology\"],[\"Allthetopbananas.com\"],[\"Bizanga\"],[\"Crescendo Networks\"],[\"Cuiker\"],[\"Extreme DA\"],[\"Fry Multimedia\"],[\"G-mode\"],[\"LocalVox Media\"],[\"MoJoe Brewing Company\"],[\"Modanisa\"],[\"Pole Star\"],[\"RelayFoods\"],[\"Search Million Culture\"],[\"Tab Solutions\"],[\"VarVee\"],[\"aPriori Technologies\"],[\"iDreamsky Technology\"],[\"Allthetopbananas.com\"],[\"Bizanga\"],[\"Crescendo Networks\"],[\"Extreme DA\"],[\"Fry Multimedia\"],[\"G-mode\"],[\"LocalVox Media\"],[\"MoJoe Brewing Company\"],[\"Modanisa\"],[\"RelayFoods\"],[\"Search Million Culture\"],[\"Tab Solutions\"],[\"VarVee\"],[\"aPriori Technologies\"],[\"iDreamsky Technology\"],[\"Allthetopbananas.com\"],[\"Bizanga\"],[\"Crescendo Networks\"],[\"Extreme DA\"],[\"Fry Multimedia\"],[\"G-mode\"],[\"LocalVox Media\"],[\"MoJoe Brewing Company\"],[\"Modanisa\"],[\"OpenDesks, Inc.\"],[\"Pole Star\"],[\"RelayFoods\"],[\"Search Million Culture\"],[\"Tab Solutions\"],[\"VarVee\"],[\"aPriori Technologies\"],[\"iDreamsky Technology\"],[\"Allthetopbananas.com\"],[\"Bizanga\"],[\"Crescendo Networks\"],[\"Cuiker\"],[\"Extreme DA\"],[\"Fry Multimedia\"],[\"G-mode\"],[\"LocalVox Media\"],[\"MoJoe Brewing Company\"],[\"Modanisa\"],[\"OpenDesks, Inc.\"],[\"Pole Star\"],[\"RelayFoods\"],[\"Search Million Culture\"],[\"VarVee\"],[\"aPriori Technologies\"],[\"iDreamsky Technology\"],[\"Allthetopbananas.com\"],[\"Bizanga\"],[\"Crescendo Networks\"],[\"Extreme DA\"],[\"Fry Multimedia\"],[\"G-mode\"],[\"LocalVox Media\"],[\"MoJoe Brewing Company\"],[\"Modanisa\"],[\"OpenDesks, Inc.\"],[\"RelayFoods\"],[\"Search Million Culture\"],[\"VarVee\"],[\"aPriori Technologies\"],[\"iDreamsky Technology\"],[\"Bizanga\"],[\"Crescendo Networks\"],[\"Extreme DA\"],[\"Fry Multimedia\"],[\"G-mode\"],[\"LocalVox Media\"],[\"MoJoe Brewing Company\"],[\"Modanisa\"],[\"OpenDesks, Inc.\"],[\"RelayFoods\"],[\"Search Million Culture\"],[\"VarVee\"],[\"aPriori Technologies\"],[\"iDreamsky Technology\"],[\"Allthetopbananas.com\"],[\"Bizanga\"],[\"Crescendo Networks\"],[\"Cuiker\"],[\"Extreme DA\"],[\"Fry Multimedia\"],[\"G-mode\"],[\"LocalVox Media\"],[\"MoJoe Brewing Company\"],[\"Modanisa\"],[\"OpenDesks, Inc.\"],[\"RelayFoods\"],[\"Search Million Culture\"],[\"aPriori Technologies\"],[\"iDreamsky Technology\"],[\"Allthetopbananas.com\"],[\"Bizanga\"],[\"Crescendo Networks\"],[\"Cuiker\"],[\"Extreme DA\"],[\"Fry Multimedia\"],[\"G-mode\"],[\"LocalVox Media\"],[\"MoJoe Brewing Company\"],[\"Modanisa\"],[\"OpenDesks, Inc.\"],[\"RelayFoods\"],[\"Search Million Culture\"],[\"VarVee\"],[\"aPriori Technologies\"],[\"iDreamsky Technology\"],[\"Allthetopbananas.com\"],[\"Bizanga\"],[\"Crescendo Networks\"],[\"Cuiker\"],[\"Extreme DA\"],[\"Fry Multimedia\"],[\"G-mode\"],[\"LocalVox Media\"],[\"MoJoe Brewing Company\"],[\"Modanisa\"],[\"OpenDesks, Inc.\"],[\"RelayFoods\"],[\"Search Million Culture\"],[\"VarVee\"],[\"aPriori Technologies\"],[\"iDreamsky Technology\"],[\"Allthetopbananas.com\"],[\"Bizanga\"],[\"Crescendo Networks\"],[\"Extreme DA\"],[\"Fry Multimedia\"],[\"G-mode\"],[\"LocalVox Media\"],[\"MoJoe Brewing Company\"],[\"Modanisa\"],[\"OpenDesks, Inc.\"],[\"RelayFoods\"],[\"Search Million Culture\"],[\"aPriori Technologies\"],[\"iDreamsky Technology\"],[\"Allthetopbananas.com\"],[\"Bizanga\"],[\"Crescendo Networks\"],[\"Cuiker\"],[\"Extreme DA\"],[\"Fry Multimedia\"],[\"G-mode\"],[\"LocalVox Media\"],[\"MoJoe Brewing Company\"],[\"Modanisa\"],[\"Pole Star\"],[\"RelayFoods\"],[\"Search Million Culture\"],[\"aPriori Technologies\"],[\"iDreamsky Technology\"],[\"Bizanga\"],[\"Crescendo Networks\"],[\"Extreme DA\"],[\"Fry Multimedia\"],[\"G-mode\"],[\"LocalVox Media\"],[\"MoJoe Brewing Company\"],[\"Modanisa\"],[\"OpenDesks, Inc.\"],[\"Pole Star\"],[\"RelayFoods\"],[\"Search Million Culture\"],[\"aPriori Technologies\"],[\"iDreamsky Technology\"],[\"Allthetopbananas.com\"],[\"Bizanga\"],[\"Crescendo Networks\"],[\"Extreme DA\"],[\"Fry Multimedia\"],[\"G-mode\"],[\"LocalVox Media\"],[\"MoJoe Brewing Company\"],[\"Modanisa\"],[\"OpenDesks, Inc.\"],[\"Pole Star\"],[\"RelayFoods\"],[\"Search Million Culture\"],[\"VarVee\"],[\"aPriori Technologies\"],[\"iDreamsky Technology\"],[\"Allthetopbananas.com\"],[\"Bizanga\"],[\"Crescendo Networks\"],[\"Extreme DA\"],[\"Fry Multimedia\"],[\"G-mode\"],[\"LocalVox Media\"],[\"MoJoe Brewing Company\"],[\"Modanisa\"],[\"OpenDesks, Inc.\"],[\"Pole Star\"],[\"RelayFoods\"],[\"Search Million Culture\"],[\"aPriori Technologies\"],[\"iDreamsky Technology\"],[\"Allthetopbananas.com\"],[\"Bizanga\"],[\"Crescendo Networks\"],[\"Extreme DA\"],[\"Fry Multimedia\"],[\"G-mode\"],[\"LocalVox Media\"],[\"MoJoe Brewing Company\"],[\"Modanisa\"],[\"OpenDesks, Inc.\"],[\"Pole Star\"],[\"RelayFoods\"],[\"Search Million Culture\"],[\"VarVee\"],[\"aPriori Technologies\"],[\"iDreamsky Technology\"],[\"Allthetopbananas.com\"],[\"Bizanga\"],[\"Crescendo Networks\"],[\"Extreme DA\"],[\"Fry Multimedia\"],[\"G-mode\"],[\"LocalVox Media\"],[\"MoJoe Brewing Company\"],[\"Modanisa\"],[\"OpenDesks, Inc.\"],[\"RelayFoods\"],[\"Search Million Culture\"],[\"VarVee\"],[\"aPriori Technologies\"],[\"iDreamsky Technology\"]],\"hovertemplate\":\"region=DE<br>week_id=%{x}<br>num_of_requests=%{y}<br>requester=%{customdata[0]}<extra></extra>\",\"legendgroup\":\"DE\",\"marker\":{\"color\":\"#636efa\",\"pattern\":{\"shape\":\"\"}},\"name\":\"DE\",\"offsetgroup\":\"DE\",\"orientation\":\"v\",\"showlegend\":true,\"textposition\":\"auto\",\"x\":[\"2021-week_33\",\"2021-week_33\",\"2021-week_33\",\"2021-week_33\",\"2021-week_33\",\"2021-week_33\",\"2021-week_33\",\"2021-week_33\",\"2021-week_33\",\"2021-week_33\",\"2021-week_33\",\"2021-week_33\",\"2021-week_33\",\"2021-week_34\",\"2021-week_34\",\"2021-week_34\",\"2021-week_34\",\"2021-week_34\",\"2021-week_34\",\"2021-week_34\",\"2021-week_34\",\"2021-week_34\",\"2021-week_34\",\"2021-week_34\",\"2021-week_34\",\"2021-week_34\",\"2021-week_34\",\"2021-week_35\",\"2021-week_35\",\"2021-week_35\",\"2021-week_35\",\"2021-week_35\",\"2021-week_35\",\"2021-week_35\",\"2021-week_35\",\"2021-week_35\",\"2021-week_35\",\"2021-week_35\",\"2021-week_35\",\"2021-week_35\",\"2021-week_36\",\"2021-week_36\",\"2021-week_36\",\"2021-week_36\",\"2021-week_36\",\"2021-week_36\",\"2021-week_36\",\"2021-week_36\",\"2021-week_36\",\"2021-week_36\",\"2021-week_36\",\"2021-week_36\",\"2021-week_36\",\"2021-week_36\",\"2021-week_36\",\"2021-week_37\",\"2021-week_37\",\"2021-week_37\",\"2021-week_37\",\"2021-week_37\",\"2021-week_37\",\"2021-week_37\",\"2021-week_37\",\"2021-week_37\",\"2021-week_37\",\"2021-week_37\",\"2021-week_37\",\"2021-week_37\",\"2021-week_37\",\"2021-week_38\",\"2021-week_38\",\"2021-week_38\",\"2021-week_38\",\"2021-week_38\",\"2021-week_38\",\"2021-week_38\",\"2021-week_38\",\"2021-week_38\",\"2021-week_38\",\"2021-week_38\",\"2021-week_38\",\"2021-week_38\",\"2021-week_38\",\"2021-week_38\",\"2021-week_39\",\"2021-week_39\",\"2021-week_39\",\"2021-week_39\",\"2021-week_39\",\"2021-week_39\",\"2021-week_39\",\"2021-week_39\",\"2021-week_39\",\"2021-week_39\",\"2021-week_39\",\"2021-week_39\",\"2021-week_39\",\"2021-week_39\",\"2021-week_39\",\"2021-week_39\",\"2021-week_40\",\"2021-week_40\",\"2021-week_40\",\"2021-week_40\",\"2021-week_40\",\"2021-week_40\",\"2021-week_40\",\"2021-week_40\",\"2021-week_40\",\"2021-week_40\",\"2021-week_40\",\"2021-week_40\",\"2021-week_40\",\"2021-week_40\",\"2021-week_40\",\"2021-week_40\",\"2021-week_41\",\"2021-week_41\",\"2021-week_41\",\"2021-week_41\",\"2021-week_41\",\"2021-week_41\",\"2021-week_41\",\"2021-week_41\",\"2021-week_41\",\"2021-week_41\",\"2021-week_41\",\"2021-week_41\",\"2021-week_41\",\"2021-week_41\",\"2021-week_41\",\"2021-week_41\",\"2021-week_41\",\"2021-week_42\",\"2021-week_42\",\"2021-week_42\",\"2021-week_42\",\"2021-week_42\",\"2021-week_42\",\"2021-week_42\",\"2021-week_42\",\"2021-week_42\",\"2021-week_42\",\"2021-week_42\",\"2021-week_42\",\"2021-week_42\",\"2021-week_42\",\"2021-week_43\",\"2021-week_43\",\"2021-week_43\",\"2021-week_43\",\"2021-week_43\",\"2021-week_43\",\"2021-week_43\",\"2021-week_43\",\"2021-week_43\",\"2021-week_43\",\"2021-week_43\",\"2021-week_43\",\"2021-week_43\",\"2021-week_43\",\"2021-week_43\",\"2021-week_43\",\"2021-week_43\",\"2021-week_44\",\"2021-week_44\",\"2021-week_44\",\"2021-week_44\",\"2021-week_44\",\"2021-week_44\",\"2021-week_44\",\"2021-week_44\",\"2021-week_44\",\"2021-week_44\",\"2021-week_44\",\"2021-week_44\",\"2021-week_44\",\"2021-week_44\",\"2021-week_44\",\"2021-week_45\",\"2021-week_45\",\"2021-week_45\",\"2021-week_45\",\"2021-week_45\",\"2021-week_45\",\"2021-week_45\",\"2021-week_45\",\"2021-week_45\",\"2021-week_45\",\"2021-week_45\",\"2021-week_45\",\"2021-week_45\",\"2021-week_45\",\"2021-week_45\",\"2021-week_45\",\"2021-week_45\",\"2021-week_46\",\"2021-week_46\",\"2021-week_46\",\"2021-week_46\",\"2021-week_46\",\"2021-week_46\",\"2021-week_46\",\"2021-week_46\",\"2021-week_46\",\"2021-week_46\",\"2021-week_46\",\"2021-week_46\",\"2021-week_46\",\"2021-week_46\",\"2021-week_46\",\"2021-week_46\",\"2021-week_46\",\"2021-week_47\",\"2021-week_47\",\"2021-week_47\",\"2021-week_47\",\"2021-week_47\",\"2021-week_47\",\"2021-week_47\",\"2021-week_47\",\"2021-week_47\",\"2021-week_47\",\"2021-week_47\",\"2021-week_47\",\"2021-week_47\",\"2021-week_47\",\"2021-week_47\",\"2021-week_48\",\"2021-week_48\",\"2021-week_48\",\"2021-week_48\",\"2021-week_48\",\"2021-week_48\",\"2021-week_48\",\"2021-week_48\",\"2021-week_48\",\"2021-week_48\",\"2021-week_48\",\"2021-week_48\",\"2021-week_48\",\"2021-week_48\",\"2021-week_49\",\"2021-week_49\",\"2021-week_49\",\"2021-week_49\",\"2021-week_49\",\"2021-week_49\",\"2021-week_49\",\"2021-week_49\",\"2021-week_49\",\"2021-week_49\",\"2021-week_49\",\"2021-week_49\",\"2021-week_49\",\"2021-week_49\",\"2021-week_49\",\"2021-week_50\",\"2021-week_50\",\"2021-week_50\",\"2021-week_50\",\"2021-week_50\",\"2021-week_50\",\"2021-week_50\",\"2021-week_50\",\"2021-week_50\",\"2021-week_50\",\"2021-week_50\",\"2021-week_50\",\"2021-week_50\",\"2021-week_50\",\"2021-week_50\",\"2021-week_50\",\"2021-week_51\",\"2021-week_51\",\"2021-week_51\",\"2021-week_51\",\"2021-week_51\",\"2021-week_51\",\"2021-week_51\",\"2021-week_51\",\"2021-week_51\",\"2021-week_51\",\"2021-week_51\",\"2021-week_51\",\"2021-week_51\",\"2021-week_51\",\"2021-week_51\",\"2021-week_51\",\"2022-week_01\",\"2022-week_01\",\"2022-week_01\",\"2022-week_01\",\"2022-week_01\",\"2022-week_01\",\"2022-week_01\",\"2022-week_01\",\"2022-week_01\",\"2022-week_01\",\"2022-week_01\",\"2022-week_01\",\"2022-week_01\",\"2022-week_01\",\"2022-week_02\",\"2022-week_02\",\"2022-week_02\",\"2022-week_02\",\"2022-week_02\",\"2022-week_02\",\"2022-week_02\",\"2022-week_02\",\"2022-week_02\",\"2022-week_02\",\"2022-week_02\",\"2022-week_02\",\"2022-week_02\",\"2022-week_02\",\"2022-week_02\",\"2022-week_03\",\"2022-week_03\",\"2022-week_03\",\"2022-week_03\",\"2022-week_03\",\"2022-week_03\",\"2022-week_03\",\"2022-week_03\",\"2022-week_03\",\"2022-week_03\",\"2022-week_03\",\"2022-week_03\",\"2022-week_03\",\"2022-week_03\",\"2022-week_04\",\"2022-week_04\",\"2022-week_04\",\"2022-week_04\",\"2022-week_04\",\"2022-week_04\",\"2022-week_04\",\"2022-week_04\",\"2022-week_04\",\"2022-week_04\",\"2022-week_04\",\"2022-week_04\",\"2022-week_04\",\"2022-week_04\",\"2022-week_04\",\"2022-week_04\",\"2022-week_05\",\"2022-week_05\",\"2022-week_05\",\"2022-week_05\",\"2022-week_05\",\"2022-week_05\",\"2022-week_05\",\"2022-week_05\",\"2022-week_05\",\"2022-week_05\",\"2022-week_05\",\"2022-week_05\",\"2022-week_05\",\"2022-week_05\",\"2022-week_05\",\"2022-week_06\",\"2022-week_06\",\"2022-week_06\",\"2022-week_06\",\"2022-week_06\",\"2022-week_06\",\"2022-week_06\",\"2022-week_06\",\"2022-week_06\",\"2022-week_06\",\"2022-week_06\",\"2022-week_06\",\"2022-week_06\",\"2022-week_06\",\"2022-week_06\",\"2022-week_06\",\"2022-week_52\",\"2022-week_52\",\"2022-week_52\",\"2022-week_52\",\"2022-week_52\",\"2022-week_52\",\"2022-week_52\",\"2022-week_52\",\"2022-week_52\",\"2022-week_52\",\"2022-week_52\",\"2022-week_52\",\"2022-week_52\",\"2022-week_52\",\"2022-week_52\"],\"xaxis\":\"x\",\"y\":[7,9,2,82,11,49,369,28,305,307,1126,7,58,5,30,3,91,14,39,293,20,1,88,361,1291,17,86,4,9,1,84,9,32,453,17,73,321,1186,19,144,5,27,1,95,16,37,380,26,2,65,318,1177,3,12,184,5,17,2,94,15,39,395,23,78,308,1205,12,10,151,10,25,1,96,6,49,353,19,1,94,357,1172,9,16,148,6,23,1,77,19,41,362,63,1,69,312,1106,69,10,10,176,1,5,41,2,118,22,51,372,37,69,85,1282,93,6,8,161,2,8,25,4,125,14,49,288,50,2,3,105,1339,129,9,18,130,1,2,13,67,6,37,196,48,1003,847,62,7,6,62,1,4,12,1,1,64,4,33,252,33,1,906,840,85,4,15,76,4,2,17,1,70,5,60,285,40,1057,578,94,4,7,88,6,5,17,5,58,12,72,227,28,1,6,1305,409,80,7,17,106,4,1,41,1,3,64,9,60,352,24,4,3,955,446,2,27,109,2,4,12,2,77,14,70,203,38,3,1050,502,6,25,118,2,18,6,91,10,56,506,45,2,935,560,7,15,94,2,11,23,1,8,58,9,65,283,36,2,1136,610,17,109,4,2,29,1,5,46,8,59,473,27,2,1011,584,3,18,103,5,4,31,1,8,54,15,72,234,32,3,1280,501,4,22,111,2,2,12,7,96,3,59,250,19,1,797,1024,9,93,2,2,15,1,1,74,7,35,269,11,1,699,1158,3,97,1,9,4,85,4,35,398,18,2,1,763,945,7,85,2,1,18,8,81,7,37,233,18,1,3,874,973,2,11,69,5,2,17,6,70,7,33,315,25,1,6,740,1065,9,73,3,1,9,8,96,5,35,251,14,1,11,771,1061,1,10,107,4,3,33,9,38,8,70,575,29,3,1073,379,1,24,103],\"yaxis\":\"y\",\"type\":\"bar\"},{\"alignmentgroup\":\"True\",\"customdata\":[[\"Allthetopbananas.com\"],[\"Bizanga\"],[\"Crescendo Networks\"],[\"Extreme DA\"],[\"Fancy\"],[\"Fry Multimedia\"],[\"G-mode\"],[\"LocalVox Media\"],[\"Mission Street Manufacturing\"],[\"MoJoe Brewing Company\"],[\"Modanisa\"],[\"OpenDesks, Inc.\"],[\"RelayFoods\"],[\"SOLOMO365\"],[\"Search Million Culture\"],[\"VarVee\"],[\"aPriori Technologies\"],[\"iDreamsky Technology\"],[\"Bizanga\"],[\"Crescendo Networks\"],[\"Extreme DA\"],[\"Fancy\"],[\"Fry Multimedia\"],[\"G-mode\"],[\"LocalVox Media\"],[\"Mission Street Manufacturing\"],[\"MoJoe Brewing Company\"],[\"Modanisa\"],[\"OpenDesks, Inc.\"],[\"RelayFoods\"],[\"SOLOMO365\"],[\"Search Million Culture\"],[\"VarVee\"],[\"aPriori Technologies\"],[\"iDreamsky Technology\"],[\"Allthetopbananas.com\"],[\"Bizanga\"],[\"Crescendo Networks\"],[\"Cuiker\"],[\"Extreme DA\"],[\"Fancy\"],[\"Fry Multimedia\"],[\"G-mode\"],[\"LocalVox Media\"],[\"Mission Street Manufacturing\"],[\"MoJoe Brewing Company\"],[\"Modanisa\"],[\"RelayFoods\"],[\"SOLOMO365\"],[\"Search Million Culture\"],[\"VarVee\"],[\"aPriori Technologies\"],[\"iDreamsky Technology\"],[\"Allthetopbananas.com\"],[\"Bizanga\"],[\"Crescendo Networks\"],[\"Earth Networks\"],[\"Extreme DA\"],[\"Fancy\"],[\"Fry Multimedia\"],[\"G-mode\"],[\"LocalVox Media\"],[\"Mission Street Manufacturing\"],[\"MoJoe Brewing Company\"],[\"Modanisa\"],[\"OpenDesks, Inc.\"],[\"RelayFoods\"],[\"SOLOMO365\"],[\"Search Million Culture\"],[\"VarVee\"],[\"aPriori Technologies\"],[\"iDreamsky Technology\"],[\"Allthetopbananas.com\"],[\"Bizanga\"],[\"Crescendo Networks\"],[\"Extreme DA\"],[\"Fancy\"],[\"Fry Multimedia\"],[\"G-mode\"],[\"LocalVox Media\"],[\"Mission Street Manufacturing\"],[\"MoJoe Brewing Company\"],[\"Modanisa\"],[\"OpenDesks, Inc.\"],[\"RelayFoods\"],[\"SOLOMO365\"],[\"Search Million Culture\"],[\"Tab Solutions\"],[\"VarVee\"],[\"aPriori Technologies\"],[\"iDreamsky Technology\"],[\"Allthetopbananas.com\"],[\"Bizanga\"],[\"Crescendo Networks\"],[\"Extreme DA\"],[\"Fancy\"],[\"Fry Multimedia\"],[\"G-mode\"],[\"LocalVox Media\"],[\"Mission Street Manufacturing\"],[\"MoJoe Brewing Company\"],[\"Modanisa\"],[\"OpenDesks, Inc.\"],[\"RelayFoods\"],[\"SOLOMO365\"],[\"Search Million Culture\"],[\"Tab Solutions\"],[\"VarVee\"],[\"aPriori Technologies\"],[\"iDreamsky Technology\"],[\"Allthetopbananas.com\"],[\"Bizanga\"],[\"Crescendo Networks\"],[\"Extreme DA\"],[\"Fancy\"],[\"Fry Multimedia\"],[\"G-mode\"],[\"LocalVox Media\"],[\"Mission Street Manufacturing\"],[\"MoJoe Brewing Company\"],[\"Modanisa\"],[\"OpenDesks, Inc.\"],[\"RelayFoods\"],[\"SOLOMO365\"],[\"Search Million Culture\"],[\"Tab Solutions\"],[\"VarVee\"],[\"aPriori Technologies\"],[\"iDreamsky Technology\"],[\"Allthetopbananas.com\"],[\"Bizanga\"],[\"Crescendo Networks\"],[\"Extreme DA\"],[\"Fancy\"],[\"Fry Multimedia\"],[\"G-mode\"],[\"LocalVox Media\"],[\"Mission Street Manufacturing\"],[\"MoJoe Brewing Company\"],[\"Modanisa\"],[\"OpenDesks, Inc.\"],[\"RelayFoods\"],[\"SOLOMO365\"],[\"Search Million Culture\"],[\"Tab Solutions\"],[\"VarVee\"],[\"aPriori Technologies\"],[\"iDreamsky Technology\"],[\"Allthetopbananas.com\"],[\"Bizanga\"],[\"Crescendo Networks\"],[\"Earth Networks\"],[\"Extreme DA\"],[\"Fancy\"],[\"Fry Multimedia\"],[\"G-mode\"],[\"LocalVox Media\"],[\"Mission Street Manufacturing\"],[\"MoJoe Brewing Company\"],[\"Modanisa\"],[\"OpenDesks, Inc.\"],[\"Pole Star\"],[\"RelayFoods\"],[\"Search Million Culture\"],[\"Tab Solutions\"],[\"VarVee\"],[\"aPriori Technologies\"],[\"iDreamsky Technology\"],[\"Allthetopbananas.com\"],[\"Bizanga\"],[\"Crescendo Networks\"],[\"Extreme DA\"],[\"Fancy\"],[\"Fry Multimedia\"],[\"G-mode\"],[\"LocalVox Media\"],[\"Mission Street Manufacturing\"],[\"MoJoe Brewing Company\"],[\"Modanisa\"],[\"OpenDesks, Inc.\"],[\"RelayFoods\"],[\"Search Million Culture\"],[\"Tab Solutions\"],[\"VarVee\"],[\"aPriori Technologies\"],[\"iDreamsky Technology\"],[\"Allthetopbananas.com\"],[\"Bizanga\"],[\"Crescendo Networks\"],[\"Extreme DA\"],[\"Fancy\"],[\"Fry Multimedia\"],[\"G-mode\"],[\"LocalVox Media\"],[\"Mission Street Manufacturing\"],[\"MoJoe Brewing Company\"],[\"Modanisa\"],[\"RelayFoods\"],[\"Search Million Culture\"],[\"Tab Solutions\"],[\"VarVee\"],[\"aPriori Technologies\"],[\"iDreamsky Technology\"],[\"Allthetopbananas.com\"],[\"Bizanga\"],[\"Crescendo Networks\"],[\"Extreme DA\"],[\"Fancy\"],[\"Fry Multimedia\"],[\"G-mode\"],[\"LocalVox Media\"],[\"Mission Street Manufacturing\"],[\"MoJoe Brewing Company\"],[\"Modanisa\"],[\"OpenDesks, Inc.\"],[\"Pole Star\"],[\"RelayFoods\"],[\"Search Million Culture\"],[\"Tab Solutions\"],[\"VarVee\"],[\"aPriori Technologies\"],[\"iDreamsky Technology\"],[\"Allthetopbananas.com\"],[\"Bizanga\"],[\"Crescendo Networks\"],[\"Extreme DA\"],[\"Fancy\"],[\"Fry Multimedia\"],[\"G-mode\"],[\"LocalVox Media\"],[\"Mission Street Manufacturing\"],[\"MoJoe Brewing Company\"],[\"Modanisa\"],[\"OpenDesks, Inc.\"],[\"Pole Star\"],[\"RelayFoods\"],[\"Search Million Culture\"],[\"Tab Solutions\"],[\"VarVee\"],[\"aPriori Technologies\"],[\"iDreamsky Technology\"],[\"Allthetopbananas.com\"],[\"Bizanga\"],[\"Crescendo Networks\"],[\"Extreme DA\"],[\"Fancy\"],[\"Fry Multimedia\"],[\"G-mode\"],[\"LocalVox Media\"],[\"Mission Street Manufacturing\"],[\"MoJoe Brewing Company\"],[\"Modanisa\"],[\"OpenDesks, Inc.\"],[\"Pole Star\"],[\"RelayFoods\"],[\"Search Million Culture\"],[\"VarVee\"],[\"aPriori Technologies\"],[\"iDreamsky Technology\"],[\"Allthetopbananas.com\"],[\"Bizanga\"],[\"Crescendo Networks\"],[\"Extreme DA\"],[\"Fancy\"],[\"Fry Multimedia\"],[\"G-mode\"],[\"LocalVox Media\"],[\"Mission Street Manufacturing\"],[\"MoJoe Brewing Company\"],[\"Modanisa\"],[\"OpenDesks, Inc.\"],[\"RelayFoods\"],[\"Search Million Culture\"],[\"VarVee\"],[\"aPriori Technologies\"],[\"iDreamsky Technology\"],[\"Allthetopbananas.com\"],[\"Bizanga\"],[\"Crescendo Networks\"],[\"Extreme DA\"],[\"Fancy\"],[\"Fry Multimedia\"],[\"G-mode\"],[\"LocalVox Media\"],[\"Mission Street Manufacturing\"],[\"MoJoe Brewing Company\"],[\"Modanisa\"],[\"OpenDesks, Inc.\"],[\"RelayFoods\"],[\"Search Million Culture\"],[\"VarVee\"],[\"aPriori Technologies\"],[\"iDreamsky Technology\"],[\"Allthetopbananas.com\"],[\"Bizanga\"],[\"Crescendo Networks\"],[\"Extreme DA\"],[\"Fancy\"],[\"Fry Multimedia\"],[\"G-mode\"],[\"LocalVox Media\"],[\"Mission Street Manufacturing\"],[\"MoJoe Brewing Company\"],[\"Modanisa\"],[\"OpenDesks, Inc.\"],[\"RelayFoods\"],[\"Search Million Culture\"],[\"aPriori Technologies\"],[\"iDreamsky Technology\"],[\"Allthetopbananas.com\"],[\"Bizanga\"],[\"Crescendo Networks\"],[\"Extreme DA\"],[\"Fancy\"],[\"Fry Multimedia\"],[\"G-mode\"],[\"LocalVox Media\"],[\"Mission Street Manufacturing\"],[\"MoJoe Brewing Company\"],[\"Modanisa\"],[\"OpenDesks, Inc.\"],[\"RelayFoods\"],[\"Search Million Culture\"],[\"aPriori Technologies\"],[\"iDreamsky Technology\"],[\"Bizanga\"],[\"Crescendo Networks\"],[\"Extreme DA\"],[\"Fancy\"],[\"Fry Multimedia\"],[\"G-mode\"],[\"Jun Group\"],[\"LocalVox Media\"],[\"Mission Street Manufacturing\"],[\"MoJoe Brewing Company\"],[\"Modanisa\"],[\"OpenDesks, Inc.\"],[\"RelayFoods\"],[\"Search Million Culture\"],[\"aPriori Technologies\"],[\"iDreamsky Technology\"],[\"Allthetopbananas.com\"],[\"Bizanga\"],[\"Crescendo Networks\"],[\"Extreme DA\"],[\"Fancy\"],[\"Fry Multimedia\"],[\"G-mode\"],[\"LocalVox Media\"],[\"Mission Street Manufacturing\"],[\"MoJoe Brewing Company\"],[\"Modanisa\"],[\"RelayFoods\"],[\"Search Million Culture\"],[\"aPriori Technologies\"],[\"iDreamsky Technology\"],[\"Allthetopbananas.com\"],[\"Bizanga\"],[\"Crescendo Networks\"],[\"Extreme DA\"],[\"Fancy\"],[\"Fry Multimedia\"],[\"G-mode\"],[\"LocalVox Media\"],[\"Mission Street Manufacturing\"],[\"MoJoe Brewing Company\"],[\"Modanisa\"],[\"OpenDesks, Inc.\"],[\"Pole Star\"],[\"RelayFoods\"],[\"Search Million Culture\"],[\"VarVee\"],[\"aPriori Technologies\"],[\"iDreamsky Technology\"],[\"Allthetopbananas.com\"],[\"Bizanga\"],[\"Crescendo Networks\"],[\"Extreme DA\"],[\"Fancy\"],[\"Fry Multimedia\"],[\"G-mode\"],[\"LocalVox Media\"],[\"Mission Street Manufacturing\"],[\"MoJoe Brewing Company\"],[\"Modanisa\"],[\"OpenDesks, Inc.\"],[\"Pole Star\"],[\"RelayFoods\"],[\"Search Million Culture\"],[\"VarVee\"],[\"aPriori Technologies\"],[\"iDreamsky Technology\"],[\"Allthetopbananas.com\"],[\"Bizanga\"],[\"Crescendo Networks\"],[\"Extreme DA\"],[\"Fancy\"],[\"Fry Multimedia\"],[\"G-mode\"],[\"LocalVox Media\"],[\"Mission Street Manufacturing\"],[\"MoJoe Brewing Company\"],[\"Modanisa\"],[\"OpenDesks, Inc.\"],[\"Pole Star\"],[\"RelayFoods\"],[\"Search Million Culture\"],[\"VarVee\"],[\"aPriori Technologies\"],[\"iDreamsky Technology\"],[\"Bizanga\"],[\"Crescendo Networks\"],[\"Extreme DA\"],[\"Fancy\"],[\"Fry Multimedia\"],[\"G-mode\"],[\"LocalVox Media\"],[\"Mission Street Manufacturing\"],[\"MoJoe Brewing Company\"],[\"Modanisa\"],[\"OpenDesks, Inc.\"],[\"Pole Star\"],[\"RelayFoods\"],[\"Search Million Culture\"],[\"VarVee\"],[\"aPriori Technologies\"],[\"iDreamsky Technology\"],[\"Bizanga\"],[\"Crescendo Networks\"],[\"Extreme DA\"],[\"Fancy\"],[\"Fry Multimedia\"],[\"G-mode\"],[\"LocalVox Media\"],[\"Mission Street Manufacturing\"],[\"MoJoe Brewing Company\"],[\"Modanisa\"],[\"OpenDesks, Inc.\"],[\"Pole Star\"],[\"RelayFoods\"],[\"Search Million Culture\"],[\"VarVee\"],[\"aPriori Technologies\"],[\"iDreamsky Technology\"],[\"Allthetopbananas.com\"],[\"Bizanga\"],[\"Crescendo Networks\"],[\"Extreme DA\"],[\"Fancy\"],[\"Fry Multimedia\"],[\"G-mode\"],[\"LocalVox Media\"],[\"Mission Street Manufacturing\"],[\"MoJoe Brewing Company\"],[\"Modanisa\"],[\"OpenDesks, Inc.\"],[\"RelayFoods\"],[\"Search Million Culture\"],[\"aPriori Technologies\"],[\"iDreamsky Technology\"]],\"hovertemplate\":\"region=GB<br>week_id=%{x}<br>num_of_requests=%{y}<br>requester=%{customdata[0]}<extra></extra>\",\"legendgroup\":\"GB\",\"marker\":{\"color\":\"#EF553B\",\"pattern\":{\"shape\":\"\"}},\"name\":\"GB\",\"offsetgroup\":\"GB\",\"orientation\":\"v\",\"showlegend\":true,\"textposition\":\"auto\",\"x\":[\"2021-week_33\",\"2021-week_33\",\"2021-week_33\",\"2021-week_33\",\"2021-week_33\",\"2021-week_33\",\"2021-week_33\",\"2021-week_33\",\"2021-week_33\",\"2021-week_33\",\"2021-week_33\",\"2021-week_33\",\"2021-week_33\",\"2021-week_33\",\"2021-week_33\",\"2021-week_33\",\"2021-week_33\",\"2021-week_33\",\"2021-week_34\",\"2021-week_34\",\"2021-week_34\",\"2021-week_34\",\"2021-week_34\",\"2021-week_34\",\"2021-week_34\",\"2021-week_34\",\"2021-week_34\",\"2021-week_34\",\"2021-week_34\",\"2021-week_34\",\"2021-week_34\",\"2021-week_34\",\"2021-week_34\",\"2021-week_34\",\"2021-week_34\",\"2021-week_35\",\"2021-week_35\",\"2021-week_35\",\"2021-week_35\",\"2021-week_35\",\"2021-week_35\",\"2021-week_35\",\"2021-week_35\",\"2021-week_35\",\"2021-week_35\",\"2021-week_35\",\"2021-week_35\",\"2021-week_35\",\"2021-week_35\",\"2021-week_35\",\"2021-week_35\",\"2021-week_35\",\"2021-week_35\",\"2021-week_36\",\"2021-week_36\",\"2021-week_36\",\"2021-week_36\",\"2021-week_36\",\"2021-week_36\",\"2021-week_36\",\"2021-week_36\",\"2021-week_36\",\"2021-week_36\",\"2021-week_36\",\"2021-week_36\",\"2021-week_36\",\"2021-week_36\",\"2021-week_36\",\"2021-week_36\",\"2021-week_36\",\"2021-week_36\",\"2021-week_36\",\"2021-week_37\",\"2021-week_37\",\"2021-week_37\",\"2021-week_37\",\"2021-week_37\",\"2021-week_37\",\"2021-week_37\",\"2021-week_37\",\"2021-week_37\",\"2021-week_37\",\"2021-week_37\",\"2021-week_37\",\"2021-week_37\",\"2021-week_37\",\"2021-week_37\",\"2021-week_37\",\"2021-week_37\",\"2021-week_37\",\"2021-week_37\",\"2021-week_38\",\"2021-week_38\",\"2021-week_38\",\"2021-week_38\",\"2021-week_38\",\"2021-week_38\",\"2021-week_38\",\"2021-week_38\",\"2021-week_38\",\"2021-week_38\",\"2021-week_38\",\"2021-week_38\",\"2021-week_38\",\"2021-week_38\",\"2021-week_38\",\"2021-week_38\",\"2021-week_38\",\"2021-week_38\",\"2021-week_38\",\"2021-week_39\",\"2021-week_39\",\"2021-week_39\",\"2021-week_39\",\"2021-week_39\",\"2021-week_39\",\"2021-week_39\",\"2021-week_39\",\"2021-week_39\",\"2021-week_39\",\"2021-week_39\",\"2021-week_39\",\"2021-week_39\",\"2021-week_39\",\"2021-week_39\",\"2021-week_39\",\"2021-week_39\",\"2021-week_39\",\"2021-week_39\",\"2021-week_40\",\"2021-week_40\",\"2021-week_40\",\"2021-week_40\",\"2021-week_40\",\"2021-week_40\",\"2021-week_40\",\"2021-week_40\",\"2021-week_40\",\"2021-week_40\",\"2021-week_40\",\"2021-week_40\",\"2021-week_40\",\"2021-week_40\",\"2021-week_40\",\"2021-week_40\",\"2021-week_40\",\"2021-week_40\",\"2021-week_40\",\"2021-week_41\",\"2021-week_41\",\"2021-week_41\",\"2021-week_41\",\"2021-week_41\",\"2021-week_41\",\"2021-week_41\",\"2021-week_41\",\"2021-week_41\",\"2021-week_41\",\"2021-week_41\",\"2021-week_41\",\"2021-week_41\",\"2021-week_41\",\"2021-week_41\",\"2021-week_41\",\"2021-week_41\",\"2021-week_41\",\"2021-week_41\",\"2021-week_41\",\"2021-week_42\",\"2021-week_42\",\"2021-week_42\",\"2021-week_42\",\"2021-week_42\",\"2021-week_42\",\"2021-week_42\",\"2021-week_42\",\"2021-week_42\",\"2021-week_42\",\"2021-week_42\",\"2021-week_42\",\"2021-week_42\",\"2021-week_42\",\"2021-week_42\",\"2021-week_42\",\"2021-week_42\",\"2021-week_42\",\"2021-week_43\",\"2021-week_43\",\"2021-week_43\",\"2021-week_43\",\"2021-week_43\",\"2021-week_43\",\"2021-week_43\",\"2021-week_43\",\"2021-week_43\",\"2021-week_43\",\"2021-week_43\",\"2021-week_43\",\"2021-week_43\",\"2021-week_43\",\"2021-week_43\",\"2021-week_43\",\"2021-week_43\",\"2021-week_44\",\"2021-week_44\",\"2021-week_44\",\"2021-week_44\",\"2021-week_44\",\"2021-week_44\",\"2021-week_44\",\"2021-week_44\",\"2021-week_44\",\"2021-week_44\",\"2021-week_44\",\"2021-week_44\",\"2021-week_44\",\"2021-week_44\",\"2021-week_44\",\"2021-week_44\",\"2021-week_44\",\"2021-week_44\",\"2021-week_44\",\"2021-week_45\",\"2021-week_45\",\"2021-week_45\",\"2021-week_45\",\"2021-week_45\",\"2021-week_45\",\"2021-week_45\",\"2021-week_45\",\"2021-week_45\",\"2021-week_45\",\"2021-week_45\",\"2021-week_45\",\"2021-week_45\",\"2021-week_45\",\"2021-week_45\",\"2021-week_45\",\"2021-week_45\",\"2021-week_45\",\"2021-week_45\",\"2021-week_46\",\"2021-week_46\",\"2021-week_46\",\"2021-week_46\",\"2021-week_46\",\"2021-week_46\",\"2021-week_46\",\"2021-week_46\",\"2021-week_46\",\"2021-week_46\",\"2021-week_46\",\"2021-week_46\",\"2021-week_46\",\"2021-week_46\",\"2021-week_46\",\"2021-week_46\",\"2021-week_46\",\"2021-week_46\",\"2021-week_47\",\"2021-week_47\",\"2021-week_47\",\"2021-week_47\",\"2021-week_47\",\"2021-week_47\",\"2021-week_47\",\"2021-week_47\",\"2021-week_47\",\"2021-week_47\",\"2021-week_47\",\"2021-week_47\",\"2021-week_47\",\"2021-week_47\",\"2021-week_47\",\"2021-week_47\",\"2021-week_47\",\"2021-week_48\",\"2021-week_48\",\"2021-week_48\",\"2021-week_48\",\"2021-week_48\",\"2021-week_48\",\"2021-week_48\",\"2021-week_48\",\"2021-week_48\",\"2021-week_48\",\"2021-week_48\",\"2021-week_48\",\"2021-week_48\",\"2021-week_48\",\"2021-week_48\",\"2021-week_48\",\"2021-week_48\",\"2021-week_49\",\"2021-week_49\",\"2021-week_49\",\"2021-week_49\",\"2021-week_49\",\"2021-week_49\",\"2021-week_49\",\"2021-week_49\",\"2021-week_49\",\"2021-week_49\",\"2021-week_49\",\"2021-week_49\",\"2021-week_49\",\"2021-week_49\",\"2021-week_49\",\"2021-week_49\",\"2021-week_50\",\"2021-week_50\",\"2021-week_50\",\"2021-week_50\",\"2021-week_50\",\"2021-week_50\",\"2021-week_50\",\"2021-week_50\",\"2021-week_50\",\"2021-week_50\",\"2021-week_50\",\"2021-week_50\",\"2021-week_50\",\"2021-week_50\",\"2021-week_50\",\"2021-week_50\",\"2021-week_51\",\"2021-week_51\",\"2021-week_51\",\"2021-week_51\",\"2021-week_51\",\"2021-week_51\",\"2021-week_51\",\"2021-week_51\",\"2021-week_51\",\"2021-week_51\",\"2021-week_51\",\"2021-week_51\",\"2021-week_51\",\"2021-week_51\",\"2021-week_51\",\"2021-week_51\",\"2022-week_01\",\"2022-week_01\",\"2022-week_01\",\"2022-week_01\",\"2022-week_01\",\"2022-week_01\",\"2022-week_01\",\"2022-week_01\",\"2022-week_01\",\"2022-week_01\",\"2022-week_01\",\"2022-week_01\",\"2022-week_01\",\"2022-week_01\",\"2022-week_01\",\"2022-week_02\",\"2022-week_02\",\"2022-week_02\",\"2022-week_02\",\"2022-week_02\",\"2022-week_02\",\"2022-week_02\",\"2022-week_02\",\"2022-week_02\",\"2022-week_02\",\"2022-week_02\",\"2022-week_02\",\"2022-week_02\",\"2022-week_02\",\"2022-week_02\",\"2022-week_02\",\"2022-week_02\",\"2022-week_02\",\"2022-week_03\",\"2022-week_03\",\"2022-week_03\",\"2022-week_03\",\"2022-week_03\",\"2022-week_03\",\"2022-week_03\",\"2022-week_03\",\"2022-week_03\",\"2022-week_03\",\"2022-week_03\",\"2022-week_03\",\"2022-week_03\",\"2022-week_03\",\"2022-week_03\",\"2022-week_03\",\"2022-week_03\",\"2022-week_03\",\"2022-week_04\",\"2022-week_04\",\"2022-week_04\",\"2022-week_04\",\"2022-week_04\",\"2022-week_04\",\"2022-week_04\",\"2022-week_04\",\"2022-week_04\",\"2022-week_04\",\"2022-week_04\",\"2022-week_04\",\"2022-week_04\",\"2022-week_04\",\"2022-week_04\",\"2022-week_04\",\"2022-week_04\",\"2022-week_04\",\"2022-week_05\",\"2022-week_05\",\"2022-week_05\",\"2022-week_05\",\"2022-week_05\",\"2022-week_05\",\"2022-week_05\",\"2022-week_05\",\"2022-week_05\",\"2022-week_05\",\"2022-week_05\",\"2022-week_05\",\"2022-week_05\",\"2022-week_05\",\"2022-week_05\",\"2022-week_05\",\"2022-week_05\",\"2022-week_06\",\"2022-week_06\",\"2022-week_06\",\"2022-week_06\",\"2022-week_06\",\"2022-week_06\",\"2022-week_06\",\"2022-week_06\",\"2022-week_06\",\"2022-week_06\",\"2022-week_06\",\"2022-week_06\",\"2022-week_06\",\"2022-week_06\",\"2022-week_06\",\"2022-week_06\",\"2022-week_06\",\"2022-week_52\",\"2022-week_52\",\"2022-week_52\",\"2022-week_52\",\"2022-week_52\",\"2022-week_52\",\"2022-week_52\",\"2022-week_52\",\"2022-week_52\",\"2022-week_52\",\"2022-week_52\",\"2022-week_52\",\"2022-week_52\",\"2022-week_52\",\"2022-week_52\",\"2022-week_52\"],\"xaxis\":\"x\",\"y\":[2,38,16,1,502,84,10,46,2,357,15,2,350,468,1143,25,9,58,42,18,2,438,82,7,48,3,273,14,1,218,489,1385,22,5,80,1,33,11,1,2,437,99,5,44,5,412,20,190,507,1228,7,5,128,2,38,28,2,1,553,70,20,31,1,295,14,1,242,456,1241,12,15,122,4,32,23,3,449,88,17,43,1,373,9,1,187,463,1137,119,24,6,142,3,36,19,2,447,75,9,42,5,299,10,1,215,448,1152,165,32,4,160,1,32,17,2,471,79,12,29,2,346,92,1,160,383,1111,175,21,13,147,5,30,21,2,505,96,20,36,2,332,103,1,177,130,1234,174,22,8,131,2,36,19,1,3,568,100,17,58,3,274,92,1,2,222,1321,185,25,17,108,1,48,11,2,359,90,8,40,2,240,80,1,759,1138,185,12,5,89,1,34,9,1,417,84,9,32,1,344,103,743,1032,157,13,7,77,1,23,13,2,506,82,11,52,6,280,71,1,2,836,927,180,27,5,93,1,21,7,2,597,76,16,48,4,250,11,1,8,1096,726,140,20,17,116,2,25,30,2,434,68,14,59,3,445,13,5,7,928,789,11,16,108,1,29,14,6,235,81,13,52,5,249,13,2,932,791,14,13,117,2,32,14,6,327,103,12,43,4,614,11,1,768,994,14,8,119,4,29,16,12,336,113,13,60,8,315,16,2,950,1140,11,109,1,34,13,6,338,83,6,40,3,543,11,1,892,1065,12,102,38,24,8,369,86,19,1,57,4,302,8,1,1073,1014,13,115,2,43,11,7,320,106,6,49,3,344,12,742,1357,14,124,1,34,14,11,349,98,19,34,3,382,5,1,1,781,1307,3,8,99,5,25,8,3,511,83,10,31,4,567,7,1,1,742,1038,2,2,87,4,26,10,6,825,59,8,32,1,295,5,1,11,705,976,2,6,87,20,7,4,960,45,5,28,3,414,6,1,4,548,906,2,9,73,22,10,5,1167,50,6,23,4,228,3,1,4,568,794,4,6,62,4,39,28,7,424,57,27,65,4,724,10,1,886,712,18,125],\"yaxis\":\"y\",\"type\":\"bar\"},{\"alignmentgroup\":\"True\",\"customdata\":[[\"Allthetopbananas.com\"],[\"Bizanga\"],[\"Crescendo Networks\"],[\"Cuiker\"],[\"Fry Multimedia\"],[\"G-mode\"],[\"LocalVox Media\"],[\"MoJoe Brewing Company\"],[\"Modanisa\"],[\"OpenDesks, Inc.\"],[\"Puentes Company\"],[\"Search Million Culture\"],[\"aPriori Technologies\"],[\"iDreamsky Technology\"],[\"Allthetopbananas.com\"],[\"Bizanga\"],[\"Crescendo Networks\"],[\"Cuiker\"],[\"Fry Multimedia\"],[\"G-mode\"],[\"LocalVox Media\"],[\"MoJoe Brewing Company\"],[\"Modanisa\"],[\"OpenDesks, Inc.\"],[\"Puentes Company\"],[\"RelayFoods\"],[\"Search Million Culture\"],[\"aPriori Technologies\"],[\"iDreamsky Technology\"],[\"Allthetopbananas.com\"],[\"Bizanga\"],[\"Crescendo Networks\"],[\"Fry Multimedia\"],[\"G-mode\"],[\"LocalVox Media\"],[\"MoJoe Brewing Company\"],[\"Modanisa\"],[\"OpenDesks, Inc.\"],[\"Puentes Company\"],[\"RelayFoods\"],[\"Search Million Culture\"],[\"aPriori Technologies\"],[\"iDreamsky Technology\"],[\"Allthetopbananas.com\"],[\"Bizanga\"],[\"Crescendo Networks\"],[\"Cuiker\"],[\"Fry Multimedia\"],[\"G-mode\"],[\"LocalVox Media\"],[\"MoJoe Brewing Company\"],[\"Modanisa\"],[\"OpenDesks, Inc.\"],[\"Puentes Company\"],[\"RelayFoods\"],[\"Search Million Culture\"],[\"aPriori Technologies\"],[\"iDreamsky Technology\"],[\"Allthetopbananas.com\"],[\"Bizanga\"],[\"Crescendo Networks\"],[\"Fry Multimedia\"],[\"G-mode\"],[\"LocalVox Media\"],[\"MoJoe Brewing Company\"],[\"Modanisa\"],[\"OpenDesks, Inc.\"],[\"Puentes Company\"],[\"RelayFoods\"],[\"Search Million Culture\"],[\"aPriori Technologies\"],[\"iDreamsky Technology\"],[\"Allthetopbananas.com\"],[\"Bizanga\"],[\"Crescendo Networks\"],[\"Fry Multimedia\"],[\"G-mode\"],[\"LocalVox Media\"],[\"MoJoe Brewing Company\"],[\"Modanisa\"],[\"OpenDesks, Inc.\"],[\"Puentes Company\"],[\"RelayFoods\"],[\"Search Million Culture\"],[\"aPriori Technologies\"],[\"iDreamsky Technology\"],[\"Allthetopbananas.com\"],[\"Bizanga\"],[\"Crescendo Networks\"],[\"Fry Multimedia\"],[\"G-mode\"],[\"LocalVox Media\"],[\"MoJoe Brewing Company\"],[\"Modanisa\"],[\"OpenDesks, Inc.\"],[\"Puentes Company\"],[\"RelayFoods\"],[\"Search Million Culture\"],[\"aPriori Technologies\"],[\"iDreamsky Technology\"],[\"Allthetopbananas.com\"],[\"Bizanga\"],[\"Crescendo Networks\"],[\"Fry Multimedia\"],[\"G-mode\"],[\"LocalVox Media\"],[\"MoJoe Brewing Company\"],[\"Modanisa\"],[\"OpenDesks, Inc.\"],[\"Puentes Company\"],[\"RelayFoods\"],[\"Search Million Culture\"],[\"aPriori Technologies\"],[\"iDreamsky Technology\"],[\"Allthetopbananas.com\"],[\"Bizanga\"],[\"Crescendo Networks\"],[\"Cuiker\"],[\"Fry Multimedia\"],[\"G-mode\"],[\"LocalVox Media\"],[\"MoJoe Brewing Company\"],[\"Modanisa\"],[\"OpenDesks, Inc.\"],[\"Pole Star\"],[\"Puentes Company\"],[\"RelayFoods\"],[\"Search Million Culture\"],[\"aPriori Technologies\"],[\"iDreamsky Technology\"],[\"Allthetopbananas.com\"],[\"Bizanga\"],[\"Crescendo Networks\"],[\"Fry Multimedia\"],[\"G-mode\"],[\"LocalVox Media\"],[\"MoJoe Brewing Company\"],[\"Modanisa\"],[\"OpenDesks, Inc.\"],[\"Puentes Company\"],[\"RelayFoods\"],[\"Search Million Culture\"],[\"aPriori Technologies\"],[\"iDreamsky Technology\"],[\"Allthetopbananas.com\"],[\"Bizanga\"],[\"Crescendo Networks\"],[\"Fry Multimedia\"],[\"G-mode\"],[\"LocalVox Media\"],[\"MoJoe Brewing Company\"],[\"Modanisa\"],[\"OpenDesks, Inc.\"],[\"Puentes Company\"],[\"RelayFoods\"],[\"Search Million Culture\"],[\"aPriori Technologies\"],[\"iDreamsky Technology\"],[\"Allthetopbananas.com\"],[\"Bizanga\"],[\"Crescendo Networks\"],[\"Fry Multimedia\"],[\"G-mode\"],[\"LocalVox Media\"],[\"MoJoe Brewing Company\"],[\"Modanisa\"],[\"OpenDesks, Inc.\"],[\"Puentes Company\"],[\"RelayFoods\"],[\"Search Million Culture\"],[\"aPriori Technologies\"],[\"iDreamsky Technology\"],[\"Allthetopbananas.com\"],[\"Bizanga\"],[\"Crescendo Networks\"],[\"Cuiker\"],[\"Fry Multimedia\"],[\"G-mode\"],[\"LocalVox Media\"],[\"MoJoe Brewing Company\"],[\"Modanisa\"],[\"OpenDesks, Inc.\"],[\"Pole Star\"],[\"Puentes Company\"],[\"RelayFoods\"],[\"Search Million Culture\"],[\"aPriori Technologies\"],[\"iDreamsky Technology\"],[\"Allthetopbananas.com\"],[\"Bizanga\"],[\"Crescendo Networks\"],[\"Fry Multimedia\"],[\"G-mode\"],[\"LocalVox Media\"],[\"MoJoe Brewing Company\"],[\"Modanisa\"],[\"OpenDesks, Inc.\"],[\"Pole Star\"],[\"Puentes Company\"],[\"RelayFoods\"],[\"Search Million Culture\"],[\"aPriori Technologies\"],[\"iDreamsky Technology\"],[\"Allthetopbananas.com\"],[\"Bizanga\"],[\"Crescendo Networks\"],[\"Cuiker\"],[\"Fry Multimedia\"],[\"G-mode\"],[\"LocalVox Media\"],[\"MoJoe Brewing Company\"],[\"Modanisa\"],[\"OpenDesks, Inc.\"],[\"Puentes Company\"],[\"RelayFoods\"],[\"Search Million Culture\"],[\"aPriori Technologies\"],[\"iDreamsky Technology\"],[\"Allthetopbananas.com\"],[\"Bizanga\"],[\"Crescendo Networks\"],[\"Fry Multimedia\"],[\"G-mode\"],[\"LocalVox Media\"],[\"MoJoe Brewing Company\"],[\"Modanisa\"],[\"OpenDesks, Inc.\"],[\"Puentes Company\"],[\"RelayFoods\"],[\"Search Million Culture\"],[\"aPriori Technologies\"],[\"iDreamsky Technology\"],[\"Allthetopbananas.com\"],[\"Bizanga\"],[\"Crescendo Networks\"],[\"Cuiker\"],[\"Fry Multimedia\"],[\"G-mode\"],[\"LocalVox Media\"],[\"MoJoe Brewing Company\"],[\"Modanisa\"],[\"OpenDesks, Inc.\"],[\"Puentes Company\"],[\"RelayFoods\"],[\"Search Million Culture\"],[\"aPriori Technologies\"],[\"iDreamsky Technology\"],[\"Allthetopbananas.com\"],[\"Bizanga\"],[\"Crescendo Networks\"],[\"Cuiker\"],[\"G-mode\"],[\"LocalVox Media\"],[\"MoJoe Brewing Company\"],[\"Modanisa\"],[\"OpenDesks, Inc.\"],[\"Puentes Company\"],[\"RelayFoods\"],[\"Search Million Culture\"],[\"aPriori Technologies\"],[\"iDreamsky Technology\"],[\"Allthetopbananas.com\"],[\"Bizanga\"],[\"Crescendo Networks\"],[\"Fry Multimedia\"],[\"G-mode\"],[\"LocalVox Media\"],[\"MoJoe Brewing Company\"],[\"Modanisa\"],[\"OpenDesks, Inc.\"],[\"Puentes Company\"],[\"RelayFoods\"],[\"Search Million Culture\"],[\"aPriori Technologies\"],[\"iDreamsky Technology\"],[\"Allthetopbananas.com\"],[\"Bizanga\"],[\"Crescendo Networks\"],[\"Cuiker\"],[\"Fry Multimedia\"],[\"G-mode\"],[\"LocalVox Media\"],[\"MoJoe Brewing Company\"],[\"Modanisa\"],[\"OpenDesks, Inc.\"],[\"Pole Star\"],[\"Puentes Company\"],[\"RelayFoods\"],[\"Search Million Culture\"],[\"aPriori Technologies\"],[\"iDreamsky Technology\"],[\"Allthetopbananas.com\"],[\"Bizanga\"],[\"Crescendo Networks\"],[\"Fry Multimedia\"],[\"G-mode\"],[\"LocalVox Media\"],[\"MoJoe Brewing Company\"],[\"Modanisa\"],[\"OpenDesks, Inc.\"],[\"Pole Star\"],[\"Puentes Company\"],[\"RelayFoods\"],[\"Search Million Culture\"],[\"aPriori Technologies\"],[\"iDreamsky Technology\"],[\"Allthetopbananas.com\"],[\"Bizanga\"],[\"Crescendo Networks\"],[\"Cuiker\"],[\"Fry Multimedia\"],[\"G-mode\"],[\"LocalVox Media\"],[\"MoJoe Brewing Company\"],[\"Modanisa\"],[\"OpenDesks, Inc.\"],[\"Puentes Company\"],[\"RelayFoods\"],[\"Search Million Culture\"],[\"VarVee\"],[\"aPriori Technologies\"],[\"iDreamsky Technology\"],[\"Allthetopbananas.com\"],[\"Bizanga\"],[\"Crescendo Networks\"],[\"Fry Multimedia\"],[\"G-mode\"],[\"LocalVox Media\"],[\"MoJoe Brewing Company\"],[\"Modanisa\"],[\"OpenDesks, Inc.\"],[\"Pole Star\"],[\"Puentes Company\"],[\"RelayFoods\"],[\"Search Million Culture\"],[\"VarVee\"],[\"aPriori Technologies\"],[\"iDreamsky Technology\"],[\"Bizanga\"],[\"Crescendo Networks\"],[\"Fry Multimedia\"],[\"G-mode\"],[\"LocalVox Media\"],[\"MoJoe Brewing Company\"],[\"Modanisa\"],[\"OpenDesks, Inc.\"],[\"Pole Star\"],[\"Puentes Company\"],[\"RelayFoods\"],[\"Search Million Culture\"],[\"VarVee\"],[\"aPriori Technologies\"],[\"iDreamsky Technology\"],[\"Allthetopbananas.com\"],[\"Bizanga\"],[\"Crescendo Networks\"],[\"Cuiker\"],[\"Fry Multimedia\"],[\"G-mode\"],[\"LocalVox Media\"],[\"MoJoe Brewing Company\"],[\"Modanisa\"],[\"OpenDesks, Inc.\"],[\"Pole Star\"],[\"Puentes Company\"],[\"RelayFoods\"],[\"Search Million Culture\"],[\"aPriori Technologies\"],[\"iDreamsky Technology\"],[\"Allthetopbananas.com\"],[\"Bizanga\"],[\"Crescendo Networks\"],[\"Cuiker\"],[\"Fry Multimedia\"],[\"G-mode\"],[\"LocalVox Media\"],[\"MoJoe Brewing Company\"],[\"Modanisa\"],[\"OpenDesks, Inc.\"],[\"Puentes Company\"],[\"RelayFoods\"],[\"Search Million Culture\"],[\"aPriori Technologies\"],[\"iDreamsky Technology\"]],\"hovertemplate\":\"region=IN<br>week_id=%{x}<br>num_of_requests=%{y}<br>requester=%{customdata[0]}<extra></extra>\",\"legendgroup\":\"IN\",\"marker\":{\"color\":\"#00cc96\",\"pattern\":{\"shape\":\"\"}},\"name\":\"IN\",\"offsetgroup\":\"IN\",\"orientation\":\"v\",\"showlegend\":true,\"textposition\":\"auto\",\"x\":[\"2021-week_33\",\"2021-week_33\",\"2021-week_33\",\"2021-week_33\",\"2021-week_33\",\"2021-week_33\",\"2021-week_33\",\"2021-week_33\",\"2021-week_33\",\"2021-week_33\",\"2021-week_33\",\"2021-week_33\",\"2021-week_33\",\"2021-week_33\",\"2021-week_34\",\"2021-week_34\",\"2021-week_34\",\"2021-week_34\",\"2021-week_34\",\"2021-week_34\",\"2021-week_34\",\"2021-week_34\",\"2021-week_34\",\"2021-week_34\",\"2021-week_34\",\"2021-week_34\",\"2021-week_34\",\"2021-week_34\",\"2021-week_34\",\"2021-week_35\",\"2021-week_35\",\"2021-week_35\",\"2021-week_35\",\"2021-week_35\",\"2021-week_35\",\"2021-week_35\",\"2021-week_35\",\"2021-week_35\",\"2021-week_35\",\"2021-week_35\",\"2021-week_35\",\"2021-week_35\",\"2021-week_35\",\"2021-week_36\",\"2021-week_36\",\"2021-week_36\",\"2021-week_36\",\"2021-week_36\",\"2021-week_36\",\"2021-week_36\",\"2021-week_36\",\"2021-week_36\",\"2021-week_36\",\"2021-week_36\",\"2021-week_36\",\"2021-week_36\",\"2021-week_36\",\"2021-week_36\",\"2021-week_37\",\"2021-week_37\",\"2021-week_37\",\"2021-week_37\",\"2021-week_37\",\"2021-week_37\",\"2021-week_37\",\"2021-week_37\",\"2021-week_37\",\"2021-week_37\",\"2021-week_37\",\"2021-week_37\",\"2021-week_37\",\"2021-week_37\",\"2021-week_38\",\"2021-week_38\",\"2021-week_38\",\"2021-week_38\",\"2021-week_38\",\"2021-week_38\",\"2021-week_38\",\"2021-week_38\",\"2021-week_38\",\"2021-week_38\",\"2021-week_38\",\"2021-week_38\",\"2021-week_38\",\"2021-week_38\",\"2021-week_39\",\"2021-week_39\",\"2021-week_39\",\"2021-week_39\",\"2021-week_39\",\"2021-week_39\",\"2021-week_39\",\"2021-week_39\",\"2021-week_39\",\"2021-week_39\",\"2021-week_39\",\"2021-week_39\",\"2021-week_39\",\"2021-week_39\",\"2021-week_40\",\"2021-week_40\",\"2021-week_40\",\"2021-week_40\",\"2021-week_40\",\"2021-week_40\",\"2021-week_40\",\"2021-week_40\",\"2021-week_40\",\"2021-week_40\",\"2021-week_40\",\"2021-week_40\",\"2021-week_40\",\"2021-week_40\",\"2021-week_41\",\"2021-week_41\",\"2021-week_41\",\"2021-week_41\",\"2021-week_41\",\"2021-week_41\",\"2021-week_41\",\"2021-week_41\",\"2021-week_41\",\"2021-week_41\",\"2021-week_41\",\"2021-week_41\",\"2021-week_41\",\"2021-week_41\",\"2021-week_41\",\"2021-week_41\",\"2021-week_42\",\"2021-week_42\",\"2021-week_42\",\"2021-week_42\",\"2021-week_42\",\"2021-week_42\",\"2021-week_42\",\"2021-week_42\",\"2021-week_42\",\"2021-week_42\",\"2021-week_42\",\"2021-week_42\",\"2021-week_42\",\"2021-week_42\",\"2021-week_43\",\"2021-week_43\",\"2021-week_43\",\"2021-week_43\",\"2021-week_43\",\"2021-week_43\",\"2021-week_43\",\"2021-week_43\",\"2021-week_43\",\"2021-week_43\",\"2021-week_43\",\"2021-week_43\",\"2021-week_43\",\"2021-week_43\",\"2021-week_44\",\"2021-week_44\",\"2021-week_44\",\"2021-week_44\",\"2021-week_44\",\"2021-week_44\",\"2021-week_44\",\"2021-week_44\",\"2021-week_44\",\"2021-week_44\",\"2021-week_44\",\"2021-week_44\",\"2021-week_44\",\"2021-week_44\",\"2021-week_45\",\"2021-week_45\",\"2021-week_45\",\"2021-week_45\",\"2021-week_45\",\"2021-week_45\",\"2021-week_45\",\"2021-week_45\",\"2021-week_45\",\"2021-week_45\",\"2021-week_45\",\"2021-week_45\",\"2021-week_45\",\"2021-week_45\",\"2021-week_45\",\"2021-week_45\",\"2021-week_46\",\"2021-week_46\",\"2021-week_46\",\"2021-week_46\",\"2021-week_46\",\"2021-week_46\",\"2021-week_46\",\"2021-week_46\",\"2021-week_46\",\"2021-week_46\",\"2021-week_46\",\"2021-week_46\",\"2021-week_46\",\"2021-week_46\",\"2021-week_46\",\"2021-week_47\",\"2021-week_47\",\"2021-week_47\",\"2021-week_47\",\"2021-week_47\",\"2021-week_47\",\"2021-week_47\",\"2021-week_47\",\"2021-week_47\",\"2021-week_47\",\"2021-week_47\",\"2021-week_47\",\"2021-week_47\",\"2021-week_47\",\"2021-week_47\",\"2021-week_48\",\"2021-week_48\",\"2021-week_48\",\"2021-week_48\",\"2021-week_48\",\"2021-week_48\",\"2021-week_48\",\"2021-week_48\",\"2021-week_48\",\"2021-week_48\",\"2021-week_48\",\"2021-week_48\",\"2021-week_48\",\"2021-week_48\",\"2021-week_49\",\"2021-week_49\",\"2021-week_49\",\"2021-week_49\",\"2021-week_49\",\"2021-week_49\",\"2021-week_49\",\"2021-week_49\",\"2021-week_49\",\"2021-week_49\",\"2021-week_49\",\"2021-week_49\",\"2021-week_49\",\"2021-week_49\",\"2021-week_49\",\"2021-week_50\",\"2021-week_50\",\"2021-week_50\",\"2021-week_50\",\"2021-week_50\",\"2021-week_50\",\"2021-week_50\",\"2021-week_50\",\"2021-week_50\",\"2021-week_50\",\"2021-week_50\",\"2021-week_50\",\"2021-week_50\",\"2021-week_50\",\"2021-week_51\",\"2021-week_51\",\"2021-week_51\",\"2021-week_51\",\"2021-week_51\",\"2021-week_51\",\"2021-week_51\",\"2021-week_51\",\"2021-week_51\",\"2021-week_51\",\"2021-week_51\",\"2021-week_51\",\"2021-week_51\",\"2021-week_51\",\"2022-week_01\",\"2022-week_01\",\"2022-week_01\",\"2022-week_01\",\"2022-week_01\",\"2022-week_01\",\"2022-week_01\",\"2022-week_01\",\"2022-week_01\",\"2022-week_01\",\"2022-week_01\",\"2022-week_01\",\"2022-week_01\",\"2022-week_01\",\"2022-week_01\",\"2022-week_01\",\"2022-week_02\",\"2022-week_02\",\"2022-week_02\",\"2022-week_02\",\"2022-week_02\",\"2022-week_02\",\"2022-week_02\",\"2022-week_02\",\"2022-week_02\",\"2022-week_02\",\"2022-week_02\",\"2022-week_02\",\"2022-week_02\",\"2022-week_02\",\"2022-week_02\",\"2022-week_03\",\"2022-week_03\",\"2022-week_03\",\"2022-week_03\",\"2022-week_03\",\"2022-week_03\",\"2022-week_03\",\"2022-week_03\",\"2022-week_03\",\"2022-week_03\",\"2022-week_03\",\"2022-week_03\",\"2022-week_03\",\"2022-week_03\",\"2022-week_03\",\"2022-week_03\",\"2022-week_04\",\"2022-week_04\",\"2022-week_04\",\"2022-week_04\",\"2022-week_04\",\"2022-week_04\",\"2022-week_04\",\"2022-week_04\",\"2022-week_04\",\"2022-week_04\",\"2022-week_04\",\"2022-week_04\",\"2022-week_04\",\"2022-week_04\",\"2022-week_04\",\"2022-week_04\",\"2022-week_05\",\"2022-week_05\",\"2022-week_05\",\"2022-week_05\",\"2022-week_05\",\"2022-week_05\",\"2022-week_05\",\"2022-week_05\",\"2022-week_05\",\"2022-week_05\",\"2022-week_05\",\"2022-week_05\",\"2022-week_05\",\"2022-week_05\",\"2022-week_05\",\"2022-week_06\",\"2022-week_06\",\"2022-week_06\",\"2022-week_06\",\"2022-week_06\",\"2022-week_06\",\"2022-week_06\",\"2022-week_06\",\"2022-week_06\",\"2022-week_06\",\"2022-week_06\",\"2022-week_06\",\"2022-week_06\",\"2022-week_06\",\"2022-week_06\",\"2022-week_06\",\"2022-week_52\",\"2022-week_52\",\"2022-week_52\",\"2022-week_52\",\"2022-week_52\",\"2022-week_52\",\"2022-week_52\",\"2022-week_52\",\"2022-week_52\",\"2022-week_52\",\"2022-week_52\",\"2022-week_52\",\"2022-week_52\",\"2022-week_52\",\"2022-week_52\"],\"xaxis\":\"x\",\"y\":[4,18,7,1,21,13,30,126,21,2,1322,1471,18,34,3,20,19,1,22,12,40,137,21,2,1137,137,1516,15,49,5,22,25,32,23,26,137,22,5,1049,222,1471,24,72,9,20,25,1,24,38,19,137,17,3,1058,238,1447,9,69,6,22,28,26,32,38,115,25,5,1047,233,1416,15,94,10,24,26,18,22,19,133,28,10,961,240,1450,11,123,5,26,28,19,29,35,118,108,14,949,200,1347,26,129,8,25,66,24,25,30,62,56,5,951,87,1272,21,94,6,24,32,1,19,18,25,63,55,5,2,1202,144,1274,7,86,2,27,20,16,21,20,54,60,6,996,543,1177,18,54,1,18,25,12,17,25,237,77,2,884,505,1129,11,48,5,28,33,14,18,36,173,50,4,1066,642,899,14,52,7,32,22,1,6,25,36,235,32,3,3,1423,1142,28,15,76,5,59,17,1,19,37,443,28,5,2,1303,1106,37,17,58,2,58,11,1,3,12,32,302,33,8,1277,1235,27,22,78,5,47,20,3,23,38,633,18,5,1147,1014,15,21,66,2,56,20,2,4,24,36,404,18,8,1274,1123,42,19,62,3,61,11,1,17,32,575,15,2,1187,1087,31,17,71,1,44,22,1,25,32,337,14,4,1284,1213,35,18,56,2,54,12,1,21,19,40,399,24,10,1,1296,1091,30,19,72,4,52,17,51,21,42,399,24,2,1,1264,1108,42,15,65,3,35,16,1,22,19,28,308,12,6,917,767,908,1,15,57,2,22,12,20,20,21,270,15,3,2,818,675,1238,2,9,36,22,14,15,16,21,298,10,3,3,795,650,1239,1,13,42,1,30,9,1,12,8,25,294,9,6,1,822,731,1133,12,46,6,49,20,1,5,20,30,628,12,5,1073,1144,27,13,59],\"yaxis\":\"y\",\"type\":\"bar\"},{\"alignmentgroup\":\"True\",\"customdata\":[[\"Crescendo Networks\"],[\"Fry Multimedia\"],[\"G-mode\"],[\"LocalVox Media\"],[\"MoJoe Brewing Company\"],[\"Modanisa\"],[\"OpenDesks, Inc.\"],[\"RelayFoods\"],[\"Search Million Culture\"],[\"aPriori Technologies\"],[\"iDreamsky Technology\"],[\"Crescendo Networks\"],[\"Extreme DA\"],[\"Fry Multimedia\"],[\"G-mode\"],[\"LocalVox Media\"],[\"MoJoe Brewing Company\"],[\"Modanisa\"],[\"RelayFoods\"],[\"Search Million Culture\"],[\"VarVee\"],[\"aPriori Technologies\"],[\"iDreamsky Technology\"],[\"Bizanga\"],[\"Crescendo Networks\"],[\"Fry Multimedia\"],[\"G-mode\"],[\"LocalVox Media\"],[\"MoJoe Brewing Company\"],[\"Modanisa\"],[\"RelayFoods\"],[\"Search Million Culture\"],[\"VarVee\"],[\"aPriori Technologies\"],[\"iDreamsky Technology\"],[\"Crescendo Networks\"],[\"Extreme DA\"],[\"Fry Multimedia\"],[\"G-mode\"],[\"LocalVox Media\"],[\"MoJoe Brewing Company\"],[\"Modanisa\"],[\"RelayFoods\"],[\"Search Million Culture\"],[\"VarVee\"],[\"iDreamsky Technology\"],[\"Crescendo Networks\"],[\"Fry Multimedia\"],[\"G-mode\"],[\"LocalVox Media\"],[\"MoJoe Brewing Company\"],[\"Modanisa\"],[\"RelayFoods\"],[\"Search Million Culture\"],[\"VarVee\"],[\"aPriori Technologies\"],[\"iDreamsky Technology\"],[\"Crescendo Networks\"],[\"Fry Multimedia\"],[\"G-mode\"],[\"LocalVox Media\"],[\"MoJoe Brewing Company\"],[\"Modanisa\"],[\"RelayFoods\"],[\"Search Million Culture\"],[\"VarVee\"],[\"aPriori Technologies\"],[\"iDreamsky Technology\"],[\"Crescendo Networks\"],[\"Fry Multimedia\"],[\"G-mode\"],[\"LocalVox Media\"],[\"MoJoe Brewing Company\"],[\"Modanisa\"],[\"OpenDesks, Inc.\"],[\"RelayFoods\"],[\"Search Million Culture\"],[\"Tab Solutions\"],[\"VarVee\"],[\"aPriori Technologies\"],[\"iDreamsky Technology\"],[\"Bizanga\"],[\"Crescendo Networks\"],[\"Extreme DA\"],[\"Fry Multimedia\"],[\"G-mode\"],[\"LocalVox Media\"],[\"MoJoe Brewing Company\"],[\"Modanisa\"],[\"RelayFoods\"],[\"Search Million Culture\"],[\"Tab Solutions\"],[\"VarVee\"],[\"aPriori Technologies\"],[\"iDreamsky Technology\"],[\"Bizanga\"],[\"Crescendo Networks\"],[\"Fry Multimedia\"],[\"G-mode\"],[\"LocalVox Media\"],[\"MoJoe Brewing Company\"],[\"Modanisa\"],[\"Pole Star\"],[\"RelayFoods\"],[\"Search Million Culture\"],[\"Tab Solutions\"],[\"VarVee\"],[\"aPriori Technologies\"],[\"iDreamsky Technology\"],[\"Fry Multimedia\"],[\"G-mode\"],[\"LocalVox Media\"],[\"MoJoe Brewing Company\"],[\"Modanisa\"],[\"RelayFoods\"],[\"Search Million Culture\"],[\"Tab Solutions\"],[\"VarVee\"],[\"aPriori Technologies\"],[\"iDreamsky Technology\"],[\"Crescendo Networks\"],[\"Fry Multimedia\"],[\"G-mode\"],[\"LocalVox Media\"],[\"MoJoe Brewing Company\"],[\"Modanisa\"],[\"RelayFoods\"],[\"Search Million Culture\"],[\"Tab Solutions\"],[\"VarVee\"],[\"iDreamsky Technology\"],[\"Crescendo Networks\"],[\"Fry Multimedia\"],[\"G-mode\"],[\"LocalVox Media\"],[\"MoJoe Brewing Company\"],[\"Modanisa\"],[\"Pole Star\"],[\"RelayFoods\"],[\"Search Million Culture\"],[\"Tab Solutions\"],[\"VarVee\"],[\"aPriori Technologies\"],[\"iDreamsky Technology\"],[\"Crescendo Networks\"],[\"G-mode\"],[\"LocalVox Media\"],[\"MoJoe Brewing Company\"],[\"Modanisa\"],[\"Pole Star\"],[\"RelayFoods\"],[\"Search Million Culture\"],[\"Tab Solutions\"],[\"VarVee\"],[\"iDreamsky Technology\"],[\"Crescendo Networks\"],[\"Fry Multimedia\"],[\"G-mode\"],[\"LocalVox Media\"],[\"MoJoe Brewing Company\"],[\"Modanisa\"],[\"OpenDesks, Inc.\"],[\"Pole Star\"],[\"RelayFoods\"],[\"Search Million Culture\"],[\"VarVee\"],[\"aPriori Technologies\"],[\"iDreamsky Technology\"],[\"Crescendo Networks\"],[\"Cuiker\"],[\"Fry Multimedia\"],[\"G-mode\"],[\"LocalVox Media\"],[\"MoJoe Brewing Company\"],[\"Modanisa\"],[\"RelayFoods\"],[\"Search Million Culture\"],[\"VarVee\"],[\"aPriori Technologies\"],[\"iDreamsky Technology\"],[\"Crescendo Networks\"],[\"Fry Multimedia\"],[\"G-mode\"],[\"LocalVox Media\"],[\"MoJoe Brewing Company\"],[\"Modanisa\"],[\"OpenDesks, Inc.\"],[\"RelayFoods\"],[\"Search Million Culture\"],[\"iDreamsky Technology\"],[\"Crescendo Networks\"],[\"Fry Multimedia\"],[\"G-mode\"],[\"LocalVox Media\"],[\"MoJoe Brewing Company\"],[\"Modanisa\"],[\"RelayFoods\"],[\"Search Million Culture\"],[\"VarVee\"],[\"aPriori Technologies\"],[\"iDreamsky Technology\"],[\"Crescendo Networks\"],[\"Fry Multimedia\"],[\"G-mode\"],[\"LocalVox Media\"],[\"MoJoe Brewing Company\"],[\"Modanisa\"],[\"RelayFoods\"],[\"Search Million Culture\"],[\"VarVee\"],[\"aPriori Technologies\"],[\"iDreamsky Technology\"],[\"Crescendo Networks\"],[\"Fry Multimedia\"],[\"G-mode\"],[\"LocalVox Media\"],[\"MoJoe Brewing Company\"],[\"Modanisa\"],[\"Pole Star\"],[\"RelayFoods\"],[\"Search Million Culture\"],[\"VarVee\"],[\"aPriori Technologies\"],[\"iDreamsky Technology\"],[\"Fry Multimedia\"],[\"G-mode\"],[\"LocalVox Media\"],[\"MoJoe Brewing Company\"],[\"Modanisa\"],[\"RelayFoods\"],[\"Search Million Culture\"],[\"VarVee\"],[\"aPriori Technologies\"],[\"iDreamsky Technology\"],[\"Crescendo Networks\"],[\"Fry Multimedia\"],[\"G-mode\"],[\"LocalVox Media\"],[\"MoJoe Brewing Company\"],[\"Modanisa\"],[\"Pole Star\"],[\"RelayFoods\"],[\"Search Million Culture\"],[\"VarVee\"],[\"aPriori Technologies\"],[\"iDreamsky Technology\"],[\"Crescendo Networks\"],[\"Fry Multimedia\"],[\"G-mode\"],[\"LocalVox Media\"],[\"MoJoe Brewing Company\"],[\"Modanisa\"],[\"Pole Star\"],[\"RelayFoods\"],[\"Search Million Culture\"],[\"VarVee\"],[\"aPriori Technologies\"],[\"iDreamsky Technology\"],[\"Crescendo Networks\"],[\"Fry Multimedia\"],[\"G-mode\"],[\"LocalVox Media\"],[\"MoJoe Brewing Company\"],[\"Modanisa\"],[\"Pole Star\"],[\"RelayFoods\"],[\"Search Million Culture\"],[\"VarVee\"],[\"aPriori Technologies\"],[\"iDreamsky Technology\"],[\"Crescendo Networks\"],[\"Fry Multimedia\"],[\"G-mode\"],[\"LocalVox Media\"],[\"MoJoe Brewing Company\"],[\"Modanisa\"],[\"Pole Star\"],[\"RelayFoods\"],[\"Search Million Culture\"],[\"VarVee\"],[\"iDreamsky Technology\"],[\"Crescendo Networks\"],[\"Fry Multimedia\"],[\"G-mode\"],[\"LocalVox Media\"],[\"MoJoe Brewing Company\"],[\"Modanisa\"],[\"OpenDesks, Inc.\"],[\"RelayFoods\"],[\"Search Million Culture\"],[\"VarVee\"],[\"aPriori Technologies\"],[\"iDreamsky Technology\"]],\"hovertemplate\":\"region=JP<br>week_id=%{x}<br>num_of_requests=%{y}<br>requester=%{customdata[0]}<extra></extra>\",\"legendgroup\":\"JP\",\"marker\":{\"color\":\"#ab63fa\",\"pattern\":{\"shape\":\"\"}},\"name\":\"JP\",\"offsetgroup\":\"JP\",\"orientation\":\"v\",\"showlegend\":true,\"textposition\":\"auto\",\"x\":[\"2021-week_33\",\"2021-week_33\",\"2021-week_33\",\"2021-week_33\",\"2021-week_33\",\"2021-week_33\",\"2021-week_33\",\"2021-week_33\",\"2021-week_33\",\"2021-week_33\",\"2021-week_33\",\"2021-week_34\",\"2021-week_34\",\"2021-week_34\",\"2021-week_34\",\"2021-week_34\",\"2021-week_34\",\"2021-week_34\",\"2021-week_34\",\"2021-week_34\",\"2021-week_34\",\"2021-week_34\",\"2021-week_34\",\"2021-week_35\",\"2021-week_35\",\"2021-week_35\",\"2021-week_35\",\"2021-week_35\",\"2021-week_35\",\"2021-week_35\",\"2021-week_35\",\"2021-week_35\",\"2021-week_35\",\"2021-week_35\",\"2021-week_35\",\"2021-week_36\",\"2021-week_36\",\"2021-week_36\",\"2021-week_36\",\"2021-week_36\",\"2021-week_36\",\"2021-week_36\",\"2021-week_36\",\"2021-week_36\",\"2021-week_36\",\"2021-week_36\",\"2021-week_37\",\"2021-week_37\",\"2021-week_37\",\"2021-week_37\",\"2021-week_37\",\"2021-week_37\",\"2021-week_37\",\"2021-week_37\",\"2021-week_37\",\"2021-week_37\",\"2021-week_37\",\"2021-week_38\",\"2021-week_38\",\"2021-week_38\",\"2021-week_38\",\"2021-week_38\",\"2021-week_38\",\"2021-week_38\",\"2021-week_38\",\"2021-week_38\",\"2021-week_38\",\"2021-week_38\",\"2021-week_39\",\"2021-week_39\",\"2021-week_39\",\"2021-week_39\",\"2021-week_39\",\"2021-week_39\",\"2021-week_39\",\"2021-week_39\",\"2021-week_39\",\"2021-week_39\",\"2021-week_39\",\"2021-week_39\",\"2021-week_39\",\"2021-week_40\",\"2021-week_40\",\"2021-week_40\",\"2021-week_40\",\"2021-week_40\",\"2021-week_40\",\"2021-week_40\",\"2021-week_40\",\"2021-week_40\",\"2021-week_40\",\"2021-week_40\",\"2021-week_40\",\"2021-week_40\",\"2021-week_40\",\"2021-week_41\",\"2021-week_41\",\"2021-week_41\",\"2021-week_41\",\"2021-week_41\",\"2021-week_41\",\"2021-week_41\",\"2021-week_41\",\"2021-week_41\",\"2021-week_41\",\"2021-week_41\",\"2021-week_41\",\"2021-week_41\",\"2021-week_41\",\"2021-week_42\",\"2021-week_42\",\"2021-week_42\",\"2021-week_42\",\"2021-week_42\",\"2021-week_42\",\"2021-week_42\",\"2021-week_42\",\"2021-week_42\",\"2021-week_42\",\"2021-week_42\",\"2021-week_43\",\"2021-week_43\",\"2021-week_43\",\"2021-week_43\",\"2021-week_43\",\"2021-week_43\",\"2021-week_43\",\"2021-week_43\",\"2021-week_43\",\"2021-week_43\",\"2021-week_43\",\"2021-week_44\",\"2021-week_44\",\"2021-week_44\",\"2021-week_44\",\"2021-week_44\",\"2021-week_44\",\"2021-week_44\",\"2021-week_44\",\"2021-week_44\",\"2021-week_44\",\"2021-week_44\",\"2021-week_44\",\"2021-week_44\",\"2021-week_45\",\"2021-week_45\",\"2021-week_45\",\"2021-week_45\",\"2021-week_45\",\"2021-week_45\",\"2021-week_45\",\"2021-week_45\",\"2021-week_45\",\"2021-week_45\",\"2021-week_45\",\"2021-week_46\",\"2021-week_46\",\"2021-week_46\",\"2021-week_46\",\"2021-week_46\",\"2021-week_46\",\"2021-week_46\",\"2021-week_46\",\"2021-week_46\",\"2021-week_46\",\"2021-week_46\",\"2021-week_46\",\"2021-week_46\",\"2021-week_47\",\"2021-week_47\",\"2021-week_47\",\"2021-week_47\",\"2021-week_47\",\"2021-week_47\",\"2021-week_47\",\"2021-week_47\",\"2021-week_47\",\"2021-week_47\",\"2021-week_47\",\"2021-week_47\",\"2021-week_48\",\"2021-week_48\",\"2021-week_48\",\"2021-week_48\",\"2021-week_48\",\"2021-week_48\",\"2021-week_48\",\"2021-week_48\",\"2021-week_48\",\"2021-week_48\",\"2021-week_49\",\"2021-week_49\",\"2021-week_49\",\"2021-week_49\",\"2021-week_49\",\"2021-week_49\",\"2021-week_49\",\"2021-week_49\",\"2021-week_49\",\"2021-week_49\",\"2021-week_49\",\"2021-week_50\",\"2021-week_50\",\"2021-week_50\",\"2021-week_50\",\"2021-week_50\",\"2021-week_50\",\"2021-week_50\",\"2021-week_50\",\"2021-week_50\",\"2021-week_50\",\"2021-week_50\",\"2022-week_01\",\"2022-week_01\",\"2022-week_01\",\"2022-week_01\",\"2022-week_01\",\"2022-week_01\",\"2022-week_01\",\"2022-week_01\",\"2022-week_01\",\"2022-week_01\",\"2022-week_01\",\"2022-week_01\",\"2022-week_02\",\"2022-week_02\",\"2022-week_02\",\"2022-week_02\",\"2022-week_02\",\"2022-week_02\",\"2022-week_02\",\"2022-week_02\",\"2022-week_02\",\"2022-week_02\",\"2022-week_03\",\"2022-week_03\",\"2022-week_03\",\"2022-week_03\",\"2022-week_03\",\"2022-week_03\",\"2022-week_03\",\"2022-week_03\",\"2022-week_03\",\"2022-week_03\",\"2022-week_03\",\"2022-week_03\",\"2022-week_04\",\"2022-week_04\",\"2022-week_04\",\"2022-week_04\",\"2022-week_04\",\"2022-week_04\",\"2022-week_04\",\"2022-week_04\",\"2022-week_04\",\"2022-week_04\",\"2022-week_04\",\"2022-week_04\",\"2022-week_05\",\"2022-week_05\",\"2022-week_05\",\"2022-week_05\",\"2022-week_05\",\"2022-week_05\",\"2022-week_05\",\"2022-week_05\",\"2022-week_05\",\"2022-week_05\",\"2022-week_05\",\"2022-week_05\",\"2022-week_06\",\"2022-week_06\",\"2022-week_06\",\"2022-week_06\",\"2022-week_06\",\"2022-week_06\",\"2022-week_06\",\"2022-week_06\",\"2022-week_06\",\"2022-week_06\",\"2022-week_06\",\"2022-week_52\",\"2022-week_52\",\"2022-week_52\",\"2022-week_52\",\"2022-week_52\",\"2022-week_52\",\"2022-week_52\",\"2022-week_52\",\"2022-week_52\",\"2022-week_52\",\"2022-week_52\",\"2022-week_52\"],\"xaxis\":\"x\",\"y\":[8,20,3,46,208,13,1,627,567,4,80,13,1,39,5,115,255,19,297,761,37,5,23,1,13,30,5,82,292,25,348,626,53,3,59,12,1,35,7,79,282,29,291,695,74,63,10,33,9,79,339,23,302,695,62,3,62,14,29,6,72,219,14,318,644,58,2,171,8,29,9,46,236,23,1,234,612,222,40,3,83,1,15,1,21,4,55,194,12,263,583,346,38,3,54,1,10,29,4,57,139,20,10,279,566,340,45,5,43,9,1,27,36,5,1230,195,78,9,1,5,3,6,1,18,67,4,1171,161,113,19,30,2,4,3,29,55,5,5,1213,128,133,10,3,18,1,9,60,51,4,7,1339,12,105,21,15,3,2,1,48,86,7,1,4,1402,5,20,2,6,7,1,3,2,70,55,3,1425,4,16,3,28,1,6,7,95,124,8,1,1343,12,15,3,3,12,114,100,10,1301,13,1,2,16,3,1,3,90,104,11,1355,10,3,2,27,3,8,5,72,82,6,1,1162,228,1,3,20,7,1,87,66,1,1153,277,2,3,13,2,5,1,52,90,6,2,1158,225,4,1,25,4,8,5,60,67,1,5,1178,231,3,3,16,6,4,5,54,75,4,7,1204,223,2,2,18,1,10,2,51,80,1,6,1205,230,5,11,6,3,13,161,183,9,2,2752,11,3,2,29],\"yaxis\":\"y\",\"type\":\"bar\"},{\"alignmentgroup\":\"True\",\"customdata\":[[\"Allthetopbananas.com\"],[\"Bizanga\"],[\"Crescendo Networks\"],[\"Extreme DA\"],[\"Fancy\"],[\"FlagTap\"],[\"Fry Multimedia\"],[\"Glory Medical\"],[\"Joules Clothing\"],[\"LocalVox Media\"],[\"Metranome\"],[\"Mission Street Manufacturing\"],[\"MoJoe Brewing Company\"],[\"Modanisa\"],[\"PageBites\"],[\"Pole Star\"],[\"RelayFoods\"],[\"Search Million Culture\"],[\"Sensor Tower\"],[\"Tab Solutions\"],[\"VarVee\"],[\"aPriori Technologies\"],[\"iDreamsky Technology\"],[\"Bizanga\"],[\"Crescendo Networks\"],[\"Cue\"],[\"Extreme DA\"],[\"Fancy\"],[\"Fry Multimedia\"],[\"Glory Medical\"],[\"Joules Clothing\"],[\"LocalVox Media\"],[\"Metranome\"],[\"Mission Street Manufacturing\"],[\"MoJoe Brewing Company\"],[\"Modanisa\"],[\"PageBites\"],[\"Pole Star\"],[\"RelayFoods\"],[\"Search Million Culture\"],[\"Sensor Tower\"],[\"Tab Solutions\"],[\"VarVee\"],[\"iDreamsky Technology\"],[\"Allthetopbananas.com\"],[\"Altammune\"],[\"Bizanga\"],[\"Crescendo Networks\"],[\"Doctorfun Entertainment, Ltd\"],[\"Earth Networks\"],[\"Extreme DA\"],[\"Fancy\"],[\"Fry Multimedia\"],[\"G-mode\"],[\"Glory Medical\"],[\"Joules Clothing\"],[\"LocalVox Media\"],[\"Metranome\"],[\"Mission Street Manufacturing\"],[\"MoJoe Brewing Company\"],[\"Modanisa\"],[\"PageBites\"],[\"RelayFoods\"],[\"Search Million Culture\"],[\"Sensor Tower\"],[\"Tab Solutions\"],[\"VarVee\"],[\"aPriori Technologies\"],[\"iDreamsky Technology\"],[\"Allthetopbananas.com\"],[\"Bizanga\"],[\"Crescendo Networks\"],[\"Doctorfun Entertainment, Ltd\"],[\"Extreme DA\"],[\"Fancy\"],[\"Fry Multimedia\"],[\"Glory Medical\"],[\"Joules Clothing\"],[\"LocalVox Media\"],[\"Metranome\"],[\"Mission Street Manufacturing\"],[\"MoJoe Brewing Company\"],[\"Modanisa\"],[\"OpenDesks, Inc.\"],[\"PageBites\"],[\"RelayFoods\"],[\"Search Million Culture\"],[\"Sensor Tower\"],[\"Tab Solutions\"],[\"VarVee\"],[\"aPriori Technologies\"],[\"iDreamsky Technology\"],[\"Allthetopbananas.com\"],[\"Bizanga\"],[\"Crescendo Networks\"],[\"Derceto\"],[\"Doctorfun Entertainment, Ltd\"],[\"Extreme DA\"],[\"Fancy\"],[\"Fry Multimedia\"],[\"G-mode\"],[\"Glory Medical\"],[\"LocalVox Media\"],[\"Marketo Japan\"],[\"Metranome\"],[\"Mission Street Manufacturing\"],[\"MoJoe Brewing Company\"],[\"Modanisa\"],[\"PageBites\"],[\"Pole Star\"],[\"RelayFoods\"],[\"Search Million Culture\"],[\"Sensor Tower\"],[\"Tab Solutions\"],[\"VarVee\"],[\"aPriori Technologies\"],[\"iDreamsky Technology\"],[\"Allthetopbananas.com\"],[\"Altammune\"],[\"Bizanga\"],[\"Crescendo Networks\"],[\"Cue\"],[\"Doctorfun Entertainment, Ltd\"],[\"Extreme DA\"],[\"Fancy\"],[\"Fry Multimedia\"],[\"Glory Medical\"],[\"Joules Clothing\"],[\"LocalVox Media\"],[\"Metranome\"],[\"Mission Street Manufacturing\"],[\"MoJoe Brewing Company\"],[\"Modanisa\"],[\"OpenDesks, Inc.\"],[\"PageBites\"],[\"Pole Star\"],[\"RelayFoods\"],[\"Search Million Culture\"],[\"Sensor Tower\"],[\"Tab Solutions\"],[\"VarVee\"],[\"aPriori Technologies\"],[\"iDreamsky Technology\"],[\"Bizanga\"],[\"Crescendo Networks\"],[\"Doctorfun Entertainment, Ltd\"],[\"Extreme DA\"],[\"Fancy\"],[\"Fry Multimedia\"],[\"Glory Medical\"],[\"LocalVox Media\"],[\"Metranome\"],[\"Mission Street Manufacturing\"],[\"MoJoe Brewing Company\"],[\"Modanisa\"],[\"OpenDesks, Inc.\"],[\"PageBites\"],[\"Pole Star\"],[\"RelayFoods\"],[\"Search Million Culture\"],[\"Sensor Tower\"],[\"Tab Solutions\"],[\"VarVee\"],[\"aPriori Technologies\"],[\"iDreamsky Technology\"],[\"Altammune\"],[\"Bizanga\"],[\"Crescendo Networks\"],[\"Cue\"],[\"Doctorfun Entertainment, Ltd\"],[\"Extreme DA\"],[\"Fancy\"],[\"Fry Multimedia\"],[\"Glory Medical\"],[\"LocalVox Media\"],[\"Metranome\"],[\"Mission Street Manufacturing\"],[\"MoJoe Brewing Company\"],[\"Modanisa\"],[\"OpenDesks, Inc.\"],[\"PageBites\"],[\"Pole Star\"],[\"RelayFoods\"],[\"Search Million Culture\"],[\"Sensor Tower\"],[\"Tab Solutions\"],[\"VarVee\"],[\"iDreamsky Technology\"],[\"Bizanga\"],[\"Crescendo Networks\"],[\"Doctorfun Entertainment, Ltd\"],[\"Extreme DA\"],[\"Fancy\"],[\"Fry Multimedia\"],[\"Glory Medical\"],[\"Joules Clothing\"],[\"LocalVox Media\"],[\"Mission Street Manufacturing\"],[\"MoJoe Brewing Company\"],[\"Modanisa\"],[\"PageBites\"],[\"RelayFoods\"],[\"Search Million Culture\"],[\"Sensor Tower\"],[\"Tab Solutions\"],[\"VarVee\"],[\"aPriori Technologies\"],[\"iDreamsky Technology\"],[\"Altammune\"],[\"Bizanga\"],[\"Crescendo Networks\"],[\"Cuiker\"],[\"Doctorfun Entertainment, Ltd\"],[\"Extreme DA\"],[\"Fancy\"],[\"Fry Multimedia\"],[\"Glory Medical\"],[\"Joules Clothing\"],[\"LocalVox Media\"],[\"Mission Street Manufacturing\"],[\"MoJoe Brewing Company\"],[\"Modanisa\"],[\"OpenDesks, Inc.\"],[\"PageBites\"],[\"Pole Star\"],[\"RelayFoods\"],[\"Search Million Culture\"],[\"Sensor Tower\"],[\"Tab Solutions\"],[\"VarVee\"],[\"aPriori Technologies\"],[\"iDreamsky Technology\"],[\"Bizanga\"],[\"Crescendo Networks\"],[\"Doctorfun Entertainment, Ltd\"],[\"Extreme DA\"],[\"Fancy\"],[\"Fry Multimedia\"],[\"Glory Medical\"],[\"LocalVox Media\"],[\"Mission Street Manufacturing\"],[\"MoJoe Brewing Company\"],[\"Modanisa\"],[\"PageBites\"],[\"Pole Star\"],[\"RelayFoods\"],[\"Search Million Culture\"],[\"Sensor Tower\"],[\"Tab Solutions\"],[\"VarVee\"],[\"aPriori Technologies\"],[\"iDreamsky Technology\"],[\"Bizanga\"],[\"Crescendo Networks\"],[\"Doctorfun Entertainment, Ltd\"],[\"Extreme DA\"],[\"Fancy\"],[\"Fry Multimedia\"],[\"Glory Medical\"],[\"Joules Clothing\"],[\"Jun Group\"],[\"LocalVox Media\"],[\"Metranome\"],[\"Mission Street Manufacturing\"],[\"MoJoe Brewing Company\"],[\"Modanisa\"],[\"OpenDesks, Inc.\"],[\"PageBites\"],[\"Pole Star\"],[\"RelayFoods\"],[\"Search Million Culture\"],[\"Sensor Tower\"],[\"Tab Solutions\"],[\"VarVee\"],[\"aPriori Technologies\"],[\"iDreamsky Technology\"],[\"Allthetopbananas.com\"],[\"Bizanga\"],[\"Doctorfun Entertainment, Ltd\"],[\"Extreme DA\"],[\"Fancy\"],[\"Fry Multimedia\"],[\"Joules Clothing\"],[\"LocalVox Media\"],[\"Mission Street Manufacturing\"],[\"MoJoe Brewing Company\"],[\"Modanisa\"],[\"Pole Star\"],[\"RelayFoods\"],[\"Search Million Culture\"],[\"Sensor Tower\"],[\"Tab Solutions\"],[\"VarVee\"],[\"aPriori Technologies\"],[\"iDreamsky Technology\"],[\"Bizanga\"],[\"Crescendo Networks\"],[\"Doctorfun Entertainment, Ltd\"],[\"Extreme DA\"],[\"Fancy\"],[\"Fry Multimedia\"],[\"Glory Medical\"],[\"Joules Clothing\"],[\"LocalVox Media\"],[\"Metranome\"],[\"Mission Street Manufacturing\"],[\"MoJoe Brewing Company\"],[\"Modanisa\"],[\"RelayFoods\"],[\"Search Million Culture\"],[\"Sensor Tower\"],[\"Tab Solutions\"],[\"VarVee\"],[\"iDreamsky Technology\"],[\"Bizanga\"],[\"Crescendo Networks\"],[\"Extreme DA\"],[\"Fancy\"],[\"Fry Multimedia\"],[\"Glory Medical\"],[\"Joules Clothing\"],[\"LocalVox Media\"],[\"Mission Street Manufacturing\"],[\"MoJoe Brewing Company\"],[\"Modanisa\"],[\"OpenDesks, Inc.\"],[\"RelayFoods\"],[\"Search Million Culture\"],[\"Sensor Tower\"],[\"Tab Solutions\"],[\"VarVee\"],[\"aPriori Technologies\"],[\"iDreamsky Technology\"],[\"Bizanga\"],[\"Crescendo Networks\"],[\"Doctorfun Entertainment, Ltd\"],[\"Extreme DA\"],[\"Fancy\"],[\"Fry Multimedia\"],[\"Glory Medical\"],[\"LocalVox Media\"],[\"Mission Street Manufacturing\"],[\"MoJoe Brewing Company\"],[\"Modanisa\"],[\"RelayFoods\"],[\"Search Million Culture\"],[\"Sensor Tower\"],[\"Tab Solutions\"],[\"VarVee\"],[\"aPriori Technologies\"],[\"iDreamsky Technology\"],[\"Bizanga\"],[\"Crescendo Networks\"],[\"Doctorfun Entertainment, Ltd\"],[\"Extreme DA\"],[\"Fancy\"],[\"Fry Multimedia\"],[\"G-mode\"],[\"Glory Medical\"],[\"LocalVox Media\"],[\"Metranome\"],[\"Mission Street Manufacturing\"],[\"MoJoe Brewing Company\"],[\"Modanisa\"],[\"Pole Star\"],[\"RelayFoods\"],[\"Search Million Culture\"],[\"Sensor Tower\"],[\"Tab Solutions\"],[\"VarVee\"],[\"aPriori Technologies\"],[\"iDreamsky Technology\"],[\"Bizanga\"],[\"Crescendo Networks\"],[\"Extreme DA\"],[\"Fancy\"],[\"Fry Multimedia\"],[\"Glory Medical\"],[\"LocalVox Media\"],[\"Metranome\"],[\"Mission Street Manufacturing\"],[\"MoJoe Brewing Company\"],[\"Modanisa\"],[\"Pole Star\"],[\"RelayFoods\"],[\"Search Million Culture\"],[\"Sensor Tower\"],[\"Tab Solutions\"],[\"VarVee\"],[\"aPriori Technologies\"],[\"iDreamsky Technology\"],[\"Crescendo Networks\"],[\"Doctorfun Entertainment, Ltd\"],[\"Extreme DA\"],[\"Fancy\"],[\"Glory Medical\"],[\"LocalVox Media\"],[\"Metranome\"],[\"Mission Street Manufacturing\"],[\"MoJoe Brewing Company\"],[\"Modanisa\"],[\"Pole Star\"],[\"RelayFoods\"],[\"Search Million Culture\"],[\"Sensor Tower\"],[\"Tab Solutions\"],[\"VarVee\"],[\"iDreamsky Technology\"],[\"Bizanga\"],[\"Doctorfun Entertainment, Ltd\"],[\"Extreme DA\"],[\"Fancy\"],[\"Fry Multimedia\"],[\"Glory Medical\"],[\"LocalVox Media\"],[\"Mission Street Manufacturing\"],[\"MoJoe Brewing Company\"],[\"Modanisa\"],[\"Pole Star\"],[\"RelayFoods\"],[\"Search Million Culture\"],[\"Sensor Tower\"],[\"Tab Solutions\"],[\"VarVee\"],[\"aPriori Technologies\"],[\"iDreamsky Technology\"],[\"Bizanga\"],[\"Crescendo Networks\"],[\"Doctorfun Entertainment, Ltd\"],[\"Extreme DA\"],[\"Fancy\"],[\"Fry Multimedia\"],[\"Glory Medical\"],[\"Joules Clothing\"],[\"LocalVox Media\"],[\"MoJoe Brewing Company\"],[\"Modanisa\"],[\"PageBites\"],[\"Pole Star\"],[\"RelayFoods\"],[\"Search Million Culture\"],[\"Sensor Tower\"],[\"Tab Solutions\"],[\"VarVee\"],[\"iDreamsky Technology\"],[\"Bizanga\"],[\"Doctorfun Entertainment, Ltd\"],[\"Extreme DA\"],[\"Fancy\"],[\"Fry Multimedia\"],[\"Glory Medical\"],[\"LocalVox Media\"],[\"Mission Street Manufacturing\"],[\"MoJoe Brewing Company\"],[\"Modanisa\"],[\"PageBites\"],[\"Pole Star\"],[\"RelayFoods\"],[\"Search Million Culture\"],[\"Sensor Tower\"],[\"Tab Solutions\"],[\"VarVee\"],[\"iDreamsky Technology\"],[\"Bizanga\"],[\"Doctorfun Entertainment, Ltd\"],[\"Extreme DA\"],[\"Fancy\"],[\"Fry Multimedia\"],[\"Jun Group\"],[\"LocalVox Media\"],[\"Metranome\"],[\"MoJoe Brewing Company\"],[\"PageBites\"],[\"Pole Star\"],[\"RelayFoods\"],[\"Search Million Culture\"],[\"Sensor Tower\"],[\"Tab Solutions\"],[\"VarVee\"],[\"aPriori Technologies\"],[\"iDreamsky Technology\"],[\"Bizanga\"],[\"Crescendo Networks\"],[\"Doctorfun Entertainment, Ltd\"],[\"Extreme DA\"],[\"Fancy\"],[\"Fry Multimedia\"],[\"Glory Medical\"],[\"LocalVox Media\"],[\"Metranome\"],[\"MoJoe Brewing Company\"],[\"Modanisa\"],[\"PageBites\"],[\"PureSafe water systems\"],[\"RelayFoods\"],[\"Search Million Culture\"],[\"Sensor Tower\"],[\"Tab Solutions\"],[\"VarVee\"],[\"iDreamsky Technology\"],[\"Bizanga\"],[\"Crescendo Networks\"],[\"Doctorfun Entertainment, Ltd\"],[\"Extreme DA\"],[\"Fancy\"],[\"Fry Multimedia\"],[\"LocalVox Media\"],[\"Metranome\"],[\"Mission Street Manufacturing\"],[\"MoJoe Brewing Company\"],[\"Modanisa\"],[\"PageBites\"],[\"Pole Star\"],[\"RelayFoods\"],[\"Search Million Culture\"],[\"Sensor Tower\"],[\"Tab Solutions\"],[\"aPriori Technologies\"],[\"iDreamsky Technology\"],[\"Bizanga\"],[\"Crescendo Networks\"],[\"Doctorfun Entertainment, Ltd\"],[\"Extreme DA\"],[\"Fancy\"],[\"Fry Multimedia\"],[\"Glory Medical\"],[\"LocalVox Media\"],[\"Metranome\"],[\"MoJoe Brewing Company\"],[\"Modanisa\"],[\"Pole Star\"],[\"RelayFoods\"],[\"Search Million Culture\"],[\"Sensor Tower\"],[\"Tab Solutions\"],[\"VarVee\"],[\"aPriori Technologies\"],[\"iDreamsky Technology\"]],\"hovertemplate\":\"region=US<br>week_id=%{x}<br>num_of_requests=%{y}<br>requester=%{customdata[0]}<extra></extra>\",\"legendgroup\":\"US\",\"marker\":{\"color\":\"#FFA15A\",\"pattern\":{\"shape\":\"\"}},\"name\":\"US\",\"offsetgroup\":\"US\",\"orientation\":\"v\",\"showlegend\":true,\"textposition\":\"auto\",\"x\":[\"2021-week_33\",\"2021-week_33\",\"2021-week_33\",\"2021-week_33\",\"2021-week_33\",\"2021-week_33\",\"2021-week_33\",\"2021-week_33\",\"2021-week_33\",\"2021-week_33\",\"2021-week_33\",\"2021-week_33\",\"2021-week_33\",\"2021-week_33\",\"2021-week_33\",\"2021-week_33\",\"2021-week_33\",\"2021-week_33\",\"2021-week_33\",\"2021-week_33\",\"2021-week_33\",\"2021-week_33\",\"2021-week_33\",\"2021-week_34\",\"2021-week_34\",\"2021-week_34\",\"2021-week_34\",\"2021-week_34\",\"2021-week_34\",\"2021-week_34\",\"2021-week_34\",\"2021-week_34\",\"2021-week_34\",\"2021-week_34\",\"2021-week_34\",\"2021-week_34\",\"2021-week_34\",\"2021-week_34\",\"2021-week_34\",\"2021-week_34\",\"2021-week_34\",\"2021-week_34\",\"2021-week_34\",\"2021-week_34\",\"2021-week_35\",\"2021-week_35\",\"2021-week_35\",\"2021-week_35\",\"2021-week_35\",\"2021-week_35\",\"2021-week_35\",\"2021-week_35\",\"2021-week_35\",\"2021-week_35\",\"2021-week_35\",\"2021-week_35\",\"2021-week_35\",\"2021-week_35\",\"2021-week_35\",\"2021-week_35\",\"2021-week_35\",\"2021-week_35\",\"2021-week_35\",\"2021-week_35\",\"2021-week_35\",\"2021-week_35\",\"2021-week_35\",\"2021-week_35\",\"2021-week_35\",\"2021-week_36\",\"2021-week_36\",\"2021-week_36\",\"2021-week_36\",\"2021-week_36\",\"2021-week_36\",\"2021-week_36\",\"2021-week_36\",\"2021-week_36\",\"2021-week_36\",\"2021-week_36\",\"2021-week_36\",\"2021-week_36\",\"2021-week_36\",\"2021-week_36\",\"2021-week_36\",\"2021-week_36\",\"2021-week_36\",\"2021-week_36\",\"2021-week_36\",\"2021-week_36\",\"2021-week_36\",\"2021-week_36\",\"2021-week_37\",\"2021-week_37\",\"2021-week_37\",\"2021-week_37\",\"2021-week_37\",\"2021-week_37\",\"2021-week_37\",\"2021-week_37\",\"2021-week_37\",\"2021-week_37\",\"2021-week_37\",\"2021-week_37\",\"2021-week_37\",\"2021-week_37\",\"2021-week_37\",\"2021-week_37\",\"2021-week_37\",\"2021-week_37\",\"2021-week_37\",\"2021-week_37\",\"2021-week_37\",\"2021-week_37\",\"2021-week_37\",\"2021-week_37\",\"2021-week_37\",\"2021-week_38\",\"2021-week_38\",\"2021-week_38\",\"2021-week_38\",\"2021-week_38\",\"2021-week_38\",\"2021-week_38\",\"2021-week_38\",\"2021-week_38\",\"2021-week_38\",\"2021-week_38\",\"2021-week_38\",\"2021-week_38\",\"2021-week_38\",\"2021-week_38\",\"2021-week_38\",\"2021-week_38\",\"2021-week_38\",\"2021-week_38\",\"2021-week_38\",\"2021-week_38\",\"2021-week_38\",\"2021-week_38\",\"2021-week_38\",\"2021-week_38\",\"2021-week_38\",\"2021-week_39\",\"2021-week_39\",\"2021-week_39\",\"2021-week_39\",\"2021-week_39\",\"2021-week_39\",\"2021-week_39\",\"2021-week_39\",\"2021-week_39\",\"2021-week_39\",\"2021-week_39\",\"2021-week_39\",\"2021-week_39\",\"2021-week_39\",\"2021-week_39\",\"2021-week_39\",\"2021-week_39\",\"2021-week_39\",\"2021-week_39\",\"2021-week_39\",\"2021-week_39\",\"2021-week_39\",\"2021-week_40\",\"2021-week_40\",\"2021-week_40\",\"2021-week_40\",\"2021-week_40\",\"2021-week_40\",\"2021-week_40\",\"2021-week_40\",\"2021-week_40\",\"2021-week_40\",\"2021-week_40\",\"2021-week_40\",\"2021-week_40\",\"2021-week_40\",\"2021-week_40\",\"2021-week_40\",\"2021-week_40\",\"2021-week_40\",\"2021-week_40\",\"2021-week_40\",\"2021-week_40\",\"2021-week_40\",\"2021-week_40\",\"2021-week_41\",\"2021-week_41\",\"2021-week_41\",\"2021-week_41\",\"2021-week_41\",\"2021-week_41\",\"2021-week_41\",\"2021-week_41\",\"2021-week_41\",\"2021-week_41\",\"2021-week_41\",\"2021-week_41\",\"2021-week_41\",\"2021-week_41\",\"2021-week_41\",\"2021-week_41\",\"2021-week_41\",\"2021-week_41\",\"2021-week_41\",\"2021-week_41\",\"2021-week_42\",\"2021-week_42\",\"2021-week_42\",\"2021-week_42\",\"2021-week_42\",\"2021-week_42\",\"2021-week_42\",\"2021-week_42\",\"2021-week_42\",\"2021-week_42\",\"2021-week_42\",\"2021-week_42\",\"2021-week_42\",\"2021-week_42\",\"2021-week_42\",\"2021-week_42\",\"2021-week_42\",\"2021-week_42\",\"2021-week_42\",\"2021-week_42\",\"2021-week_42\",\"2021-week_42\",\"2021-week_42\",\"2021-week_42\",\"2021-week_43\",\"2021-week_43\",\"2021-week_43\",\"2021-week_43\",\"2021-week_43\",\"2021-week_43\",\"2021-week_43\",\"2021-week_43\",\"2021-week_43\",\"2021-week_43\",\"2021-week_43\",\"2021-week_43\",\"2021-week_43\",\"2021-week_43\",\"2021-week_43\",\"2021-week_43\",\"2021-week_43\",\"2021-week_43\",\"2021-week_43\",\"2021-week_43\",\"2021-week_44\",\"2021-week_44\",\"2021-week_44\",\"2021-week_44\",\"2021-week_44\",\"2021-week_44\",\"2021-week_44\",\"2021-week_44\",\"2021-week_44\",\"2021-week_44\",\"2021-week_44\",\"2021-week_44\",\"2021-week_44\",\"2021-week_44\",\"2021-week_44\",\"2021-week_44\",\"2021-week_44\",\"2021-week_44\",\"2021-week_44\",\"2021-week_44\",\"2021-week_44\",\"2021-week_44\",\"2021-week_44\",\"2021-week_44\",\"2021-week_45\",\"2021-week_45\",\"2021-week_45\",\"2021-week_45\",\"2021-week_45\",\"2021-week_45\",\"2021-week_45\",\"2021-week_45\",\"2021-week_45\",\"2021-week_45\",\"2021-week_45\",\"2021-week_45\",\"2021-week_45\",\"2021-week_45\",\"2021-week_45\",\"2021-week_45\",\"2021-week_45\",\"2021-week_45\",\"2021-week_45\",\"2021-week_46\",\"2021-week_46\",\"2021-week_46\",\"2021-week_46\",\"2021-week_46\",\"2021-week_46\",\"2021-week_46\",\"2021-week_46\",\"2021-week_46\",\"2021-week_46\",\"2021-week_46\",\"2021-week_46\",\"2021-week_46\",\"2021-week_46\",\"2021-week_46\",\"2021-week_46\",\"2021-week_46\",\"2021-week_46\",\"2021-week_46\",\"2021-week_47\",\"2021-week_47\",\"2021-week_47\",\"2021-week_47\",\"2021-week_47\",\"2021-week_47\",\"2021-week_47\",\"2021-week_47\",\"2021-week_47\",\"2021-week_47\",\"2021-week_47\",\"2021-week_47\",\"2021-week_47\",\"2021-week_47\",\"2021-week_47\",\"2021-week_47\",\"2021-week_47\",\"2021-week_47\",\"2021-week_47\",\"2021-week_48\",\"2021-week_48\",\"2021-week_48\",\"2021-week_48\",\"2021-week_48\",\"2021-week_48\",\"2021-week_48\",\"2021-week_48\",\"2021-week_48\",\"2021-week_48\",\"2021-week_48\",\"2021-week_48\",\"2021-week_48\",\"2021-week_48\",\"2021-week_48\",\"2021-week_48\",\"2021-week_48\",\"2021-week_48\",\"2021-week_49\",\"2021-week_49\",\"2021-week_49\",\"2021-week_49\",\"2021-week_49\",\"2021-week_49\",\"2021-week_49\",\"2021-week_49\",\"2021-week_49\",\"2021-week_49\",\"2021-week_49\",\"2021-week_49\",\"2021-week_49\",\"2021-week_49\",\"2021-week_49\",\"2021-week_49\",\"2021-week_49\",\"2021-week_49\",\"2021-week_49\",\"2021-week_49\",\"2021-week_49\",\"2021-week_50\",\"2021-week_50\",\"2021-week_50\",\"2021-week_50\",\"2021-week_50\",\"2021-week_50\",\"2021-week_50\",\"2021-week_50\",\"2021-week_50\",\"2021-week_50\",\"2021-week_50\",\"2021-week_50\",\"2021-week_50\",\"2021-week_50\",\"2021-week_50\",\"2021-week_50\",\"2021-week_50\",\"2021-week_50\",\"2021-week_50\",\"2021-week_51\",\"2021-week_51\",\"2021-week_51\",\"2021-week_51\",\"2021-week_51\",\"2021-week_51\",\"2021-week_51\",\"2021-week_51\",\"2021-week_51\",\"2021-week_51\",\"2021-week_51\",\"2021-week_51\",\"2021-week_51\",\"2021-week_51\",\"2021-week_51\",\"2021-week_51\",\"2021-week_51\",\"2022-week_01\",\"2022-week_01\",\"2022-week_01\",\"2022-week_01\",\"2022-week_01\",\"2022-week_01\",\"2022-week_01\",\"2022-week_01\",\"2022-week_01\",\"2022-week_01\",\"2022-week_01\",\"2022-week_01\",\"2022-week_01\",\"2022-week_01\",\"2022-week_01\",\"2022-week_01\",\"2022-week_01\",\"2022-week_01\",\"2022-week_02\",\"2022-week_02\",\"2022-week_02\",\"2022-week_02\",\"2022-week_02\",\"2022-week_02\",\"2022-week_02\",\"2022-week_02\",\"2022-week_02\",\"2022-week_02\",\"2022-week_02\",\"2022-week_02\",\"2022-week_02\",\"2022-week_02\",\"2022-week_02\",\"2022-week_02\",\"2022-week_02\",\"2022-week_02\",\"2022-week_02\",\"2022-week_03\",\"2022-week_03\",\"2022-week_03\",\"2022-week_03\",\"2022-week_03\",\"2022-week_03\",\"2022-week_03\",\"2022-week_03\",\"2022-week_03\",\"2022-week_03\",\"2022-week_03\",\"2022-week_03\",\"2022-week_03\",\"2022-week_03\",\"2022-week_03\",\"2022-week_03\",\"2022-week_03\",\"2022-week_03\",\"2022-week_04\",\"2022-week_04\",\"2022-week_04\",\"2022-week_04\",\"2022-week_04\",\"2022-week_04\",\"2022-week_04\",\"2022-week_04\",\"2022-week_04\",\"2022-week_04\",\"2022-week_04\",\"2022-week_04\",\"2022-week_04\",\"2022-week_04\",\"2022-week_04\",\"2022-week_04\",\"2022-week_04\",\"2022-week_04\",\"2022-week_05\",\"2022-week_05\",\"2022-week_05\",\"2022-week_05\",\"2022-week_05\",\"2022-week_05\",\"2022-week_05\",\"2022-week_05\",\"2022-week_05\",\"2022-week_05\",\"2022-week_05\",\"2022-week_05\",\"2022-week_05\",\"2022-week_05\",\"2022-week_05\",\"2022-week_05\",\"2022-week_05\",\"2022-week_05\",\"2022-week_05\",\"2022-week_06\",\"2022-week_06\",\"2022-week_06\",\"2022-week_06\",\"2022-week_06\",\"2022-week_06\",\"2022-week_06\",\"2022-week_06\",\"2022-week_06\",\"2022-week_06\",\"2022-week_06\",\"2022-week_06\",\"2022-week_06\",\"2022-week_06\",\"2022-week_06\",\"2022-week_06\",\"2022-week_06\",\"2022-week_06\",\"2022-week_06\",\"2022-week_52\",\"2022-week_52\",\"2022-week_52\",\"2022-week_52\",\"2022-week_52\",\"2022-week_52\",\"2022-week_52\",\"2022-week_52\",\"2022-week_52\",\"2022-week_52\",\"2022-week_52\",\"2022-week_52\",\"2022-week_52\",\"2022-week_52\",\"2022-week_52\",\"2022-week_52\",\"2022-week_52\",\"2022-week_52\",\"2022-week_52\"],\"xaxis\":\"x\",\"y\":[1,39,4,499,402,2,17,44,4,47,4,12,274,40,23,44,284,632,521,907,8,5,71,26,2,1,1264,302,20,11,1,55,3,7,165,32,10,25,165,569,485,740,8,52,1,1,17,11,4,1,1361,425,13,1,2,5,36,4,10,178,20,16,155,439,450,681,8,6,75,3,13,13,7,1322,491,23,8,3,45,5,4,172,16,1,12,162,457,270,765,10,7,113,1,17,10,1,13,1260,698,16,4,2,42,1,1,4,162,12,18,1,158,485,185,697,8,5,123,1,1,5,9,2,15,2110,667,7,5,1,27,1,4,78,10,1,11,1,98,282,125,397,4,2,74,3,2,18,2437,564,6,3,16,2,4,89,16,1,7,2,92,245,111,276,2,5,50,2,2,2,1,14,2356,648,4,3,16,2,3,87,15,1,1,1,66,227,93,343,2,56,11,2,18,2268,821,9,1,1,13,3,57,10,7,64,229,97,286,1,2,45,1,18,2,1,25,2044,738,9,1,2,11,4,71,19,1,8,3,196,300,98,351,6,2,38,10,3,14,2237,757,8,1,12,5,66,17,4,2,140,235,80,315,7,3,24,6,2,13,2388,729,9,5,3,1,8,1,7,64,15,1,3,2,140,133,77,305,5,4,23,1,3,1,2639,682,6,1,11,5,47,5,1,137,45,83,259,4,4,17,2,3,1,2797,553,5,2,2,14,1,5,63,8,145,53,62,203,2,30,4,1,2974,330,5,3,1,9,3,62,6,2,139,55,64,239,3,1,50,5,1,2,2599,648,6,4,10,2,68,6,119,63,80,277,4,3,43,3,2,3,1764,1213,3,1,6,12,2,5,69,7,2,126,81,107,443,6,1,30,1,1,1968,1158,3,4,12,2,3,73,13,1,144,70,70,318,3,1,24,3,1,2687,751,4,9,1,1,32,2,1,88,44,43,250,2,14,3,1,2871,613,3,1,5,2,43,2,3,73,116,50,155,3,2,15,2,3,7,2814,630,8,2,1,9,33,6,2,2,85,130,43,178,5,14,1,11,2491,741,8,1,8,3,78,4,3,1,108,172,64,211,4,24,5,12,2398,818,5,2,7,2,64,3,1,123,182,62,236,6,1,17,5,4,11,2435,828,9,1,11,1,69,7,3,1,108,142,56,197,6,23,3,1,12,2378,800,7,12,1,4,63,6,4,1,127,163,60,241,1,27,5,1,1,2526,831,1,1,9,1,92,7,2,100,45,67,220,2,2,23],\"yaxis\":\"y\",\"type\":\"bar\"}],                        {\"template\":{\"data\":{\"bar\":[{\"error_x\":{\"color\":\"#2a3f5f\"},\"error_y\":{\"color\":\"#2a3f5f\"},\"marker\":{\"line\":{\"color\":\"#E5ECF6\",\"width\":0.5},\"pattern\":{\"fillmode\":\"overlay\",\"size\":10,\"solidity\":0.2}},\"type\":\"bar\"}],\"barpolar\":[{\"marker\":{\"line\":{\"color\":\"#E5ECF6\",\"width\":0.5},\"pattern\":{\"fillmode\":\"overlay\",\"size\":10,\"solidity\":0.2}},\"type\":\"barpolar\"}],\"carpet\":[{\"aaxis\":{\"endlinecolor\":\"#2a3f5f\",\"gridcolor\":\"white\",\"linecolor\":\"white\",\"minorgridcolor\":\"white\",\"startlinecolor\":\"#2a3f5f\"},\"baxis\":{\"endlinecolor\":\"#2a3f5f\",\"gridcolor\":\"white\",\"linecolor\":\"white\",\"minorgridcolor\":\"white\",\"startlinecolor\":\"#2a3f5f\"},\"type\":\"carpet\"}],\"choropleth\":[{\"colorbar\":{\"outlinewidth\":0,\"ticks\":\"\"},\"type\":\"choropleth\"}],\"contour\":[{\"colorbar\":{\"outlinewidth\":0,\"ticks\":\"\"},\"colorscale\":[[0.0,\"#0d0887\"],[0.1111111111111111,\"#46039f\"],[0.2222222222222222,\"#7201a8\"],[0.3333333333333333,\"#9c179e\"],[0.4444444444444444,\"#bd3786\"],[0.5555555555555556,\"#d8576b\"],[0.6666666666666666,\"#ed7953\"],[0.7777777777777778,\"#fb9f3a\"],[0.8888888888888888,\"#fdca26\"],[1.0,\"#f0f921\"]],\"type\":\"contour\"}],\"contourcarpet\":[{\"colorbar\":{\"outlinewidth\":0,\"ticks\":\"\"},\"type\":\"contourcarpet\"}],\"heatmap\":[{\"colorbar\":{\"outlinewidth\":0,\"ticks\":\"\"},\"colorscale\":[[0.0,\"#0d0887\"],[0.1111111111111111,\"#46039f\"],[0.2222222222222222,\"#7201a8\"],[0.3333333333333333,\"#9c179e\"],[0.4444444444444444,\"#bd3786\"],[0.5555555555555556,\"#d8576b\"],[0.6666666666666666,\"#ed7953\"],[0.7777777777777778,\"#fb9f3a\"],[0.8888888888888888,\"#fdca26\"],[1.0,\"#f0f921\"]],\"type\":\"heatmap\"}],\"heatmapgl\":[{\"colorbar\":{\"outlinewidth\":0,\"ticks\":\"\"},\"colorscale\":[[0.0,\"#0d0887\"],[0.1111111111111111,\"#46039f\"],[0.2222222222222222,\"#7201a8\"],[0.3333333333333333,\"#9c179e\"],[0.4444444444444444,\"#bd3786\"],[0.5555555555555556,\"#d8576b\"],[0.6666666666666666,\"#ed7953\"],[0.7777777777777778,\"#fb9f3a\"],[0.8888888888888888,\"#fdca26\"],[1.0,\"#f0f921\"]],\"type\":\"heatmapgl\"}],\"histogram\":[{\"marker\":{\"pattern\":{\"fillmode\":\"overlay\",\"size\":10,\"solidity\":0.2}},\"type\":\"histogram\"}],\"histogram2d\":[{\"colorbar\":{\"outlinewidth\":0,\"ticks\":\"\"},\"colorscale\":[[0.0,\"#0d0887\"],[0.1111111111111111,\"#46039f\"],[0.2222222222222222,\"#7201a8\"],[0.3333333333333333,\"#9c179e\"],[0.4444444444444444,\"#bd3786\"],[0.5555555555555556,\"#d8576b\"],[0.6666666666666666,\"#ed7953\"],[0.7777777777777778,\"#fb9f3a\"],[0.8888888888888888,\"#fdca26\"],[1.0,\"#f0f921\"]],\"type\":\"histogram2d\"}],\"histogram2dcontour\":[{\"colorbar\":{\"outlinewidth\":0,\"ticks\":\"\"},\"colorscale\":[[0.0,\"#0d0887\"],[0.1111111111111111,\"#46039f\"],[0.2222222222222222,\"#7201a8\"],[0.3333333333333333,\"#9c179e\"],[0.4444444444444444,\"#bd3786\"],[0.5555555555555556,\"#d8576b\"],[0.6666666666666666,\"#ed7953\"],[0.7777777777777778,\"#fb9f3a\"],[0.8888888888888888,\"#fdca26\"],[1.0,\"#f0f921\"]],\"type\":\"histogram2dcontour\"}],\"mesh3d\":[{\"colorbar\":{\"outlinewidth\":0,\"ticks\":\"\"},\"type\":\"mesh3d\"}],\"parcoords\":[{\"line\":{\"colorbar\":{\"outlinewidth\":0,\"ticks\":\"\"}},\"type\":\"parcoords\"}],\"pie\":[{\"automargin\":true,\"type\":\"pie\"}],\"scatter\":[{\"marker\":{\"colorbar\":{\"outlinewidth\":0,\"ticks\":\"\"}},\"type\":\"scatter\"}],\"scatter3d\":[{\"line\":{\"colorbar\":{\"outlinewidth\":0,\"ticks\":\"\"}},\"marker\":{\"colorbar\":{\"outlinewidth\":0,\"ticks\":\"\"}},\"type\":\"scatter3d\"}],\"scattercarpet\":[{\"marker\":{\"colorbar\":{\"outlinewidth\":0,\"ticks\":\"\"}},\"type\":\"scattercarpet\"}],\"scattergeo\":[{\"marker\":{\"colorbar\":{\"outlinewidth\":0,\"ticks\":\"\"}},\"type\":\"scattergeo\"}],\"scattergl\":[{\"marker\":{\"colorbar\":{\"outlinewidth\":0,\"ticks\":\"\"}},\"type\":\"scattergl\"}],\"scattermapbox\":[{\"marker\":{\"colorbar\":{\"outlinewidth\":0,\"ticks\":\"\"}},\"type\":\"scattermapbox\"}],\"scatterpolar\":[{\"marker\":{\"colorbar\":{\"outlinewidth\":0,\"ticks\":\"\"}},\"type\":\"scatterpolar\"}],\"scatterpolargl\":[{\"marker\":{\"colorbar\":{\"outlinewidth\":0,\"ticks\":\"\"}},\"type\":\"scatterpolargl\"}],\"scatterternary\":[{\"marker\":{\"colorbar\":{\"outlinewidth\":0,\"ticks\":\"\"}},\"type\":\"scatterternary\"}],\"surface\":[{\"colorbar\":{\"outlinewidth\":0,\"ticks\":\"\"},\"colorscale\":[[0.0,\"#0d0887\"],[0.1111111111111111,\"#46039f\"],[0.2222222222222222,\"#7201a8\"],[0.3333333333333333,\"#9c179e\"],[0.4444444444444444,\"#bd3786\"],[0.5555555555555556,\"#d8576b\"],[0.6666666666666666,\"#ed7953\"],[0.7777777777777778,\"#fb9f3a\"],[0.8888888888888888,\"#fdca26\"],[1.0,\"#f0f921\"]],\"type\":\"surface\"}],\"table\":[{\"cells\":{\"fill\":{\"color\":\"#EBF0F8\"},\"line\":{\"color\":\"white\"}},\"header\":{\"fill\":{\"color\":\"#C8D4E3\"},\"line\":{\"color\":\"white\"}},\"type\":\"table\"}]},\"layout\":{\"annotationdefaults\":{\"arrowcolor\":\"#2a3f5f\",\"arrowhead\":0,\"arrowwidth\":1},\"autotypenumbers\":\"strict\",\"coloraxis\":{\"colorbar\":{\"outlinewidth\":0,\"ticks\":\"\"}},\"colorscale\":{\"diverging\":[[0,\"#8e0152\"],[0.1,\"#c51b7d\"],[0.2,\"#de77ae\"],[0.3,\"#f1b6da\"],[0.4,\"#fde0ef\"],[0.5,\"#f7f7f7\"],[0.6,\"#e6f5d0\"],[0.7,\"#b8e186\"],[0.8,\"#7fbc41\"],[0.9,\"#4d9221\"],[1,\"#276419\"]],\"sequential\":[[0.0,\"#0d0887\"],[0.1111111111111111,\"#46039f\"],[0.2222222222222222,\"#7201a8\"],[0.3333333333333333,\"#9c179e\"],[0.4444444444444444,\"#bd3786\"],[0.5555555555555556,\"#d8576b\"],[0.6666666666666666,\"#ed7953\"],[0.7777777777777778,\"#fb9f3a\"],[0.8888888888888888,\"#fdca26\"],[1.0,\"#f0f921\"]],\"sequentialminus\":[[0.0,\"#0d0887\"],[0.1111111111111111,\"#46039f\"],[0.2222222222222222,\"#7201a8\"],[0.3333333333333333,\"#9c179e\"],[0.4444444444444444,\"#bd3786\"],[0.5555555555555556,\"#d8576b\"],[0.6666666666666666,\"#ed7953\"],[0.7777777777777778,\"#fb9f3a\"],[0.8888888888888888,\"#fdca26\"],[1.0,\"#f0f921\"]]},\"colorway\":[\"#636efa\",\"#EF553B\",\"#00cc96\",\"#ab63fa\",\"#FFA15A\",\"#19d3f3\",\"#FF6692\",\"#B6E880\",\"#FF97FF\",\"#FECB52\"],\"font\":{\"color\":\"#2a3f5f\"},\"geo\":{\"bgcolor\":\"white\",\"lakecolor\":\"white\",\"landcolor\":\"#E5ECF6\",\"showlakes\":true,\"showland\":true,\"subunitcolor\":\"white\"},\"hoverlabel\":{\"align\":\"left\"},\"hovermode\":\"closest\",\"mapbox\":{\"style\":\"light\"},\"paper_bgcolor\":\"white\",\"plot_bgcolor\":\"#E5ECF6\",\"polar\":{\"angularaxis\":{\"gridcolor\":\"white\",\"linecolor\":\"white\",\"ticks\":\"\"},\"bgcolor\":\"#E5ECF6\",\"radialaxis\":{\"gridcolor\":\"white\",\"linecolor\":\"white\",\"ticks\":\"\"}},\"scene\":{\"xaxis\":{\"backgroundcolor\":\"#E5ECF6\",\"gridcolor\":\"white\",\"gridwidth\":2,\"linecolor\":\"white\",\"showbackground\":true,\"ticks\":\"\",\"zerolinecolor\":\"white\"},\"yaxis\":{\"backgroundcolor\":\"#E5ECF6\",\"gridcolor\":\"white\",\"gridwidth\":2,\"linecolor\":\"white\",\"showbackground\":true,\"ticks\":\"\",\"zerolinecolor\":\"white\"},\"zaxis\":{\"backgroundcolor\":\"#E5ECF6\",\"gridcolor\":\"white\",\"gridwidth\":2,\"linecolor\":\"white\",\"showbackground\":true,\"ticks\":\"\",\"zerolinecolor\":\"white\"}},\"shapedefaults\":{\"line\":{\"color\":\"#2a3f5f\"}},\"ternary\":{\"aaxis\":{\"gridcolor\":\"white\",\"linecolor\":\"white\",\"ticks\":\"\"},\"baxis\":{\"gridcolor\":\"white\",\"linecolor\":\"white\",\"ticks\":\"\"},\"bgcolor\":\"#E5ECF6\",\"caxis\":{\"gridcolor\":\"white\",\"linecolor\":\"white\",\"ticks\":\"\"}},\"title\":{\"x\":0.05},\"xaxis\":{\"automargin\":true,\"gridcolor\":\"white\",\"linecolor\":\"white\",\"ticks\":\"\",\"title\":{\"standoff\":15},\"zerolinecolor\":\"white\",\"zerolinewidth\":2},\"yaxis\":{\"automargin\":true,\"gridcolor\":\"white\",\"linecolor\":\"white\",\"ticks\":\"\",\"title\":{\"standoff\":15},\"zerolinecolor\":\"white\",\"zerolinewidth\":2}}},\"xaxis\":{\"anchor\":\"y\",\"domain\":[0.0,1.0],\"title\":{\"text\":\"week_id\"}},\"yaxis\":{\"anchor\":\"x\",\"domain\":[0.0,1.0],\"title\":{\"text\":\"num_of_requests\"}},\"legend\":{\"title\":{\"text\":\"region\"},\"tracegroupgap\":0},\"margin\":{\"t\":60},\"barmode\":\"stack\"},                        {\"responsive\": true}                    ).then(function(){\n",
       "                            \n",
       "var gd = document.getElementById('7ebe0eef-b021-4dbd-9f60-2a301b29a4c2');\n",
       "var x = new MutationObserver(function (mutations, observer) {{\n",
       "        var display = window.getComputedStyle(gd).display;\n",
       "        if (!display || display === 'none') {{\n",
       "            console.log([gd, 'removed!']);\n",
       "            Plotly.purge(gd);\n",
       "            observer.disconnect();\n",
       "        }}\n",
       "}});\n",
       "\n",
       "// Listen for the removal of the full notebook cells\n",
       "var notebookContainer = gd.closest('#notebook-container');\n",
       "if (notebookContainer) {{\n",
       "    x.observe(notebookContainer, {childList: true});\n",
       "}}\n",
       "\n",
       "// Listen for the clearing of the current output cell\n",
       "var outputEl = gd.closest('.output');\n",
       "if (outputEl) {{\n",
       "    x.observe(outputEl, {childList: true});\n",
       "}}\n",
       "\n",
       "                        })                };                });            </script>        </div>"
      ]
     },
     "metadata": {},
     "output_type": "display_data"
    }
   ],
   "source": [
    "px.bar(df, x='week_id', y='num_of_requests', color='region', hover_data=['requester'], barmode = 'stack')"
   ]
  },
  {
   "cell_type": "markdown",
   "id": "cbd7201c-98c2-4d59-a76e-e098dc5d9e43",
   "metadata": {},
   "source": [
    "### Merges and joins"
   ]
  },
  {
   "cell_type": "markdown",
   "id": "d78fa97c-4736-41c5-a649-931808eb8b30",
   "metadata": {},
   "source": [
    "The Wow samples and annotations task were sent and recieve seperatly, per each week. The dataset you were working on was constructed from those files. You can see the files under the `data/weekly` folder, here are the first 10 files:"
   ]
  },
  {
   "cell_type": "code",
   "execution_count": 78,
   "id": "81341f62-9161-4f1a-a678-251baba01564",
   "metadata": {},
   "outputs": [
    {
     "data": {
      "text/plain": [
       "['2021_33_DE_Qality_annotation_result.csv',\n",
       " '2021_33_DE_Yield_annotation_result.csv',\n",
       " '2021_33_DE__Sample.csv',\n",
       " '2021_33_GB_Qality_annotation_result.csv',\n",
       " '2021_33_GB_Yield_annotation_result.csv',\n",
       " '2021_33_GB__Sample.csv',\n",
       " '2021_33_IN_Qality_annotation_result.csv',\n",
       " '2021_33_IN_Yield_annotation_result.csv',\n",
       " '2021_33_IN__Sample.csv',\n",
       " '2021_33_JP_Qality_annotation_result.csv']"
      ]
     },
     "execution_count": 78,
     "metadata": {},
     "output_type": "execute_result"
    }
   ],
   "source": [
    "import os\n",
    "weekly_files = os.listdir('data/weekly/')\n",
    "sorted(weekly_files)[:10]"
   ]
  },
  {
   "cell_type": "markdown",
   "id": "a0882bd4-9b7a-4ea1-a047-348e5e3f0980",
   "metadata": {},
   "source": [
    "Your task is to reconstruct the dataset above. "
   ]
  },
  {
   "cell_type": "markdown",
   "id": "2405d189-8570-4c86-aa35-320a173779a1",
   "metadata": {},
   "source": [
    "### Visualizations"
   ]
  },
  {
   "cell_type": "markdown",
   "id": "8323da48-3adf-4a9b-b692-7dc528990d5c",
   "metadata": {},
   "source": [
    "Produce the following success rate graph per region:"
   ]
  },
  {
   "cell_type": "code",
   "execution_count": null,
   "id": "42143ac6-1cee-42f8-9eeb-fe7d04683434",
   "metadata": {},
   "outputs": [],
   "source": []
  },
  {
   "cell_type": "markdown",
   "id": "f417703c-0d93-4aee-8a3c-24d6c9e66978",
   "metadata": {},
   "source": [
    "Produce the following requestser proportion graph:"
   ]
  },
  {
   "cell_type": "code",
   "execution_count": null,
   "id": "5d89892f-ca63-4273-b917-2c0d4ef91a79",
   "metadata": {},
   "outputs": [],
   "source": []
  },
  {
   "cell_type": "markdown",
   "id": "a0a44ecb-56c0-4341-94f7-0642ebf71d85",
   "metadata": {},
   "source": [
    "## Appendix"
   ]
  },
  {
   "cell_type": "markdown",
   "id": "0f8d9f04-e707-42ed-b09c-8edbf46a820e",
   "metadata": {},
   "source": [
    "Code to create weekly files:"
   ]
  },
  {
   "cell_type": "code",
   "execution_count": 79,
   "id": "4d91c99c-0649-459d-ae1c-5b7cce5a6177",
   "metadata": {},
   "outputs": [],
   "source": [
    "# for l in ad_recs_annotated.region.unique():\n",
    "#     for w in ad_recs_annotated.week_id.unique():\n",
    "#         w_id = w.split('_')[1]\n",
    "#         y = w.split('-')[0]\n",
    "#         query = f'week_id == \"{w}\" and region == \"{l}\"'\n",
    "#         sample_f_name = f'{y}_{w_id}_{l}__Sample.csv'\n",
    "#         ad_recs_annotated.query(query)[['week_id','ad_id','requester','region','recommendation_type', 'rec_provider']].to_csv(f'data/weekly/{sample_f_name}', index=False)\n",
    "#         for s in ad_recs_annotated.recommendation_type.unique():\n",
    "#             ann_f_name = f'{y}_{w_id}_{l}_{s}_annotation_result.csv'\n",
    "#             query = f'week_id == \"{w}\" and region == \"{l}\" and recommendation_type == \"{s}\"'\n",
    "#             sss = ad_recs_annotated.query(query)\n",
    "#             if sss.empty:\n",
    "#                 continue            \n",
    "#             sss[['region','ad_id','is_success','is_sever']].drop_duplicates(subset=['ad_id']).to_csv(f'data/weekly/{ann_f_name}', index=False)"
   ]
  }
 ],
 "metadata": {
  "kernelspec": {
   "display_name": "Python 3 (ipykernel)",
   "language": "python",
   "name": "python3"
  },
  "language_info": {
   "codemirror_mode": {
    "name": "ipython",
    "version": 3
   },
   "file_extension": ".py",
   "mimetype": "text/x-python",
   "name": "python",
   "nbconvert_exporter": "python",
   "pygments_lexer": "ipython3",
   "version": "3.9.7"
  }
 },
 "nbformat": 4,
 "nbformat_minor": 5
}
